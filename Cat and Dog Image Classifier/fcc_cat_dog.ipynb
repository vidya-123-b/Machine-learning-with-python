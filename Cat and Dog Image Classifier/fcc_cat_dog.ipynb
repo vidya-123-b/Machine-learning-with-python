
Note: You are currently reading this using Google Colaboratory which is a cloud-hosted version of Jupyter Notebook. This is a document containng both text cells for documentation and runnable code cells. If you are unfamiliar with Jupyter Notebook, watch this 3-minute introduction before starting this challenge: https://www.youtube.com/watch?v=inN8seMm7UI

For this challenge, you will complete the code below to classify images of dogs and cats. You will use Tensorflow 2.0 and Keras to create a convolutional neural network that correctly classifies images of cats and dogs at least 63% of the time. (Extra credit if you get it to 70% accuracy!)

Some of the code is given to you but some code you must fill in to complete this challenge. Read the instruction in each text cell so you will know what you have to do in each code cell.

The first code cell imports the required libraries. The second code cell downloads the data and sets key variables. The third cell is the first place you will write your own code.

The structure of the dataset files that are downloaded looks like this (You will notice that the test directory has no subdirectories and the images are not labeled):

cats_and_dogs
|__ train:
    |______ cats: [cat.0.jpg, cat.1.jpg ...]
    |______ dogs: [dog.0.jpg, dog.1.jpg ...]
|__ validation:
    |______ cats: [cat.2000.jpg, cat.2001.jpg ...]
    |______ dogs: [dog.2000.jpg, dog.2001.jpg ...]
|__ test: [1.jpg, 2.jpg ...]
You can tweak epochs and batch size if you like, but it is not required.


try:
  # This command only in Colab.
  %tensorflow_version 2.x
except Exception:
  pass
import tensorflow as tf

from tensorflow.keras.models import Sequential
from tensorflow.keras.layers import Dense, Conv2D, Flatten, Dropout, MaxPooling2D
from tensorflow.keras.preprocessing.image import ImageDataGenerator

import os
from numpy import round
import matplotlib.pyplot as plt
     

# Get project files
!wget https://cdn.freecodecamp.org/project-data/cats-and-dogs/cats_and_dogs.zip

!unzip cats_and_dogs.zip

PATH = 'cats_and_dogs'

train_dir = os.path.join(PATH, 'train')
validation_dir = os.path.join(PATH, 'validation')
test_dir = os.path.join(PATH, 'test')

# Get number of files in each directory. The train and validation directories
# each have the subdirecories "dogs" and "cats".
total_train = sum([len(files) for r, d, files in os.walk(train_dir)])
total_val = sum([len(files) for r, d, files in os.walk(validation_dir)])
total_test = len(os.listdir(test_dir))

# Variables for pre-processing and training.
batch_size = 128
epochs = 1000
IMG_HEIGHT = 150
IMG_WIDTH = 150
     
串流輸出內容已截斷至最後 5000 行。
  inflating: __MACOSX/cats_and_dogs/train/dogs/._dog.60.jpg  
  inflating: cats_and_dogs/train/dogs/dog.858.jpg  
  inflating: __MACOSX/cats_and_dogs/train/dogs/._dog.858.jpg  
  inflating: cats_and_dogs/train/dogs/dog.680.jpg  
  inflating: __MACOSX/cats_and_dogs/train/dogs/._dog.680.jpg  
  inflating: cats_and_dogs/train/dogs/dog.694.jpg  
  inflating: __MACOSX/cats_and_dogs/train/dogs/._dog.694.jpg  
  inflating: cats_and_dogs/train/dogs/dog.864.jpg  
  inflating: __MACOSX/cats_and_dogs/train/dogs/._dog.864.jpg  
  inflating: cats_and_dogs/train/dogs/dog.870.jpg  
  inflating: __MACOSX/cats_and_dogs/train/dogs/._dog.870.jpg  
  inflating: cats_and_dogs/train/dogs/dog.871.jpg  
  inflating: __MACOSX/cats_and_dogs/train/dogs/._dog.871.jpg  
  inflating: cats_and_dogs/train/dogs/dog.865.jpg  
  inflating: __MACOSX/cats_and_dogs/train/dogs/._dog.865.jpg  
  inflating: cats_and_dogs/train/dogs/dog.695.jpg  
  inflating: __MACOSX/cats_and_dogs/train/dogs/._dog.695.jpg  
  inflating: cats_and_dogs/train/dogs/dog.681.jpg  
  inflating: __MACOSX/cats_and_dogs/train/dogs/._dog.681.jpg  
  inflating: cats_and_dogs/train/dogs/dog.859.jpg  
  inflating: __MACOSX/cats_and_dogs/train/dogs/._dog.859.jpg  
  inflating: cats_and_dogs/train/dogs/dog.61.jpg  
  inflating: __MACOSX/cats_and_dogs/train/dogs/._dog.61.jpg  
  inflating: cats_and_dogs/train/dogs/dog.118.jpg  
  inflating: __MACOSX/cats_and_dogs/train/dogs/._dog.118.jpg  
  inflating: cats_and_dogs/train/dogs/dog.75.jpg  
  inflating: __MACOSX/cats_and_dogs/train/dogs/._dog.75.jpg  
  inflating: cats_and_dogs/train/dogs/dog.656.jpg  
  inflating: __MACOSX/cats_and_dogs/train/dogs/._dog.656.jpg  
  inflating: cats_and_dogs/train/dogs/dog.130.jpg  
  inflating: __MACOSX/cats_and_dogs/train/dogs/._dog.130.jpg  
  inflating: cats_and_dogs/train/dogs/dog.124.jpg  
  inflating: __MACOSX/cats_and_dogs/train/dogs/._dog.124.jpg  
  inflating: cats_and_dogs/train/dogs/dog.642.jpg  
  inflating: __MACOSX/cats_and_dogs/train/dogs/._dog.642.jpg  
  inflating: cats_and_dogs/train/dogs/dog.49.jpg  
  inflating: __MACOSX/cats_and_dogs/train/dogs/._dog.49.jpg  
  inflating: cats_and_dogs/train/dogs/dog.9.jpg  
  inflating: __MACOSX/cats_and_dogs/train/dogs/._dog.9.jpg  
  inflating: cats_and_dogs/train/dogs/dog.497.jpg  
  inflating: __MACOSX/cats_and_dogs/train/dogs/._dog.497.jpg  
  inflating: cats_and_dogs/train/dogs/dog.483.jpg  
  inflating: __MACOSX/cats_and_dogs/train/dogs/._dog.483.jpg  
  inflating: cats_and_dogs/train/dogs/dog.468.jpg  
  inflating: __MACOSX/cats_and_dogs/train/dogs/._dog.468.jpg  
  inflating: cats_and_dogs/train/dogs/dog.332.jpg  
  inflating: __MACOSX/cats_and_dogs/train/dogs/._dog.332.jpg  
  inflating: cats_and_dogs/train/dogs/dog.454.jpg  
  inflating: __MACOSX/cats_and_dogs/train/dogs/._dog.454.jpg  
  inflating: cats_and_dogs/train/dogs/dog.440.jpg  
  inflating: __MACOSX/cats_and_dogs/train/dogs/._dog.440.jpg  
  inflating: cats_and_dogs/train/dogs/dog.326.jpg  
  inflating: __MACOSX/cats_and_dogs/train/dogs/._dog.326.jpg  
  inflating: cats_and_dogs/train/dogs/dog.285.jpg  
  inflating: __MACOSX/cats_and_dogs/train/dogs/._dog.285.jpg  
  inflating: cats_and_dogs/train/dogs/dog.291.jpg  
  inflating: __MACOSX/cats_and_dogs/train/dogs/._dog.291.jpg  
  inflating: cats_and_dogs/train/dogs/dog.508.jpg  
  inflating: __MACOSX/cats_and_dogs/train/dogs/._dog.508.jpg  
  inflating: cats_and_dogs/train/dogs/dog.246.jpg  
  inflating: __MACOSX/cats_and_dogs/train/dogs/._dog.246.jpg  
  inflating: cats_and_dogs/train/dogs/dog.520.jpg  
  inflating: __MACOSX/cats_and_dogs/train/dogs/._dog.520.jpg  
  inflating: cats_and_dogs/train/dogs/dog.534.jpg  
  inflating: __MACOSX/cats_and_dogs/train/dogs/._dog.534.jpg  
  inflating: cats_and_dogs/train/dogs/dog.252.jpg  
  inflating: __MACOSX/cats_and_dogs/train/dogs/._dog.252.jpg  
  inflating: cats_and_dogs/train/dogs/dog.905.jpg  
  inflating: __MACOSX/cats_and_dogs/train/dogs/._dog.905.jpg  
  inflating: cats_and_dogs/train/dogs/dog.911.jpg  
  inflating: __MACOSX/cats_and_dogs/train/dogs/._dog.911.jpg  
  inflating: cats_and_dogs/train/dogs/dog.939.jpg  
  inflating: __MACOSX/cats_and_dogs/train/dogs/._dog.939.jpg  
  inflating: cats_and_dogs/train/dogs/dog.722.jpg  
  inflating: __MACOSX/cats_and_dogs/train/dogs/._dog.722.jpg  
  inflating: cats_and_dogs/train/dogs/dog.736.jpg  
  inflating: __MACOSX/cats_and_dogs/train/dogs/._dog.736.jpg  
  inflating: cats_and_dogs/train/dogs/dog.720.jpg  
  inflating: __MACOSX/cats_and_dogs/train/dogs/._dog.720.jpg  
  inflating: cats_and_dogs/train/dogs/dog.734.jpg  
  inflating: __MACOSX/cats_and_dogs/train/dogs/._dog.734.jpg  
  inflating: cats_and_dogs/train/dogs/dog.708.jpg  
  inflating: __MACOSX/cats_and_dogs/train/dogs/._dog.708.jpg  
  inflating: cats_and_dogs/train/dogs/dog.907.jpg  
  inflating: __MACOSX/cats_and_dogs/train/dogs/._dog.907.jpg  
  inflating: cats_and_dogs/train/dogs/dog.913.jpg  
  inflating: __MACOSX/cats_and_dogs/train/dogs/._dog.913.jpg  
  inflating: cats_and_dogs/train/dogs/dog.522.jpg  
  inflating: __MACOSX/cats_and_dogs/train/dogs/._dog.522.jpg  
  inflating: cats_and_dogs/train/dogs/dog.244.jpg  
  inflating: __MACOSX/cats_and_dogs/train/dogs/._dog.244.jpg  
  inflating: cats_and_dogs/train/dogs/dog.250.jpg  
  inflating: __MACOSX/cats_and_dogs/train/dogs/._dog.250.jpg  
  inflating: cats_and_dogs/train/dogs/dog.536.jpg  
  inflating: __MACOSX/cats_and_dogs/train/dogs/._dog.536.jpg  
  inflating: cats_and_dogs/train/dogs/dog.278.jpg  
  inflating: __MACOSX/cats_and_dogs/train/dogs/._dog.278.jpg  
  inflating: cats_and_dogs/train/dogs/dog.287.jpg  
  inflating: __MACOSX/cats_and_dogs/train/dogs/._dog.287.jpg  
  inflating: cats_and_dogs/train/dogs/dog.293.jpg  
  inflating: __MACOSX/cats_and_dogs/train/dogs/._dog.293.jpg  
  inflating: cats_and_dogs/train/dogs/dog.456.jpg  
  inflating: __MACOSX/cats_and_dogs/train/dogs/._dog.456.jpg  
  inflating: cats_and_dogs/train/dogs/dog.330.jpg  
  inflating: __MACOSX/cats_and_dogs/train/dogs/._dog.330.jpg  
  inflating: cats_and_dogs/train/dogs/dog.324.jpg  
  inflating: __MACOSX/cats_and_dogs/train/dogs/._dog.324.jpg  
  inflating: cats_and_dogs/train/dogs/dog.442.jpg  
  inflating: __MACOSX/cats_and_dogs/train/dogs/._dog.442.jpg  
  inflating: cats_and_dogs/train/dogs/dog.318.jpg  
  inflating: __MACOSX/cats_and_dogs/train/dogs/._dog.318.jpg  
  inflating: cats_and_dogs/train/dogs/dog.495.jpg  
  inflating: __MACOSX/cats_and_dogs/train/dogs/._dog.495.jpg  
  inflating: cats_and_dogs/train/dogs/dog.481.jpg  
  inflating: __MACOSX/cats_and_dogs/train/dogs/._dog.481.jpg  
  inflating: cats_and_dogs/train/dogs/dog.132.jpg  
  inflating: __MACOSX/cats_and_dogs/train/dogs/._dog.132.jpg  
  inflating: cats_and_dogs/train/dogs/dog.654.jpg  
  inflating: __MACOSX/cats_and_dogs/train/dogs/._dog.654.jpg  
  inflating: cats_and_dogs/train/dogs/dog.640.jpg  
  inflating: __MACOSX/cats_and_dogs/train/dogs/._dog.640.jpg  
  inflating: cats_and_dogs/train/dogs/dog.898.jpg  
  inflating: __MACOSX/cats_and_dogs/train/dogs/._dog.898.jpg  
  inflating: cats_and_dogs/train/dogs/dog.126.jpg  
  inflating: __MACOSX/cats_and_dogs/train/dogs/._dog.126.jpg  
  inflating: cats_and_dogs/train/dogs/dog.63.jpg  
  inflating: __MACOSX/cats_and_dogs/train/dogs/._dog.63.jpg  
  inflating: cats_and_dogs/train/dogs/dog.668.jpg  
  inflating: __MACOSX/cats_and_dogs/train/dogs/._dog.668.jpg  
  inflating: cats_and_dogs/train/dogs/dog.77.jpg  
  inflating: __MACOSX/cats_and_dogs/train/dogs/._dog.77.jpg  
  inflating: cats_and_dogs/train/dogs/dog.697.jpg  
  inflating: __MACOSX/cats_and_dogs/train/dogs/._dog.697.jpg  
  inflating: cats_and_dogs/train/dogs/dog.683.jpg  
  inflating: __MACOSX/cats_and_dogs/train/dogs/._dog.683.jpg  
  inflating: cats_and_dogs/train/dogs/dog.88.jpg  
  inflating: __MACOSX/cats_and_dogs/train/dogs/._dog.88.jpg  
  inflating: cats_and_dogs/train/dogs/dog.873.jpg  
  inflating: __MACOSX/cats_and_dogs/train/dogs/._dog.873.jpg  
  inflating: cats_and_dogs/train/dogs/dog.867.jpg  
  inflating: __MACOSX/cats_and_dogs/train/dogs/._dog.867.jpg  
  inflating: cats_and_dogs/train/dogs/dog.866.jpg  
  inflating: __MACOSX/cats_and_dogs/train/dogs/._dog.866.jpg  
  inflating: cats_and_dogs/train/dogs/dog.872.jpg  
  inflating: __MACOSX/cats_and_dogs/train/dogs/._dog.872.jpg  
  inflating: cats_and_dogs/train/dogs/dog.89.jpg  
  inflating: __MACOSX/cats_and_dogs/train/dogs/._dog.89.jpg  
  inflating: cats_and_dogs/train/dogs/dog.682.jpg  
  inflating: __MACOSX/cats_and_dogs/train/dogs/._dog.682.jpg  
  inflating: cats_and_dogs/train/dogs/dog.696.jpg  
  inflating: __MACOSX/cats_and_dogs/train/dogs/._dog.696.jpg  
  inflating: cats_and_dogs/train/dogs/dog.76.jpg  
  inflating: __MACOSX/cats_and_dogs/train/dogs/._dog.76.jpg  
  inflating: cats_and_dogs/train/dogs/dog.669.jpg  
  inflating: __MACOSX/cats_and_dogs/train/dogs/._dog.669.jpg  
  inflating: cats_and_dogs/train/dogs/dog.62.jpg  
  inflating: __MACOSX/cats_and_dogs/train/dogs/._dog.62.jpg  
  inflating: cats_and_dogs/train/dogs/dog.899.jpg  
  inflating: __MACOSX/cats_and_dogs/train/dogs/._dog.899.jpg  
  inflating: cats_and_dogs/train/dogs/dog.641.jpg  
  inflating: __MACOSX/cats_and_dogs/train/dogs/._dog.641.jpg  
  inflating: cats_and_dogs/train/dogs/dog.127.jpg  
  inflating: __MACOSX/cats_and_dogs/train/dogs/._dog.127.jpg  
  inflating: cats_and_dogs/train/dogs/dog.133.jpg  
  inflating: __MACOSX/cats_and_dogs/train/dogs/._dog.133.jpg  
  inflating: cats_and_dogs/train/dogs/dog.655.jpg  
  inflating: __MACOSX/cats_and_dogs/train/dogs/._dog.655.jpg  
  inflating: cats_and_dogs/train/dogs/dog.480.jpg  
  inflating: __MACOSX/cats_and_dogs/train/dogs/._dog.480.jpg  
  inflating: cats_and_dogs/train/dogs/dog.494.jpg  
  inflating: __MACOSX/cats_and_dogs/train/dogs/._dog.494.jpg  
  inflating: cats_and_dogs/train/dogs/dog.319.jpg  
  inflating: __MACOSX/cats_and_dogs/train/dogs/._dog.319.jpg  
  inflating: cats_and_dogs/train/dogs/dog.325.jpg  
  inflating: __MACOSX/cats_and_dogs/train/dogs/._dog.325.jpg  
  inflating: cats_and_dogs/train/dogs/dog.443.jpg  
  inflating: __MACOSX/cats_and_dogs/train/dogs/._dog.443.jpg  
  inflating: cats_and_dogs/train/dogs/dog.457.jpg  
  inflating: __MACOSX/cats_and_dogs/train/dogs/._dog.457.jpg  
  inflating: cats_and_dogs/train/dogs/dog.331.jpg  
  inflating: __MACOSX/cats_and_dogs/train/dogs/._dog.331.jpg  
  inflating: cats_and_dogs/train/dogs/dog.292.jpg  
  inflating: __MACOSX/cats_and_dogs/train/dogs/._dog.292.jpg  
  inflating: cats_and_dogs/train/dogs/dog.286.jpg  
  inflating: __MACOSX/cats_and_dogs/train/dogs/._dog.286.jpg  
  inflating: cats_and_dogs/train/dogs/dog.279.jpg  
  inflating: __MACOSX/cats_and_dogs/train/dogs/._dog.279.jpg  
  inflating: cats_and_dogs/train/dogs/dog.251.jpg  
  inflating: __MACOSX/cats_and_dogs/train/dogs/._dog.251.jpg  
  inflating: cats_and_dogs/train/dogs/dog.537.jpg  
  inflating: __MACOSX/cats_and_dogs/train/dogs/._dog.537.jpg  
  inflating: cats_and_dogs/train/dogs/dog.523.jpg  
  inflating: __MACOSX/cats_and_dogs/train/dogs/._dog.523.jpg  
  inflating: cats_and_dogs/train/dogs/dog.245.jpg  
  inflating: __MACOSX/cats_and_dogs/train/dogs/._dog.245.jpg  
  inflating: cats_and_dogs/train/dogs/dog.912.jpg  
  inflating: __MACOSX/cats_and_dogs/train/dogs/._dog.912.jpg  
  inflating: cats_and_dogs/train/dogs/dog.906.jpg  
  inflating: __MACOSX/cats_and_dogs/train/dogs/._dog.906.jpg  
  inflating: cats_and_dogs/train/dogs/dog.709.jpg  
  inflating: __MACOSX/cats_and_dogs/train/dogs/._dog.709.jpg  
  inflating: cats_and_dogs/train/dogs/dog.735.jpg  
  inflating: __MACOSX/cats_and_dogs/train/dogs/._dog.735.jpg  
  inflating: cats_and_dogs/train/dogs/dog.721.jpg  
  inflating: __MACOSX/cats_and_dogs/train/dogs/._dog.721.jpg  
  inflating: cats_and_dogs/train/dogs/dog.719.jpg  
  inflating: __MACOSX/cats_and_dogs/train/dogs/._dog.719.jpg  
  inflating: cats_and_dogs/train/dogs/dog.725.jpg  
  inflating: __MACOSX/cats_and_dogs/train/dogs/._dog.725.jpg  
  inflating: cats_and_dogs/train/dogs/dog.731.jpg  
  inflating: __MACOSX/cats_and_dogs/train/dogs/._dog.731.jpg  
  inflating: cats_and_dogs/train/dogs/dog.902.jpg  
  inflating: __MACOSX/cats_and_dogs/train/dogs/._dog.902.jpg  
  inflating: cats_and_dogs/train/dogs/dog.916.jpg  
  inflating: __MACOSX/cats_and_dogs/train/dogs/._dog.916.jpg  
  inflating: cats_and_dogs/train/dogs/dog.269.jpg  
  inflating: __MACOSX/cats_and_dogs/train/dogs/._dog.269.jpg  
  inflating: cats_and_dogs/train/dogs/dog.241.jpg  
  inflating: __MACOSX/cats_and_dogs/train/dogs/._dog.241.jpg  
  inflating: cats_and_dogs/train/dogs/dog.527.jpg  
  inflating: __MACOSX/cats_and_dogs/train/dogs/._dog.527.jpg  
  inflating: cats_and_dogs/train/dogs/dog.533.jpg  
  inflating: __MACOSX/cats_and_dogs/train/dogs/._dog.533.jpg  
  inflating: cats_and_dogs/train/dogs/dog.255.jpg  
  inflating: __MACOSX/cats_and_dogs/train/dogs/._dog.255.jpg  
  inflating: cats_and_dogs/train/dogs/dog.282.jpg  
  inflating: __MACOSX/cats_and_dogs/train/dogs/._dog.282.jpg  
  inflating: cats_and_dogs/train/dogs/dog.296.jpg  
  inflating: __MACOSX/cats_and_dogs/train/dogs/._dog.296.jpg  
  inflating: cats_and_dogs/train/dogs/dog.309.jpg  
  inflating: __MACOSX/cats_and_dogs/train/dogs/._dog.309.jpg  
  inflating: cats_and_dogs/train/dogs/dog.335.jpg  
  inflating: __MACOSX/cats_and_dogs/train/dogs/._dog.335.jpg  
  inflating: cats_and_dogs/train/dogs/dog.453.jpg  
  inflating: __MACOSX/cats_and_dogs/train/dogs/._dog.453.jpg  
  inflating: cats_and_dogs/train/dogs/dog.447.jpg  
  inflating: __MACOSX/cats_and_dogs/train/dogs/._dog.447.jpg  
  inflating: cats_and_dogs/train/dogs/dog.321.jpg  
  inflating: __MACOSX/cats_and_dogs/train/dogs/._dog.321.jpg  
  inflating: cats_and_dogs/train/dogs/dog.490.jpg  
  inflating: __MACOSX/cats_and_dogs/train/dogs/._dog.490.jpg  
  inflating: cats_and_dogs/train/dogs/dog.484.jpg  
  inflating: __MACOSX/cats_and_dogs/train/dogs/._dog.484.jpg  
  inflating: cats_and_dogs/train/dogs/dog.66.jpg  
  inflating: __MACOSX/cats_and_dogs/train/dogs/._dog.66.jpg  
  inflating: cats_and_dogs/train/dogs/dog.679.jpg  
  inflating: __MACOSX/cats_and_dogs/train/dogs/._dog.679.jpg  
  inflating: cats_and_dogs/train/dogs/dog.72.jpg  
  inflating: __MACOSX/cats_and_dogs/train/dogs/._dog.72.jpg  
  inflating: cats_and_dogs/train/dogs/dog.651.jpg  
  inflating: __MACOSX/cats_and_dogs/train/dogs/._dog.651.jpg  
  inflating: cats_and_dogs/train/dogs/dog.889.jpg  
  inflating: __MACOSX/cats_and_dogs/train/dogs/._dog.889.jpg  
  inflating: cats_and_dogs/train/dogs/dog.137.jpg  
  inflating: __MACOSX/cats_and_dogs/train/dogs/._dog.137.jpg  
  inflating: cats_and_dogs/train/dogs/dog.123.jpg  
  inflating: __MACOSX/cats_and_dogs/train/dogs/._dog.123.jpg  
  inflating: cats_and_dogs/train/dogs/dog.645.jpg  
  inflating: __MACOSX/cats_and_dogs/train/dogs/._dog.645.jpg  
  inflating: cats_and_dogs/train/dogs/dog.876.jpg  
  inflating: __MACOSX/cats_and_dogs/train/dogs/._dog.876.jpg  
  inflating: cats_and_dogs/train/dogs/dog.862.jpg  
  inflating: __MACOSX/cats_and_dogs/train/dogs/._dog.862.jpg  
  inflating: cats_and_dogs/train/dogs/dog.99.jpg  
  inflating: __MACOSX/cats_and_dogs/train/dogs/._dog.99.jpg  
  inflating: cats_and_dogs/train/dogs/dog.692.jpg  
  inflating: __MACOSX/cats_and_dogs/train/dogs/._dog.692.jpg  
  inflating: cats_and_dogs/train/dogs/dog.686.jpg  
  inflating: __MACOSX/cats_and_dogs/train/dogs/._dog.686.jpg  
  inflating: cats_and_dogs/train/dogs/dog.687.jpg  
  inflating: __MACOSX/cats_and_dogs/train/dogs/._dog.687.jpg  
  inflating: cats_and_dogs/train/dogs/dog.693.jpg  
  inflating: __MACOSX/cats_and_dogs/train/dogs/._dog.693.jpg  
  inflating: cats_and_dogs/train/dogs/dog.98.jpg  
  inflating: __MACOSX/cats_and_dogs/train/dogs/._dog.98.jpg  
  inflating: cats_and_dogs/train/dogs/dog.863.jpg  
  inflating: __MACOSX/cats_and_dogs/train/dogs/._dog.863.jpg  
  inflating: cats_and_dogs/train/dogs/dog.877.jpg  
  inflating: __MACOSX/cats_and_dogs/train/dogs/._dog.877.jpg  
  inflating: cats_and_dogs/train/dogs/dog.122.jpg  
  inflating: __MACOSX/cats_and_dogs/train/dogs/._dog.122.jpg  
  inflating: cats_and_dogs/train/dogs/dog.644.jpg  
  inflating: __MACOSX/cats_and_dogs/train/dogs/._dog.644.jpg  
  inflating: cats_and_dogs/train/dogs/dog.888.jpg  
  inflating: __MACOSX/cats_and_dogs/train/dogs/._dog.888.jpg  
  inflating: cats_and_dogs/train/dogs/dog.650.jpg  
  inflating: __MACOSX/cats_and_dogs/train/dogs/._dog.650.jpg  
  inflating: cats_and_dogs/train/dogs/dog.136.jpg  
  inflating: __MACOSX/cats_and_dogs/train/dogs/._dog.136.jpg  
  inflating: cats_and_dogs/train/dogs/dog.73.jpg  
  inflating: __MACOSX/cats_and_dogs/train/dogs/._dog.73.jpg  
  inflating: cats_and_dogs/train/dogs/dog.678.jpg  
  inflating: __MACOSX/cats_and_dogs/train/dogs/._dog.678.jpg  
  inflating: cats_and_dogs/train/dogs/dog.67.jpg  
  inflating: __MACOSX/cats_and_dogs/train/dogs/._dog.67.jpg  
  inflating: cats_and_dogs/train/dogs/dog.485.jpg  
  inflating: __MACOSX/cats_and_dogs/train/dogs/._dog.485.jpg  
  inflating: cats_and_dogs/train/dogs/dog.491.jpg  
  inflating: __MACOSX/cats_and_dogs/train/dogs/._dog.491.jpg  
  inflating: cats_and_dogs/train/dogs/dog.446.jpg  
  inflating: __MACOSX/cats_and_dogs/train/dogs/._dog.446.jpg  
  inflating: cats_and_dogs/train/dogs/dog.320.jpg  
  inflating: __MACOSX/cats_and_dogs/train/dogs/._dog.320.jpg  
  inflating: cats_and_dogs/train/dogs/dog.334.jpg  
  inflating: __MACOSX/cats_and_dogs/train/dogs/._dog.334.jpg  
  inflating: cats_and_dogs/train/dogs/dog.452.jpg  
  inflating: __MACOSX/cats_and_dogs/train/dogs/._dog.452.jpg  
  inflating: cats_and_dogs/train/dogs/dog.308.jpg  
  inflating: __MACOSX/cats_and_dogs/train/dogs/._dog.308.jpg  
  inflating: cats_and_dogs/train/dogs/dog.297.jpg  
  inflating: __MACOSX/cats_and_dogs/train/dogs/._dog.297.jpg  
  inflating: cats_and_dogs/train/dogs/dog.283.jpg  
  inflating: __MACOSX/cats_and_dogs/train/dogs/._dog.283.jpg  
  inflating: cats_and_dogs/train/dogs/dog.532.jpg  
  inflating: __MACOSX/cats_and_dogs/train/dogs/._dog.532.jpg  
  inflating: cats_and_dogs/train/dogs/dog.254.jpg  
  inflating: __MACOSX/cats_and_dogs/train/dogs/._dog.254.jpg  
  inflating: cats_and_dogs/train/dogs/dog.240.jpg  
  inflating: __MACOSX/cats_and_dogs/train/dogs/._dog.240.jpg  
  inflating: cats_and_dogs/train/dogs/dog.526.jpg  
  inflating: __MACOSX/cats_and_dogs/train/dogs/._dog.526.jpg  
  inflating: cats_and_dogs/train/dogs/dog.268.jpg  
  inflating: __MACOSX/cats_and_dogs/train/dogs/._dog.268.jpg  
  inflating: cats_and_dogs/train/dogs/dog.917.jpg  
  inflating: __MACOSX/cats_and_dogs/train/dogs/._dog.917.jpg  
  inflating: cats_and_dogs/train/dogs/dog.903.jpg  
  inflating: __MACOSX/cats_and_dogs/train/dogs/._dog.903.jpg  
  inflating: cats_and_dogs/train/dogs/dog.730.jpg  
  inflating: __MACOSX/cats_and_dogs/train/dogs/._dog.730.jpg  
  inflating: cats_and_dogs/train/dogs/dog.724.jpg  
  inflating: __MACOSX/cats_and_dogs/train/dogs/._dog.724.jpg  
  inflating: cats_and_dogs/train/dogs/dog.718.jpg  
  inflating: __MACOSX/cats_and_dogs/train/dogs/._dog.718.jpg  
  inflating: cats_and_dogs/train/dogs/dog.732.jpg  
  inflating: __MACOSX/cats_and_dogs/train/dogs/._dog.732.jpg  
  inflating: cats_and_dogs/train/dogs/dog.726.jpg  
  inflating: __MACOSX/cats_and_dogs/train/dogs/._dog.726.jpg  
  inflating: cats_and_dogs/train/dogs/dog.915.jpg  
  inflating: __MACOSX/cats_and_dogs/train/dogs/._dog.915.jpg  
  inflating: cats_and_dogs/train/dogs/dog.901.jpg  
  inflating: __MACOSX/cats_and_dogs/train/dogs/._dog.901.jpg  
  inflating: cats_and_dogs/train/dogs/dog.929.jpg  
  inflating: __MACOSX/cats_and_dogs/train/dogs/._dog.929.jpg  
  inflating: cats_and_dogs/train/dogs/dog.518.jpg  
  inflating: __MACOSX/cats_and_dogs/train/dogs/._dog.518.jpg  
  inflating: cats_and_dogs/train/dogs/dog.256.jpg  
  inflating: __MACOSX/cats_and_dogs/train/dogs/._dog.256.jpg  
  inflating: cats_and_dogs/train/dogs/dog.530.jpg  
  inflating: __MACOSX/cats_and_dogs/train/dogs/._dog.530.jpg  
  inflating: cats_and_dogs/train/dogs/dog.524.jpg  
  inflating: __MACOSX/cats_and_dogs/train/dogs/._dog.524.jpg  
  inflating: cats_and_dogs/train/dogs/dog.242.jpg  
  inflating: __MACOSX/cats_and_dogs/train/dogs/._dog.242.jpg  
  inflating: cats_and_dogs/train/dogs/dog.295.jpg  
  inflating: __MACOSX/cats_and_dogs/train/dogs/._dog.295.jpg  
  inflating: cats_and_dogs/train/dogs/dog.281.jpg  
  inflating: __MACOSX/cats_and_dogs/train/dogs/._dog.281.jpg  
  inflating: cats_and_dogs/train/dogs/dog.478.jpg  
  inflating: __MACOSX/cats_and_dogs/train/dogs/._dog.478.jpg  
  inflating: cats_and_dogs/train/dogs/dog.322.jpg  
  inflating: __MACOSX/cats_and_dogs/train/dogs/._dog.322.jpg  
  inflating: cats_and_dogs/train/dogs/dog.444.jpg  
  inflating: __MACOSX/cats_and_dogs/train/dogs/._dog.444.jpg  
  inflating: cats_and_dogs/train/dogs/dog.450.jpg  
  inflating: __MACOSX/cats_and_dogs/train/dogs/._dog.450.jpg  
  inflating: cats_and_dogs/train/dogs/dog.336.jpg  
  inflating: __MACOSX/cats_and_dogs/train/dogs/._dog.336.jpg  
  inflating: cats_and_dogs/train/dogs/dog.487.jpg  
  inflating: __MACOSX/cats_and_dogs/train/dogs/._dog.487.jpg  
  inflating: cats_and_dogs/train/dogs/dog.493.jpg  
  inflating: __MACOSX/cats_and_dogs/train/dogs/._dog.493.jpg  
  inflating: cats_and_dogs/train/dogs/dog.71.jpg  
  inflating: __MACOSX/cats_and_dogs/train/dogs/._dog.71.jpg  
  inflating: cats_and_dogs/train/dogs/dog.108.jpg  
  inflating: __MACOSX/cats_and_dogs/train/dogs/._dog.108.jpg  
  inflating: cats_and_dogs/train/dogs/dog.65.jpg  
  inflating: __MACOSX/cats_and_dogs/train/dogs/._dog.65.jpg  
  inflating: cats_and_dogs/train/dogs/dog.646.jpg  
  inflating: __MACOSX/cats_and_dogs/train/dogs/._dog.646.jpg  
  inflating: cats_and_dogs/train/dogs/dog.120.jpg  
  inflating: __MACOSX/cats_and_dogs/train/dogs/._dog.120.jpg  
  inflating: cats_and_dogs/train/dogs/dog.134.jpg  
  inflating: __MACOSX/cats_and_dogs/train/dogs/._dog.134.jpg  
  inflating: cats_and_dogs/train/dogs/dog.652.jpg  
  inflating: __MACOSX/cats_and_dogs/train/dogs/._dog.652.jpg  
  inflating: cats_and_dogs/train/dogs/dog.59.jpg  
  inflating: __MACOSX/cats_and_dogs/train/dogs/._dog.59.jpg  
  inflating: cats_and_dogs/train/dogs/dog.861.jpg  
  inflating: __MACOSX/cats_and_dogs/train/dogs/._dog.861.jpg  
  inflating: cats_and_dogs/train/dogs/dog.875.jpg  
  inflating: __MACOSX/cats_and_dogs/train/dogs/._dog.875.jpg  
  inflating: cats_and_dogs/train/dogs/dog.685.jpg  
  inflating: __MACOSX/cats_and_dogs/train/dogs/._dog.685.jpg  
  inflating: cats_and_dogs/train/dogs/dog.849.jpg  
  inflating: __MACOSX/cats_and_dogs/train/dogs/._dog.849.jpg  
  inflating: cats_and_dogs/train/dogs/dog.691.jpg  
  inflating: __MACOSX/cats_and_dogs/train/dogs/._dog.691.jpg  
  inflating: cats_and_dogs/train/dogs/dog.690.jpg  
  inflating: __MACOSX/cats_and_dogs/train/dogs/._dog.690.jpg  
  inflating: cats_and_dogs/train/dogs/dog.848.jpg  
  inflating: __MACOSX/cats_and_dogs/train/dogs/._dog.848.jpg  
  inflating: cats_and_dogs/train/dogs/dog.684.jpg  
  inflating: __MACOSX/cats_and_dogs/train/dogs/._dog.684.jpg  
  inflating: cats_and_dogs/train/dogs/dog.874.jpg  
  inflating: __MACOSX/cats_and_dogs/train/dogs/._dog.874.jpg  
  inflating: cats_and_dogs/train/dogs/dog.860.jpg  
  inflating: __MACOSX/cats_and_dogs/train/dogs/._dog.860.jpg  
  inflating: cats_and_dogs/train/dogs/dog.135.jpg  
  inflating: __MACOSX/cats_and_dogs/train/dogs/._dog.135.jpg  
  inflating: cats_and_dogs/train/dogs/dog.58.jpg  
  inflating: __MACOSX/cats_and_dogs/train/dogs/._dog.58.jpg  
  inflating: cats_and_dogs/train/dogs/dog.653.jpg  
  inflating: __MACOSX/cats_and_dogs/train/dogs/._dog.653.jpg  
  inflating: cats_and_dogs/train/dogs/dog.647.jpg  
  inflating: __MACOSX/cats_and_dogs/train/dogs/._dog.647.jpg  
  inflating: cats_and_dogs/train/dogs/dog.121.jpg  
  inflating: __MACOSX/cats_and_dogs/train/dogs/._dog.121.jpg  
  inflating: cats_and_dogs/train/dogs/dog.109.jpg  
  inflating: __MACOSX/cats_and_dogs/train/dogs/._dog.109.jpg  
  inflating: cats_and_dogs/train/dogs/dog.64.jpg  
  inflating: __MACOSX/cats_and_dogs/train/dogs/._dog.64.jpg  
  inflating: cats_and_dogs/train/dogs/dog.70.jpg  
  inflating: __MACOSX/cats_and_dogs/train/dogs/._dog.70.jpg  
  inflating: cats_and_dogs/train/dogs/dog.492.jpg  
  inflating: __MACOSX/cats_and_dogs/train/dogs/._dog.492.jpg  
  inflating: cats_and_dogs/train/dogs/dog.486.jpg  
  inflating: __MACOSX/cats_and_dogs/train/dogs/._dog.486.jpg  
  inflating: cats_and_dogs/train/dogs/dog.451.jpg  
  inflating: __MACOSX/cats_and_dogs/train/dogs/._dog.451.jpg  
  inflating: cats_and_dogs/train/dogs/dog.337.jpg  
  inflating: __MACOSX/cats_and_dogs/train/dogs/._dog.337.jpg  
  inflating: cats_and_dogs/train/dogs/dog.323.jpg  
  inflating: __MACOSX/cats_and_dogs/train/dogs/._dog.323.jpg  
  inflating: cats_and_dogs/train/dogs/dog.445.jpg  
  inflating: __MACOSX/cats_and_dogs/train/dogs/._dog.445.jpg  
  inflating: cats_and_dogs/train/dogs/dog.479.jpg  
  inflating: __MACOSX/cats_and_dogs/train/dogs/._dog.479.jpg  
  inflating: cats_and_dogs/train/dogs/dog.280.jpg  
  inflating: __MACOSX/cats_and_dogs/train/dogs/._dog.280.jpg  
  inflating: cats_and_dogs/train/dogs/dog.294.jpg  
  inflating: __MACOSX/cats_and_dogs/train/dogs/._dog.294.jpg  
  inflating: cats_and_dogs/train/dogs/dog.525.jpg  
  inflating: __MACOSX/cats_and_dogs/train/dogs/._dog.525.jpg  
  inflating: cats_and_dogs/train/dogs/dog.243.jpg  
  inflating: __MACOSX/cats_and_dogs/train/dogs/._dog.243.jpg  
  inflating: cats_and_dogs/train/dogs/dog.257.jpg  
  inflating: __MACOSX/cats_and_dogs/train/dogs/._dog.257.jpg  
  inflating: cats_and_dogs/train/dogs/dog.531.jpg  
  inflating: __MACOSX/cats_and_dogs/train/dogs/._dog.531.jpg  
  inflating: cats_and_dogs/train/dogs/dog.519.jpg  
  inflating: __MACOSX/cats_and_dogs/train/dogs/._dog.519.jpg  
  inflating: cats_and_dogs/train/dogs/dog.928.jpg  
  inflating: __MACOSX/cats_and_dogs/train/dogs/._dog.928.jpg  
  inflating: cats_and_dogs/train/dogs/dog.900.jpg  
  inflating: __MACOSX/cats_and_dogs/train/dogs/._dog.900.jpg  
  inflating: cats_and_dogs/train/dogs/dog.914.jpg  
  inflating: __MACOSX/cats_and_dogs/train/dogs/._dog.914.jpg  
  inflating: cats_and_dogs/train/dogs/dog.727.jpg  
  inflating: __MACOSX/cats_and_dogs/train/dogs/._dog.727.jpg  
  inflating: cats_and_dogs/train/dogs/dog.733.jpg  
  inflating: __MACOSX/cats_and_dogs/train/dogs/._dog.733.jpg  
  inflating: cats_and_dogs/train/dogs/dog.754.jpg  
  inflating: __MACOSX/cats_and_dogs/train/dogs/._dog.754.jpg  
  inflating: cats_and_dogs/train/dogs/dog.998.jpg  
  inflating: __MACOSX/cats_and_dogs/train/dogs/._dog.998.jpg  
  inflating: cats_and_dogs/train/dogs/dog.740.jpg  
  inflating: __MACOSX/cats_and_dogs/train/dogs/._dog.740.jpg  
  inflating: cats_and_dogs/train/dogs/dog.768.jpg  
  inflating: __MACOSX/cats_and_dogs/train/dogs/._dog.768.jpg  
  inflating: cats_and_dogs/train/dogs/dog.797.jpg  
  inflating: __MACOSX/cats_and_dogs/train/dogs/._dog.797.jpg  
  inflating: cats_and_dogs/train/dogs/dog.783.jpg  
  inflating: __MACOSX/cats_and_dogs/train/dogs/._dog.783.jpg  
  inflating: cats_and_dogs/train/dogs/dog.973.jpg  
  inflating: __MACOSX/cats_and_dogs/train/dogs/._dog.973.jpg  
  inflating: cats_and_dogs/train/dogs/dog.967.jpg  
  inflating: __MACOSX/cats_and_dogs/train/dogs/._dog.967.jpg  
  inflating: cats_and_dogs/train/dogs/dog.230.jpg  
  inflating: __MACOSX/cats_and_dogs/train/dogs/._dog.230.jpg  
  inflating: cats_and_dogs/train/dogs/dog.556.jpg  
  inflating: __MACOSX/cats_and_dogs/train/dogs/._dog.556.jpg  
  inflating: cats_and_dogs/train/dogs/dog.542.jpg  
  inflating: __MACOSX/cats_and_dogs/train/dogs/._dog.542.jpg  
  inflating: cats_and_dogs/train/dogs/dog.224.jpg  
  inflating: __MACOSX/cats_and_dogs/train/dogs/._dog.224.jpg  
  inflating: cats_and_dogs/train/dogs/dog.218.jpg  
  inflating: __MACOSX/cats_and_dogs/train/dogs/._dog.218.jpg  
  inflating: cats_and_dogs/train/dogs/dog.595.jpg  
  inflating: __MACOSX/cats_and_dogs/train/dogs/._dog.595.jpg  
  inflating: cats_and_dogs/train/dogs/dog.581.jpg  
  inflating: __MACOSX/cats_and_dogs/train/dogs/._dog.581.jpg  
  inflating: cats_and_dogs/train/dogs/dog.344.jpg  
  inflating: __MACOSX/cats_and_dogs/train/dogs/._dog.344.jpg  
  inflating: cats_and_dogs/train/dogs/dog.422.jpg  
  inflating: __MACOSX/cats_and_dogs/train/dogs/._dog.422.jpg  
  inflating: cats_and_dogs/train/dogs/dog.436.jpg  
  inflating: __MACOSX/cats_and_dogs/train/dogs/._dog.436.jpg  
  inflating: cats_and_dogs/train/dogs/dog.350.jpg  
  inflating: __MACOSX/cats_and_dogs/train/dogs/._dog.350.jpg  
  inflating: cats_and_dogs/train/dogs/dog.378.jpg  
  inflating: __MACOSX/cats_and_dogs/train/dogs/._dog.378.jpg  
  inflating: cats_and_dogs/train/dogs/dog.387.jpg  
  inflating: __MACOSX/cats_and_dogs/train/dogs/._dog.387.jpg  
  inflating: cats_and_dogs/train/dogs/dog.393.jpg  
  inflating: __MACOSX/cats_and_dogs/train/dogs/._dog.393.jpg  
  inflating: cats_and_dogs/train/dogs/dog.620.jpg  
  inflating: __MACOSX/cats_and_dogs/train/dogs/._dog.620.jpg  
  inflating: cats_and_dogs/train/dogs/dog.146.jpg  
  inflating: __MACOSX/cats_and_dogs/train/dogs/._dog.146.jpg  
  inflating: cats_and_dogs/train/dogs/dog.152.jpg  
  inflating: __MACOSX/cats_and_dogs/train/dogs/._dog.152.jpg  
  inflating: cats_and_dogs/train/dogs/dog.634.jpg  
  inflating: __MACOSX/cats_and_dogs/train/dogs/._dog.634.jpg  
  inflating: cats_and_dogs/train/dogs/dog.17.jpg  
  inflating: __MACOSX/cats_and_dogs/train/dogs/._dog.17.jpg  
  inflating: cats_and_dogs/train/dogs/dog.608.jpg  
  inflating: __MACOSX/cats_and_dogs/train/dogs/._dog.608.jpg  
  inflating: cats_and_dogs/train/dogs/dog.185.jpg  
  inflating: __MACOSX/cats_and_dogs/train/dogs/._dog.185.jpg  
  inflating: cats_and_dogs/train/dogs/dog.191.jpg  
  inflating: __MACOSX/cats_and_dogs/train/dogs/._dog.191.jpg  
  inflating: cats_and_dogs/train/dogs/dog.807.jpg  
  inflating: __MACOSX/cats_and_dogs/train/dogs/._dog.807.jpg  
  inflating: cats_and_dogs/train/dogs/dog.813.jpg  
  inflating: __MACOSX/cats_and_dogs/train/dogs/._dog.813.jpg  
  inflating: cats_and_dogs/train/dogs/dog.812.jpg  
  inflating: __MACOSX/cats_and_dogs/train/dogs/._dog.812.jpg  
  inflating: cats_and_dogs/train/dogs/dog.806.jpg  
  inflating: __MACOSX/cats_and_dogs/train/dogs/._dog.806.jpg  
  inflating: cats_and_dogs/train/dogs/dog.190.jpg  
  inflating: __MACOSX/cats_and_dogs/train/dogs/._dog.190.jpg  
  inflating: cats_and_dogs/train/dogs/dog.184.jpg  
  inflating: __MACOSX/cats_and_dogs/train/dogs/._dog.184.jpg  
  inflating: cats_and_dogs/train/dogs/dog.609.jpg  
  inflating: __MACOSX/cats_and_dogs/train/dogs/._dog.609.jpg  
  inflating: cats_and_dogs/train/dogs/dog.16.jpg  
  inflating: __MACOSX/cats_and_dogs/train/dogs/._dog.16.jpg  
  inflating: cats_and_dogs/train/dogs/dog.153.jpg  
  inflating: __MACOSX/cats_and_dogs/train/dogs/._dog.153.jpg  
  inflating: cats_and_dogs/train/dogs/dog.635.jpg  
  inflating: __MACOSX/cats_and_dogs/train/dogs/._dog.635.jpg  
  inflating: cats_and_dogs/train/dogs/dog.621.jpg  
  inflating: __MACOSX/cats_and_dogs/train/dogs/._dog.621.jpg  
  inflating: cats_and_dogs/train/dogs/dog.147.jpg  
  inflating: __MACOSX/cats_and_dogs/train/dogs/._dog.147.jpg  
  inflating: cats_and_dogs/train/dogs/dog.392.jpg  
  inflating: __MACOSX/cats_and_dogs/train/dogs/._dog.392.jpg  
  inflating: cats_and_dogs/train/dogs/dog.386.jpg  
  inflating: __MACOSX/cats_and_dogs/train/dogs/._dog.386.jpg  
  inflating: cats_and_dogs/train/dogs/dog.379.jpg  
  inflating: __MACOSX/cats_and_dogs/train/dogs/._dog.379.jpg  
  inflating: cats_and_dogs/train/dogs/dog.437.jpg  
  inflating: __MACOSX/cats_and_dogs/train/dogs/._dog.437.jpg  
  inflating: cats_and_dogs/train/dogs/dog.351.jpg  
  inflating: __MACOSX/cats_and_dogs/train/dogs/._dog.351.jpg  
  inflating: cats_and_dogs/train/dogs/dog.345.jpg  
  inflating: __MACOSX/cats_and_dogs/train/dogs/._dog.345.jpg  
  inflating: cats_and_dogs/train/dogs/dog.423.jpg  
  inflating: __MACOSX/cats_and_dogs/train/dogs/._dog.423.jpg  
  inflating: cats_and_dogs/train/dogs/dog.580.jpg  
  inflating: __MACOSX/cats_and_dogs/train/dogs/._dog.580.jpg  
  inflating: cats_and_dogs/train/dogs/dog.594.jpg  
  inflating: __MACOSX/cats_and_dogs/train/dogs/._dog.594.jpg  
  inflating: cats_and_dogs/train/dogs/dog.219.jpg  
  inflating: __MACOSX/cats_and_dogs/train/dogs/._dog.219.jpg  
  inflating: cats_and_dogs/train/dogs/dog.543.jpg  
  inflating: __MACOSX/cats_and_dogs/train/dogs/._dog.543.jpg  
  inflating: cats_and_dogs/train/dogs/dog.225.jpg  
  inflating: __MACOSX/cats_and_dogs/train/dogs/._dog.225.jpg  
  inflating: cats_and_dogs/train/dogs/dog.231.jpg  
  inflating: __MACOSX/cats_and_dogs/train/dogs/._dog.231.jpg  
  inflating: cats_and_dogs/train/dogs/dog.557.jpg  
  inflating: __MACOSX/cats_and_dogs/train/dogs/._dog.557.jpg  
  inflating: cats_and_dogs/train/dogs/dog.966.jpg  
  inflating: __MACOSX/cats_and_dogs/train/dogs/._dog.966.jpg  
  inflating: cats_and_dogs/train/dogs/dog.972.jpg  
  inflating: __MACOSX/cats_and_dogs/train/dogs/._dog.972.jpg  
  inflating: cats_and_dogs/train/dogs/dog.782.jpg  
  inflating: __MACOSX/cats_and_dogs/train/dogs/._dog.782.jpg  
  inflating: cats_and_dogs/train/dogs/dog.796.jpg  
  inflating: __MACOSX/cats_and_dogs/train/dogs/._dog.796.jpg  
  inflating: cats_and_dogs/train/dogs/dog.769.jpg  
  inflating: __MACOSX/cats_and_dogs/train/dogs/._dog.769.jpg  
  inflating: cats_and_dogs/train/dogs/dog.741.jpg  
  inflating: __MACOSX/cats_and_dogs/train/dogs/._dog.741.jpg  
  inflating: cats_and_dogs/train/dogs/dog.999.jpg  
  inflating: __MACOSX/cats_and_dogs/train/dogs/._dog.999.jpg  
  inflating: cats_and_dogs/train/dogs/dog.755.jpg  
  inflating: __MACOSX/cats_and_dogs/train/dogs/._dog.755.jpg  
  inflating: cats_and_dogs/train/dogs/dog.743.jpg  
  inflating: __MACOSX/cats_and_dogs/train/dogs/._dog.743.jpg  
  inflating: cats_and_dogs/train/dogs/dog.757.jpg  
  inflating: __MACOSX/cats_and_dogs/train/dogs/._dog.757.jpg  
  inflating: cats_and_dogs/train/dogs/dog.780.jpg  
  inflating: __MACOSX/cats_and_dogs/train/dogs/._dog.780.jpg  
  inflating: cats_and_dogs/train/dogs/dog.958.jpg  
  inflating: __MACOSX/cats_and_dogs/train/dogs/._dog.958.jpg  
  inflating: cats_and_dogs/train/dogs/dog.794.jpg  
  inflating: __MACOSX/cats_and_dogs/train/dogs/._dog.794.jpg  
  inflating: cats_and_dogs/train/dogs/dog.964.jpg  
  inflating: __MACOSX/cats_and_dogs/train/dogs/._dog.964.jpg  
  inflating: cats_and_dogs/train/dogs/dog.970.jpg  
  inflating: __MACOSX/cats_and_dogs/train/dogs/._dog.970.jpg  
  inflating: cats_and_dogs/train/dogs/dog.227.jpg  
  inflating: __MACOSX/cats_and_dogs/train/dogs/._dog.227.jpg  
  inflating: cats_and_dogs/train/dogs/dog.541.jpg  
  inflating: __MACOSX/cats_and_dogs/train/dogs/._dog.541.jpg  
  inflating: cats_and_dogs/train/dogs/dog.555.jpg  
  inflating: __MACOSX/cats_and_dogs/train/dogs/._dog.555.jpg  
  inflating: cats_and_dogs/train/dogs/dog.233.jpg  
  inflating: __MACOSX/cats_and_dogs/train/dogs/._dog.233.jpg  
  inflating: cats_and_dogs/train/dogs/dog.569.jpg  
  inflating: __MACOSX/cats_and_dogs/train/dogs/._dog.569.jpg  
  inflating: cats_and_dogs/train/dogs/dog.582.jpg  
  inflating: __MACOSX/cats_and_dogs/train/dogs/._dog.582.jpg  
  inflating: cats_and_dogs/train/dogs/dog.596.jpg  
  inflating: __MACOSX/cats_and_dogs/train/dogs/._dog.596.jpg  
  inflating: cats_and_dogs/train/dogs/dog.353.jpg  
  inflating: __MACOSX/cats_and_dogs/train/dogs/._dog.353.jpg  
  inflating: cats_and_dogs/train/dogs/dog.435.jpg  
  inflating: __MACOSX/cats_and_dogs/train/dogs/._dog.435.jpg  
  inflating: cats_and_dogs/train/dogs/dog.421.jpg  
  inflating: __MACOSX/cats_and_dogs/train/dogs/._dog.421.jpg  
  inflating: cats_and_dogs/train/dogs/dog.347.jpg  
  inflating: __MACOSX/cats_and_dogs/train/dogs/._dog.347.jpg  
  inflating: cats_and_dogs/train/dogs/dog.409.jpg  
  inflating: __MACOSX/cats_and_dogs/train/dogs/._dog.409.jpg  
  inflating: cats_and_dogs/train/dogs/dog.390.jpg  
  inflating: __MACOSX/cats_and_dogs/train/dogs/._dog.390.jpg  
  inflating: cats_and_dogs/train/dogs/dog.384.jpg  
  inflating: __MACOSX/cats_and_dogs/train/dogs/._dog.384.jpg  
  inflating: cats_and_dogs/train/dogs/dog.637.jpg  
  inflating: __MACOSX/cats_and_dogs/train/dogs/._dog.637.jpg  
  inflating: cats_and_dogs/train/dogs/dog.151.jpg  
  inflating: __MACOSX/cats_and_dogs/train/dogs/._dog.151.jpg  
  inflating: cats_and_dogs/train/dogs/dog.145.jpg  
  inflating: __MACOSX/cats_and_dogs/train/dogs/._dog.145.jpg  
  inflating: cats_and_dogs/train/dogs/dog.623.jpg  
  inflating: __MACOSX/cats_and_dogs/train/dogs/._dog.623.jpg  
  inflating: cats_and_dogs/train/dogs/dog.28.jpg  
  inflating: __MACOSX/cats_and_dogs/train/dogs/._dog.28.jpg  
  inflating: cats_and_dogs/train/dogs/dog.179.jpg  
  inflating: __MACOSX/cats_and_dogs/train/dogs/._dog.179.jpg  
  inflating: cats_and_dogs/train/dogs/dog.14.jpg  
  inflating: __MACOSX/cats_and_dogs/train/dogs/._dog.14.jpg  
  inflating: cats_and_dogs/train/dogs/dog.192.jpg  
  inflating: __MACOSX/cats_and_dogs/train/dogs/._dog.192.jpg  
  inflating: cats_and_dogs/train/dogs/dog.186.jpg  
  inflating: __MACOSX/cats_and_dogs/train/dogs/._dog.186.jpg  
  inflating: cats_and_dogs/train/dogs/dog.838.jpg  
  inflating: __MACOSX/cats_and_dogs/train/dogs/._dog.838.jpg  
  inflating: cats_and_dogs/train/dogs/dog.810.jpg  
  inflating: __MACOSX/cats_and_dogs/train/dogs/._dog.810.jpg  
  inflating: cats_and_dogs/train/dogs/dog.804.jpg  
  inflating: __MACOSX/cats_and_dogs/train/dogs/._dog.804.jpg  
  inflating: cats_and_dogs/train/dogs/dog.805.jpg  
  inflating: __MACOSX/cats_and_dogs/train/dogs/._dog.805.jpg  
  inflating: cats_and_dogs/train/dogs/dog.811.jpg  
  inflating: __MACOSX/cats_and_dogs/train/dogs/._dog.811.jpg  
  inflating: cats_and_dogs/train/dogs/dog.187.jpg  
  inflating: __MACOSX/cats_and_dogs/train/dogs/._dog.187.jpg  
  inflating: cats_and_dogs/train/dogs/dog.839.jpg  
  inflating: __MACOSX/cats_and_dogs/train/dogs/._dog.839.jpg  
  inflating: cats_and_dogs/train/dogs/dog.193.jpg  
  inflating: __MACOSX/cats_and_dogs/train/dogs/._dog.193.jpg  
  inflating: cats_and_dogs/train/dogs/dog.178.jpg  
  inflating: __MACOSX/cats_and_dogs/train/dogs/._dog.178.jpg  
  inflating: cats_and_dogs/train/dogs/dog.15.jpg  
  inflating: __MACOSX/cats_and_dogs/train/dogs/._dog.15.jpg  
  inflating: cats_and_dogs/train/dogs/dog.144.jpg  
  inflating: __MACOSX/cats_and_dogs/train/dogs/._dog.144.jpg  
  inflating: cats_and_dogs/train/dogs/dog.29.jpg  
  inflating: __MACOSX/cats_and_dogs/train/dogs/._dog.29.jpg  
  inflating: cats_and_dogs/train/dogs/dog.622.jpg  
  inflating: __MACOSX/cats_and_dogs/train/dogs/._dog.622.jpg  
  inflating: cats_and_dogs/train/dogs/dog.636.jpg  
  inflating: __MACOSX/cats_and_dogs/train/dogs/._dog.636.jpg  
  inflating: cats_and_dogs/train/dogs/dog.150.jpg  
  inflating: __MACOSX/cats_and_dogs/train/dogs/._dog.150.jpg  
  inflating: cats_and_dogs/train/dogs/dog.385.jpg  
  inflating: __MACOSX/cats_and_dogs/train/dogs/._dog.385.jpg  
  inflating: cats_and_dogs/train/dogs/dog.391.jpg  
  inflating: __MACOSX/cats_and_dogs/train/dogs/._dog.391.jpg  
  inflating: cats_and_dogs/train/dogs/dog.408.jpg  
  inflating: __MACOSX/cats_and_dogs/train/dogs/._dog.408.jpg  
  inflating: cats_and_dogs/train/dogs/dog.420.jpg  
  inflating: __MACOSX/cats_and_dogs/train/dogs/._dog.420.jpg  
  inflating: cats_and_dogs/train/dogs/dog.346.jpg  
  inflating: __MACOSX/cats_and_dogs/train/dogs/._dog.346.jpg  
  inflating: cats_and_dogs/train/dogs/dog.352.jpg  
  inflating: __MACOSX/cats_and_dogs/train/dogs/._dog.352.jpg  
  inflating: cats_and_dogs/train/dogs/dog.434.jpg  
  inflating: __MACOSX/cats_and_dogs/train/dogs/._dog.434.jpg  
  inflating: cats_and_dogs/train/dogs/dog.597.jpg  
  inflating: __MACOSX/cats_and_dogs/train/dogs/._dog.597.jpg  
  inflating: cats_and_dogs/train/dogs/dog.583.jpg  
  inflating: __MACOSX/cats_and_dogs/train/dogs/._dog.583.jpg  
  inflating: cats_and_dogs/train/dogs/dog.568.jpg  
  inflating: __MACOSX/cats_and_dogs/train/dogs/._dog.568.jpg  
  inflating: cats_and_dogs/train/dogs/dog.554.jpg  
  inflating: __MACOSX/cats_and_dogs/train/dogs/._dog.554.jpg  
  inflating: cats_and_dogs/train/dogs/dog.232.jpg  
  inflating: __MACOSX/cats_and_dogs/train/dogs/._dog.232.jpg  
  inflating: cats_and_dogs/train/dogs/dog.226.jpg  
  inflating: __MACOSX/cats_and_dogs/train/dogs/._dog.226.jpg  
  inflating: cats_and_dogs/train/dogs/dog.540.jpg  
  inflating: __MACOSX/cats_and_dogs/train/dogs/._dog.540.jpg  
  inflating: cats_and_dogs/train/dogs/dog.971.jpg  
  inflating: __MACOSX/cats_and_dogs/train/dogs/._dog.971.jpg  
  inflating: cats_and_dogs/train/dogs/dog.965.jpg  
  inflating: __MACOSX/cats_and_dogs/train/dogs/._dog.965.jpg  
  inflating: cats_and_dogs/train/dogs/dog.795.jpg  
  inflating: __MACOSX/cats_and_dogs/train/dogs/._dog.795.jpg  
  inflating: cats_and_dogs/train/dogs/dog.959.jpg  
  inflating: __MACOSX/cats_and_dogs/train/dogs/._dog.959.jpg  
  inflating: cats_and_dogs/train/dogs/dog.781.jpg  
  inflating: __MACOSX/cats_and_dogs/train/dogs/._dog.781.jpg  
  inflating: cats_and_dogs/train/dogs/dog.756.jpg  
  inflating: __MACOSX/cats_and_dogs/train/dogs/._dog.756.jpg  
  inflating: cats_and_dogs/train/dogs/dog.742.jpg  
  inflating: __MACOSX/cats_and_dogs/train/dogs/._dog.742.jpg  
  inflating: cats_and_dogs/train/dogs/dog.746.jpg  
  inflating: __MACOSX/cats_and_dogs/train/dogs/._dog.746.jpg  
  inflating: cats_and_dogs/train/dogs/dog.752.jpg  
  inflating: __MACOSX/cats_and_dogs/train/dogs/._dog.752.jpg  
  inflating: cats_and_dogs/train/dogs/dog.961.jpg  
  inflating: __MACOSX/cats_and_dogs/train/dogs/._dog.961.jpg  
  inflating: cats_and_dogs/train/dogs/dog.975.jpg  
  inflating: __MACOSX/cats_and_dogs/train/dogs/._dog.975.jpg  
  inflating: cats_and_dogs/train/dogs/dog.785.jpg  
  inflating: __MACOSX/cats_and_dogs/train/dogs/._dog.785.jpg  
  inflating: cats_and_dogs/train/dogs/dog.791.jpg  
  inflating: __MACOSX/cats_and_dogs/train/dogs/._dog.791.jpg  
  inflating: cats_and_dogs/train/dogs/dog.949.jpg  
  inflating: __MACOSX/cats_and_dogs/train/dogs/._dog.949.jpg  
  inflating: cats_and_dogs/train/dogs/dog.578.jpg  
  inflating: __MACOSX/cats_and_dogs/train/dogs/._dog.578.jpg  
  inflating: cats_and_dogs/train/dogs/dog.544.jpg  
  inflating: __MACOSX/cats_and_dogs/train/dogs/._dog.544.jpg  
  inflating: cats_and_dogs/train/dogs/dog.222.jpg  
  inflating: __MACOSX/cats_and_dogs/train/dogs/._dog.222.jpg  
  inflating: cats_and_dogs/train/dogs/dog.236.jpg  
  inflating: __MACOSX/cats_and_dogs/train/dogs/._dog.236.jpg  
  inflating: cats_and_dogs/train/dogs/dog.550.jpg  
  inflating: __MACOSX/cats_and_dogs/train/dogs/._dog.550.jpg  
  inflating: cats_and_dogs/train/dogs/dog.587.jpg  
  inflating: __MACOSX/cats_and_dogs/train/dogs/._dog.587.jpg  
  inflating: cats_and_dogs/train/dogs/dog.593.jpg  
  inflating: __MACOSX/cats_and_dogs/train/dogs/._dog.593.jpg  
  inflating: cats_and_dogs/train/dogs/dog.418.jpg  
  inflating: __MACOSX/cats_and_dogs/train/dogs/._dog.418.jpg  
  inflating: cats_and_dogs/train/dogs/dog.430.jpg  
  inflating: __MACOSX/cats_and_dogs/train/dogs/._dog.430.jpg  
  inflating: cats_and_dogs/train/dogs/dog.356.jpg  
  inflating: __MACOSX/cats_and_dogs/train/dogs/._dog.356.jpg  
  inflating: cats_and_dogs/train/dogs/dog.342.jpg  
  inflating: __MACOSX/cats_and_dogs/train/dogs/._dog.342.jpg  
  inflating: cats_and_dogs/train/dogs/dog.424.jpg  
  inflating: __MACOSX/cats_and_dogs/train/dogs/._dog.424.jpg  
  inflating: cats_and_dogs/train/dogs/dog.395.jpg  
  inflating: __MACOSX/cats_and_dogs/train/dogs/._dog.395.jpg  
  inflating: cats_and_dogs/train/dogs/dog.381.jpg  
  inflating: __MACOSX/cats_and_dogs/train/dogs/._dog.381.jpg  
  inflating: cats_and_dogs/train/dogs/dog.168.jpg  
  inflating: __MACOSX/cats_and_dogs/train/dogs/._dog.168.jpg  
  inflating: cats_and_dogs/train/dogs/dog.11.jpg  
  inflating: __MACOSX/cats_and_dogs/train/dogs/._dog.11.jpg  
  inflating: cats_and_dogs/train/dogs/dog.154.jpg  
  inflating: __MACOSX/cats_and_dogs/train/dogs/._dog.154.jpg  
  inflating: cats_and_dogs/train/dogs/dog.39.jpg  
  inflating: __MACOSX/cats_and_dogs/train/dogs/._dog.39.jpg  
  inflating: cats_and_dogs/train/dogs/dog.632.jpg  
  inflating: __MACOSX/cats_and_dogs/train/dogs/._dog.632.jpg  
  inflating: cats_and_dogs/train/dogs/dog.626.jpg  
  inflating: __MACOSX/cats_and_dogs/train/dogs/._dog.626.jpg  
  inflating: cats_and_dogs/train/dogs/dog.140.jpg  
  inflating: __MACOSX/cats_and_dogs/train/dogs/._dog.140.jpg  
  inflating: cats_and_dogs/train/dogs/dog.815.jpg  
  inflating: __MACOSX/cats_and_dogs/train/dogs/._dog.815.jpg  
  inflating: cats_and_dogs/train/dogs/dog.801.jpg  
  inflating: __MACOSX/cats_and_dogs/train/dogs/._dog.801.jpg  
  inflating: cats_and_dogs/train/dogs/dog.197.jpg  
  inflating: __MACOSX/cats_and_dogs/train/dogs/._dog.197.jpg  
  inflating: cats_and_dogs/train/dogs/dog.829.jpg  
  inflating: __MACOSX/cats_and_dogs/train/dogs/._dog.829.jpg  
  inflating: cats_and_dogs/train/dogs/dog.183.jpg  
  inflating: __MACOSX/cats_and_dogs/train/dogs/._dog.183.jpg  
  inflating: cats_and_dogs/train/dogs/dog.182.jpg  
  inflating: __MACOSX/cats_and_dogs/train/dogs/._dog.182.jpg  
  inflating: cats_and_dogs/train/dogs/dog.196.jpg  
  inflating: __MACOSX/cats_and_dogs/train/dogs/._dog.196.jpg  
  inflating: cats_and_dogs/train/dogs/dog.828.jpg  
  inflating: __MACOSX/cats_and_dogs/train/dogs/._dog.828.jpg  
  inflating: cats_and_dogs/train/dogs/dog.800.jpg  
  inflating: __MACOSX/cats_and_dogs/train/dogs/._dog.800.jpg  
  inflating: cats_and_dogs/train/dogs/dog.814.jpg  
  inflating: __MACOSX/cats_and_dogs/train/dogs/._dog.814.jpg  
  inflating: cats_and_dogs/train/dogs/dog.627.jpg  
  inflating: __MACOSX/cats_and_dogs/train/dogs/._dog.627.jpg  
  inflating: cats_and_dogs/train/dogs/dog.141.jpg  
  inflating: __MACOSX/cats_and_dogs/train/dogs/._dog.141.jpg  
  inflating: cats_and_dogs/train/dogs/dog.155.jpg  
  inflating: __MACOSX/cats_and_dogs/train/dogs/._dog.155.jpg  
  inflating: cats_and_dogs/train/dogs/dog.633.jpg  
  inflating: __MACOSX/cats_and_dogs/train/dogs/._dog.633.jpg  
  inflating: cats_and_dogs/train/dogs/dog.38.jpg  
  inflating: __MACOSX/cats_and_dogs/train/dogs/._dog.38.jpg  
  inflating: cats_and_dogs/train/dogs/dog.10.jpg  
  inflating: __MACOSX/cats_and_dogs/train/dogs/._dog.10.jpg  
  inflating: cats_and_dogs/train/dogs/dog.169.jpg  
  inflating: __MACOSX/cats_and_dogs/train/dogs/._dog.169.jpg  
  inflating: cats_and_dogs/train/dogs/dog.380.jpg  
  inflating: __MACOSX/cats_and_dogs/train/dogs/._dog.380.jpg  
  inflating: cats_and_dogs/train/dogs/dog.394.jpg  
  inflating: __MACOSX/cats_and_dogs/train/dogs/._dog.394.jpg  
  inflating: cats_and_dogs/train/dogs/dog.343.jpg  
  inflating: __MACOSX/cats_and_dogs/train/dogs/._dog.343.jpg  
  inflating: cats_and_dogs/train/dogs/dog.425.jpg  
  inflating: __MACOSX/cats_and_dogs/train/dogs/._dog.425.jpg  
  inflating: cats_and_dogs/train/dogs/dog.431.jpg  
  inflating: __MACOSX/cats_and_dogs/train/dogs/._dog.431.jpg  
  inflating: cats_and_dogs/train/dogs/dog.357.jpg  
  inflating: __MACOSX/cats_and_dogs/train/dogs/._dog.357.jpg  
  inflating: cats_and_dogs/train/dogs/dog.419.jpg  
  inflating: __MACOSX/cats_and_dogs/train/dogs/._dog.419.jpg  
  inflating: cats_and_dogs/train/dogs/dog.592.jpg  
  inflating: __MACOSX/cats_and_dogs/train/dogs/._dog.592.jpg  
  inflating: cats_and_dogs/train/dogs/dog.586.jpg  
  inflating: __MACOSX/cats_and_dogs/train/dogs/._dog.586.jpg  
  inflating: cats_and_dogs/train/dogs/dog.237.jpg  
  inflating: __MACOSX/cats_and_dogs/train/dogs/._dog.237.jpg  
  inflating: cats_and_dogs/train/dogs/dog.551.jpg  
  inflating: __MACOSX/cats_and_dogs/train/dogs/._dog.551.jpg  
  inflating: cats_and_dogs/train/dogs/dog.545.jpg  
  inflating: __MACOSX/cats_and_dogs/train/dogs/._dog.545.jpg  
  inflating: cats_and_dogs/train/dogs/dog.223.jpg  
  inflating: __MACOSX/cats_and_dogs/train/dogs/._dog.223.jpg  
  inflating: cats_and_dogs/train/dogs/dog.579.jpg  
  inflating: __MACOSX/cats_and_dogs/train/dogs/._dog.579.jpg  
  inflating: cats_and_dogs/train/dogs/dog.948.jpg  
  inflating: __MACOSX/cats_and_dogs/train/dogs/._dog.948.jpg  
  inflating: cats_and_dogs/train/dogs/dog.790.jpg  
  inflating: __MACOSX/cats_and_dogs/train/dogs/._dog.790.jpg  
  inflating: cats_and_dogs/train/dogs/dog.784.jpg  
  inflating: __MACOSX/cats_and_dogs/train/dogs/._dog.784.jpg  
  inflating: cats_and_dogs/train/dogs/dog.974.jpg  
  inflating: __MACOSX/cats_and_dogs/train/dogs/._dog.974.jpg  
  inflating: cats_and_dogs/train/dogs/dog.960.jpg  
  inflating: __MACOSX/cats_and_dogs/train/dogs/._dog.960.jpg  
  inflating: cats_and_dogs/train/dogs/dog.753.jpg  
  inflating: __MACOSX/cats_and_dogs/train/dogs/._dog.753.jpg  
  inflating: cats_and_dogs/train/dogs/dog.747.jpg  
  inflating: __MACOSX/cats_and_dogs/train/dogs/._dog.747.jpg  
  inflating: cats_and_dogs/train/dogs/dog.779.jpg  
  inflating: __MACOSX/cats_and_dogs/train/dogs/._dog.779.jpg  
  inflating: cats_and_dogs/train/dogs/dog.989.jpg  
  inflating: __MACOSX/cats_and_dogs/train/dogs/._dog.989.jpg  
  inflating: cats_and_dogs/train/dogs/dog.751.jpg  
  inflating: __MACOSX/cats_and_dogs/train/dogs/._dog.751.jpg  
  inflating: cats_and_dogs/train/dogs/dog.745.jpg  
  inflating: __MACOSX/cats_and_dogs/train/dogs/._dog.745.jpg  
  inflating: cats_and_dogs/train/dogs/dog.976.jpg  
  inflating: __MACOSX/cats_and_dogs/train/dogs/._dog.976.jpg  
  inflating: cats_and_dogs/train/dogs/dog.962.jpg  
  inflating: __MACOSX/cats_and_dogs/train/dogs/._dog.962.jpg  
  inflating: cats_and_dogs/train/dogs/dog.792.jpg  
  inflating: __MACOSX/cats_and_dogs/train/dogs/._dog.792.jpg  
  inflating: cats_and_dogs/train/dogs/dog.786.jpg  
  inflating: __MACOSX/cats_and_dogs/train/dogs/._dog.786.jpg  
  inflating: cats_and_dogs/train/dogs/dog.209.jpg  
  inflating: __MACOSX/cats_and_dogs/train/dogs/._dog.209.jpg  
  inflating: cats_and_dogs/train/dogs/dog.553.jpg  
  inflating: __MACOSX/cats_and_dogs/train/dogs/._dog.553.jpg  
  inflating: cats_and_dogs/train/dogs/dog.235.jpg  
  inflating: __MACOSX/cats_and_dogs/train/dogs/._dog.235.jpg  
  inflating: cats_and_dogs/train/dogs/dog.221.jpg  
  inflating: __MACOSX/cats_and_dogs/train/dogs/._dog.221.jpg  
  inflating: cats_and_dogs/train/dogs/dog.547.jpg  
  inflating: __MACOSX/cats_and_dogs/train/dogs/._dog.547.jpg  
  inflating: cats_and_dogs/train/dogs/dog.590.jpg  
  inflating: __MACOSX/cats_and_dogs/train/dogs/._dog.590.jpg  
  inflating: cats_and_dogs/train/dogs/dog.584.jpg  
  inflating: __MACOSX/cats_and_dogs/train/dogs/._dog.584.jpg  
  inflating: cats_and_dogs/train/dogs/dog.369.jpg  
  inflating: __MACOSX/cats_and_dogs/train/dogs/._dog.369.jpg  
  inflating: cats_and_dogs/train/dogs/dog.427.jpg  
  inflating: __MACOSX/cats_and_dogs/train/dogs/._dog.427.jpg  
  inflating: cats_and_dogs/train/dogs/dog.341.jpg  
  inflating: __MACOSX/cats_and_dogs/train/dogs/._dog.341.jpg  
  inflating: cats_and_dogs/train/dogs/dog.355.jpg  
  inflating: __MACOSX/cats_and_dogs/train/dogs/._dog.355.jpg  
  inflating: cats_and_dogs/train/dogs/dog.433.jpg  
  inflating: __MACOSX/cats_and_dogs/train/dogs/._dog.433.jpg  
  inflating: cats_and_dogs/train/dogs/dog.382.jpg  
  inflating: __MACOSX/cats_and_dogs/train/dogs/._dog.382.jpg  
  inflating: cats_and_dogs/train/dogs/dog.396.jpg  
  inflating: __MACOSX/cats_and_dogs/train/dogs/._dog.396.jpg  
  inflating: cats_and_dogs/train/dogs/dog.12.jpg  
  inflating: __MACOSX/cats_and_dogs/train/dogs/._dog.12.jpg  
  inflating: cats_and_dogs/train/dogs/dog.619.jpg  
  inflating: __MACOSX/cats_and_dogs/train/dogs/._dog.619.jpg  
  inflating: cats_and_dogs/train/dogs/dog.143.jpg  
  inflating: __MACOSX/cats_and_dogs/train/dogs/._dog.143.jpg  
  inflating: cats_and_dogs/train/dogs/dog.625.jpg  
  inflating: __MACOSX/cats_and_dogs/train/dogs/._dog.625.jpg  
  inflating: cats_and_dogs/train/dogs/dog.631.jpg  
  inflating: __MACOSX/cats_and_dogs/train/dogs/._dog.631.jpg  
  inflating: cats_and_dogs/train/dogs/dog.157.jpg  
  inflating: __MACOSX/cats_and_dogs/train/dogs/._dog.157.jpg  
  inflating: cats_and_dogs/train/dogs/dog.802.jpg  
  inflating: __MACOSX/cats_and_dogs/train/dogs/._dog.802.jpg  
  inflating: cats_and_dogs/train/dogs/dog.816.jpg  
  inflating: __MACOSX/cats_and_dogs/train/dogs/._dog.816.jpg  
  inflating: cats_and_dogs/train/dogs/dog.180.jpg  
  inflating: __MACOSX/cats_and_dogs/train/dogs/._dog.180.jpg  
  inflating: cats_and_dogs/train/dogs/dog.194.jpg  
  inflating: __MACOSX/cats_and_dogs/train/dogs/._dog.194.jpg  
  inflating: cats_and_dogs/train/dogs/dog.195.jpg  
  inflating: __MACOSX/cats_and_dogs/train/dogs/._dog.195.jpg  
  inflating: cats_and_dogs/train/dogs/dog.181.jpg  
  inflating: __MACOSX/cats_and_dogs/train/dogs/._dog.181.jpg  
  inflating: cats_and_dogs/train/dogs/dog.817.jpg  
  inflating: __MACOSX/cats_and_dogs/train/dogs/._dog.817.jpg  
  inflating: cats_and_dogs/train/dogs/dog.803.jpg  
  inflating: __MACOSX/cats_and_dogs/train/dogs/._dog.803.jpg  
  inflating: cats_and_dogs/train/dogs/dog.630.jpg  
  inflating: __MACOSX/cats_and_dogs/train/dogs/._dog.630.jpg  
  inflating: cats_and_dogs/train/dogs/dog.156.jpg  
  inflating: __MACOSX/cats_and_dogs/train/dogs/._dog.156.jpg  
  inflating: cats_and_dogs/train/dogs/dog.142.jpg  
  inflating: __MACOSX/cats_and_dogs/train/dogs/._dog.142.jpg  
  inflating: cats_and_dogs/train/dogs/dog.624.jpg  
  inflating: __MACOSX/cats_and_dogs/train/dogs/._dog.624.jpg  
  inflating: cats_and_dogs/train/dogs/dog.618.jpg  
  inflating: __MACOSX/cats_and_dogs/train/dogs/._dog.618.jpg  
  inflating: cats_and_dogs/train/dogs/dog.13.jpg  
  inflating: __MACOSX/cats_and_dogs/train/dogs/._dog.13.jpg  
  inflating: cats_and_dogs/train/dogs/dog.397.jpg  
  inflating: __MACOSX/cats_and_dogs/train/dogs/._dog.397.jpg  
  inflating: cats_and_dogs/train/dogs/dog.383.jpg  
  inflating: __MACOSX/cats_and_dogs/train/dogs/._dog.383.jpg  
  inflating: cats_and_dogs/train/dogs/dog.354.jpg  
  inflating: __MACOSX/cats_and_dogs/train/dogs/._dog.354.jpg  
  inflating: cats_and_dogs/train/dogs/dog.432.jpg  
  inflating: __MACOSX/cats_and_dogs/train/dogs/._dog.432.jpg  
  inflating: cats_and_dogs/train/dogs/dog.426.jpg  
  inflating: __MACOSX/cats_and_dogs/train/dogs/._dog.426.jpg  
  inflating: cats_and_dogs/train/dogs/dog.340.jpg  
  inflating: __MACOSX/cats_and_dogs/train/dogs/._dog.340.jpg  
  inflating: cats_and_dogs/train/dogs/dog.368.jpg  
  inflating: __MACOSX/cats_and_dogs/train/dogs/._dog.368.jpg  
  inflating: cats_and_dogs/train/dogs/dog.585.jpg  
  inflating: __MACOSX/cats_and_dogs/train/dogs/._dog.585.jpg  
  inflating: cats_and_dogs/train/dogs/dog.591.jpg  
  inflating: __MACOSX/cats_and_dogs/train/dogs/._dog.591.jpg  
  inflating: cats_and_dogs/train/dogs/dog.220.jpg  
  inflating: __MACOSX/cats_and_dogs/train/dogs/._dog.220.jpg  
  inflating: cats_and_dogs/train/dogs/dog.546.jpg  
  inflating: __MACOSX/cats_and_dogs/train/dogs/._dog.546.jpg  
  inflating: cats_and_dogs/train/dogs/dog.552.jpg  
  inflating: __MACOSX/cats_and_dogs/train/dogs/._dog.552.jpg  
  inflating: cats_and_dogs/train/dogs/dog.234.jpg  
  inflating: __MACOSX/cats_and_dogs/train/dogs/._dog.234.jpg  
  inflating: cats_and_dogs/train/dogs/dog.208.jpg  
  inflating: __MACOSX/cats_and_dogs/train/dogs/._dog.208.jpg  
  inflating: cats_and_dogs/train/dogs/dog.787.jpg  
  inflating: __MACOSX/cats_and_dogs/train/dogs/._dog.787.jpg  
  inflating: cats_and_dogs/train/dogs/dog.793.jpg  
  inflating: __MACOSX/cats_and_dogs/train/dogs/._dog.793.jpg  
  inflating: cats_and_dogs/train/dogs/dog.963.jpg  
  inflating: __MACOSX/cats_and_dogs/train/dogs/._dog.963.jpg  
  inflating: cats_and_dogs/train/dogs/dog.977.jpg  
  inflating: __MACOSX/cats_and_dogs/train/dogs/._dog.977.jpg  
  inflating: cats_and_dogs/train/dogs/dog.744.jpg  
  inflating: __MACOSX/cats_and_dogs/train/dogs/._dog.744.jpg  
  inflating: cats_and_dogs/train/dogs/dog.750.jpg  
  inflating: __MACOSX/cats_and_dogs/train/dogs/._dog.750.jpg  
  inflating: cats_and_dogs/train/dogs/dog.988.jpg  
  inflating: __MACOSX/cats_and_dogs/train/dogs/._dog.988.jpg  
  inflating: cats_and_dogs/train/dogs/dog.778.jpg  
  inflating: __MACOSX/cats_and_dogs/train/dogs/._dog.778.jpg  
  inflating: __MACOSX/cats_and_dogs/train/._dogs  
   creating: cats_and_dogs/train/cats/
  inflating: cats_and_dogs/train/cats/cat.952.jpg  
   creating: __MACOSX/cats_and_dogs/train/cats/
  inflating: __MACOSX/cats_and_dogs/train/cats/._cat.952.jpg  
  inflating: cats_and_dogs/train/cats/cat.946.jpg  
  inflating: __MACOSX/cats_and_dogs/train/cats/._cat.946.jpg  
  inflating: cats_and_dogs/train/cats/cat.6.jpg  
  inflating: __MACOSX/cats_and_dogs/train/cats/._cat.6.jpg  
  inflating: cats_and_dogs/train/cats/cat.749.jpg  
  inflating: __MACOSX/cats_and_dogs/train/cats/._cat.749.jpg  
  inflating: cats_and_dogs/train/cats/cat.991.jpg  
  inflating: __MACOSX/cats_and_dogs/train/cats/._cat.991.jpg  
  inflating: cats_and_dogs/train/cats/cat.985.jpg  
  inflating: __MACOSX/cats_and_dogs/train/cats/._cat.985.jpg  
  inflating: cats_and_dogs/train/cats/cat.775.jpg  
  inflating: __MACOSX/cats_and_dogs/train/cats/._cat.775.jpg  
  inflating: cats_and_dogs/train/cats/cat.761.jpg  
  inflating: __MACOSX/cats_and_dogs/train/cats/._cat.761.jpg  
  inflating: cats_and_dogs/train/cats/cat.588.jpg  
  inflating: __MACOSX/cats_and_dogs/train/cats/._cat.588.jpg  
  inflating: cats_and_dogs/train/cats/cat.239.jpg  
  inflating: __MACOSX/cats_and_dogs/train/cats/._cat.239.jpg  
  inflating: cats_and_dogs/train/cats/cat.577.jpg  
  inflating: __MACOSX/cats_and_dogs/train/cats/._cat.577.jpg  
  inflating: cats_and_dogs/train/cats/cat.211.jpg  
  inflating: __MACOSX/cats_and_dogs/train/cats/._cat.211.jpg  
  inflating: cats_and_dogs/train/cats/cat.205.jpg  
  inflating: __MACOSX/cats_and_dogs/train/cats/._cat.205.jpg  
  inflating: cats_and_dogs/train/cats/cat.563.jpg  
  inflating: __MACOSX/cats_and_dogs/train/cats/._cat.563.jpg  
  inflating: cats_and_dogs/train/cats/cat.359.jpg  
  inflating: __MACOSX/cats_and_dogs/train/cats/._cat.359.jpg  
  inflating: cats_and_dogs/train/cats/cat.403.jpg  
  inflating: __MACOSX/cats_and_dogs/train/cats/._cat.403.jpg  
  inflating: cats_and_dogs/train/cats/cat.365.jpg  
  inflating: __MACOSX/cats_and_dogs/train/cats/._cat.365.jpg  
  inflating: cats_and_dogs/train/cats/cat.371.jpg  
  inflating: __MACOSX/cats_and_dogs/train/cats/._cat.371.jpg  
  inflating: cats_and_dogs/train/cats/cat.417.jpg  
  inflating: __MACOSX/cats_and_dogs/train/cats/._cat.417.jpg  
  inflating: cats_and_dogs/train/cats/cat.198.jpg  
  inflating: __MACOSX/cats_and_dogs/train/cats/._cat.198.jpg  
  inflating: cats_and_dogs/train/cats/cat.826.jpg  
  inflating: __MACOSX/cats_and_dogs/train/cats/._cat.826.jpg  
  inflating: cats_and_dogs/train/cats/cat.832.jpg  
  inflating: __MACOSX/cats_and_dogs/train/cats/._cat.832.jpg  
  inflating: cats_and_dogs/train/cats/cat.30.jpg  
  inflating: __MACOSX/cats_and_dogs/train/cats/._cat.30.jpg  
  inflating: cats_and_dogs/train/cats/cat.629.jpg  
  inflating: __MACOSX/cats_and_dogs/train/cats/._cat.629.jpg  
  inflating: cats_and_dogs/train/cats/cat.24.jpg  
  inflating: __MACOSX/cats_and_dogs/train/cats/._cat.24.jpg  
  inflating: cats_and_dogs/train/cats/cat.167.jpg  
  inflating: __MACOSX/cats_and_dogs/train/cats/._cat.167.jpg  
  inflating: cats_and_dogs/train/cats/cat.601.jpg  
  inflating: __MACOSX/cats_and_dogs/train/cats/._cat.601.jpg  
  inflating: cats_and_dogs/train/cats/cat.615.jpg  
  inflating: __MACOSX/cats_and_dogs/train/cats/._cat.615.jpg  
  inflating: cats_and_dogs/train/cats/cat.18.jpg  
  inflating: __MACOSX/cats_and_dogs/train/cats/._cat.18.jpg  
  inflating: cats_and_dogs/train/cats/cat.173.jpg  
  inflating: __MACOSX/cats_and_dogs/train/cats/._cat.173.jpg  
  inflating: cats_and_dogs/train/cats/cat.614.jpg  
  inflating: __MACOSX/cats_and_dogs/train/cats/._cat.614.jpg  
  inflating: cats_and_dogs/train/cats/cat.172.jpg  
  inflating: __MACOSX/cats_and_dogs/train/cats/._cat.172.jpg  
  inflating: cats_and_dogs/train/cats/cat.19.jpg  
  inflating: __MACOSX/cats_and_dogs/train/cats/._cat.19.jpg  
  inflating: cats_and_dogs/train/cats/cat.166.jpg  
  inflating: __MACOSX/cats_and_dogs/train/cats/._cat.166.jpg  
  inflating: cats_and_dogs/train/cats/cat.600.jpg  
  inflating: __MACOSX/cats_and_dogs/train/cats/._cat.600.jpg  
  inflating: cats_and_dogs/train/cats/cat.628.jpg  
  inflating: __MACOSX/cats_and_dogs/train/cats/._cat.628.jpg  
  inflating: cats_and_dogs/train/cats/cat.25.jpg  
  inflating: __MACOSX/cats_and_dogs/train/cats/._cat.25.jpg  
  inflating: cats_and_dogs/train/cats/cat.31.jpg  
  inflating: __MACOSX/cats_and_dogs/train/cats/._cat.31.jpg  
  inflating: cats_and_dogs/train/cats/cat.833.jpg  
  inflating: __MACOSX/cats_and_dogs/train/cats/._cat.833.jpg  
  inflating: cats_and_dogs/train/cats/cat.199.jpg  
  inflating: __MACOSX/cats_and_dogs/train/cats/._cat.199.jpg  
  inflating: cats_and_dogs/train/cats/cat.827.jpg  
  inflating: __MACOSX/cats_and_dogs/train/cats/._cat.827.jpg  
  inflating: cats_and_dogs/train/cats/cat.370.jpg  
  inflating: __MACOSX/cats_and_dogs/train/cats/._cat.370.jpg  
  inflating: cats_and_dogs/train/cats/cat.416.jpg  
  inflating: __MACOSX/cats_and_dogs/train/cats/._cat.416.jpg  
  inflating: cats_and_dogs/train/cats/cat.402.jpg  
  inflating: __MACOSX/cats_and_dogs/train/cats/._cat.402.jpg  
  inflating: cats_and_dogs/train/cats/cat.364.jpg  
  inflating: __MACOSX/cats_and_dogs/train/cats/._cat.364.jpg  
  inflating: cats_and_dogs/train/cats/cat.358.jpg  
  inflating: __MACOSX/cats_and_dogs/train/cats/._cat.358.jpg  
  inflating: cats_and_dogs/train/cats/cat.204.jpg  
  inflating: __MACOSX/cats_and_dogs/train/cats/._cat.204.jpg  
  inflating: cats_and_dogs/train/cats/cat.562.jpg  
  inflating: __MACOSX/cats_and_dogs/train/cats/._cat.562.jpg  
  inflating: cats_and_dogs/train/cats/cat.576.jpg  
  inflating: __MACOSX/cats_and_dogs/train/cats/._cat.576.jpg  
  inflating: cats_and_dogs/train/cats/cat.210.jpg  
  inflating: __MACOSX/cats_and_dogs/train/cats/._cat.210.jpg  
  inflating: cats_and_dogs/train/cats/cat.238.jpg  
  inflating: __MACOSX/cats_and_dogs/train/cats/._cat.238.jpg  
  inflating: cats_and_dogs/train/cats/cat.589.jpg  
  inflating: __MACOSX/cats_and_dogs/train/cats/._cat.589.jpg  
  inflating: cats_and_dogs/train/cats/cat.760.jpg  
  inflating: __MACOSX/cats_and_dogs/train/cats/._cat.760.jpg  
  inflating: cats_and_dogs/train/cats/cat.774.jpg  
  inflating: __MACOSX/cats_and_dogs/train/cats/._cat.774.jpg  
  inflating: cats_and_dogs/train/cats/cat.984.jpg  
  inflating: __MACOSX/cats_and_dogs/train/cats/._cat.984.jpg  
  inflating: cats_and_dogs/train/cats/cat.7.jpg  
  inflating: __MACOSX/cats_and_dogs/train/cats/._cat.7.jpg  
  inflating: cats_and_dogs/train/cats/cat.990.jpg  
  inflating: __MACOSX/cats_and_dogs/train/cats/._cat.990.jpg  
  inflating: cats_and_dogs/train/cats/cat.748.jpg  
  inflating: __MACOSX/cats_and_dogs/train/cats/._cat.748.jpg  
  inflating: cats_and_dogs/train/cats/cat.947.jpg  
  inflating: __MACOSX/cats_and_dogs/train/cats/._cat.947.jpg  
  inflating: cats_and_dogs/train/cats/cat.953.jpg  
  inflating: __MACOSX/cats_and_dogs/train/cats/._cat.953.jpg  
  inflating: cats_and_dogs/train/cats/cat.945.jpg  
  inflating: __MACOSX/cats_and_dogs/train/cats/._cat.945.jpg  
  inflating: cats_and_dogs/train/cats/cat.951.jpg  
  inflating: __MACOSX/cats_and_dogs/train/cats/._cat.951.jpg  
  inflating: cats_and_dogs/train/cats/cat.789.jpg  
  inflating: __MACOSX/cats_and_dogs/train/cats/._cat.789.jpg  
  inflating: cats_and_dogs/train/cats/cat.979.jpg  
  inflating: __MACOSX/cats_and_dogs/train/cats/._cat.979.jpg  
  inflating: cats_and_dogs/train/cats/cat.986.jpg  
  inflating: __MACOSX/cats_and_dogs/train/cats/._cat.986.jpg  
  inflating: cats_and_dogs/train/cats/cat.992.jpg  
  inflating: __MACOSX/cats_and_dogs/train/cats/._cat.992.jpg  
  inflating: cats_and_dogs/train/cats/cat.5.jpg  
  inflating: __MACOSX/cats_and_dogs/train/cats/._cat.5.jpg  
  inflating: cats_and_dogs/train/cats/cat.762.jpg  
  inflating: __MACOSX/cats_and_dogs/train/cats/._cat.762.jpg  
  inflating: cats_and_dogs/train/cats/cat.776.jpg  
  inflating: __MACOSX/cats_and_dogs/train/cats/._cat.776.jpg  
  inflating: cats_and_dogs/train/cats/cat.548.jpg  
  inflating: __MACOSX/cats_and_dogs/train/cats/._cat.548.jpg  
  inflating: cats_and_dogs/train/cats/cat.560.jpg  
  inflating: __MACOSX/cats_and_dogs/train/cats/._cat.560.jpg  
  inflating: cats_and_dogs/train/cats/cat.206.jpg  
  inflating: __MACOSX/cats_and_dogs/train/cats/._cat.206.jpg  
  inflating: cats_and_dogs/train/cats/cat.212.jpg  
  inflating: __MACOSX/cats_and_dogs/train/cats/._cat.212.jpg  
  inflating: cats_and_dogs/train/cats/cat.574.jpg  
  inflating: __MACOSX/cats_and_dogs/train/cats/._cat.574.jpg  
  inflating: cats_and_dogs/train/cats/cat.399.jpg  
  inflating: __MACOSX/cats_and_dogs/train/cats/._cat.399.jpg  
  inflating: cats_and_dogs/train/cats/cat.428.jpg  
  inflating: __MACOSX/cats_and_dogs/train/cats/._cat.428.jpg  
  inflating: cats_and_dogs/train/cats/cat.414.jpg  
  inflating: __MACOSX/cats_and_dogs/train/cats/._cat.414.jpg  
  inflating: cats_and_dogs/train/cats/cat.372.jpg  
  inflating: __MACOSX/cats_and_dogs/train/cats/._cat.372.jpg  
  inflating: cats_and_dogs/train/cats/cat.366.jpg  
  inflating: __MACOSX/cats_and_dogs/train/cats/._cat.366.jpg  
  inflating: cats_and_dogs/train/cats/cat.400.jpg  
  inflating: __MACOSX/cats_and_dogs/train/cats/._cat.400.jpg  
  inflating: cats_and_dogs/train/cats/cat.831.jpg  
  inflating: __MACOSX/cats_and_dogs/train/cats/._cat.831.jpg  
  inflating: cats_and_dogs/train/cats/cat.825.jpg  
  inflating: __MACOSX/cats_and_dogs/train/cats/._cat.825.jpg  
  inflating: cats_and_dogs/train/cats/cat.819.jpg  
  inflating: __MACOSX/cats_and_dogs/train/cats/._cat.819.jpg  
  inflating: cats_and_dogs/train/cats/cat.27.jpg  
  inflating: __MACOSX/cats_and_dogs/train/cats/._cat.27.jpg  
  inflating: cats_and_dogs/train/cats/cat.33.jpg  
  inflating: __MACOSX/cats_and_dogs/train/cats/._cat.33.jpg  
  inflating: cats_and_dogs/train/cats/cat.158.jpg  
  inflating: __MACOSX/cats_and_dogs/train/cats/._cat.158.jpg  
  inflating: cats_and_dogs/train/cats/cat.170.jpg  
  inflating: __MACOSX/cats_and_dogs/train/cats/._cat.170.jpg  
  inflating: cats_and_dogs/train/cats/cat.616.jpg  
  inflating: __MACOSX/cats_and_dogs/train/cats/._cat.616.jpg  
  inflating: cats_and_dogs/train/cats/cat.602.jpg  
  inflating: __MACOSX/cats_and_dogs/train/cats/._cat.602.jpg  
  inflating: cats_and_dogs/train/cats/cat.164.jpg  
  inflating: __MACOSX/cats_and_dogs/train/cats/._cat.164.jpg  
  inflating: cats_and_dogs/train/cats/cat.603.jpg  
  inflating: __MACOSX/cats_and_dogs/train/cats/._cat.603.jpg  
  inflating: cats_and_dogs/train/cats/cat.165.jpg  
  inflating: __MACOSX/cats_and_dogs/train/cats/._cat.165.jpg  
  inflating: cats_and_dogs/train/cats/cat.171.jpg  
  inflating: __MACOSX/cats_and_dogs/train/cats/._cat.171.jpg  
  inflating: cats_and_dogs/train/cats/cat.617.jpg  
  inflating: __MACOSX/cats_and_dogs/train/cats/._cat.617.jpg  
  inflating: cats_and_dogs/train/cats/cat.159.jpg  
  inflating: __MACOSX/cats_and_dogs/train/cats/._cat.159.jpg  
  inflating: cats_and_dogs/train/cats/cat.32.jpg  
  inflating: __MACOSX/cats_and_dogs/train/cats/._cat.32.jpg  
  inflating: cats_and_dogs/train/cats/cat.26.jpg  
  inflating: __MACOSX/cats_and_dogs/train/cats/._cat.26.jpg  
  inflating: cats_and_dogs/train/cats/cat.818.jpg  
  inflating: __MACOSX/cats_and_dogs/train/cats/._cat.818.jpg  
  inflating: cats_and_dogs/train/cats/cat.824.jpg  
  inflating: __MACOSX/cats_and_dogs/train/cats/._cat.824.jpg  
  inflating: cats_and_dogs/train/cats/cat.830.jpg  
  inflating: __MACOSX/cats_and_dogs/train/cats/._cat.830.jpg  
  inflating: cats_and_dogs/train/cats/cat.367.jpg  
  inflating: __MACOSX/cats_and_dogs/train/cats/._cat.367.jpg  
  inflating: cats_and_dogs/train/cats/cat.401.jpg  
  inflating: __MACOSX/cats_and_dogs/train/cats/._cat.401.jpg  
  inflating: cats_and_dogs/train/cats/cat.415.jpg  
  inflating: __MACOSX/cats_and_dogs/train/cats/._cat.415.jpg  
  inflating: cats_and_dogs/train/cats/cat.373.jpg  
  inflating: __MACOSX/cats_and_dogs/train/cats/._cat.373.jpg  
  inflating: cats_and_dogs/train/cats/cat.429.jpg  
  inflating: __MACOSX/cats_and_dogs/train/cats/._cat.429.jpg  
  inflating: cats_and_dogs/train/cats/cat.398.jpg  
  inflating: __MACOSX/cats_and_dogs/train/cats/._cat.398.jpg  
  inflating: cats_and_dogs/train/cats/cat.213.jpg  
  inflating: __MACOSX/cats_and_dogs/train/cats/._cat.213.jpg  
  inflating: cats_and_dogs/train/cats/cat.575.jpg  
  inflating: __MACOSX/cats_and_dogs/train/cats/._cat.575.jpg  
  inflating: cats_and_dogs/train/cats/cat.561.jpg  
  inflating: __MACOSX/cats_and_dogs/train/cats/._cat.561.jpg  
  inflating: cats_and_dogs/train/cats/cat.207.jpg  
  inflating: __MACOSX/cats_and_dogs/train/cats/._cat.207.jpg  
  inflating: cats_and_dogs/train/cats/cat.549.jpg  
  inflating: __MACOSX/cats_and_dogs/train/cats/._cat.549.jpg  
  inflating: cats_and_dogs/train/cats/cat.777.jpg  
  inflating: __MACOSX/cats_and_dogs/train/cats/._cat.777.jpg  
  inflating: cats_and_dogs/train/cats/cat.763.jpg  
  inflating: __MACOSX/cats_and_dogs/train/cats/._cat.763.jpg  
  inflating: cats_and_dogs/train/cats/cat.993.jpg  
  inflating: __MACOSX/cats_and_dogs/train/cats/._cat.993.jpg  
  inflating: cats_and_dogs/train/cats/cat.4.jpg  
  inflating: __MACOSX/cats_and_dogs/train/cats/._cat.4.jpg  
  inflating: cats_and_dogs/train/cats/cat.987.jpg  
  inflating: __MACOSX/cats_and_dogs/train/cats/._cat.987.jpg  
  inflating: cats_and_dogs/train/cats/cat.978.jpg  
  inflating: __MACOSX/cats_and_dogs/train/cats/._cat.978.jpg  
  inflating: cats_and_dogs/train/cats/cat.788.jpg  
  inflating: __MACOSX/cats_and_dogs/train/cats/._cat.788.jpg  
  inflating: cats_and_dogs/train/cats/cat.950.jpg  
  inflating: __MACOSX/cats_and_dogs/train/cats/._cat.950.jpg  
  inflating: cats_and_dogs/train/cats/cat.944.jpg  
  inflating: __MACOSX/cats_and_dogs/train/cats/._cat.944.jpg  
  inflating: cats_and_dogs/train/cats/cat.968.jpg  
  inflating: __MACOSX/cats_and_dogs/train/cats/._cat.968.jpg  
  inflating: cats_and_dogs/train/cats/cat.940.jpg  
  inflating: __MACOSX/cats_and_dogs/train/cats/._cat.940.jpg  
  inflating: cats_and_dogs/train/cats/cat.798.jpg  
  inflating: __MACOSX/cats_and_dogs/train/cats/._cat.798.jpg  
  inflating: cats_and_dogs/train/cats/cat.954.jpg  
  inflating: __MACOSX/cats_and_dogs/train/cats/._cat.954.jpg  
  inflating: cats_and_dogs/train/cats/cat.767.jpg  
  inflating: __MACOSX/cats_and_dogs/train/cats/._cat.767.jpg  
  inflating: cats_and_dogs/train/cats/cat.773.jpg  
  inflating: __MACOSX/cats_and_dogs/train/cats/._cat.773.jpg  
  inflating: cats_and_dogs/train/cats/cat.983.jpg  
  inflating: __MACOSX/cats_and_dogs/train/cats/._cat.983.jpg  
  inflating: cats_and_dogs/train/cats/cat.0.jpg  
  inflating: __MACOSX/cats_and_dogs/train/cats/._cat.0.jpg  
  inflating: cats_and_dogs/train/cats/cat.997.jpg  
  inflating: __MACOSX/cats_and_dogs/train/cats/._cat.997.jpg  
  inflating: cats_and_dogs/train/cats/cat.203.jpg  
  inflating: __MACOSX/cats_and_dogs/train/cats/._cat.203.jpg  
  inflating: cats_and_dogs/train/cats/cat.565.jpg  
  inflating: __MACOSX/cats_and_dogs/train/cats/._cat.565.jpg  
  inflating: cats_and_dogs/train/cats/cat.571.jpg  
  inflating: __MACOSX/cats_and_dogs/train/cats/._cat.571.jpg  
  inflating: cats_and_dogs/train/cats/cat.217.jpg  
  inflating: __MACOSX/cats_and_dogs/train/cats/._cat.217.jpg  
  inflating: cats_and_dogs/train/cats/cat.559.jpg  
  inflating: __MACOSX/cats_and_dogs/train/cats/._cat.559.jpg  
  inflating: cats_and_dogs/train/cats/cat.388.jpg  
  inflating: __MACOSX/cats_and_dogs/train/cats/._cat.388.jpg  
  inflating: cats_and_dogs/train/cats/cat.377.jpg  
  inflating: __MACOSX/cats_and_dogs/train/cats/._cat.377.jpg  
  inflating: cats_and_dogs/train/cats/cat.411.jpg  
  inflating: __MACOSX/cats_and_dogs/train/cats/._cat.411.jpg  
  inflating: cats_and_dogs/train/cats/cat.405.jpg  
  inflating: __MACOSX/cats_and_dogs/train/cats/._cat.405.jpg  
  inflating: cats_and_dogs/train/cats/cat.363.jpg  
  inflating: __MACOSX/cats_and_dogs/train/cats/._cat.363.jpg  
  inflating: cats_and_dogs/train/cats/cat.439.jpg  
  inflating: __MACOSX/cats_and_dogs/train/cats/._cat.439.jpg  
  inflating: cats_and_dogs/train/cats/cat.808.jpg  
  inflating: __MACOSX/cats_and_dogs/train/cats/._cat.808.jpg  
  inflating: cats_and_dogs/train/cats/cat.834.jpg  
  inflating: __MACOSX/cats_and_dogs/train/cats/._cat.834.jpg  
  inflating: cats_and_dogs/train/cats/cat.820.jpg  
  inflating: __MACOSX/cats_and_dogs/train/cats/._cat.820.jpg  
  inflating: cats_and_dogs/train/cats/cat.613.jpg  
  inflating: __MACOSX/cats_and_dogs/train/cats/._cat.613.jpg  
  inflating: cats_and_dogs/train/cats/cat.175.jpg  
  inflating: __MACOSX/cats_and_dogs/train/cats/._cat.175.jpg  
  inflating: cats_and_dogs/train/cats/cat.161.jpg  
  inflating: __MACOSX/cats_and_dogs/train/cats/._cat.161.jpg  
  inflating: cats_and_dogs/train/cats/cat.607.jpg  
  inflating: __MACOSX/cats_and_dogs/train/cats/._cat.607.jpg  
  inflating: cats_and_dogs/train/cats/cat.22.jpg  
  inflating: __MACOSX/cats_and_dogs/train/cats/._cat.22.jpg  
  inflating: cats_and_dogs/train/cats/cat.149.jpg  
  inflating: __MACOSX/cats_and_dogs/train/cats/._cat.149.jpg  
  inflating: cats_and_dogs/train/cats/cat.36.jpg  
  inflating: __MACOSX/cats_and_dogs/train/cats/._cat.36.jpg  
  inflating: cats_and_dogs/train/cats/cat.37.jpg  
  inflating: __MACOSX/cats_and_dogs/train/cats/._cat.37.jpg  
  inflating: cats_and_dogs/train/cats/cat.148.jpg  
  inflating: __MACOSX/cats_and_dogs/train/cats/._cat.148.jpg  
  inflating: cats_and_dogs/train/cats/cat.23.jpg  
  inflating: __MACOSX/cats_and_dogs/train/cats/._cat.23.jpg  
  inflating: cats_and_dogs/train/cats/cat.160.jpg  
  inflating: __MACOSX/cats_and_dogs/train/cats/._cat.160.jpg  
  inflating: cats_and_dogs/train/cats/cat.606.jpg  
  inflating: __MACOSX/cats_and_dogs/train/cats/._cat.606.jpg  
  inflating: cats_and_dogs/train/cats/cat.612.jpg  
  inflating: __MACOSX/cats_and_dogs/train/cats/._cat.612.jpg  
  inflating: cats_and_dogs/train/cats/cat.174.jpg  
  inflating: __MACOSX/cats_and_dogs/train/cats/._cat.174.jpg  
  inflating: cats_and_dogs/train/cats/cat.821.jpg  
  inflating: __MACOSX/cats_and_dogs/train/cats/._cat.821.jpg  
  inflating: cats_and_dogs/train/cats/cat.835.jpg  
  inflating: __MACOSX/cats_and_dogs/train/cats/._cat.835.jpg  
  inflating: cats_and_dogs/train/cats/cat.809.jpg  
  inflating: __MACOSX/cats_and_dogs/train/cats/._cat.809.jpg  
  inflating: cats_and_dogs/train/cats/cat.438.jpg  
  inflating: __MACOSX/cats_and_dogs/train/cats/._cat.438.jpg  
  inflating: cats_and_dogs/train/cats/cat.404.jpg  
  inflating: __MACOSX/cats_and_dogs/train/cats/._cat.404.jpg  
  inflating: cats_and_dogs/train/cats/cat.362.jpg  
  inflating: __MACOSX/cats_and_dogs/train/cats/._cat.362.jpg  
  inflating: cats_and_dogs/train/cats/cat.376.jpg  
  inflating: __MACOSX/cats_and_dogs/train/cats/._cat.376.jpg  
  inflating: cats_and_dogs/train/cats/cat.410.jpg  
  inflating: __MACOSX/cats_and_dogs/train/cats/._cat.410.jpg  
  inflating: cats_and_dogs/train/cats/cat.389.jpg  
  inflating: __MACOSX/cats_and_dogs/train/cats/._cat.389.jpg  
  inflating: cats_and_dogs/train/cats/cat.558.jpg  
  inflating: __MACOSX/cats_and_dogs/train/cats/._cat.558.jpg  
  inflating: cats_and_dogs/train/cats/cat.570.jpg  
  inflating: __MACOSX/cats_and_dogs/train/cats/._cat.570.jpg  
  inflating: cats_and_dogs/train/cats/cat.216.jpg  
  inflating: __MACOSX/cats_and_dogs/train/cats/._cat.216.jpg  
  inflating: cats_and_dogs/train/cats/cat.202.jpg  
  inflating: __MACOSX/cats_and_dogs/train/cats/._cat.202.jpg  
  inflating: cats_and_dogs/train/cats/cat.564.jpg  
  inflating: __MACOSX/cats_and_dogs/train/cats/._cat.564.jpg  
  inflating: cats_and_dogs/train/cats/cat.1.jpg  
  inflating: __MACOSX/cats_and_dogs/train/cats/._cat.1.jpg  
  inflating: cats_and_dogs/train/cats/cat.996.jpg  
  inflating: __MACOSX/cats_and_dogs/train/cats/._cat.996.jpg  
  inflating: cats_and_dogs/train/cats/cat.982.jpg  
  inflating: __MACOSX/cats_and_dogs/train/cats/._cat.982.jpg  
  inflating: cats_and_dogs/train/cats/cat.772.jpg  
  inflating: __MACOSX/cats_and_dogs/train/cats/._cat.772.jpg  
  inflating: cats_and_dogs/train/cats/cat.766.jpg  
  inflating: __MACOSX/cats_and_dogs/train/cats/._cat.766.jpg  
  inflating: cats_and_dogs/train/cats/cat.955.jpg  
  inflating: __MACOSX/cats_and_dogs/train/cats/._cat.955.jpg  
  inflating: cats_and_dogs/train/cats/cat.799.jpg  
  inflating: __MACOSX/cats_and_dogs/train/cats/._cat.799.jpg  
  inflating: cats_and_dogs/train/cats/cat.941.jpg  
  inflating: __MACOSX/cats_and_dogs/train/cats/._cat.941.jpg  
  inflating: cats_and_dogs/train/cats/cat.969.jpg  
  inflating: __MACOSX/cats_and_dogs/train/cats/._cat.969.jpg  
  inflating: cats_and_dogs/train/cats/cat.957.jpg  
  inflating: __MACOSX/cats_and_dogs/train/cats/._cat.957.jpg  
  inflating: cats_and_dogs/train/cats/cat.943.jpg  
  inflating: __MACOSX/cats_and_dogs/train/cats/._cat.943.jpg  
  inflating: cats_and_dogs/train/cats/cat.770.jpg  
  inflating: __MACOSX/cats_and_dogs/train/cats/._cat.770.jpg  
  inflating: cats_and_dogs/train/cats/cat.764.jpg  
  inflating: __MACOSX/cats_and_dogs/train/cats/._cat.764.jpg  
  inflating: cats_and_dogs/train/cats/cat.994.jpg  
  inflating: __MACOSX/cats_and_dogs/train/cats/._cat.994.jpg  
  inflating: cats_and_dogs/train/cats/cat.3.jpg  
  inflating: __MACOSX/cats_and_dogs/train/cats/._cat.3.jpg  
  inflating: cats_and_dogs/train/cats/cat.758.jpg  
  inflating: __MACOSX/cats_and_dogs/train/cats/._cat.758.jpg  
  inflating: cats_and_dogs/train/cats/cat.980.jpg  
  inflating: __MACOSX/cats_and_dogs/train/cats/._cat.980.jpg  
  inflating: cats_and_dogs/train/cats/cat.599.jpg  
  inflating: __MACOSX/cats_and_dogs/train/cats/._cat.599.jpg  
  inflating: cats_and_dogs/train/cats/cat.214.jpg  
  inflating: __MACOSX/cats_and_dogs/train/cats/._cat.214.jpg  
  inflating: cats_and_dogs/train/cats/cat.572.jpg  
  inflating: __MACOSX/cats_and_dogs/train/cats/._cat.572.jpg  
  inflating: cats_and_dogs/train/cats/cat.566.jpg  
  inflating: __MACOSX/cats_and_dogs/train/cats/._cat.566.jpg  
  inflating: cats_and_dogs/train/cats/cat.200.jpg  
  inflating: __MACOSX/cats_and_dogs/train/cats/._cat.200.jpg  
  inflating: cats_and_dogs/train/cats/cat.228.jpg  
  inflating: __MACOSX/cats_and_dogs/train/cats/._cat.228.jpg  
  inflating: cats_and_dogs/train/cats/cat.360.jpg  
  inflating: __MACOSX/cats_and_dogs/train/cats/._cat.360.jpg  
  inflating: cats_and_dogs/train/cats/cat.406.jpg  
  inflating: __MACOSX/cats_and_dogs/train/cats/._cat.406.jpg  
  inflating: cats_and_dogs/train/cats/cat.412.jpg  
  inflating: __MACOSX/cats_and_dogs/train/cats/._cat.412.jpg  
  inflating: cats_and_dogs/train/cats/cat.374.jpg  
  inflating: __MACOSX/cats_and_dogs/train/cats/._cat.374.jpg  
  inflating: cats_and_dogs/train/cats/cat.348.jpg  
  inflating: __MACOSX/cats_and_dogs/train/cats/._cat.348.jpg  
  inflating: cats_and_dogs/train/cats/cat.823.jpg  
  inflating: __MACOSX/cats_and_dogs/train/cats/._cat.823.jpg  
  inflating: cats_and_dogs/train/cats/cat.189.jpg  
  inflating: __MACOSX/cats_and_dogs/train/cats/._cat.189.jpg  
  inflating: cats_and_dogs/train/cats/cat.837.jpg  
  inflating: __MACOSX/cats_and_dogs/train/cats/._cat.837.jpg  
  inflating: cats_and_dogs/train/cats/cat.604.jpg  
  inflating: __MACOSX/cats_and_dogs/train/cats/._cat.604.jpg  
  inflating: cats_and_dogs/train/cats/cat.162.jpg  
  inflating: __MACOSX/cats_and_dogs/train/cats/._cat.162.jpg  
  inflating: cats_and_dogs/train/cats/cat.176.jpg  
  inflating: __MACOSX/cats_and_dogs/train/cats/._cat.176.jpg  
  inflating: cats_and_dogs/train/cats/cat.610.jpg  
  inflating: __MACOSX/cats_and_dogs/train/cats/._cat.610.jpg  
  inflating: cats_and_dogs/train/cats/cat.638.jpg  
  inflating: __MACOSX/cats_and_dogs/train/cats/._cat.638.jpg  
  inflating: cats_and_dogs/train/cats/cat.35.jpg  
  inflating: __MACOSX/cats_and_dogs/train/cats/._cat.35.jpg  
  inflating: cats_and_dogs/train/cats/cat.21.jpg  
  inflating: __MACOSX/cats_and_dogs/train/cats/._cat.21.jpg  
  inflating: cats_and_dogs/train/cats/cat.20.jpg  
  inflating: __MACOSX/cats_and_dogs/train/cats/._cat.20.jpg  
  inflating: cats_and_dogs/train/cats/cat.639.jpg  
  inflating: __MACOSX/cats_and_dogs/train/cats/._cat.639.jpg  
  inflating: cats_and_dogs/train/cats/cat.34.jpg  
  inflating: __MACOSX/cats_and_dogs/train/cats/._cat.34.jpg  
  inflating: cats_and_dogs/train/cats/cat.177.jpg  
  inflating: __MACOSX/cats_and_dogs/train/cats/._cat.177.jpg  
  inflating: cats_and_dogs/train/cats/cat.611.jpg  
  inflating: __MACOSX/cats_and_dogs/train/cats/._cat.611.jpg  
  inflating: cats_and_dogs/train/cats/cat.605.jpg  
  inflating: __MACOSX/cats_and_dogs/train/cats/._cat.605.jpg  
  inflating: cats_and_dogs/train/cats/cat.163.jpg  
  inflating: __MACOSX/cats_and_dogs/train/cats/._cat.163.jpg  
  inflating: cats_and_dogs/train/cats/cat.188.jpg  
  inflating: __MACOSX/cats_and_dogs/train/cats/._cat.188.jpg  
  inflating: cats_and_dogs/train/cats/cat.836.jpg  
  inflating: __MACOSX/cats_and_dogs/train/cats/._cat.836.jpg  
  inflating: cats_and_dogs/train/cats/cat.822.jpg  
  inflating: __MACOSX/cats_and_dogs/train/cats/._cat.822.jpg  
  inflating: cats_and_dogs/train/cats/cat.349.jpg  
  inflating: __MACOSX/cats_and_dogs/train/cats/._cat.349.jpg  
  inflating: cats_and_dogs/train/cats/cat.413.jpg  
  inflating: __MACOSX/cats_and_dogs/train/cats/._cat.413.jpg  
  inflating: cats_and_dogs/train/cats/cat.375.jpg  
  inflating: __MACOSX/cats_and_dogs/train/cats/._cat.375.jpg  
  inflating: cats_and_dogs/train/cats/cat.361.jpg  
  inflating: __MACOSX/cats_and_dogs/train/cats/._cat.361.jpg  
  inflating: cats_and_dogs/train/cats/cat.407.jpg  
  inflating: __MACOSX/cats_and_dogs/train/cats/._cat.407.jpg  
  inflating: cats_and_dogs/train/cats/cat.229.jpg  
  inflating: __MACOSX/cats_and_dogs/train/cats/._cat.229.jpg  
  inflating: cats_and_dogs/train/cats/cat.567.jpg  
  inflating: __MACOSX/cats_and_dogs/train/cats/._cat.567.jpg  
  inflating: cats_and_dogs/train/cats/cat.201.jpg  
  inflating: __MACOSX/cats_and_dogs/train/cats/._cat.201.jpg  
  inflating: cats_and_dogs/train/cats/cat.215.jpg  
  inflating: __MACOSX/cats_and_dogs/train/cats/._cat.215.jpg  
  inflating: cats_and_dogs/train/cats/cat.573.jpg  
  inflating: __MACOSX/cats_and_dogs/train/cats/._cat.573.jpg  
  inflating: cats_and_dogs/train/cats/cat.598.jpg  
  inflating: __MACOSX/cats_and_dogs/train/cats/._cat.598.jpg  
  inflating: cats_and_dogs/train/cats/cat.981.jpg  
  inflating: __MACOSX/cats_and_dogs/train/cats/._cat.981.jpg  
  inflating: cats_and_dogs/train/cats/cat.759.jpg  
  inflating: __MACOSX/cats_and_dogs/train/cats/._cat.759.jpg  
  inflating: cats_and_dogs/train/cats/cat.995.jpg  
  inflating: __MACOSX/cats_and_dogs/train/cats/._cat.995.jpg  
  inflating: cats_and_dogs/train/cats/cat.2.jpg  
  inflating: __MACOSX/cats_and_dogs/train/cats/._cat.2.jpg  
  inflating: cats_and_dogs/train/cats/cat.765.jpg  
  inflating: __MACOSX/cats_and_dogs/train/cats/._cat.765.jpg  
  inflating: cats_and_dogs/train/cats/cat.771.jpg  
  inflating: __MACOSX/cats_and_dogs/train/cats/._cat.771.jpg  
  inflating: cats_and_dogs/train/cats/cat.942.jpg  
  inflating: __MACOSX/cats_and_dogs/train/cats/._cat.942.jpg  
  inflating: cats_and_dogs/train/cats/cat.956.jpg  
  inflating: __MACOSX/cats_and_dogs/train/cats/._cat.956.jpg  
  inflating: cats_and_dogs/train/cats/cat.931.jpg  
  inflating: __MACOSX/cats_and_dogs/train/cats/._cat.931.jpg  
  inflating: cats_and_dogs/train/cats/cat.925.jpg  
  inflating: __MACOSX/cats_and_dogs/train/cats/._cat.925.jpg  
  inflating: cats_and_dogs/train/cats/cat.919.jpg  
  inflating: __MACOSX/cats_and_dogs/train/cats/._cat.919.jpg  
  inflating: cats_and_dogs/train/cats/cat.716.jpg  
  inflating: __MACOSX/cats_and_dogs/train/cats/._cat.716.jpg  
  inflating: cats_and_dogs/train/cats/cat.702.jpg  
  inflating: __MACOSX/cats_and_dogs/train/cats/._cat.702.jpg  
  inflating: cats_and_dogs/train/cats/cat.299.jpg  
  inflating: __MACOSX/cats_and_dogs/train/cats/._cat.299.jpg  
  inflating: cats_and_dogs/train/cats/cat.528.jpg  
  inflating: __MACOSX/cats_and_dogs/train/cats/._cat.528.jpg  
  inflating: cats_and_dogs/train/cats/cat.272.jpg  
  inflating: __MACOSX/cats_and_dogs/train/cats/._cat.272.jpg  
  inflating: cats_and_dogs/train/cats/cat.514.jpg  
  inflating: __MACOSX/cats_and_dogs/train/cats/._cat.514.jpg  
  inflating: cats_and_dogs/train/cats/cat.500.jpg  
  inflating: __MACOSX/cats_and_dogs/train/cats/._cat.500.jpg  
  inflating: cats_and_dogs/train/cats/cat.266.jpg  
  inflating: __MACOSX/cats_and_dogs/train/cats/._cat.266.jpg  
  inflating: cats_and_dogs/train/cats/cat.448.jpg  
  inflating: __MACOSX/cats_and_dogs/train/cats/._cat.448.jpg  
  inflating: cats_and_dogs/train/cats/cat.306.jpg  
  inflating: __MACOSX/cats_and_dogs/train/cats/._cat.306.jpg  
  inflating: cats_and_dogs/train/cats/cat.460.jpg  
  inflating: __MACOSX/cats_and_dogs/train/cats/._cat.460.jpg  
  inflating: cats_and_dogs/train/cats/cat.474.jpg  
  inflating: __MACOSX/cats_and_dogs/train/cats/._cat.474.jpg  
  inflating: cats_and_dogs/train/cats/cat.312.jpg  
  inflating: __MACOSX/cats_and_dogs/train/cats/._cat.312.jpg  
  inflating: cats_and_dogs/train/cats/cat.845.jpg  
  inflating: __MACOSX/cats_and_dogs/train/cats/._cat.845.jpg  
  inflating: cats_and_dogs/train/cats/cat.90.jpg  
  inflating: __MACOSX/cats_and_dogs/train/cats/._cat.90.jpg  
  inflating: cats_and_dogs/train/cats/cat.84.jpg  
  inflating: __MACOSX/cats_and_dogs/train/cats/._cat.84.jpg  
  inflating: cats_and_dogs/train/cats/cat.689.jpg  
  inflating: __MACOSX/cats_and_dogs/train/cats/._cat.689.jpg  
  inflating: cats_and_dogs/train/cats/cat.851.jpg  
  inflating: __MACOSX/cats_and_dogs/train/cats/._cat.851.jpg  
  inflating: cats_and_dogs/train/cats/cat.879.jpg  
  inflating: __MACOSX/cats_and_dogs/train/cats/._cat.879.jpg  
  inflating: cats_and_dogs/train/cats/cat.886.jpg  
  inflating: __MACOSX/cats_and_dogs/train/cats/._cat.886.jpg  
  inflating: cats_and_dogs/train/cats/cat.53.jpg  
  inflating: __MACOSX/cats_and_dogs/train/cats/._cat.53.jpg  
  inflating: cats_and_dogs/train/cats/cat.138.jpg  
  inflating: __MACOSX/cats_and_dogs/train/cats/._cat.138.jpg  
  inflating: cats_and_dogs/train/cats/cat.47.jpg  
  inflating: __MACOSX/cats_and_dogs/train/cats/._cat.47.jpg  
  inflating: cats_and_dogs/train/cats/cat.892.jpg  
  inflating: __MACOSX/cats_and_dogs/train/cats/._cat.892.jpg  
  inflating: cats_and_dogs/train/cats/cat.662.jpg  
  inflating: __MACOSX/cats_and_dogs/train/cats/._cat.662.jpg  
  inflating: cats_and_dogs/train/cats/cat.104.jpg  
  inflating: __MACOSX/cats_and_dogs/train/cats/._cat.104.jpg  
  inflating: cats_and_dogs/train/cats/cat.110.jpg  
  inflating: __MACOSX/cats_and_dogs/train/cats/._cat.110.jpg  
  inflating: cats_and_dogs/train/cats/cat.676.jpg  
  inflating: __MACOSX/cats_and_dogs/train/cats/._cat.676.jpg  
  inflating: cats_and_dogs/train/cats/cat.111.jpg  
  inflating: __MACOSX/cats_and_dogs/train/cats/._cat.111.jpg  
  inflating: cats_and_dogs/train/cats/cat.677.jpg  
  inflating: __MACOSX/cats_and_dogs/train/cats/._cat.677.jpg  
  inflating: cats_and_dogs/train/cats/cat.663.jpg  
  inflating: __MACOSX/cats_and_dogs/train/cats/._cat.663.jpg  
  inflating: cats_and_dogs/train/cats/cat.105.jpg  
  inflating: __MACOSX/cats_and_dogs/train/cats/._cat.105.jpg  
  inflating: cats_and_dogs/train/cats/cat.46.jpg  
  inflating: __MACOSX/cats_and_dogs/train/cats/._cat.46.jpg  
  inflating: cats_and_dogs/train/cats/cat.893.jpg  
  inflating: __MACOSX/cats_and_dogs/train/cats/._cat.893.jpg  
  inflating: cats_and_dogs/train/cats/cat.887.jpg  
  inflating: __MACOSX/cats_and_dogs/train/cats/._cat.887.jpg  
  inflating: cats_and_dogs/train/cats/cat.139.jpg  
  inflating: __MACOSX/cats_and_dogs/train/cats/._cat.139.jpg  
  inflating: cats_and_dogs/train/cats/cat.52.jpg  
  inflating: __MACOSX/cats_and_dogs/train/cats/._cat.52.jpg  
  inflating: cats_and_dogs/train/cats/cat.878.jpg  
  inflating: __MACOSX/cats_and_dogs/train/cats/._cat.878.jpg  
  inflating: cats_and_dogs/train/cats/cat.85.jpg  
  inflating: __MACOSX/cats_and_dogs/train/cats/._cat.85.jpg  
  inflating: cats_and_dogs/train/cats/cat.850.jpg  
  inflating: __MACOSX/cats_and_dogs/train/cats/._cat.850.jpg  
  inflating: cats_and_dogs/train/cats/cat.688.jpg  
  inflating: __MACOSX/cats_and_dogs/train/cats/._cat.688.jpg  
  inflating: cats_and_dogs/train/cats/cat.844.jpg  
  inflating: __MACOSX/cats_and_dogs/train/cats/._cat.844.jpg  
  inflating: cats_and_dogs/train/cats/cat.91.jpg  
  inflating: __MACOSX/cats_and_dogs/train/cats/._cat.91.jpg  
  inflating: cats_and_dogs/train/cats/cat.475.jpg  
  inflating: __MACOSX/cats_and_dogs/train/cats/._cat.475.jpg  
  inflating: cats_and_dogs/train/cats/cat.313.jpg  
  inflating: __MACOSX/cats_and_dogs/train/cats/._cat.313.jpg  
  inflating: cats_and_dogs/train/cats/cat.307.jpg  
  inflating: __MACOSX/cats_and_dogs/train/cats/._cat.307.jpg  
  inflating: cats_and_dogs/train/cats/cat.461.jpg  
  inflating: __MACOSX/cats_and_dogs/train/cats/._cat.461.jpg  
  inflating: cats_and_dogs/train/cats/cat.449.jpg  
  inflating: __MACOSX/cats_and_dogs/train/cats/._cat.449.jpg  
  inflating: cats_and_dogs/train/cats/cat.501.jpg  
  inflating: __MACOSX/cats_and_dogs/train/cats/._cat.501.jpg  
  inflating: cats_and_dogs/train/cats/cat.267.jpg  
  inflating: __MACOSX/cats_and_dogs/train/cats/._cat.267.jpg  
  inflating: cats_and_dogs/train/cats/cat.273.jpg  
  inflating: __MACOSX/cats_and_dogs/train/cats/._cat.273.jpg  
  inflating: cats_and_dogs/train/cats/cat.515.jpg  
  inflating: __MACOSX/cats_and_dogs/train/cats/._cat.515.jpg  
  inflating: cats_and_dogs/train/cats/cat.529.jpg  
  inflating: __MACOSX/cats_and_dogs/train/cats/._cat.529.jpg  
  inflating: cats_and_dogs/train/cats/cat.298.jpg  
  inflating: __MACOSX/cats_and_dogs/train/cats/._cat.298.jpg  
  inflating: cats_and_dogs/train/cats/cat.703.jpg  
  inflating: __MACOSX/cats_and_dogs/train/cats/._cat.703.jpg  
  inflating: cats_and_dogs/train/cats/cat.717.jpg  
  inflating: __MACOSX/cats_and_dogs/train/cats/._cat.717.jpg  
  inflating: cats_and_dogs/train/cats/cat.918.jpg  
  inflating: __MACOSX/cats_and_dogs/train/cats/._cat.918.jpg  
  inflating: cats_and_dogs/train/cats/cat.924.jpg  
  inflating: __MACOSX/cats_and_dogs/train/cats/._cat.924.jpg  
  inflating: cats_and_dogs/train/cats/cat.930.jpg  
  inflating: __MACOSX/cats_and_dogs/train/cats/._cat.930.jpg  
  inflating: cats_and_dogs/train/cats/cat.926.jpg  
  inflating: __MACOSX/cats_and_dogs/train/cats/._cat.926.jpg  
  inflating: cats_and_dogs/train/cats/cat.932.jpg  
  inflating: __MACOSX/cats_and_dogs/train/cats/._cat.932.jpg  
  inflating: cats_and_dogs/train/cats/cat.729.jpg  
  inflating: __MACOSX/cats_and_dogs/train/cats/._cat.729.jpg  
  inflating: cats_and_dogs/train/cats/cat.701.jpg  
  inflating: __MACOSX/cats_and_dogs/train/cats/._cat.701.jpg  
  inflating: cats_and_dogs/train/cats/cat.715.jpg  
  inflating: __MACOSX/cats_and_dogs/train/cats/._cat.715.jpg  
  inflating: cats_and_dogs/train/cats/cat.259.jpg  
  inflating: __MACOSX/cats_and_dogs/train/cats/._cat.259.jpg  
  inflating: cats_and_dogs/train/cats/cat.265.jpg  
  inflating: __MACOSX/cats_and_dogs/train/cats/._cat.265.jpg  
  inflating: cats_and_dogs/train/cats/cat.503.jpg  
  inflating: __MACOSX/cats_and_dogs/train/cats/._cat.503.jpg  
  inflating: cats_and_dogs/train/cats/cat.517.jpg  
  inflating: __MACOSX/cats_and_dogs/train/cats/._cat.517.jpg  
  inflating: cats_and_dogs/train/cats/cat.271.jpg  
  inflating: __MACOSX/cats_and_dogs/train/cats/._cat.271.jpg  
  inflating: cats_and_dogs/train/cats/cat.488.jpg  
  inflating: __MACOSX/cats_and_dogs/train/cats/._cat.488.jpg  
  inflating: cats_and_dogs/train/cats/cat.339.jpg  
  inflating: __MACOSX/cats_and_dogs/train/cats/._cat.339.jpg  
  inflating: cats_and_dogs/train/cats/cat.311.jpg  
  inflating: __MACOSX/cats_and_dogs/train/cats/._cat.311.jpg  
  inflating: cats_and_dogs/train/cats/cat.477.jpg  
  inflating: __MACOSX/cats_and_dogs/train/cats/._cat.477.jpg  
  inflating: cats_and_dogs/train/cats/cat.463.jpg  
  inflating: __MACOSX/cats_and_dogs/train/cats/._cat.463.jpg  
  inflating: cats_and_dogs/train/cats/cat.305.jpg  
  inflating: __MACOSX/cats_and_dogs/train/cats/._cat.305.jpg  
  inflating: cats_and_dogs/train/cats/cat.852.jpg  
  inflating: __MACOSX/cats_and_dogs/train/cats/._cat.852.jpg  
  inflating: cats_and_dogs/train/cats/cat.87.jpg  
  inflating: __MACOSX/cats_and_dogs/train/cats/._cat.87.jpg  
  inflating: cats_and_dogs/train/cats/cat.93.jpg  
  inflating: __MACOSX/cats_and_dogs/train/cats/._cat.93.jpg  
  inflating: cats_and_dogs/train/cats/cat.846.jpg  
  inflating: __MACOSX/cats_and_dogs/train/cats/._cat.846.jpg  
  inflating: cats_and_dogs/train/cats/cat.891.jpg  
  inflating: __MACOSX/cats_and_dogs/train/cats/._cat.891.jpg  
  inflating: cats_and_dogs/train/cats/cat.649.jpg  
  inflating: __MACOSX/cats_and_dogs/train/cats/._cat.649.jpg  
  inflating: cats_and_dogs/train/cats/cat.44.jpg  
  inflating: __MACOSX/cats_and_dogs/train/cats/._cat.44.jpg  
  inflating: cats_and_dogs/train/cats/cat.50.jpg  
  inflating: __MACOSX/cats_and_dogs/train/cats/._cat.50.jpg  
  inflating: cats_and_dogs/train/cats/cat.885.jpg  
  inflating: __MACOSX/cats_and_dogs/train/cats/._cat.885.jpg  
  inflating: cats_and_dogs/train/cats/cat.675.jpg  
  inflating: __MACOSX/cats_and_dogs/train/cats/._cat.675.jpg  
  inflating: cats_and_dogs/train/cats/cat.78.jpg  
  inflating: __MACOSX/cats_and_dogs/train/cats/._cat.78.jpg  
  inflating: cats_and_dogs/train/cats/cat.113.jpg  
  inflating: __MACOSX/cats_and_dogs/train/cats/._cat.113.jpg  
  inflating: cats_and_dogs/train/cats/cat.107.jpg  
  inflating: __MACOSX/cats_and_dogs/train/cats/._cat.107.jpg  
  inflating: cats_and_dogs/train/cats/cat.661.jpg  
  inflating: __MACOSX/cats_and_dogs/train/cats/._cat.661.jpg  
  inflating: cats_and_dogs/train/cats/cat.106.jpg  
  inflating: __MACOSX/cats_and_dogs/train/cats/._cat.106.jpg  
  inflating: cats_and_dogs/train/cats/cat.660.jpg  
  inflating: __MACOSX/cats_and_dogs/train/cats/._cat.660.jpg  
  inflating: cats_and_dogs/train/cats/cat.674.jpg  
  inflating: __MACOSX/cats_and_dogs/train/cats/._cat.674.jpg  
  inflating: cats_and_dogs/train/cats/cat.112.jpg  
  inflating: __MACOSX/cats_and_dogs/train/cats/._cat.112.jpg  
  inflating: cats_and_dogs/train/cats/cat.79.jpg  
  inflating: __MACOSX/cats_and_dogs/train/cats/._cat.79.jpg  
  inflating: cats_and_dogs/train/cats/cat.51.jpg  
  inflating: __MACOSX/cats_and_dogs/train/cats/._cat.51.jpg  
  inflating: cats_and_dogs/train/cats/cat.884.jpg  
  inflating: __MACOSX/cats_and_dogs/train/cats/._cat.884.jpg  
  inflating: cats_and_dogs/train/cats/cat.648.jpg  
  inflating: __MACOSX/cats_and_dogs/train/cats/._cat.648.jpg  
  inflating: cats_and_dogs/train/cats/cat.890.jpg  
  inflating: __MACOSX/cats_and_dogs/train/cats/._cat.890.jpg  
  inflating: cats_and_dogs/train/cats/cat.45.jpg  
  inflating: __MACOSX/cats_and_dogs/train/cats/._cat.45.jpg  
  inflating: cats_and_dogs/train/cats/cat.92.jpg  
  inflating: __MACOSX/cats_and_dogs/train/cats/._cat.92.jpg  
  inflating: cats_and_dogs/train/cats/cat.847.jpg  
  inflating: __MACOSX/cats_and_dogs/train/cats/._cat.847.jpg  
  inflating: cats_and_dogs/train/cats/cat.853.jpg  
  inflating: __MACOSX/cats_and_dogs/train/cats/._cat.853.jpg  
  inflating: cats_and_dogs/train/cats/cat.86.jpg  
  inflating: __MACOSX/cats_and_dogs/train/cats/._cat.86.jpg  
  inflating: cats_and_dogs/train/cats/cat.462.jpg  
  inflating: __MACOSX/cats_and_dogs/train/cats/._cat.462.jpg  
  inflating: cats_and_dogs/train/cats/cat.304.jpg  
  inflating: __MACOSX/cats_and_dogs/train/cats/._cat.304.jpg  
  inflating: cats_and_dogs/train/cats/cat.310.jpg  
  inflating: __MACOSX/cats_and_dogs/train/cats/._cat.310.jpg  
  inflating: cats_and_dogs/train/cats/cat.476.jpg  
  inflating: __MACOSX/cats_and_dogs/train/cats/._cat.476.jpg  
  inflating: cats_and_dogs/train/cats/cat.338.jpg  
  inflating: __MACOSX/cats_and_dogs/train/cats/._cat.338.jpg  
  inflating: cats_and_dogs/train/cats/cat.489.jpg  
  inflating: __MACOSX/cats_and_dogs/train/cats/._cat.489.jpg  
  inflating: cats_and_dogs/train/cats/cat.516.jpg  
  inflating: __MACOSX/cats_and_dogs/train/cats/._cat.516.jpg  
  inflating: cats_and_dogs/train/cats/cat.270.jpg  
  inflating: __MACOSX/cats_and_dogs/train/cats/._cat.270.jpg  
  inflating: cats_and_dogs/train/cats/cat.264.jpg  
  inflating: __MACOSX/cats_and_dogs/train/cats/._cat.264.jpg  
  inflating: cats_and_dogs/train/cats/cat.502.jpg  
  inflating: __MACOSX/cats_and_dogs/train/cats/._cat.502.jpg  
  inflating: cats_and_dogs/train/cats/cat.258.jpg  
  inflating: __MACOSX/cats_and_dogs/train/cats/._cat.258.jpg  
  inflating: cats_and_dogs/train/cats/cat.714.jpg  
  inflating: __MACOSX/cats_and_dogs/train/cats/._cat.714.jpg  
  inflating: cats_and_dogs/train/cats/cat.700.jpg  
  inflating: __MACOSX/cats_and_dogs/train/cats/._cat.700.jpg  
  inflating: cats_and_dogs/train/cats/cat.728.jpg  
  inflating: __MACOSX/cats_and_dogs/train/cats/._cat.728.jpg  
  inflating: cats_and_dogs/train/cats/cat.933.jpg  
  inflating: __MACOSX/cats_and_dogs/train/cats/._cat.933.jpg  
  inflating: cats_and_dogs/train/cats/cat.927.jpg  
  inflating: __MACOSX/cats_and_dogs/train/cats/._cat.927.jpg  
  inflating: cats_and_dogs/train/cats/cat.923.jpg  
  inflating: __MACOSX/cats_and_dogs/train/cats/._cat.923.jpg  
  inflating: cats_and_dogs/train/cats/cat.937.jpg  
  inflating: __MACOSX/cats_and_dogs/train/cats/._cat.937.jpg  
  inflating: cats_and_dogs/train/cats/cat.704.jpg  
  inflating: __MACOSX/cats_and_dogs/train/cats/._cat.704.jpg  
  inflating: cats_and_dogs/train/cats/cat.710.jpg  
  inflating: __MACOSX/cats_and_dogs/train/cats/._cat.710.jpg  
  inflating: cats_and_dogs/train/cats/cat.738.jpg  
  inflating: __MACOSX/cats_and_dogs/train/cats/._cat.738.jpg  
  inflating: cats_and_dogs/train/cats/cat.506.jpg  
  inflating: __MACOSX/cats_and_dogs/train/cats/._cat.506.jpg  
  inflating: cats_and_dogs/train/cats/cat.260.jpg  
  inflating: __MACOSX/cats_and_dogs/train/cats/._cat.260.jpg  
  inflating: cats_and_dogs/train/cats/cat.274.jpg  
  inflating: __MACOSX/cats_and_dogs/train/cats/._cat.274.jpg  
  inflating: cats_and_dogs/train/cats/cat.512.jpg  
  inflating: __MACOSX/cats_and_dogs/train/cats/._cat.512.jpg  
  inflating: cats_and_dogs/train/cats/cat.248.jpg  
  inflating: __MACOSX/cats_and_dogs/train/cats/._cat.248.jpg  
  inflating: cats_and_dogs/train/cats/cat.499.jpg  
  inflating: __MACOSX/cats_and_dogs/train/cats/._cat.499.jpg  
  inflating: cats_and_dogs/train/cats/cat.472.jpg  
  inflating: __MACOSX/cats_and_dogs/train/cats/._cat.472.jpg  
  inflating: cats_and_dogs/train/cats/cat.314.jpg  
  inflating: __MACOSX/cats_and_dogs/train/cats/._cat.314.jpg  
  inflating: cats_and_dogs/train/cats/cat.300.jpg  
  inflating: __MACOSX/cats_and_dogs/train/cats/._cat.300.jpg  
  inflating: cats_and_dogs/train/cats/cat.466.jpg  
  inflating: __MACOSX/cats_and_dogs/train/cats/._cat.466.jpg  
  inflating: cats_and_dogs/train/cats/cat.328.jpg  
  inflating: __MACOSX/cats_and_dogs/train/cats/._cat.328.jpg  
  inflating: cats_and_dogs/train/cats/cat.82.jpg  
  inflating: __MACOSX/cats_and_dogs/train/cats/._cat.82.jpg  
  inflating: cats_and_dogs/train/cats/cat.857.jpg  
  inflating: __MACOSX/cats_and_dogs/train/cats/._cat.857.jpg  
  inflating: cats_and_dogs/train/cats/cat.843.jpg  
  inflating: __MACOSX/cats_and_dogs/train/cats/._cat.843.jpg  
  inflating: cats_and_dogs/train/cats/cat.96.jpg  
  inflating: __MACOSX/cats_and_dogs/train/cats/._cat.96.jpg  
  inflating: cats_and_dogs/train/cats/cat.116.jpg  
  inflating: __MACOSX/cats_and_dogs/train/cats/._cat.116.jpg  
  inflating: cats_and_dogs/train/cats/cat.670.jpg  
  inflating: __MACOSX/cats_and_dogs/train/cats/._cat.670.jpg  
  inflating: cats_and_dogs/train/cats/cat.664.jpg  
  inflating: __MACOSX/cats_and_dogs/train/cats/._cat.664.jpg  
  inflating: cats_and_dogs/train/cats/cat.69.jpg  
  inflating: __MACOSX/cats_and_dogs/train/cats/._cat.69.jpg  
  inflating: cats_and_dogs/train/cats/cat.102.jpg  
  inflating: __MACOSX/cats_and_dogs/train/cats/._cat.102.jpg  
  inflating: cats_and_dogs/train/cats/cat.41.jpg  
  inflating: __MACOSX/cats_and_dogs/train/cats/._cat.41.jpg  
  inflating: cats_and_dogs/train/cats/cat.894.jpg  
  inflating: __MACOSX/cats_and_dogs/train/cats/._cat.894.jpg  
  inflating: cats_and_dogs/train/cats/cat.880.jpg  
  inflating: __MACOSX/cats_and_dogs/train/cats/._cat.880.jpg  
  inflating: cats_and_dogs/train/cats/cat.658.jpg  
  inflating: __MACOSX/cats_and_dogs/train/cats/._cat.658.jpg  
  inflating: cats_and_dogs/train/cats/cat.55.jpg  
  inflating: __MACOSX/cats_and_dogs/train/cats/._cat.55.jpg  
  inflating: cats_and_dogs/train/cats/cat.659.jpg  
  inflating: __MACOSX/cats_and_dogs/train/cats/._cat.659.jpg  
  inflating: cats_and_dogs/train/cats/cat.881.jpg  
  inflating: __MACOSX/cats_and_dogs/train/cats/._cat.881.jpg  
  inflating: cats_and_dogs/train/cats/cat.54.jpg  
  inflating: __MACOSX/cats_and_dogs/train/cats/._cat.54.jpg  
  inflating: cats_and_dogs/train/cats/cat.40.jpg  
  inflating: __MACOSX/cats_and_dogs/train/cats/._cat.40.jpg  
  inflating: cats_and_dogs/train/cats/cat.895.jpg  
  inflating: __MACOSX/cats_and_dogs/train/cats/._cat.895.jpg  
  inflating: cats_and_dogs/train/cats/cat.665.jpg  
  inflating: __MACOSX/cats_and_dogs/train/cats/._cat.665.jpg  
  inflating: cats_and_dogs/train/cats/cat.103.jpg  
  inflating: __MACOSX/cats_and_dogs/train/cats/._cat.103.jpg  
  inflating: cats_and_dogs/train/cats/cat.68.jpg  
  inflating: __MACOSX/cats_and_dogs/train/cats/._cat.68.jpg  
  inflating: cats_and_dogs/train/cats/cat.117.jpg  
  inflating: __MACOSX/cats_and_dogs/train/cats/._cat.117.jpg  
  inflating: cats_and_dogs/train/cats/cat.671.jpg  
  inflating: __MACOSX/cats_and_dogs/train/cats/._cat.671.jpg  
  inflating: cats_and_dogs/train/cats/cat.842.jpg  
  inflating: __MACOSX/cats_and_dogs/train/cats/._cat.842.jpg  
  inflating: cats_and_dogs/train/cats/cat.97.jpg  
  inflating: __MACOSX/cats_and_dogs/train/cats/._cat.97.jpg  
  inflating: cats_and_dogs/train/cats/cat.83.jpg  
  inflating: __MACOSX/cats_and_dogs/train/cats/._cat.83.jpg  
  inflating: cats_and_dogs/train/cats/cat.856.jpg  
  inflating: __MACOSX/cats_and_dogs/train/cats/._cat.856.jpg  
  inflating: cats_and_dogs/train/cats/cat.329.jpg  
  inflating: __MACOSX/cats_and_dogs/train/cats/._cat.329.jpg  
  inflating: cats_and_dogs/train/cats/cat.301.jpg  
  inflating: __MACOSX/cats_and_dogs/train/cats/._cat.301.jpg  
  inflating: cats_and_dogs/train/cats/cat.467.jpg  
  inflating: __MACOSX/cats_and_dogs/train/cats/._cat.467.jpg  
  inflating: cats_and_dogs/train/cats/cat.473.jpg  
  inflating: __MACOSX/cats_and_dogs/train/cats/._cat.473.jpg  
  inflating: cats_and_dogs/train/cats/cat.315.jpg  
  inflating: __MACOSX/cats_and_dogs/train/cats/._cat.315.jpg  
  inflating: cats_and_dogs/train/cats/cat.498.jpg  
  inflating: __MACOSX/cats_and_dogs/train/cats/._cat.498.jpg  
  inflating: cats_and_dogs/train/cats/cat.249.jpg  
  inflating: __MACOSX/cats_and_dogs/train/cats/._cat.249.jpg  
  inflating: cats_and_dogs/train/cats/cat.275.jpg  
  inflating: __MACOSX/cats_and_dogs/train/cats/._cat.275.jpg  
  inflating: cats_and_dogs/train/cats/cat.513.jpg  
  inflating: __MACOSX/cats_and_dogs/train/cats/._cat.513.jpg  
  inflating: cats_and_dogs/train/cats/cat.507.jpg  
  inflating: __MACOSX/cats_and_dogs/train/cats/._cat.507.jpg  
  inflating: cats_and_dogs/train/cats/cat.261.jpg  
  inflating: __MACOSX/cats_and_dogs/train/cats/._cat.261.jpg  
  inflating: cats_and_dogs/train/cats/cat.739.jpg  
  inflating: __MACOSX/cats_and_dogs/train/cats/._cat.739.jpg  
  inflating: cats_and_dogs/train/cats/cat.711.jpg  
  inflating: __MACOSX/cats_and_dogs/train/cats/._cat.711.jpg  
  inflating: cats_and_dogs/train/cats/cat.705.jpg  
  inflating: __MACOSX/cats_and_dogs/train/cats/._cat.705.jpg  
  inflating: cats_and_dogs/train/cats/cat.936.jpg  
  inflating: __MACOSX/cats_and_dogs/train/cats/._cat.936.jpg  
  inflating: cats_and_dogs/train/cats/cat.922.jpg  
  inflating: __MACOSX/cats_and_dogs/train/cats/._cat.922.jpg  
  inflating: cats_and_dogs/train/cats/cat.908.jpg  
  inflating: __MACOSX/cats_and_dogs/train/cats/._cat.908.jpg  
  inflating: cats_and_dogs/train/cats/cat.934.jpg  
  inflating: __MACOSX/cats_and_dogs/train/cats/._cat.934.jpg  
  inflating: cats_and_dogs/train/cats/cat.920.jpg  
  inflating: __MACOSX/cats_and_dogs/train/cats/._cat.920.jpg  
  inflating: cats_and_dogs/train/cats/cat.713.jpg  
  inflating: __MACOSX/cats_and_dogs/train/cats/._cat.713.jpg  
  inflating: cats_and_dogs/train/cats/cat.707.jpg  
  inflating: __MACOSX/cats_and_dogs/train/cats/._cat.707.jpg  
  inflating: cats_and_dogs/train/cats/cat.288.jpg  
  inflating: __MACOSX/cats_and_dogs/train/cats/._cat.288.jpg  
  inflating: cats_and_dogs/train/cats/cat.511.jpg  
  inflating: __MACOSX/cats_and_dogs/train/cats/._cat.511.jpg  
  inflating: cats_and_dogs/train/cats/cat.277.jpg  
  inflating: __MACOSX/cats_and_dogs/train/cats/._cat.277.jpg  
  inflating: cats_and_dogs/train/cats/cat.263.jpg  
  inflating: __MACOSX/cats_and_dogs/train/cats/._cat.263.jpg  
  inflating: cats_and_dogs/train/cats/cat.505.jpg  
  inflating: __MACOSX/cats_and_dogs/train/cats/._cat.505.jpg  
  inflating: cats_and_dogs/train/cats/cat.539.jpg  
  inflating: __MACOSX/cats_and_dogs/train/cats/._cat.539.jpg  
  inflating: cats_and_dogs/train/cats/cat.465.jpg  
  inflating: __MACOSX/cats_and_dogs/train/cats/._cat.465.jpg  
  inflating: cats_and_dogs/train/cats/cat.303.jpg  
  inflating: __MACOSX/cats_and_dogs/train/cats/._cat.303.jpg  
  inflating: cats_and_dogs/train/cats/cat.317.jpg  
  inflating: __MACOSX/cats_and_dogs/train/cats/._cat.317.jpg  
  inflating: cats_and_dogs/train/cats/cat.471.jpg  
  inflating: __MACOSX/cats_and_dogs/train/cats/._cat.471.jpg  
  inflating: cats_and_dogs/train/cats/cat.459.jpg  
  inflating: __MACOSX/cats_and_dogs/train/cats/._cat.459.jpg  
  inflating: cats_and_dogs/train/cats/cat.868.jpg  
  inflating: __MACOSX/cats_and_dogs/train/cats/._cat.868.jpg  
  inflating: cats_and_dogs/train/cats/cat.95.jpg  
  inflating: __MACOSX/cats_and_dogs/train/cats/._cat.95.jpg  
  inflating: cats_and_dogs/train/cats/cat.698.jpg  
  inflating: __MACOSX/cats_and_dogs/train/cats/._cat.698.jpg  
  inflating: cats_and_dogs/train/cats/cat.840.jpg  
  inflating: __MACOSX/cats_and_dogs/train/cats/._cat.840.jpg  
  inflating: cats_and_dogs/train/cats/cat.854.jpg  
  inflating: __MACOSX/cats_and_dogs/train/cats/._cat.854.jpg  
  inflating: cats_and_dogs/train/cats/cat.81.jpg  
  inflating: __MACOSX/cats_and_dogs/train/cats/._cat.81.jpg  
  inflating: cats_and_dogs/train/cats/cat.101.jpg  
  inflating: __MACOSX/cats_and_dogs/train/cats/._cat.101.jpg  
  inflating: cats_and_dogs/train/cats/cat.667.jpg  
  inflating: __MACOSX/cats_and_dogs/train/cats/._cat.667.jpg  
  inflating: cats_and_dogs/train/cats/cat.673.jpg  
  inflating: __MACOSX/cats_and_dogs/train/cats/._cat.673.jpg  
  inflating: cats_and_dogs/train/cats/cat.115.jpg  
  inflating: __MACOSX/cats_and_dogs/train/cats/._cat.115.jpg  
  inflating: cats_and_dogs/train/cats/cat.56.jpg  
  inflating: __MACOSX/cats_and_dogs/train/cats/._cat.56.jpg  
  inflating: cats_and_dogs/train/cats/cat.883.jpg  
  inflating: __MACOSX/cats_and_dogs/train/cats/._cat.883.jpg  
  inflating: cats_and_dogs/train/cats/cat.897.jpg  
  inflating: __MACOSX/cats_and_dogs/train/cats/._cat.897.jpg  
  inflating: cats_and_dogs/train/cats/cat.42.jpg  
  inflating: __MACOSX/cats_and_dogs/train/cats/._cat.42.jpg  
  inflating: cats_and_dogs/train/cats/cat.129.jpg  
  inflating: __MACOSX/cats_and_dogs/train/cats/._cat.129.jpg  
  inflating: cats_and_dogs/train/cats/cat.896.jpg  
  inflating: __MACOSX/cats_and_dogs/train/cats/._cat.896.jpg  
  inflating: cats_and_dogs/train/cats/cat.128.jpg  
  inflating: __MACOSX/cats_and_dogs/train/cats/._cat.128.jpg  
  inflating: cats_and_dogs/train/cats/cat.43.jpg  
  inflating: __MACOSX/cats_and_dogs/train/cats/._cat.43.jpg  
  inflating: cats_and_dogs/train/cats/cat.57.jpg  
  inflating: __MACOSX/cats_and_dogs/train/cats/._cat.57.jpg  
  inflating: cats_and_dogs/train/cats/cat.882.jpg  
  inflating: __MACOSX/cats_and_dogs/train/cats/._cat.882.jpg  
  inflating: cats_and_dogs/train/cats/cat.672.jpg  
  inflating: __MACOSX/cats_and_dogs/train/cats/._cat.672.jpg  
  inflating: cats_and_dogs/train/cats/cat.114.jpg  
  inflating: __MACOSX/cats_and_dogs/train/cats/._cat.114.jpg  
  inflating: cats_and_dogs/train/cats/cat.100.jpg  
  inflating: __MACOSX/cats_and_dogs/train/cats/._cat.100.jpg  
  inflating: cats_and_dogs/train/cats/cat.666.jpg  
  inflating: __MACOSX/cats_and_dogs/train/cats/._cat.666.jpg  
  inflating: cats_and_dogs/train/cats/cat.855.jpg  
  inflating: __MACOSX/cats_and_dogs/train/cats/._cat.855.jpg  
  inflating: cats_and_dogs/train/cats/cat.80.jpg  
  inflating: __MACOSX/cats_and_dogs/train/cats/._cat.80.jpg  
  inflating: cats_and_dogs/train/cats/cat.94.jpg  
  inflating: __MACOSX/cats_and_dogs/train/cats/._cat.94.jpg  
  inflating: cats_and_dogs/train/cats/cat.841.jpg  
  inflating: __MACOSX/cats_and_dogs/train/cats/._cat.841.jpg  
  inflating: cats_and_dogs/train/cats/cat.699.jpg  
  inflating: __MACOSX/cats_and_dogs/train/cats/._cat.699.jpg  
  inflating: cats_and_dogs/train/cats/cat.869.jpg  
  inflating: __MACOSX/cats_and_dogs/train/cats/._cat.869.jpg  
  inflating: cats_and_dogs/train/cats/cat.458.jpg  
  inflating: __MACOSX/cats_and_dogs/train/cats/._cat.458.jpg  
  inflating: cats_and_dogs/train/cats/cat.316.jpg  
  inflating: __MACOSX/cats_and_dogs/train/cats/._cat.316.jpg  
  inflating: cats_and_dogs/train/cats/cat.470.jpg  
  inflating: __MACOSX/cats_and_dogs/train/cats/._cat.470.jpg  
  inflating: cats_and_dogs/train/cats/cat.464.jpg  
  inflating: __MACOSX/cats_and_dogs/train/cats/._cat.464.jpg  
  inflating: cats_and_dogs/train/cats/cat.302.jpg  
  inflating: __MACOSX/cats_and_dogs/train/cats/._cat.302.jpg  
  inflating: cats_and_dogs/train/cats/cat.538.jpg  
  inflating: __MACOSX/cats_and_dogs/train/cats/._cat.538.jpg  
  inflating: cats_and_dogs/train/cats/cat.262.jpg  
  inflating: __MACOSX/cats_and_dogs/train/cats/._cat.262.jpg  
  inflating: cats_and_dogs/train/cats/cat.504.jpg  
  inflating: __MACOSX/cats_and_dogs/train/cats/._cat.504.jpg  
  inflating: cats_and_dogs/train/cats/cat.510.jpg  
  inflating: __MACOSX/cats_and_dogs/train/cats/._cat.510.jpg  
  inflating: cats_and_dogs/train/cats/cat.276.jpg  
  inflating: __MACOSX/cats_and_dogs/train/cats/._cat.276.jpg  
  inflating: cats_and_dogs/train/cats/cat.289.jpg  
  inflating: __MACOSX/cats_and_dogs/train/cats/._cat.289.jpg  
  inflating: cats_and_dogs/train/cats/cat.706.jpg  
  inflating: __MACOSX/cats_and_dogs/train/cats/._cat.706.jpg  
  inflating: cats_and_dogs/train/cats/cat.712.jpg  
  inflating: __MACOSX/cats_and_dogs/train/cats/._cat.712.jpg  
  inflating: cats_and_dogs/train/cats/cat.921.jpg  
  inflating: __MACOSX/cats_and_dogs/train/cats/._cat.921.jpg  
  inflating: cats_and_dogs/train/cats/cat.935.jpg  
  inflating: __MACOSX/cats_and_dogs/train/cats/._cat.935.jpg  
  inflating: cats_and_dogs/train/cats/cat.909.jpg  
  inflating: __MACOSX/cats_and_dogs/train/cats/._cat.909.jpg  
  inflating: cats_and_dogs/train/cats/cat.910.jpg  
  inflating: __MACOSX/cats_and_dogs/train/cats/._cat.910.jpg  
  inflating: cats_and_dogs/train/cats/cat.904.jpg  
  inflating: __MACOSX/cats_and_dogs/train/cats/._cat.904.jpg  
  inflating: cats_and_dogs/train/cats/cat.938.jpg  
  inflating: __MACOSX/cats_and_dogs/train/cats/._cat.938.jpg  
  inflating: cats_and_dogs/train/cats/cat.737.jpg  
  inflating: __MACOSX/cats_and_dogs/train/cats/._cat.737.jpg  
  inflating: cats_and_dogs/train/cats/cat.723.jpg  
  inflating: __MACOSX/cats_and_dogs/train/cats/._cat.723.jpg  
  inflating: cats_and_dogs/train/cats/cat.290.jpg  
  inflating: __MACOSX/cats_and_dogs/train/cats/._cat.290.jpg  
  inflating: cats_and_dogs/train/cats/cat.284.jpg  
  inflating: __MACOSX/cats_and_dogs/train/cats/._cat.284.jpg  
  inflating: cats_and_dogs/train/cats/cat.509.jpg  
  inflating: __MACOSX/cats_and_dogs/train/cats/._cat.509.jpg  
  inflating: cats_and_dogs/train/cats/cat.253.jpg  
  inflating: __MACOSX/cats_and_dogs/train/cats/._cat.253.jpg  
  inflating: cats_and_dogs/train/cats/cat.535.jpg  
  inflating: __MACOSX/cats_and_dogs/train/cats/._cat.535.jpg  
  inflating: cats_and_dogs/train/cats/cat.521.jpg  
  inflating: __MACOSX/cats_and_dogs/train/cats/._cat.521.jpg  
  inflating: cats_and_dogs/train/cats/cat.247.jpg  
  inflating: __MACOSX/cats_and_dogs/train/cats/._cat.247.jpg  
  inflating: cats_and_dogs/train/cats/cat.482.jpg  
  inflating: __MACOSX/cats_and_dogs/train/cats/._cat.482.jpg  
  inflating: cats_and_dogs/train/cats/cat.496.jpg  
  inflating: __MACOSX/cats_and_dogs/train/cats/._cat.496.jpg  
  inflating: cats_and_dogs/train/cats/cat.469.jpg  
  inflating: __MACOSX/cats_and_dogs/train/cats/._cat.469.jpg  
  inflating: cats_and_dogs/train/cats/cat.327.jpg  
  inflating: __MACOSX/cats_and_dogs/train/cats/._cat.327.jpg  
  inflating: cats_and_dogs/train/cats/cat.441.jpg  
  inflating: __MACOSX/cats_and_dogs/train/cats/._cat.441.jpg  
  inflating: cats_and_dogs/train/cats/cat.455.jpg  
  inflating: __MACOSX/cats_and_dogs/train/cats/._cat.455.jpg  
  inflating: cats_and_dogs/train/cats/cat.333.jpg  
  inflating: __MACOSX/cats_and_dogs/train/cats/._cat.333.jpg  
  inflating: cats_and_dogs/train/cats/cat.864.jpg  
  inflating: __MACOSX/cats_and_dogs/train/cats/._cat.864.jpg  
  inflating: cats_and_dogs/train/cats/cat.870.jpg  
  inflating: __MACOSX/cats_and_dogs/train/cats/._cat.870.jpg  
  inflating: cats_and_dogs/train/cats/cat.680.jpg  
  inflating: __MACOSX/cats_and_dogs/train/cats/._cat.680.jpg  
  inflating: cats_and_dogs/train/cats/cat.858.jpg  
  inflating: __MACOSX/cats_and_dogs/train/cats/._cat.858.jpg  
  inflating: cats_and_dogs/train/cats/cat.99.jpg  
  inflating: __MACOSX/cats_and_dogs/train/cats/._cat.99.jpg  
  inflating: cats_and_dogs/train/cats/cat.694.jpg  
  inflating: __MACOSX/cats_and_dogs/train/cats/._cat.694.jpg  
  inflating: cats_and_dogs/train/cats/cat.72.jpg  
  inflating: __MACOSX/cats_and_dogs/train/cats/._cat.72.jpg  
  inflating: cats_and_dogs/train/cats/cat.119.jpg  
  inflating: __MACOSX/cats_and_dogs/train/cats/._cat.119.jpg  
  inflating: cats_and_dogs/train/cats/cat.66.jpg  
  inflating: __MACOSX/cats_and_dogs/train/cats/._cat.66.jpg  
  inflating: cats_and_dogs/train/cats/cat.643.jpg  
  inflating: __MACOSX/cats_and_dogs/train/cats/._cat.643.jpg  
  inflating: cats_and_dogs/train/cats/cat.125.jpg  
  inflating: __MACOSX/cats_and_dogs/train/cats/._cat.125.jpg  
  inflating: cats_and_dogs/train/cats/cat.131.jpg  
  inflating: __MACOSX/cats_and_dogs/train/cats/._cat.131.jpg  
  inflating: cats_and_dogs/train/cats/cat.657.jpg  
  inflating: __MACOSX/cats_and_dogs/train/cats/._cat.657.jpg  
  inflating: cats_and_dogs/train/cats/cat.130.jpg  
  inflating: __MACOSX/cats_and_dogs/train/cats/._cat.130.jpg  
  inflating: cats_and_dogs/train/cats/cat.656.jpg  
  inflating: __MACOSX/cats_and_dogs/train/cats/._cat.656.jpg  
  inflating: cats_and_dogs/train/cats/cat.642.jpg  
  inflating: __MACOSX/cats_and_dogs/train/cats/._cat.642.jpg  
  inflating: cats_and_dogs/train/cats/cat.124.jpg  
  inflating: __MACOSX/cats_and_dogs/train/cats/._cat.124.jpg  
  inflating: cats_and_dogs/train/cats/cat.67.jpg  
  inflating: __MACOSX/cats_and_dogs/train/cats/._cat.67.jpg  
  inflating: cats_and_dogs/train/cats/cat.118.jpg  
  inflating: __MACOSX/cats_and_dogs/train/cats/._cat.118.jpg  
  inflating: cats_and_dogs/train/cats/cat.73.jpg  
  inflating: __MACOSX/cats_and_dogs/train/cats/._cat.73.jpg  
  inflating: cats_and_dogs/train/cats/cat.98.jpg  
  inflating: __MACOSX/cats_and_dogs/train/cats/._cat.98.jpg  
  inflating: cats_and_dogs/train/cats/cat.695.jpg  
  inflating: __MACOSX/cats_and_dogs/train/cats/._cat.695.jpg  
  inflating: cats_and_dogs/train/cats/cat.859.jpg  
  inflating: __MACOSX/cats_and_dogs/train/cats/._cat.859.jpg  
  inflating: cats_and_dogs/train/cats/cat.681.jpg  
  inflating: __MACOSX/cats_and_dogs/train/cats/._cat.681.jpg  
  inflating: cats_and_dogs/train/cats/cat.871.jpg  
  inflating: __MACOSX/cats_and_dogs/train/cats/._cat.871.jpg  
  inflating: cats_and_dogs/train/cats/cat.865.jpg  
  inflating: __MACOSX/cats_and_dogs/train/cats/._cat.865.jpg  
  inflating: cats_and_dogs/train/cats/cat.454.jpg  
  inflating: __MACOSX/cats_and_dogs/train/cats/._cat.454.jpg  
  inflating: cats_and_dogs/train/cats/cat.332.jpg  
  inflating: __MACOSX/cats_and_dogs/train/cats/._cat.332.jpg  
  inflating: cats_and_dogs/train/cats/cat.326.jpg  
  inflating: __MACOSX/cats_and_dogs/train/cats/._cat.326.jpg  
  inflating: cats_and_dogs/train/cats/cat.440.jpg  
  inflating: __MACOSX/cats_and_dogs/train/cats/._cat.440.jpg  
  inflating: cats_and_dogs/train/cats/cat.468.jpg  
  inflating: __MACOSX/cats_and_dogs/train/cats/._cat.468.jpg  
  inflating: cats_and_dogs/train/cats/cat.497.jpg  
  inflating: __MACOSX/cats_and_dogs/train/cats/._cat.497.jpg  
  inflating: cats_and_dogs/train/cats/cat.483.jpg  
  inflating: __MACOSX/cats_and_dogs/train/cats/._cat.483.jpg  
  inflating: cats_and_dogs/train/cats/cat.520.jpg  
  inflating: __MACOSX/cats_and_dogs/train/cats/._cat.520.jpg  
  inflating: cats_and_dogs/train/cats/cat.246.jpg  
  inflating: __MACOSX/cats_and_dogs/train/cats/._cat.246.jpg  
  inflating: cats_and_dogs/train/cats/cat.252.jpg  
  inflating: __MACOSX/cats_and_dogs/train/cats/._cat.252.jpg  
  inflating: cats_and_dogs/train/cats/cat.534.jpg  
  inflating: __MACOSX/cats_and_dogs/train/cats/._cat.534.jpg  
  inflating: cats_and_dogs/train/cats/cat.508.jpg  
  inflating: __MACOSX/cats_and_dogs/train/cats/._cat.508.jpg  
  inflating: cats_and_dogs/train/cats/cat.285.jpg  
  inflating: __MACOSX/cats_and_dogs/train/cats/._cat.285.jpg  
  inflating: cats_and_dogs/train/cats/cat.291.jpg  
  inflating: __MACOSX/cats_and_dogs/train/cats/._cat.291.jpg  
  inflating: cats_and_dogs/train/cats/cat.722.jpg  
  inflating: __MACOSX/cats_and_dogs/train/cats/._cat.722.jpg  
  inflating: cats_and_dogs/train/cats/cat.736.jpg  
  inflating: __MACOSX/cats_and_dogs/train/cats/._cat.736.jpg  
  inflating: cats_and_dogs/train/cats/cat.939.jpg  
  inflating: __MACOSX/cats_and_dogs/train/cats/._cat.939.jpg  
  inflating: cats_and_dogs/train/cats/cat.905.jpg  
  inflating: __MACOSX/cats_and_dogs/train/cats/._cat.905.jpg  
  inflating: cats_and_dogs/train/cats/cat.911.jpg  
  inflating: __MACOSX/cats_and_dogs/train/cats/._cat.911.jpg  
  inflating: cats_and_dogs/train/cats/cat.907.jpg  
  inflating: __MACOSX/cats_and_dogs/train/cats/._cat.907.jpg  
  inflating: cats_and_dogs/train/cats/cat.913.jpg  
  inflating: __MACOSX/cats_and_dogs/train/cats/._cat.913.jpg  
  inflating: cats_and_dogs/train/cats/cat.708.jpg  
  inflating: __MACOSX/cats_and_dogs/train/cats/._cat.708.jpg  
  inflating: cats_and_dogs/train/cats/cat.720.jpg  
  inflating: __MACOSX/cats_and_dogs/train/cats/._cat.720.jpg  
  inflating: cats_and_dogs/train/cats/cat.734.jpg  
  inflating: __MACOSX/cats_and_dogs/train/cats/._cat.734.jpg  
  inflating: cats_and_dogs/train/cats/cat.287.jpg  
  inflating: __MACOSX/cats_and_dogs/train/cats/._cat.287.jpg  
  inflating: cats_and_dogs/train/cats/cat.293.jpg  
  inflating: __MACOSX/cats_and_dogs/train/cats/._cat.293.jpg  
  inflating: cats_and_dogs/train/cats/cat.278.jpg  
  inflating: __MACOSX/cats_and_dogs/train/cats/._cat.278.jpg  
  inflating: cats_and_dogs/train/cats/cat.244.jpg  
  inflating: __MACOSX/cats_and_dogs/train/cats/._cat.244.jpg  
  inflating: cats_and_dogs/train/cats/cat.522.jpg  
  inflating: __MACOSX/cats_and_dogs/train/cats/._cat.522.jpg  
  inflating: cats_and_dogs/train/cats/cat.536.jpg  
  inflating: __MACOSX/cats_and_dogs/train/cats/._cat.536.jpg  
  inflating: cats_and_dogs/train/cats/cat.250.jpg  
  inflating: __MACOSX/cats_and_dogs/train/cats/._cat.250.jpg  
  inflating: cats_and_dogs/train/cats/cat.495.jpg  
  inflating: __MACOSX/cats_and_dogs/train/cats/._cat.495.jpg  
  inflating: cats_and_dogs/train/cats/cat.481.jpg  
  inflating: __MACOSX/cats_and_dogs/train/cats/._cat.481.jpg  
  inflating: cats_and_dogs/train/cats/cat.318.jpg  
  inflating: __MACOSX/cats_and_dogs/train/cats/._cat.318.jpg  
  inflating: cats_and_dogs/train/cats/cat.330.jpg  
  inflating: __MACOSX/cats_and_dogs/train/cats/._cat.330.jpg  
  inflating: cats_and_dogs/train/cats/cat.456.jpg  
  inflating: __MACOSX/cats_and_dogs/train/cats/._cat.456.jpg  
  inflating: cats_and_dogs/train/cats/cat.442.jpg  
  inflating: __MACOSX/cats_and_dogs/train/cats/._cat.442.jpg  
  inflating: cats_and_dogs/train/cats/cat.324.jpg  
  inflating: __MACOSX/cats_and_dogs/train/cats/._cat.324.jpg  
  inflating: cats_and_dogs/train/cats/cat.873.jpg  
  inflating: __MACOSX/cats_and_dogs/train/cats/._cat.873.jpg  
  inflating: cats_and_dogs/train/cats/cat.867.jpg  
  inflating: __MACOSX/cats_and_dogs/train/cats/._cat.867.jpg  
  inflating: cats_and_dogs/train/cats/cat.697.jpg  
  inflating: __MACOSX/cats_and_dogs/train/cats/._cat.697.jpg  
  inflating: cats_and_dogs/train/cats/cat.683.jpg  
  inflating: __MACOSX/cats_and_dogs/train/cats/._cat.683.jpg  
  inflating: cats_and_dogs/train/cats/cat.668.jpg  
  inflating: __MACOSX/cats_and_dogs/train/cats/._cat.668.jpg  
  inflating: cats_and_dogs/train/cats/cat.65.jpg  
  inflating: __MACOSX/cats_and_dogs/train/cats/._cat.65.jpg  
  inflating: cats_and_dogs/train/cats/cat.71.jpg  
  inflating: __MACOSX/cats_and_dogs/train/cats/._cat.71.jpg  
  inflating: cats_and_dogs/train/cats/cat.654.jpg  
  inflating: __MACOSX/cats_and_dogs/train/cats/._cat.654.jpg  
  inflating: cats_and_dogs/train/cats/cat.59.jpg  
  inflating: __MACOSX/cats_and_dogs/train/cats/._cat.59.jpg  
  inflating: cats_and_dogs/train/cats/cat.132.jpg  
  inflating: __MACOSX/cats_and_dogs/train/cats/._cat.132.jpg  
  inflating: cats_and_dogs/train/cats/cat.126.jpg  
  inflating: __MACOSX/cats_and_dogs/train/cats/._cat.126.jpg  
  inflating: cats_and_dogs/train/cats/cat.898.jpg  
  inflating: __MACOSX/cats_and_dogs/train/cats/._cat.898.jpg  
  inflating: cats_and_dogs/train/cats/cat.640.jpg  
  inflating: __MACOSX/cats_and_dogs/train/cats/._cat.640.jpg  
  inflating: cats_and_dogs/train/cats/cat.127.jpg  
  inflating: __MACOSX/cats_and_dogs/train/cats/._cat.127.jpg  
  inflating: cats_and_dogs/train/cats/cat.641.jpg  
  inflating: __MACOSX/cats_and_dogs/train/cats/._cat.641.jpg  
  inflating: cats_and_dogs/train/cats/cat.899.jpg  
  inflating: __MACOSX/cats_and_dogs/train/cats/._cat.899.jpg  
  inflating: cats_and_dogs/train/cats/cat.655.jpg  
  inflating: __MACOSX/cats_and_dogs/train/cats/._cat.655.jpg  
  inflating: cats_and_dogs/train/cats/cat.133.jpg  
  inflating: __MACOSX/cats_and_dogs/train/cats/._cat.133.jpg  
  inflating: cats_and_dogs/train/cats/cat.58.jpg  
  inflating: __MACOSX/cats_and_dogs/train/cats/._cat.58.jpg  
  inflating: cats_and_dogs/train/cats/cat.70.jpg  
  inflating: __MACOSX/cats_and_dogs/train/cats/._cat.70.jpg  
  inflating: cats_and_dogs/train/cats/cat.669.jpg  
  inflating: __MACOSX/cats_and_dogs/train/cats/._cat.669.jpg  
  inflating: cats_and_dogs/train/cats/cat.64.jpg  
  inflating: __MACOSX/cats_and_dogs/train/cats/._cat.64.jpg  
  inflating: cats_and_dogs/train/cats/cat.682.jpg  
  inflating: __MACOSX/cats_and_dogs/train/cats/._cat.682.jpg  
  inflating: cats_and_dogs/train/cats/cat.696.jpg  
  inflating: __MACOSX/cats_and_dogs/train/cats/._cat.696.jpg  
  inflating: cats_and_dogs/train/cats/cat.866.jpg  
  inflating: __MACOSX/cats_and_dogs/train/cats/._cat.866.jpg  
  inflating: cats_and_dogs/train/cats/cat.872.jpg  
  inflating: __MACOSX/cats_and_dogs/train/cats/._cat.872.jpg  
  inflating: cats_and_dogs/train/cats/cat.443.jpg  
  inflating: __MACOSX/cats_and_dogs/train/cats/._cat.443.jpg  
  inflating: cats_and_dogs/train/cats/cat.325.jpg  
  inflating: __MACOSX/cats_and_dogs/train/cats/._cat.325.jpg  
  inflating: cats_and_dogs/train/cats/cat.331.jpg  
  inflating: __MACOSX/cats_and_dogs/train/cats/._cat.331.jpg  
  inflating: cats_and_dogs/train/cats/cat.457.jpg  
  inflating: __MACOSX/cats_and_dogs/train/cats/._cat.457.jpg  
  inflating: cats_and_dogs/train/cats/cat.319.jpg  
  inflating: __MACOSX/cats_and_dogs/train/cats/._cat.319.jpg  
  inflating: cats_and_dogs/train/cats/cat.480.jpg  
  inflating: __MACOSX/cats_and_dogs/train/cats/._cat.480.jpg  
  inflating: cats_and_dogs/train/cats/cat.494.jpg  
  inflating: __MACOSX/cats_and_dogs/train/cats/._cat.494.jpg  
  inflating: cats_and_dogs/train/cats/cat.537.jpg  
  inflating: __MACOSX/cats_and_dogs/train/cats/._cat.537.jpg  
  inflating: cats_and_dogs/train/cats/cat.251.jpg  
  inflating: __MACOSX/cats_and_dogs/train/cats/._cat.251.jpg  
  inflating: cats_and_dogs/train/cats/cat.245.jpg  
  inflating: __MACOSX/cats_and_dogs/train/cats/._cat.245.jpg  
  inflating: cats_and_dogs/train/cats/cat.523.jpg  
  inflating: __MACOSX/cats_and_dogs/train/cats/._cat.523.jpg  
  inflating: cats_and_dogs/train/cats/cat.279.jpg  
  inflating: __MACOSX/cats_and_dogs/train/cats/._cat.279.jpg  
  inflating: cats_and_dogs/train/cats/cat.292.jpg  
  inflating: __MACOSX/cats_and_dogs/train/cats/._cat.292.jpg  
  inflating: cats_and_dogs/train/cats/cat.286.jpg  
  inflating: __MACOSX/cats_and_dogs/train/cats/._cat.286.jpg  
  inflating: cats_and_dogs/train/cats/cat.735.jpg  
  inflating: __MACOSX/cats_and_dogs/train/cats/._cat.735.jpg  
  inflating: cats_and_dogs/train/cats/cat.721.jpg  
  inflating: __MACOSX/cats_and_dogs/train/cats/._cat.721.jpg  
  inflating: cats_and_dogs/train/cats/cat.709.jpg  
  inflating: __MACOSX/cats_and_dogs/train/cats/._cat.709.jpg  
  inflating: cats_and_dogs/train/cats/cat.912.jpg  
  inflating: __MACOSX/cats_and_dogs/train/cats/._cat.912.jpg  
  inflating: cats_and_dogs/train/cats/cat.906.jpg  
  inflating: __MACOSX/cats_and_dogs/train/cats/._cat.906.jpg  
  inflating: cats_and_dogs/train/cats/cat.902.jpg  
  inflating: __MACOSX/cats_and_dogs/train/cats/._cat.902.jpg  
  inflating: cats_and_dogs/train/cats/cat.916.jpg  
  inflating: __MACOSX/cats_and_dogs/train/cats/._cat.916.jpg  
  inflating: cats_and_dogs/train/cats/cat.725.jpg  
  inflating: __MACOSX/cats_and_dogs/train/cats/._cat.725.jpg  
  inflating: cats_and_dogs/train/cats/cat.731.jpg  
  inflating: __MACOSX/cats_and_dogs/train/cats/._cat.731.jpg  
  inflating: cats_and_dogs/train/cats/cat.719.jpg  
  inflating: __MACOSX/cats_and_dogs/train/cats/._cat.719.jpg  
  inflating: cats_and_dogs/train/cats/cat.282.jpg  
  inflating: __MACOSX/cats_and_dogs/train/cats/._cat.282.jpg  
  inflating: cats_and_dogs/train/cats/cat.296.jpg  
  inflating: __MACOSX/cats_and_dogs/train/cats/._cat.296.jpg  
  inflating: cats_and_dogs/train/cats/cat.527.jpg  
  inflating: __MACOSX/cats_and_dogs/train/cats/._cat.527.jpg  
  inflating: cats_and_dogs/train/cats/cat.241.jpg  
  inflating: __MACOSX/cats_and_dogs/train/cats/._cat.241.jpg  
  inflating: cats_and_dogs/train/cats/cat.255.jpg  
  inflating: __MACOSX/cats_and_dogs/train/cats/._cat.255.jpg  
  inflating: cats_and_dogs/train/cats/cat.533.jpg  
  inflating: __MACOSX/cats_and_dogs/train/cats/._cat.533.jpg  
  inflating: cats_and_dogs/train/cats/cat.269.jpg  
  inflating: __MACOSX/cats_and_dogs/train/cats/._cat.269.jpg  
  inflating: cats_and_dogs/train/cats/cat.490.jpg  
  inflating: __MACOSX/cats_and_dogs/train/cats/._cat.490.jpg  
  inflating: cats_and_dogs/train/cats/cat.484.jpg  
  inflating: __MACOSX/cats_and_dogs/train/cats/._cat.484.jpg  
  inflating: cats_and_dogs/train/cats/cat.453.jpg  
  inflating: __MACOSX/cats_and_dogs/train/cats/._cat.453.jpg  
  inflating: cats_and_dogs/train/cats/cat.335.jpg  
  inflating: __MACOSX/cats_and_dogs/train/cats/._cat.335.jpg  
  inflating: cats_and_dogs/train/cats/cat.321.jpg  
  inflating: __MACOSX/cats_and_dogs/train/cats/._cat.321.jpg  
  inflating: cats_and_dogs/train/cats/cat.447.jpg  
  inflating: __MACOSX/cats_and_dogs/train/cats/._cat.447.jpg  
  inflating: cats_and_dogs/train/cats/cat.309.jpg  
  inflating: __MACOSX/cats_and_dogs/train/cats/._cat.309.jpg  
  inflating: cats_and_dogs/train/cats/cat.692.jpg  
  inflating: __MACOSX/cats_and_dogs/train/cats/._cat.692.jpg  
  inflating: cats_and_dogs/train/cats/cat.686.jpg  
  inflating: __MACOSX/cats_and_dogs/train/cats/._cat.686.jpg  
  inflating: cats_and_dogs/train/cats/cat.876.jpg  
  inflating: __MACOSX/cats_and_dogs/train/cats/._cat.876.jpg  
  inflating: cats_and_dogs/train/cats/cat.862.jpg  
  inflating: __MACOSX/cats_and_dogs/train/cats/._cat.862.jpg  
  inflating: cats_and_dogs/train/cats/cat.137.jpg  
  inflating: __MACOSX/cats_and_dogs/train/cats/._cat.137.jpg  
  inflating: cats_and_dogs/train/cats/cat.889.jpg  
  inflating: __MACOSX/cats_and_dogs/train/cats/._cat.889.jpg  
  inflating: cats_and_dogs/train/cats/cat.651.jpg  
  inflating: __MACOSX/cats_and_dogs/train/cats/._cat.651.jpg  
  inflating: cats_and_dogs/train/cats/cat.645.jpg  
  inflating: __MACOSX/cats_and_dogs/train/cats/._cat.645.jpg  
  inflating: cats_and_dogs/train/cats/cat.48.jpg  
  inflating: __MACOSX/cats_and_dogs/train/cats/._cat.48.jpg  
  inflating: cats_and_dogs/train/cats/cat.123.jpg  
  inflating: __MACOSX/cats_and_dogs/train/cats/._cat.123.jpg  
  inflating: cats_and_dogs/train/cats/cat.60.jpg  
  inflating: __MACOSX/cats_and_dogs/train/cats/._cat.60.jpg  
  inflating: cats_and_dogs/train/cats/cat.679.jpg  
  inflating: __MACOSX/cats_and_dogs/train/cats/._cat.679.jpg  
  inflating: cats_and_dogs/train/cats/cat.74.jpg  
  inflating: __MACOSX/cats_and_dogs/train/cats/._cat.74.jpg  
  inflating: cats_and_dogs/train/cats/cat.678.jpg  
  inflating: __MACOSX/cats_and_dogs/train/cats/._cat.678.jpg  
  inflating: cats_and_dogs/train/cats/cat.75.jpg  
  inflating: __MACOSX/cats_and_dogs/train/cats/._cat.75.jpg  
  inflating: cats_and_dogs/train/cats/cat.61.jpg  
  inflating: __MACOSX/cats_and_dogs/train/cats/._cat.61.jpg  
  inflating: cats_and_dogs/train/cats/cat.644.jpg  
  inflating: __MACOSX/cats_and_dogs/train/cats/._cat.644.jpg  
  inflating: cats_and_dogs/train/cats/cat.122.jpg  
  inflating: __MACOSX/cats_and_dogs/train/cats/._cat.122.jpg  
  inflating: cats_and_dogs/train/cats/cat.49.jpg  
  inflating: __MACOSX/cats_and_dogs/train/cats/._cat.49.jpg  
  inflating: cats_and_dogs/train/cats/cat.136.jpg  
  inflating: __MACOSX/cats_and_dogs/train/cats/._cat.136.jpg  
  inflating: cats_and_dogs/train/cats/cat.650.jpg  
  inflating: __MACOSX/cats_and_dogs/train/cats/._cat.650.jpg  
  inflating: cats_and_dogs/train/cats/cat.888.jpg  
  inflating: __MACOSX/cats_and_dogs/train/cats/._cat.888.jpg  
  inflating: cats_and_dogs/train/cats/cat.863.jpg  
  inflating: __MACOSX/cats_and_dogs/train/cats/._cat.863.jpg  
  inflating: cats_and_dogs/train/cats/cat.877.jpg  
  inflating: __MACOSX/cats_and_dogs/train/cats/._cat.877.jpg  
  inflating: cats_and_dogs/train/cats/cat.687.jpg  
  inflating: __MACOSX/cats_and_dogs/train/cats/._cat.687.jpg  
  inflating: cats_and_dogs/train/cats/cat.693.jpg  
  inflating: __MACOSX/cats_and_dogs/train/cats/._cat.693.jpg  
  inflating: cats_and_dogs/train/cats/cat.308.jpg  
  inflating: __MACOSX/cats_and_dogs/train/cats/._cat.308.jpg  
  inflating: cats_and_dogs/train/cats/cat.320.jpg  
  inflating: __MACOSX/cats_and_dogs/train/cats/._cat.320.jpg  
  inflating: cats_and_dogs/train/cats/cat.446.jpg  
  inflating: __MACOSX/cats_and_dogs/train/cats/._cat.446.jpg  
  inflating: cats_and_dogs/train/cats/cat.452.jpg  
  inflating: __MACOSX/cats_and_dogs/train/cats/._cat.452.jpg  
  inflating: cats_and_dogs/train/cats/cat.334.jpg  
  inflating: __MACOSX/cats_and_dogs/train/cats/._cat.334.jpg  
  inflating: cats_and_dogs/train/cats/cat.485.jpg  
  inflating: __MACOSX/cats_and_dogs/train/cats/._cat.485.jpg  
  inflating: cats_and_dogs/train/cats/cat.491.jpg  
  inflating: __MACOSX/cats_and_dogs/train/cats/._cat.491.jpg  
  inflating: cats_and_dogs/train/cats/cat.268.jpg  
  inflating: __MACOSX/cats_and_dogs/train/cats/._cat.268.jpg  
  inflating: cats_and_dogs/train/cats/cat.254.jpg  
  inflating: __MACOSX/cats_and_dogs/train/cats/._cat.254.jpg  
  inflating: cats_and_dogs/train/cats/cat.532.jpg  
  inflating: __MACOSX/cats_and_dogs/train/cats/._cat.532.jpg  
  inflating: cats_and_dogs/train/cats/cat.526.jpg  
  inflating: __MACOSX/cats_and_dogs/train/cats/._cat.526.jpg  
  inflating: cats_and_dogs/train/cats/cat.240.jpg  
  inflating: __MACOSX/cats_and_dogs/train/cats/._cat.240.jpg  
  inflating: cats_and_dogs/train/cats/cat.297.jpg  
  inflating: __MACOSX/cats_and_dogs/train/cats/._cat.297.jpg  
  inflating: cats_and_dogs/train/cats/cat.283.jpg  
  inflating: __MACOSX/cats_and_dogs/train/cats/._cat.283.jpg  
  inflating: cats_and_dogs/train/cats/cat.718.jpg  
  inflating: __MACOSX/cats_and_dogs/train/cats/._cat.718.jpg  
  inflating: cats_and_dogs/train/cats/cat.730.jpg  
  inflating: __MACOSX/cats_and_dogs/train/cats/._cat.730.jpg  
  inflating: cats_and_dogs/train/cats/cat.724.jpg  
  inflating: __MACOSX/cats_and_dogs/train/cats/._cat.724.jpg  
  inflating: cats_and_dogs/train/cats/cat.917.jpg  
  inflating: __MACOSX/cats_and_dogs/train/cats/._cat.917.jpg  
  inflating: cats_and_dogs/train/cats/cat.903.jpg  
  inflating: __MACOSX/cats_and_dogs/train/cats/._cat.903.jpg  
  inflating: cats_and_dogs/train/cats/cat.929.jpg  
  inflating: __MACOSX/cats_and_dogs/train/cats/._cat.929.jpg  
  inflating: cats_and_dogs/train/cats/cat.915.jpg  
  inflating: __MACOSX/cats_and_dogs/train/cats/._cat.915.jpg  
  inflating: cats_and_dogs/train/cats/cat.901.jpg  
  inflating: __MACOSX/cats_and_dogs/train/cats/._cat.901.jpg  
  inflating: cats_and_dogs/train/cats/cat.732.jpg  
  inflating: __MACOSX/cats_and_dogs/train/cats/._cat.732.jpg  
  inflating: cats_and_dogs/train/cats/cat.726.jpg  
  inflating: __MACOSX/cats_and_dogs/train/cats/._cat.726.jpg  
  inflating: cats_and_dogs/train/cats/cat.295.jpg  
  inflating: __MACOSX/cats_and_dogs/train/cats/._cat.295.jpg  
  inflating: cats_and_dogs/train/cats/cat.281.jpg  
  inflating: __MACOSX/cats_and_dogs/train/cats/._cat.281.jpg  
  inflating: cats_and_dogs/train/cats/cat.530.jpg  
  inflating: __MACOSX/cats_and_dogs/train/cats/._cat.530.jpg  
  inflating: cats_and_dogs/train/cats/cat.256.jpg  
  inflating: __MACOSX/cats_and_dogs/train/cats/._cat.256.jpg  
  inflating: cats_and_dogs/train/cats/cat.242.jpg  
  inflating: __MACOSX/cats_and_dogs/train/cats/._cat.242.jpg  
  inflating: cats_and_dogs/train/cats/cat.524.jpg  
  inflating: __MACOSX/cats_and_dogs/train/cats/._cat.524.jpg  
  inflating: cats_and_dogs/train/cats/cat.518.jpg  
  inflating: __MACOSX/cats_and_dogs/train/cats/._cat.518.jpg  
  inflating: cats_and_dogs/train/cats/cat.487.jpg  
  inflating: __MACOSX/cats_and_dogs/train/cats/._cat.487.jpg  
  inflating: cats_and_dogs/train/cats/cat.493.jpg  
  inflating: __MACOSX/cats_and_dogs/train/cats/._cat.493.jpg  
  inflating: cats_and_dogs/train/cats/cat.444.jpg  
  inflating: __MACOSX/cats_and_dogs/train/cats/._cat.444.jpg  
  inflating: cats_and_dogs/train/cats/cat.322.jpg  
  inflating: __MACOSX/cats_and_dogs/train/cats/._cat.322.jpg  
  inflating: cats_and_dogs/train/cats/cat.336.jpg  
  inflating: __MACOSX/cats_and_dogs/train/cats/._cat.336.jpg  
  inflating: cats_and_dogs/train/cats/cat.450.jpg  
  inflating: __MACOSX/cats_and_dogs/train/cats/._cat.450.jpg  
  inflating: cats_and_dogs/train/cats/cat.478.jpg  
  inflating: __MACOSX/cats_and_dogs/train/cats/._cat.478.jpg  
  inflating: cats_and_dogs/train/cats/cat.88.jpg  
  inflating: __MACOSX/cats_and_dogs/train/cats/._cat.88.jpg  
  inflating: cats_and_dogs/train/cats/cat.685.jpg  
  inflating: __MACOSX/cats_and_dogs/train/cats/._cat.685.jpg  
  inflating: cats_and_dogs/train/cats/cat.691.jpg  
  inflating: __MACOSX/cats_and_dogs/train/cats/._cat.691.jpg  
  inflating: cats_and_dogs/train/cats/cat.849.jpg  
  inflating: __MACOSX/cats_and_dogs/train/cats/._cat.849.jpg  
  inflating: cats_and_dogs/train/cats/cat.861.jpg  
  inflating: __MACOSX/cats_and_dogs/train/cats/._cat.861.jpg  
  inflating: cats_and_dogs/train/cats/cat.875.jpg  
  inflating: __MACOSX/cats_and_dogs/train/cats/._cat.875.jpg  
  inflating: cats_and_dogs/train/cats/cat.120.jpg  
  inflating: __MACOSX/cats_and_dogs/train/cats/._cat.120.jpg  
  inflating: cats_and_dogs/train/cats/cat.646.jpg  
  inflating: __MACOSX/cats_and_dogs/train/cats/._cat.646.jpg  
  inflating: cats_and_dogs/train/cats/cat.652.jpg  
  inflating: __MACOSX/cats_and_dogs/train/cats/._cat.652.jpg  
  inflating: cats_and_dogs/train/cats/cat.134.jpg  
  inflating: __MACOSX/cats_and_dogs/train/cats/._cat.134.jpg  
  inflating: cats_and_dogs/train/cats/cat.77.jpg  
  inflating: __MACOSX/cats_and_dogs/train/cats/._cat.77.jpg  
  inflating: cats_and_dogs/train/cats/cat.63.jpg  
  inflating: __MACOSX/cats_and_dogs/train/cats/._cat.63.jpg  
  inflating: cats_and_dogs/train/cats/cat.108.jpg  
  inflating: __MACOSX/cats_and_dogs/train/cats/._cat.108.jpg  
  inflating: cats_and_dogs/train/cats/cat.109.jpg  
  inflating: __MACOSX/cats_and_dogs/train/cats/._cat.109.jpg  
  inflating: cats_and_dogs/train/cats/cat.62.jpg  
  inflating: __MACOSX/cats_and_dogs/train/cats/._cat.62.jpg  
  inflating: cats_and_dogs/train/cats/cat.76.jpg  
  inflating: __MACOSX/cats_and_dogs/train/cats/._cat.76.jpg  
  inflating: cats_and_dogs/train/cats/cat.653.jpg  
  inflating: __MACOSX/cats_and_dogs/train/cats/._cat.653.jpg  
  inflating: cats_and_dogs/train/cats/cat.135.jpg  
  inflating: __MACOSX/cats_and_dogs/train/cats/._cat.135.jpg  
  inflating: cats_and_dogs/train/cats/cat.121.jpg  
  inflating: __MACOSX/cats_and_dogs/train/cats/._cat.121.jpg  
  inflating: cats_and_dogs/train/cats/cat.647.jpg  
  inflating: __MACOSX/cats_and_dogs/train/cats/._cat.647.jpg  
  inflating: cats_and_dogs/train/cats/cat.874.jpg  
  inflating: __MACOSX/cats_and_dogs/train/cats/._cat.874.jpg  
  inflating: cats_and_dogs/train/cats/cat.860.jpg  
  inflating: __MACOSX/cats_and_dogs/train/cats/._cat.860.jpg  
  inflating: cats_and_dogs/train/cats/cat.848.jpg  
  inflating: __MACOSX/cats_and_dogs/train/cats/._cat.848.jpg  
  inflating: cats_and_dogs/train/cats/cat.690.jpg  
  inflating: __MACOSX/cats_and_dogs/train/cats/._cat.690.jpg  
  inflating: cats_and_dogs/train/cats/cat.89.jpg  
  inflating: __MACOSX/cats_and_dogs/train/cats/._cat.89.jpg  
  inflating: cats_and_dogs/train/cats/cat.684.jpg  
  inflating: __MACOSX/cats_and_dogs/train/cats/._cat.684.jpg  
  inflating: cats_and_dogs/train/cats/cat.479.jpg  
  inflating: __MACOSX/cats_and_dogs/train/cats/._cat.479.jpg  
  inflating: cats_and_dogs/train/cats/cat.337.jpg  
  inflating: __MACOSX/cats_and_dogs/train/cats/._cat.337.jpg  
  inflating: cats_and_dogs/train/cats/cat.451.jpg  
  inflating: __MACOSX/cats_and_dogs/train/cats/._cat.451.jpg  
  inflating: cats_and_dogs/train/cats/cat.445.jpg  
  inflating: __MACOSX/cats_and_dogs/train/cats/._cat.445.jpg  
  inflating: cats_and_dogs/train/cats/cat.323.jpg  
  inflating: __MACOSX/cats_and_dogs/train/cats/._cat.323.jpg  
  inflating: cats_and_dogs/train/cats/cat.492.jpg  
  inflating: __MACOSX/cats_and_dogs/train/cats/._cat.492.jpg  
  inflating: cats_and_dogs/train/cats/cat.486.jpg  
  inflating: __MACOSX/cats_and_dogs/train/cats/._cat.486.jpg  
  inflating: cats_and_dogs/train/cats/cat.519.jpg  
  inflating: __MACOSX/cats_and_dogs/train/cats/._cat.519.jpg  
  inflating: cats_and_dogs/train/cats/cat.243.jpg  
  inflating: __MACOSX/cats_and_dogs/train/cats/._cat.243.jpg  
  inflating: cats_and_dogs/train/cats/cat.525.jpg  
  inflating: __MACOSX/cats_and_dogs/train/cats/._cat.525.jpg  
  inflating: cats_and_dogs/train/cats/cat.531.jpg  
  inflating: __MACOSX/cats_and_dogs/train/cats/._cat.531.jpg  
  inflating: cats_and_dogs/train/cats/cat.257.jpg  
  inflating: __MACOSX/cats_and_dogs/train/cats/._cat.257.jpg  
  inflating: cats_and_dogs/train/cats/cat.280.jpg  
  inflating: __MACOSX/cats_and_dogs/train/cats/._cat.280.jpg  
  inflating: cats_and_dogs/train/cats/cat.294.jpg  
  inflating: __MACOSX/cats_and_dogs/train/cats/._cat.294.jpg  
  inflating: cats_and_dogs/train/cats/cat.727.jpg  
  inflating: __MACOSX/cats_and_dogs/train/cats/._cat.727.jpg  
  inflating: cats_and_dogs/train/cats/cat.733.jpg  
  inflating: __MACOSX/cats_and_dogs/train/cats/._cat.733.jpg  
  inflating: cats_and_dogs/train/cats/cat.900.jpg  
  inflating: __MACOSX/cats_and_dogs/train/cats/._cat.900.jpg  
  inflating: cats_and_dogs/train/cats/cat.914.jpg  
  inflating: __MACOSX/cats_and_dogs/train/cats/._cat.914.jpg  
  inflating: cats_and_dogs/train/cats/cat.928.jpg  
  inflating: __MACOSX/cats_and_dogs/train/cats/._cat.928.jpg  
  inflating: cats_and_dogs/train/cats/cat.973.jpg  
  inflating: __MACOSX/cats_and_dogs/train/cats/._cat.973.jpg  
  inflating: cats_and_dogs/train/cats/cat.967.jpg  
  inflating: __MACOSX/cats_and_dogs/train/cats/._cat.967.jpg  
  inflating: cats_and_dogs/train/cats/cat.797.jpg  
  inflating: __MACOSX/cats_and_dogs/train/cats/._cat.797.jpg  
  inflating: cats_and_dogs/train/cats/cat.783.jpg  
  inflating: __MACOSX/cats_and_dogs/train/cats/._cat.783.jpg  
  inflating: cats_and_dogs/train/cats/cat.768.jpg  
  inflating: __MACOSX/cats_and_dogs/train/cats/._cat.768.jpg  
  inflating: cats_and_dogs/train/cats/cat.754.jpg  
  inflating: __MACOSX/cats_and_dogs/train/cats/._cat.754.jpg  
  inflating: cats_and_dogs/train/cats/cat.740.jpg  
  inflating: __MACOSX/cats_and_dogs/train/cats/._cat.740.jpg  
  inflating: cats_and_dogs/train/cats/cat.998.jpg  
  inflating: __MACOSX/cats_and_dogs/train/cats/._cat.998.jpg  
  inflating: cats_and_dogs/train/cats/cat.595.jpg  
  inflating: __MACOSX/cats_and_dogs/train/cats/._cat.595.jpg  
  inflating: cats_and_dogs/train/cats/cat.581.jpg  
  inflating: __MACOSX/cats_and_dogs/train/cats/._cat.581.jpg  
  inflating: cats_and_dogs/train/cats/cat.218.jpg  
  inflating: __MACOSX/cats_and_dogs/train/cats/._cat.218.jpg  
  inflating: cats_and_dogs/train/cats/cat.556.jpg  
  inflating: __MACOSX/cats_and_dogs/train/cats/._cat.556.jpg  
  inflating: cats_and_dogs/train/cats/cat.230.jpg  
  inflating: __MACOSX/cats_and_dogs/train/cats/._cat.230.jpg  
  inflating: cats_and_dogs/train/cats/cat.224.jpg  
  inflating: __MACOSX/cats_and_dogs/train/cats/._cat.224.jpg  
  inflating: cats_and_dogs/train/cats/cat.542.jpg  
  inflating: __MACOSX/cats_and_dogs/train/cats/._cat.542.jpg  
  inflating: cats_and_dogs/train/cats/cat.387.jpg  
  inflating: __MACOSX/cats_and_dogs/train/cats/._cat.387.jpg  
  inflating: cats_and_dogs/train/cats/cat.393.jpg  
  inflating: __MACOSX/cats_and_dogs/train/cats/._cat.393.jpg  
  inflating: cats_and_dogs/train/cats/cat.378.jpg  
  inflating: __MACOSX/cats_and_dogs/train/cats/._cat.378.jpg  
  inflating: cats_and_dogs/train/cats/cat.422.jpg  
  inflating: __MACOSX/cats_and_dogs/train/cats/._cat.422.jpg  
  inflating: cats_and_dogs/train/cats/cat.344.jpg  
  inflating: __MACOSX/cats_and_dogs/train/cats/._cat.344.jpg  
  inflating: cats_and_dogs/train/cats/cat.350.jpg  
  inflating: __MACOSX/cats_and_dogs/train/cats/._cat.350.jpg  
  inflating: cats_and_dogs/train/cats/cat.436.jpg  
  inflating: __MACOSX/cats_and_dogs/train/cats/._cat.436.jpg  
  inflating: cats_and_dogs/train/cats/cat.807.jpg  
  inflating: __MACOSX/cats_and_dogs/train/cats/._cat.807.jpg  
  inflating: cats_and_dogs/train/cats/cat.813.jpg  
  inflating: __MACOSX/cats_and_dogs/train/cats/._cat.813.jpg  
  inflating: cats_and_dogs/train/cats/cat.185.jpg  
  inflating: __MACOSX/cats_and_dogs/train/cats/._cat.185.jpg  
  inflating: cats_and_dogs/train/cats/cat.191.jpg  
  inflating: __MACOSX/cats_and_dogs/train/cats/._cat.191.jpg  
  inflating: cats_and_dogs/train/cats/cat.11.jpg  
  inflating: __MACOSX/cats_and_dogs/train/cats/._cat.11.jpg  
  inflating: cats_and_dogs/train/cats/cat.608.jpg  
  inflating: __MACOSX/cats_and_dogs/train/cats/._cat.608.jpg  
  inflating: cats_and_dogs/train/cats/cat.146.jpg  
  inflating: __MACOSX/cats_and_dogs/train/cats/._cat.146.jpg  
  inflating: cats_and_dogs/train/cats/cat.620.jpg  
  inflating: __MACOSX/cats_and_dogs/train/cats/._cat.620.jpg  
  inflating: cats_and_dogs/train/cats/cat.634.jpg  
  inflating: __MACOSX/cats_and_dogs/train/cats/._cat.634.jpg  
  inflating: cats_and_dogs/train/cats/cat.39.jpg  
  inflating: __MACOSX/cats_and_dogs/train/cats/._cat.39.jpg  
  inflating: cats_and_dogs/train/cats/cat.152.jpg  
  inflating: __MACOSX/cats_and_dogs/train/cats/._cat.152.jpg  
  inflating: cats_and_dogs/train/cats/cat.635.jpg  
  inflating: __MACOSX/cats_and_dogs/train/cats/._cat.635.jpg  
  inflating: cats_and_dogs/train/cats/cat.153.jpg  
  inflating: __MACOSX/cats_and_dogs/train/cats/._cat.153.jpg  
  inflating: cats_and_dogs/train/cats/cat.38.jpg  
  inflating: __MACOSX/cats_and_dogs/train/cats/._cat.38.jpg  
  inflating: cats_and_dogs/train/cats/cat.147.jpg  
  inflating: __MACOSX/cats_and_dogs/train/cats/._cat.147.jpg  
  inflating: cats_and_dogs/train/cats/cat.621.jpg  
  inflating: __MACOSX/cats_and_dogs/train/cats/._cat.621.jpg  
  inflating: cats_and_dogs/train/cats/cat.609.jpg  
  inflating: __MACOSX/cats_and_dogs/train/cats/._cat.609.jpg  
  inflating: cats_and_dogs/train/cats/cat.10.jpg  
  inflating: __MACOSX/cats_and_dogs/train/cats/._cat.10.jpg  
  inflating: cats_and_dogs/train/cats/cat.190.jpg  
  inflating: __MACOSX/cats_and_dogs/train/cats/._cat.190.jpg  
  inflating: cats_and_dogs/train/cats/cat.184.jpg  
  inflating: __MACOSX/cats_and_dogs/train/cats/._cat.184.jpg  
  inflating: cats_and_dogs/train/cats/cat.812.jpg  
  inflating: __MACOSX/cats_and_dogs/train/cats/._cat.812.jpg  
  inflating: cats_and_dogs/train/cats/cat.806.jpg  
  inflating: __MACOSX/cats_and_dogs/train/cats/._cat.806.jpg  
  inflating: cats_and_dogs/train/cats/cat.351.jpg  
  inflating: __MACOSX/cats_and_dogs/train/cats/._cat.351.jpg  
  inflating: cats_and_dogs/train/cats/cat.437.jpg  
  inflating: __MACOSX/cats_and_dogs/train/cats/._cat.437.jpg  
  inflating: cats_and_dogs/train/cats/cat.423.jpg  
  inflating: __MACOSX/cats_and_dogs/train/cats/._cat.423.jpg  
  inflating: cats_and_dogs/train/cats/cat.345.jpg  
  inflating: __MACOSX/cats_and_dogs/train/cats/._cat.345.jpg  
  inflating: cats_and_dogs/train/cats/cat.379.jpg  
  inflating: __MACOSX/cats_and_dogs/train/cats/._cat.379.jpg  
  inflating: cats_and_dogs/train/cats/cat.392.jpg  
  inflating: __MACOSX/cats_and_dogs/train/cats/._cat.392.jpg  
  inflating: cats_and_dogs/train/cats/cat.386.jpg  
  inflating: __MACOSX/cats_and_dogs/train/cats/._cat.386.jpg  
  inflating: cats_and_dogs/train/cats/cat.225.jpg  
  inflating: __MACOSX/cats_and_dogs/train/cats/._cat.225.jpg  
  inflating: cats_and_dogs/train/cats/cat.543.jpg  
  inflating: __MACOSX/cats_and_dogs/train/cats/._cat.543.jpg  
  inflating: cats_and_dogs/train/cats/cat.557.jpg  
  inflating: __MACOSX/cats_and_dogs/train/cats/._cat.557.jpg  
  inflating: cats_and_dogs/train/cats/cat.231.jpg  
  inflating: __MACOSX/cats_and_dogs/train/cats/._cat.231.jpg  
  inflating: cats_and_dogs/train/cats/cat.219.jpg  
  inflating: __MACOSX/cats_and_dogs/train/cats/._cat.219.jpg  
  inflating: cats_and_dogs/train/cats/cat.580.jpg  
  inflating: __MACOSX/cats_and_dogs/train/cats/._cat.580.jpg  
  inflating: cats_and_dogs/train/cats/cat.594.jpg  
  inflating: __MACOSX/cats_and_dogs/train/cats/._cat.594.jpg  
  inflating: cats_and_dogs/train/cats/cat.999.jpg  
  inflating: __MACOSX/cats_and_dogs/train/cats/._cat.999.jpg  
  inflating: cats_and_dogs/train/cats/cat.741.jpg  
  inflating: __MACOSX/cats_and_dogs/train/cats/._cat.741.jpg  
  inflating: cats_and_dogs/train/cats/cat.755.jpg  
  inflating: __MACOSX/cats_and_dogs/train/cats/._cat.755.jpg  
  inflating: cats_and_dogs/train/cats/cat.769.jpg  
  inflating: __MACOSX/cats_and_dogs/train/cats/._cat.769.jpg  
  inflating: cats_and_dogs/train/cats/cat.782.jpg  
  inflating: __MACOSX/cats_and_dogs/train/cats/._cat.782.jpg  
  inflating: cats_and_dogs/train/cats/cat.796.jpg  
  inflating: __MACOSX/cats_and_dogs/train/cats/._cat.796.jpg  
  inflating: cats_and_dogs/train/cats/cat.966.jpg  
  inflating: __MACOSX/cats_and_dogs/train/cats/._cat.966.jpg  
  inflating: cats_and_dogs/train/cats/cat.972.jpg  
  inflating: __MACOSX/cats_and_dogs/train/cats/._cat.972.jpg  
  inflating: cats_and_dogs/train/cats/cat.964.jpg  
  inflating: __MACOSX/cats_and_dogs/train/cats/._cat.964.jpg  
  inflating: cats_and_dogs/train/cats/cat.970.jpg  
  inflating: __MACOSX/cats_and_dogs/train/cats/._cat.970.jpg  
  inflating: cats_and_dogs/train/cats/cat.958.jpg  
  inflating: __MACOSX/cats_and_dogs/train/cats/._cat.958.jpg  
  inflating: cats_and_dogs/train/cats/cat.780.jpg  
  inflating: __MACOSX/cats_and_dogs/train/cats/._cat.780.jpg  
  inflating: cats_and_dogs/train/cats/cat.794.jpg  
  inflating: __MACOSX/cats_and_dogs/train/cats/._cat.794.jpg  
  inflating: cats_and_dogs/train/cats/cat.743.jpg  
  inflating: __MACOSX/cats_and_dogs/train/cats/._cat.743.jpg  
  inflating: cats_and_dogs/train/cats/cat.757.jpg  
  inflating: __MACOSX/cats_and_dogs/train/cats/._cat.757.jpg  
  inflating: cats_and_dogs/train/cats/cat.582.jpg  
  inflating: __MACOSX/cats_and_dogs/train/cats/._cat.582.jpg  
  inflating: cats_and_dogs/train/cats/cat.596.jpg  
  inflating: __MACOSX/cats_and_dogs/train/cats/._cat.596.jpg  
  inflating: cats_and_dogs/train/cats/cat.569.jpg  
  inflating: __MACOSX/cats_and_dogs/train/cats/._cat.569.jpg  
  inflating: cats_and_dogs/train/cats/cat.541.jpg  
  inflating: __MACOSX/cats_and_dogs/train/cats/._cat.541.jpg  
  inflating: cats_and_dogs/train/cats/cat.227.jpg  
  inflating: __MACOSX/cats_and_dogs/train/cats/._cat.227.jpg  
  inflating: cats_and_dogs/train/cats/cat.233.jpg  
  inflating: __MACOSX/cats_and_dogs/train/cats/._cat.233.jpg  
  inflating: cats_and_dogs/train/cats/cat.555.jpg  
  inflating: __MACOSX/cats_and_dogs/train/cats/._cat.555.jpg  
  inflating: cats_and_dogs/train/cats/cat.390.jpg  
  inflating: __MACOSX/cats_and_dogs/train/cats/._cat.390.jpg  
  inflating: cats_and_dogs/train/cats/cat.384.jpg  
  inflating: __MACOSX/cats_and_dogs/train/cats/._cat.384.jpg  
  inflating: cats_and_dogs/train/cats/cat.409.jpg  
  inflating: __MACOSX/cats_and_dogs/train/cats/._cat.409.jpg  
  inflating: cats_and_dogs/train/cats/cat.435.jpg  
  inflating: __MACOSX/cats_and_dogs/train/cats/._cat.435.jpg  
  inflating: cats_and_dogs/train/cats/cat.353.jpg  
  inflating: __MACOSX/cats_and_dogs/train/cats/._cat.353.jpg  
  inflating: cats_and_dogs/train/cats/cat.347.jpg  
  inflating: __MACOSX/cats_and_dogs/train/cats/._cat.347.jpg  
  inflating: cats_and_dogs/train/cats/cat.421.jpg  
  inflating: __MACOSX/cats_and_dogs/train/cats/._cat.421.jpg  
  inflating: cats_and_dogs/train/cats/cat.810.jpg  
  inflating: __MACOSX/cats_and_dogs/train/cats/._cat.810.jpg  
  inflating: cats_and_dogs/train/cats/cat.804.jpg  
  inflating: __MACOSX/cats_and_dogs/train/cats/._cat.804.jpg  
  inflating: cats_and_dogs/train/cats/cat.192.jpg  
  inflating: __MACOSX/cats_and_dogs/train/cats/._cat.192.jpg  
  inflating: cats_and_dogs/train/cats/cat.838.jpg  
  inflating: __MACOSX/cats_and_dogs/train/cats/._cat.838.jpg  
  inflating: cats_and_dogs/train/cats/cat.186.jpg  
  inflating: __MACOSX/cats_and_dogs/train/cats/._cat.186.jpg  
  inflating: cats_and_dogs/train/cats/cat.12.jpg  
  inflating: __MACOSX/cats_and_dogs/train/cats/._cat.12.jpg  
  inflating: cats_and_dogs/train/cats/cat.179.jpg  
  inflating: __MACOSX/cats_and_dogs/train/cats/._cat.179.jpg  
  inflating: cats_and_dogs/train/cats/cat.151.jpg  
  inflating: __MACOSX/cats_and_dogs/train/cats/._cat.151.jpg  
  inflating: cats_and_dogs/train/cats/cat.637.jpg  
  inflating: __MACOSX/cats_and_dogs/train/cats/._cat.637.jpg  
  inflating: cats_and_dogs/train/cats/cat.623.jpg  
  inflating: __MACOSX/cats_and_dogs/train/cats/._cat.623.jpg  
  inflating: cats_and_dogs/train/cats/cat.145.jpg  
  inflating: __MACOSX/cats_and_dogs/train/cats/._cat.145.jpg  
  inflating: cats_and_dogs/train/cats/cat.622.jpg  
  inflating: __MACOSX/cats_and_dogs/train/cats/._cat.622.jpg  
  inflating: cats_and_dogs/train/cats/cat.144.jpg  
  inflating: __MACOSX/cats_and_dogs/train/cats/._cat.144.jpg  
  inflating: cats_and_dogs/train/cats/cat.150.jpg  
  inflating: __MACOSX/cats_and_dogs/train/cats/._cat.150.jpg  
  inflating: cats_and_dogs/train/cats/cat.636.jpg  
  inflating: __MACOSX/cats_and_dogs/train/cats/._cat.636.jpg  
  inflating: cats_and_dogs/train/cats/cat.178.jpg  
  inflating: __MACOSX/cats_and_dogs/train/cats/._cat.178.jpg  
  inflating: cats_and_dogs/train/cats/cat.13.jpg  
  inflating: __MACOSX/cats_and_dogs/train/cats/._cat.13.jpg  
  inflating: cats_and_dogs/train/cats/cat.839.jpg  
  inflating: __MACOSX/cats_and_dogs/train/cats/._cat.839.jpg  
  inflating: cats_and_dogs/train/cats/cat.187.jpg  
  inflating: __MACOSX/cats_and_dogs/train/cats/._cat.187.jpg  
  inflating: cats_and_dogs/train/cats/cat.193.jpg  
  inflating: __MACOSX/cats_and_dogs/train/cats/._cat.193.jpg  
  inflating: cats_and_dogs/train/cats/cat.805.jpg  
  inflating: __MACOSX/cats_and_dogs/train/cats/._cat.805.jpg  
  inflating: cats_and_dogs/train/cats/cat.811.jpg  
  inflating: __MACOSX/cats_and_dogs/train/cats/._cat.811.jpg  
  inflating: cats_and_dogs/train/cats/cat.346.jpg  
  inflating: __MACOSX/cats_and_dogs/train/cats/._cat.346.jpg  
  inflating: cats_and_dogs/train/cats/cat.420.jpg  
  inflating: __MACOSX/cats_and_dogs/train/cats/._cat.420.jpg  
  inflating: cats_and_dogs/train/cats/cat.434.jpg  
  inflating: __MACOSX/cats_and_dogs/train/cats/._cat.434.jpg  
  inflating: cats_and_dogs/train/cats/cat.352.jpg  
  inflating: __MACOSX/cats_and_dogs/train/cats/._cat.352.jpg  
  inflating: cats_and_dogs/train/cats/cat.408.jpg  
  inflating: __MACOSX/cats_and_dogs/train/cats/._cat.408.jpg  
  inflating: cats_and_dogs/train/cats/cat.385.jpg  
  inflating: __MACOSX/cats_and_dogs/train/cats/._cat.385.jpg  
  inflating: cats_and_dogs/train/cats/cat.391.jpg  
  inflating: __MACOSX/cats_and_dogs/train/cats/._cat.391.jpg  
  inflating: cats_and_dogs/train/cats/cat.232.jpg  
  inflating: __MACOSX/cats_and_dogs/train/cats/._cat.232.jpg  
  inflating: cats_and_dogs/train/cats/cat.554.jpg  
  inflating: __MACOSX/cats_and_dogs/train/cats/._cat.554.jpg  
  inflating: cats_and_dogs/train/cats/cat.540.jpg  
  inflating: __MACOSX/cats_and_dogs/train/cats/._cat.540.jpg  
  inflating: cats_and_dogs/train/cats/cat.226.jpg  
  inflating: __MACOSX/cats_and_dogs/train/cats/._cat.226.jpg  
  inflating: cats_and_dogs/train/cats/cat.568.jpg  
  inflating: __MACOSX/cats_and_dogs/train/cats/._cat.568.jpg  
  inflating: cats_and_dogs/train/cats/cat.597.jpg  
  inflating: __MACOSX/cats_and_dogs/train/cats/._cat.597.jpg  
  inflating: cats_and_dogs/train/cats/cat.583.jpg  
  inflating: __MACOSX/cats_and_dogs/train/cats/._cat.583.jpg  
  inflating: cats_and_dogs/train/cats/cat.756.jpg  
  inflating: __MACOSX/cats_and_dogs/train/cats/._cat.756.jpg  
  inflating: cats_and_dogs/train/cats/cat.742.jpg  
  inflating: __MACOSX/cats_and_dogs/train/cats/._cat.742.jpg  
  inflating: cats_and_dogs/train/cats/cat.795.jpg  
  inflating: __MACOSX/cats_and_dogs/train/cats/._cat.795.jpg  
  inflating: cats_and_dogs/train/cats/cat.781.jpg  
  inflating: __MACOSX/cats_and_dogs/train/cats/._cat.781.jpg  
  inflating: cats_and_dogs/train/cats/cat.959.jpg  
  inflating: __MACOSX/cats_and_dogs/train/cats/._cat.959.jpg  
  inflating: cats_and_dogs/train/cats/cat.971.jpg  
  inflating: __MACOSX/cats_and_dogs/train/cats/._cat.971.jpg  
  inflating: cats_and_dogs/train/cats/cat.965.jpg  
  inflating: __MACOSX/cats_and_dogs/train/cats/._cat.965.jpg  
  inflating: cats_and_dogs/train/cats/cat.785.jpg  
  inflating: __MACOSX/cats_and_dogs/train/cats/._cat.785.jpg  
  inflating: cats_and_dogs/train/cats/cat.949.jpg  
  inflating: __MACOSX/cats_and_dogs/train/cats/._cat.949.jpg  
  inflating: cats_and_dogs/train/cats/cat.791.jpg  
  inflating: __MACOSX/cats_and_dogs/train/cats/._cat.791.jpg  
  inflating: cats_and_dogs/train/cats/cat.961.jpg  
  inflating: __MACOSX/cats_and_dogs/train/cats/._cat.961.jpg  
  inflating: cats_and_dogs/train/cats/cat.975.jpg  
  inflating: __MACOSX/cats_and_dogs/train/cats/._cat.975.jpg  
  inflating: cats_and_dogs/train/cats/cat.746.jpg  
  inflating: __MACOSX/cats_and_dogs/train/cats/._cat.746.jpg  
  inflating: cats_and_dogs/train/cats/cat.9.jpg  
  inflating: __MACOSX/cats_and_dogs/train/cats/._cat.9.jpg  
  inflating: cats_and_dogs/train/cats/cat.752.jpg  
  inflating: __MACOSX/cats_and_dogs/train/cats/._cat.752.jpg  
  inflating: cats_and_dogs/train/cats/cat.587.jpg  
  inflating: __MACOSX/cats_and_dogs/train/cats/._cat.587.jpg  
  inflating: cats_and_dogs/train/cats/cat.593.jpg  
  inflating: __MACOSX/cats_and_dogs/train/cats/._cat.593.jpg  
  inflating: cats_and_dogs/train/cats/cat.222.jpg  
  inflating: __MACOSX/cats_and_dogs/train/cats/._cat.222.jpg  
  inflating: cats_and_dogs/train/cats/cat.544.jpg  
  inflating: __MACOSX/cats_and_dogs/train/cats/._cat.544.jpg  
  inflating: cats_and_dogs/train/cats/cat.550.jpg  
  inflating: __MACOSX/cats_and_dogs/train/cats/._cat.550.jpg  
  inflating: cats_and_dogs/train/cats/cat.236.jpg  
  inflating: __MACOSX/cats_and_dogs/train/cats/._cat.236.jpg  
  inflating: cats_and_dogs/train/cats/cat.578.jpg  
  inflating: __MACOSX/cats_and_dogs/train/cats/._cat.578.jpg  
  inflating: cats_and_dogs/train/cats/cat.395.jpg  
  inflating: __MACOSX/cats_and_dogs/train/cats/._cat.395.jpg  
  inflating: cats_and_dogs/train/cats/cat.381.jpg  
  inflating: __MACOSX/cats_and_dogs/train/cats/._cat.381.jpg  
  inflating: cats_and_dogs/train/cats/cat.356.jpg  
  inflating: __MACOSX/cats_and_dogs/train/cats/._cat.356.jpg  
  inflating: cats_and_dogs/train/cats/cat.430.jpg  
  inflating: __MACOSX/cats_and_dogs/train/cats/._cat.430.jpg  
  inflating: cats_and_dogs/train/cats/cat.424.jpg  
  inflating: __MACOSX/cats_and_dogs/train/cats/._cat.424.jpg  
  inflating: cats_and_dogs/train/cats/cat.342.jpg  
  inflating: __MACOSX/cats_and_dogs/train/cats/._cat.342.jpg  
  inflating: cats_and_dogs/train/cats/cat.418.jpg  
  inflating: __MACOSX/cats_and_dogs/train/cats/._cat.418.jpg  
  inflating: cats_and_dogs/train/cats/cat.829.jpg  
  inflating: __MACOSX/cats_and_dogs/train/cats/._cat.829.jpg  
  inflating: cats_and_dogs/train/cats/cat.197.jpg  
  inflating: __MACOSX/cats_and_dogs/train/cats/._cat.197.jpg  
  inflating: cats_and_dogs/train/cats/cat.183.jpg  
  inflating: __MACOSX/cats_and_dogs/train/cats/._cat.183.jpg  
  inflating: cats_and_dogs/train/cats/cat.815.jpg  
  inflating: __MACOSX/cats_and_dogs/train/cats/._cat.815.jpg  
  inflating: cats_and_dogs/train/cats/cat.801.jpg  
  inflating: __MACOSX/cats_and_dogs/train/cats/._cat.801.jpg  
  inflating: cats_and_dogs/train/cats/cat.632.jpg  
  inflating: __MACOSX/cats_and_dogs/train/cats/._cat.632.jpg  
  inflating: cats_and_dogs/train/cats/cat.154.jpg  
  inflating: __MACOSX/cats_and_dogs/train/cats/._cat.154.jpg  
  inflating: cats_and_dogs/train/cats/cat.140.jpg  
  inflating: __MACOSX/cats_and_dogs/train/cats/._cat.140.jpg  
  inflating: cats_and_dogs/train/cats/cat.626.jpg  
  inflating: __MACOSX/cats_and_dogs/train/cats/._cat.626.jpg  
  inflating: cats_and_dogs/train/cats/cat.168.jpg  
  inflating: __MACOSX/cats_and_dogs/train/cats/._cat.168.jpg  
  inflating: cats_and_dogs/train/cats/cat.17.jpg  
  inflating: __MACOSX/cats_and_dogs/train/cats/._cat.17.jpg  
  inflating: cats_and_dogs/train/cats/cat.16.jpg  
  inflating: __MACOSX/cats_and_dogs/train/cats/._cat.16.jpg  
  inflating: cats_and_dogs/train/cats/cat.169.jpg  
  inflating: __MACOSX/cats_and_dogs/train/cats/._cat.169.jpg  
  inflating: cats_and_dogs/train/cats/cat.141.jpg  
  inflating: __MACOSX/cats_and_dogs/train/cats/._cat.141.jpg  
  inflating: cats_and_dogs/train/cats/cat.627.jpg  
  inflating: __MACOSX/cats_and_dogs/train/cats/._cat.627.jpg  
  inflating: cats_and_dogs/train/cats/cat.633.jpg  
  inflating: __MACOSX/cats_and_dogs/train/cats/._cat.633.jpg  
  inflating: cats_and_dogs/train/cats/cat.155.jpg  
  inflating: __MACOSX/cats_and_dogs/train/cats/._cat.155.jpg  
  inflating: cats_and_dogs/train/cats/cat.800.jpg  
  inflating: __MACOSX/cats_and_dogs/train/cats/._cat.800.jpg  
  inflating: cats_and_dogs/train/cats/cat.814.jpg  
  inflating: __MACOSX/cats_and_dogs/train/cats/._cat.814.jpg  
  inflating: cats_and_dogs/train/cats/cat.182.jpg  
  inflating: __MACOSX/cats_and_dogs/train/cats/._cat.182.jpg  
  inflating: cats_and_dogs/train/cats/cat.828.jpg  
  inflating: __MACOSX/cats_and_dogs/train/cats/._cat.828.jpg  
  inflating: cats_and_dogs/train/cats/cat.196.jpg  
  inflating: __MACOSX/cats_and_dogs/train/cats/._cat.196.jpg  
  inflating: cats_and_dogs/train/cats/cat.419.jpg  
  inflating: __MACOSX/cats_and_dogs/train/cats/._cat.419.jpg  
  inflating: cats_and_dogs/train/cats/cat.425.jpg  
  inflating: __MACOSX/cats_and_dogs/train/cats/._cat.425.jpg  
  inflating: cats_and_dogs/train/cats/cat.343.jpg  
  inflating: __MACOSX/cats_and_dogs/train/cats/._cat.343.jpg  
  inflating: cats_and_dogs/train/cats/cat.357.jpg  
  inflating: __MACOSX/cats_and_dogs/train/cats/._cat.357.jpg  
  inflating: cats_and_dogs/train/cats/cat.431.jpg  
  inflating: __MACOSX/cats_and_dogs/train/cats/._cat.431.jpg  
  inflating: cats_and_dogs/train/cats/cat.380.jpg  
  inflating: __MACOSX/cats_and_dogs/train/cats/._cat.380.jpg  
  inflating: cats_and_dogs/train/cats/cat.394.jpg  
  inflating: __MACOSX/cats_and_dogs/train/cats/._cat.394.jpg  
  inflating: cats_and_dogs/train/cats/cat.579.jpg  
  inflating: __MACOSX/cats_and_dogs/train/cats/._cat.579.jpg  
  inflating: cats_and_dogs/train/cats/cat.551.jpg  
  inflating: __MACOSX/cats_and_dogs/train/cats/._cat.551.jpg  
  inflating: cats_and_dogs/train/cats/cat.237.jpg  
  inflating: __MACOSX/cats_and_dogs/train/cats/._cat.237.jpg  
  inflating: cats_and_dogs/train/cats/cat.223.jpg  
  inflating: __MACOSX/cats_and_dogs/train/cats/._cat.223.jpg  
  inflating: cats_and_dogs/train/cats/cat.545.jpg  
  inflating: __MACOSX/cats_and_dogs/train/cats/._cat.545.jpg  
  inflating: cats_and_dogs/train/cats/cat.592.jpg  
  inflating: __MACOSX/cats_and_dogs/train/cats/._cat.592.jpg  
  inflating: cats_and_dogs/train/cats/cat.586.jpg  
  inflating: __MACOSX/cats_and_dogs/train/cats/._cat.586.jpg  
  inflating: cats_and_dogs/train/cats/cat.753.jpg  
  inflating: __MACOSX/cats_and_dogs/train/cats/._cat.753.jpg  
  inflating: cats_and_dogs/train/cats/cat.747.jpg  
  inflating: __MACOSX/cats_and_dogs/train/cats/._cat.747.jpg  
  inflating: cats_and_dogs/train/cats/cat.8.jpg  
  inflating: __MACOSX/cats_and_dogs/train/cats/._cat.8.jpg  
  inflating: cats_and_dogs/train/cats/cat.974.jpg  
  inflating: __MACOSX/cats_and_dogs/train/cats/._cat.974.jpg  
  inflating: cats_and_dogs/train/cats/cat.960.jpg  
  inflating: __MACOSX/cats_and_dogs/train/cats/._cat.960.jpg  
  inflating: cats_and_dogs/train/cats/cat.790.jpg  
  inflating: __MACOSX/cats_and_dogs/train/cats/._cat.790.jpg  
  inflating: cats_and_dogs/train/cats/cat.948.jpg  
  inflating: __MACOSX/cats_and_dogs/train/cats/._cat.948.jpg  
  inflating: cats_and_dogs/train/cats/cat.784.jpg  
  inflating: __MACOSX/cats_and_dogs/train/cats/._cat.784.jpg  
  inflating: cats_and_dogs/train/cats/cat.792.jpg  
  inflating: __MACOSX/cats_and_dogs/train/cats/._cat.792.jpg  
  inflating: cats_and_dogs/train/cats/cat.786.jpg  
  inflating: __MACOSX/cats_and_dogs/train/cats/._cat.786.jpg  
  inflating: cats_and_dogs/train/cats/cat.976.jpg  
  inflating: __MACOSX/cats_and_dogs/train/cats/._cat.976.jpg  
  inflating: cats_and_dogs/train/cats/cat.962.jpg  
  inflating: __MACOSX/cats_and_dogs/train/cats/._cat.962.jpg  
  inflating: cats_and_dogs/train/cats/cat.751.jpg  
  inflating: __MACOSX/cats_and_dogs/train/cats/._cat.751.jpg  
  inflating: cats_and_dogs/train/cats/cat.989.jpg  
  inflating: __MACOSX/cats_and_dogs/train/cats/._cat.989.jpg  
  inflating: cats_and_dogs/train/cats/cat.745.jpg  
  inflating: __MACOSX/cats_and_dogs/train/cats/._cat.745.jpg  
  inflating: cats_and_dogs/train/cats/cat.779.jpg  
  inflating: __MACOSX/cats_and_dogs/train/cats/._cat.779.jpg  
  inflating: cats_and_dogs/train/cats/cat.590.jpg  
  inflating: __MACOSX/cats_and_dogs/train/cats/._cat.590.jpg  
  inflating: cats_and_dogs/train/cats/cat.584.jpg  
  inflating: __MACOSX/cats_and_dogs/train/cats/._cat.584.jpg  
  inflating: cats_and_dogs/train/cats/cat.235.jpg  
  inflating: __MACOSX/cats_and_dogs/train/cats/._cat.235.jpg  
  inflating: cats_and_dogs/train/cats/cat.553.jpg  
  inflating: __MACOSX/cats_and_dogs/train/cats/._cat.553.jpg  
  inflating: cats_and_dogs/train/cats/cat.547.jpg  
  inflating: __MACOSX/cats_and_dogs/train/cats/._cat.547.jpg  
  inflating: cats_and_dogs/train/cats/cat.221.jpg  
  inflating: __MACOSX/cats_and_dogs/train/cats/._cat.221.jpg  
  inflating: cats_and_dogs/train/cats/cat.209.jpg  
  inflating: __MACOSX/cats_and_dogs/train/cats/._cat.209.jpg  
  inflating: cats_and_dogs/train/cats/cat.382.jpg  
  inflating: __MACOSX/cats_and_dogs/train/cats/._cat.382.jpg  
  inflating: cats_and_dogs/train/cats/cat.396.jpg  
  inflating: __MACOSX/cats_and_dogs/train/cats/._cat.396.jpg  
  inflating: cats_and_dogs/train/cats/cat.341.jpg  
  inflating: __MACOSX/cats_and_dogs/train/cats/._cat.341.jpg  
  inflating: cats_and_dogs/train/cats/cat.427.jpg  
  inflating: __MACOSX/cats_and_dogs/train/cats/._cat.427.jpg  
  inflating: cats_and_dogs/train/cats/cat.433.jpg  
  inflating: __MACOSX/cats_and_dogs/train/cats/._cat.433.jpg  
  inflating: cats_and_dogs/train/cats/cat.355.jpg  
  inflating: __MACOSX/cats_and_dogs/train/cats/._cat.355.jpg  
  inflating: cats_and_dogs/train/cats/cat.369.jpg  
  inflating: __MACOSX/cats_and_dogs/train/cats/._cat.369.jpg  
  inflating: cats_and_dogs/train/cats/cat.180.jpg  
  inflating: __MACOSX/cats_and_dogs/train/cats/._cat.180.jpg  
  inflating: cats_and_dogs/train/cats/cat.194.jpg  
  inflating: __MACOSX/cats_and_dogs/train/cats/._cat.194.jpg  
  inflating: cats_and_dogs/train/cats/cat.802.jpg  
  inflating: __MACOSX/cats_and_dogs/train/cats/._cat.802.jpg  
  inflating: cats_and_dogs/train/cats/cat.816.jpg  
  inflating: __MACOSX/cats_and_dogs/train/cats/._cat.816.jpg  
  inflating: cats_and_dogs/train/cats/cat.625.jpg  
  inflating: __MACOSX/cats_and_dogs/train/cats/._cat.625.jpg  
  inflating: cats_and_dogs/train/cats/cat.28.jpg  
  inflating: __MACOSX/cats_and_dogs/train/cats/._cat.28.jpg  
  inflating: cats_and_dogs/train/cats/cat.143.jpg  
  inflating: __MACOSX/cats_and_dogs/train/cats/._cat.143.jpg  
  inflating: cats_and_dogs/train/cats/cat.157.jpg  
  inflating: __MACOSX/cats_and_dogs/train/cats/._cat.157.jpg  
  inflating: cats_and_dogs/train/cats/cat.631.jpg  
  inflating: __MACOSX/cats_and_dogs/train/cats/._cat.631.jpg  
  inflating: cats_and_dogs/train/cats/cat.619.jpg  
  inflating: __MACOSX/cats_and_dogs/train/cats/._cat.619.jpg  
  inflating: cats_and_dogs/train/cats/cat.14.jpg  
  inflating: __MACOSX/cats_and_dogs/train/cats/._cat.14.jpg  
  inflating: cats_and_dogs/train/cats/cat.618.jpg  
  inflating: __MACOSX/cats_and_dogs/train/cats/._cat.618.jpg  
  inflating: cats_and_dogs/train/cats/cat.15.jpg  
  inflating: __MACOSX/cats_and_dogs/train/cats/._cat.15.jpg  
  inflating: cats_and_dogs/train/cats/cat.156.jpg  
  inflating: __MACOSX/cats_and_dogs/train/cats/._cat.156.jpg  
  inflating: cats_and_dogs/train/cats/cat.630.jpg  
  inflating: __MACOSX/cats_and_dogs/train/cats/._cat.630.jpg  
  inflating: cats_and_dogs/train/cats/cat.624.jpg  
  inflating: __MACOSX/cats_and_dogs/train/cats/._cat.624.jpg  
  inflating: cats_and_dogs/train/cats/cat.142.jpg  
  inflating: __MACOSX/cats_and_dogs/train/cats/._cat.142.jpg  
  inflating: cats_and_dogs/train/cats/cat.29.jpg  
  inflating: __MACOSX/cats_and_dogs/train/cats/._cat.29.jpg  
  inflating: cats_and_dogs/train/cats/cat.817.jpg  
  inflating: __MACOSX/cats_and_dogs/train/cats/._cat.817.jpg  
  inflating: cats_and_dogs/train/cats/cat.803.jpg  
  inflating: __MACOSX/cats_and_dogs/train/cats/._cat.803.jpg  
  inflating: cats_and_dogs/train/cats/cat.195.jpg  
  inflating: __MACOSX/cats_and_dogs/train/cats/._cat.195.jpg  
  inflating: cats_and_dogs/train/cats/cat.181.jpg  
  inflating: __MACOSX/cats_and_dogs/train/cats/._cat.181.jpg  
  inflating: cats_and_dogs/train/cats/cat.368.jpg  
  inflating: __MACOSX/cats_and_dogs/train/cats/._cat.368.jpg  
  inflating: cats_and_dogs/train/cats/cat.432.jpg  
  inflating: __MACOSX/cats_and_dogs/train/cats/._cat.432.jpg  
  inflating: cats_and_dogs/train/cats/cat.354.jpg  
  inflating: __MACOSX/cats_and_dogs/train/cats/._cat.354.jpg  
  inflating: cats_and_dogs/train/cats/cat.340.jpg  
  inflating: __MACOSX/cats_and_dogs/train/cats/._cat.340.jpg  
  inflating: cats_and_dogs/train/cats/cat.426.jpg  
  inflating: __MACOSX/cats_and_dogs/train/cats/._cat.426.jpg  
  inflating: cats_and_dogs/train/cats/cat.397.jpg  
  inflating: __MACOSX/cats_and_dogs/train/cats/._cat.397.jpg  
  inflating: cats_and_dogs/train/cats/cat.383.jpg  
  inflating: __MACOSX/cats_and_dogs/train/cats/._cat.383.jpg  
  inflating: cats_and_dogs/train/cats/cat.208.jpg  
  inflating: __MACOSX/cats_and_dogs/train/cats/._cat.208.jpg  
  inflating: cats_and_dogs/train/cats/cat.546.jpg  
  inflating: __MACOSX/cats_and_dogs/train/cats/._cat.546.jpg  
  inflating: cats_and_dogs/train/cats/cat.220.jpg  
  inflating: __MACOSX/cats_and_dogs/train/cats/._cat.220.jpg  
  inflating: cats_and_dogs/train/cats/cat.234.jpg  
  inflating: __MACOSX/cats_and_dogs/train/cats/._cat.234.jpg  
  inflating: cats_and_dogs/train/cats/cat.552.jpg  
  inflating: __MACOSX/cats_and_dogs/train/cats/._cat.552.jpg  
  inflating: cats_and_dogs/train/cats/cat.585.jpg  
  inflating: __MACOSX/cats_and_dogs/train/cats/._cat.585.jpg  
  inflating: cats_and_dogs/train/cats/cat.591.jpg  
  inflating: __MACOSX/cats_and_dogs/train/cats/._cat.591.jpg  
  inflating: cats_and_dogs/train/cats/cat.778.jpg  
  inflating: __MACOSX/cats_and_dogs/train/cats/._cat.778.jpg  
  inflating: cats_and_dogs/train/cats/cat.744.jpg  
  inflating: __MACOSX/cats_and_dogs/train/cats/._cat.744.jpg  
  inflating: cats_and_dogs/train/cats/cat.988.jpg  
  inflating: __MACOSX/cats_and_dogs/train/cats/._cat.988.jpg  
  inflating: cats_and_dogs/train/cats/cat.750.jpg  
  inflating: __MACOSX/cats_and_dogs/train/cats/._cat.750.jpg  
  inflating: cats_and_dogs/train/cats/cat.963.jpg  
  inflating: __MACOSX/cats_and_dogs/train/cats/._cat.963.jpg  
  inflating: cats_and_dogs/train/cats/cat.977.jpg  
  inflating: __MACOSX/cats_and_dogs/train/cats/._cat.977.jpg  
  inflating: cats_and_dogs/train/cats/cat.787.jpg  
  inflating: __MACOSX/cats_and_dogs/train/cats/._cat.787.jpg  
  inflating: cats_and_dogs/train/cats/cat.793.jpg  
  inflating: __MACOSX/cats_and_dogs/train/cats/._cat.793.jpg  
  inflating: __MACOSX/cats_and_dogs/train/._cats  
  inflating: cats_and_dogs/train/.DS_Store  
  inflating: __MACOSX/cats_and_dogs/train/._.DS_Store  
  inflating: __MACOSX/cats_and_dogs/._train  
   creating: cats_and_dogs/validation/
   creating: cats_and_dogs/validation/dogs/
  inflating: cats_and_dogs/validation/dogs/dog.2266.jpg  
   creating: __MACOSX/cats_and_dogs/validation/
   creating: __MACOSX/cats_and_dogs/validation/dogs/
  inflating: __MACOSX/cats_and_dogs/validation/dogs/._dog.2266.jpg  
  inflating: cats_and_dogs/validation/dogs/dog.2272.jpg  
  inflating: __MACOSX/cats_and_dogs/validation/dogs/._dog.2272.jpg  
  inflating: cats_and_dogs/validation/dogs/dog.2299.jpg  
  inflating: __MACOSX/cats_and_dogs/validation/dogs/._dog.2299.jpg  
  inflating: cats_and_dogs/validation/dogs/dog.2058.jpg  
  inflating: __MACOSX/cats_and_dogs/validation/dogs/._dog.2058.jpg  
  inflating: cats_and_dogs/validation/dogs/dog.2064.jpg  
  inflating: __MACOSX/cats_and_dogs/validation/dogs/._dog.2064.jpg  
  inflating: cats_and_dogs/validation/dogs/dog.2070.jpg  
  inflating: __MACOSX/cats_and_dogs/validation/dogs/._dog.2070.jpg  
  inflating: cats_and_dogs/validation/dogs/dog.2138.jpg  
  inflating: __MACOSX/cats_and_dogs/validation/dogs/._dog.2138.jpg  
  inflating: cats_and_dogs/validation/dogs/dog.2110.jpg  
  inflating: __MACOSX/cats_and_dogs/validation/dogs/._dog.2110.jpg  
  inflating: cats_and_dogs/validation/dogs/dog.2104.jpg  
  inflating: __MACOSX/cats_and_dogs/validation/dogs/._dog.2104.jpg  
  inflating: cats_and_dogs/validation/dogs/dog.2448.jpg  
  inflating: __MACOSX/cats_and_dogs/validation/dogs/._dog.2448.jpg  
  inflating: cats_and_dogs/validation/dogs/dog.2312.jpg  
  inflating: __MACOSX/cats_and_dogs/validation/dogs/._dog.2312.jpg  
  inflating: cats_and_dogs/validation/dogs/dog.2474.jpg  
  inflating: __MACOSX/cats_and_dogs/validation/dogs/._dog.2474.jpg  
  inflating: cats_and_dogs/validation/dogs/dog.2460.jpg  
  inflating: __MACOSX/cats_and_dogs/validation/dogs/._dog.2460.jpg  
  inflating: cats_and_dogs/validation/dogs/dog.2306.jpg  
  inflating: __MACOSX/cats_and_dogs/validation/dogs/._dog.2306.jpg  
  inflating: cats_and_dogs/validation/dogs/dog.2461.jpg  
  inflating: __MACOSX/cats_and_dogs/validation/dogs/._dog.2461.jpg  
  inflating: cats_and_dogs/validation/dogs/dog.2307.jpg  
  inflating: __MACOSX/cats_and_dogs/validation/dogs/._dog.2307.jpg  
  inflating: cats_and_dogs/validation/dogs/dog.2313.jpg  
  inflating: __MACOSX/cats_and_dogs/validation/dogs/._dog.2313.jpg  
  inflating: cats_and_dogs/validation/dogs/dog.2475.jpg  
  inflating: __MACOSX/cats_and_dogs/validation/dogs/._dog.2475.jpg  
  inflating: cats_and_dogs/validation/dogs/dog.2449.jpg  
  inflating: __MACOSX/cats_and_dogs/validation/dogs/._dog.2449.jpg  
  inflating: cats_and_dogs/validation/dogs/dog.2105.jpg  
  inflating: __MACOSX/cats_and_dogs/validation/dogs/._dog.2105.jpg  
  inflating: cats_and_dogs/validation/dogs/dog.2111.jpg  
  inflating: __MACOSX/cats_and_dogs/validation/dogs/._dog.2111.jpg  
  inflating: cats_and_dogs/validation/dogs/dog.2139.jpg  
  inflating: __MACOSX/cats_and_dogs/validation/dogs/._dog.2139.jpg  
  inflating: cats_and_dogs/validation/dogs/dog.2071.jpg  
  inflating: __MACOSX/cats_and_dogs/validation/dogs/._dog.2071.jpg  
  inflating: cats_and_dogs/validation/dogs/dog.2065.jpg  
  inflating: __MACOSX/cats_and_dogs/validation/dogs/._dog.2065.jpg  
  inflating: cats_and_dogs/validation/dogs/dog.2059.jpg  
  inflating: __MACOSX/cats_and_dogs/validation/dogs/._dog.2059.jpg  
  inflating: cats_and_dogs/validation/dogs/dog.2298.jpg  
  inflating: __MACOSX/cats_and_dogs/validation/dogs/._dog.2298.jpg  
  inflating: cats_and_dogs/validation/dogs/dog.2273.jpg  
  inflating: __MACOSX/cats_and_dogs/validation/dogs/._dog.2273.jpg  
  inflating: cats_and_dogs/validation/dogs/dog.2267.jpg  
  inflating: __MACOSX/cats_and_dogs/validation/dogs/._dog.2267.jpg  
  inflating: cats_and_dogs/validation/dogs/dog.2259.jpg  
  inflating: __MACOSX/cats_and_dogs/validation/dogs/._dog.2259.jpg  
  inflating: cats_and_dogs/validation/dogs/dog.2271.jpg  
  inflating: __MACOSX/cats_and_dogs/validation/dogs/._dog.2271.jpg  
  inflating: cats_and_dogs/validation/dogs/dog.2265.jpg  
  inflating: __MACOSX/cats_and_dogs/validation/dogs/._dog.2265.jpg  
  inflating: cats_and_dogs/validation/dogs/dog.2073.jpg  
  inflating: __MACOSX/cats_and_dogs/validation/dogs/._dog.2073.jpg  
  inflating: cats_and_dogs/validation/dogs/dog.2067.jpg  
  inflating: __MACOSX/cats_and_dogs/validation/dogs/._dog.2067.jpg  
  inflating: cats_and_dogs/validation/dogs/dog.2098.jpg  
  inflating: __MACOSX/cats_and_dogs/validation/dogs/._dog.2098.jpg  
  inflating: cats_and_dogs/validation/dogs/dog.2107.jpg  
  inflating: __MACOSX/cats_and_dogs/validation/dogs/._dog.2107.jpg  
  inflating: cats_and_dogs/validation/dogs/dog.2113.jpg  
  inflating: __MACOSX/cats_and_dogs/validation/dogs/._dog.2113.jpg  
  inflating: cats_and_dogs/validation/dogs/dog.2339.jpg  
  inflating: __MACOSX/cats_and_dogs/validation/dogs/._dog.2339.jpg  
  inflating: cats_and_dogs/validation/dogs/dog.2305.jpg  
  inflating: __MACOSX/cats_and_dogs/validation/dogs/._dog.2305.jpg  
  inflating: cats_and_dogs/validation/dogs/dog.2463.jpg  
  inflating: __MACOSX/cats_and_dogs/validation/dogs/._dog.2463.jpg  
  inflating: cats_and_dogs/validation/dogs/dog.2477.jpg  
  inflating: __MACOSX/cats_and_dogs/validation/dogs/._dog.2477.jpg  
  inflating: cats_and_dogs/validation/dogs/dog.2311.jpg  
  inflating: __MACOSX/cats_and_dogs/validation/dogs/._dog.2311.jpg  
  inflating: cats_and_dogs/validation/dogs/dog.2488.jpg  
  inflating: __MACOSX/cats_and_dogs/validation/dogs/._dog.2488.jpg  
  inflating: cats_and_dogs/validation/dogs/dog.2489.jpg  
  inflating: __MACOSX/cats_and_dogs/validation/dogs/._dog.2489.jpg  
  inflating: cats_and_dogs/validation/dogs/dog.2476.jpg  
  inflating: __MACOSX/cats_and_dogs/validation/dogs/._dog.2476.jpg  
  inflating: cats_and_dogs/validation/dogs/dog.2310.jpg  
  inflating: __MACOSX/cats_and_dogs/validation/dogs/._dog.2310.jpg  
  inflating: cats_and_dogs/validation/dogs/dog.2304.jpg  
  inflating: __MACOSX/cats_and_dogs/validation/dogs/._dog.2304.jpg  
  inflating: cats_and_dogs/validation/dogs/dog.2462.jpg  
  inflating: __MACOSX/cats_and_dogs/validation/dogs/._dog.2462.jpg  
  inflating: cats_and_dogs/validation/dogs/dog.2338.jpg  
  inflating: __MACOSX/cats_and_dogs/validation/dogs/._dog.2338.jpg  
  inflating: cats_and_dogs/validation/dogs/dog.2112.jpg  
  inflating: __MACOSX/cats_and_dogs/validation/dogs/._dog.2112.jpg  
  inflating: cats_and_dogs/validation/dogs/dog.2106.jpg  
  inflating: __MACOSX/cats_and_dogs/validation/dogs/._dog.2106.jpg  
  inflating: cats_and_dogs/validation/dogs/dog.2099.jpg  
  inflating: __MACOSX/cats_and_dogs/validation/dogs/._dog.2099.jpg  
  inflating: cats_and_dogs/validation/dogs/dog.2066.jpg  
  inflating: __MACOSX/cats_and_dogs/validation/dogs/._dog.2066.jpg  
  inflating: cats_and_dogs/validation/dogs/dog.2072.jpg  
  inflating: __MACOSX/cats_and_dogs/validation/dogs/._dog.2072.jpg  
  inflating: cats_and_dogs/validation/dogs/dog.2264.jpg  
  inflating: __MACOSX/cats_and_dogs/validation/dogs/._dog.2264.jpg  
  inflating: cats_and_dogs/validation/dogs/dog.2270.jpg  
  inflating: __MACOSX/cats_and_dogs/validation/dogs/._dog.2270.jpg  
  inflating: cats_and_dogs/validation/dogs/dog.2258.jpg  
  inflating: __MACOSX/cats_and_dogs/validation/dogs/._dog.2258.jpg  
  inflating: cats_and_dogs/validation/dogs/dog.2274.jpg  
  inflating: __MACOSX/cats_and_dogs/validation/dogs/._dog.2274.jpg  
  inflating: cats_and_dogs/validation/dogs/dog.2260.jpg  
  inflating: __MACOSX/cats_and_dogs/validation/dogs/._dog.2260.jpg  
  inflating: cats_and_dogs/validation/dogs/dog.2248.jpg  
  inflating: __MACOSX/cats_and_dogs/validation/dogs/._dog.2248.jpg  
  inflating: cats_and_dogs/validation/dogs/dog.2076.jpg  
  inflating: __MACOSX/cats_and_dogs/validation/dogs/._dog.2076.jpg  
  inflating: cats_and_dogs/validation/dogs/dog.2062.jpg  
  inflating: __MACOSX/cats_and_dogs/validation/dogs/._dog.2062.jpg  
  inflating: cats_and_dogs/validation/dogs/dog.2089.jpg  
  inflating: __MACOSX/cats_and_dogs/validation/dogs/._dog.2089.jpg  
  inflating: cats_and_dogs/validation/dogs/dog.2102.jpg  
  inflating: __MACOSX/cats_and_dogs/validation/dogs/._dog.2102.jpg  
  inflating: cats_and_dogs/validation/dogs/dog.2116.jpg  
  inflating: __MACOSX/cats_and_dogs/validation/dogs/._dog.2116.jpg  
  inflating: cats_and_dogs/validation/dogs/dog.2466.jpg  
  inflating: __MACOSX/cats_and_dogs/validation/dogs/._dog.2466.jpg  
  inflating: cats_and_dogs/validation/dogs/dog.2300.jpg  
  inflating: __MACOSX/cats_and_dogs/validation/dogs/._dog.2300.jpg  
  inflating: cats_and_dogs/validation/dogs/dog.2314.jpg  
  inflating: __MACOSX/cats_and_dogs/validation/dogs/._dog.2314.jpg  
  inflating: cats_and_dogs/validation/dogs/dog.2472.jpg  
  inflating: __MACOSX/cats_and_dogs/validation/dogs/._dog.2472.jpg  
  inflating: cats_and_dogs/validation/dogs/dog.2328.jpg  
  inflating: __MACOSX/cats_and_dogs/validation/dogs/._dog.2328.jpg  
  inflating: cats_and_dogs/validation/dogs/dog.2499.jpg  
  inflating: __MACOSX/cats_and_dogs/validation/dogs/._dog.2499.jpg  
  inflating: cats_and_dogs/validation/dogs/dog.2498.jpg  
  inflating: __MACOSX/cats_and_dogs/validation/dogs/._dog.2498.jpg  
  inflating: cats_and_dogs/validation/dogs/dog.2329.jpg  
  inflating: __MACOSX/cats_and_dogs/validation/dogs/._dog.2329.jpg  
  inflating: cats_and_dogs/validation/dogs/dog.2315.jpg  
  inflating: __MACOSX/cats_and_dogs/validation/dogs/._dog.2315.jpg  
  inflating: cats_and_dogs/validation/dogs/dog.2473.jpg  
  inflating: __MACOSX/cats_and_dogs/validation/dogs/._dog.2473.jpg  
  inflating: cats_and_dogs/validation/dogs/dog.2467.jpg  
  inflating: __MACOSX/cats_and_dogs/validation/dogs/._dog.2467.jpg  
  inflating: cats_and_dogs/validation/dogs/dog.2301.jpg  
  inflating: __MACOSX/cats_and_dogs/validation/dogs/._dog.2301.jpg  
  inflating: cats_and_dogs/validation/dogs/dog.2117.jpg  
  inflating: __MACOSX/cats_and_dogs/validation/dogs/._dog.2117.jpg  
  inflating: cats_and_dogs/validation/dogs/dog.2103.jpg  
  inflating: __MACOSX/cats_and_dogs/validation/dogs/._dog.2103.jpg  
  inflating: cats_and_dogs/validation/dogs/dog.2088.jpg  
  inflating: __MACOSX/cats_and_dogs/validation/dogs/._dog.2088.jpg  
  inflating: cats_and_dogs/validation/dogs/dog.2063.jpg  
  inflating: __MACOSX/cats_and_dogs/validation/dogs/._dog.2063.jpg  
  inflating: cats_and_dogs/validation/dogs/dog.2077.jpg  
  inflating: __MACOSX/cats_and_dogs/validation/dogs/._dog.2077.jpg  
  inflating: cats_and_dogs/validation/dogs/dog.2249.jpg  
  inflating: __MACOSX/cats_and_dogs/validation/dogs/._dog.2249.jpg  
  inflating: cats_and_dogs/validation/dogs/dog.2261.jpg  
  inflating: __MACOSX/cats_and_dogs/validation/dogs/._dog.2261.jpg  
  inflating: cats_and_dogs/validation/dogs/dog.2275.jpg  
  inflating: __MACOSX/cats_and_dogs/validation/dogs/._dog.2275.jpg  
  inflating: cats_and_dogs/validation/dogs/dog.2263.jpg  
  inflating: __MACOSX/cats_and_dogs/validation/dogs/._dog.2263.jpg  
  inflating: cats_and_dogs/validation/dogs/dog.2277.jpg  
  inflating: __MACOSX/cats_and_dogs/validation/dogs/._dog.2277.jpg  
  inflating: cats_and_dogs/validation/dogs/dog.2288.jpg  
  inflating: __MACOSX/cats_and_dogs/validation/dogs/._dog.2288.jpg  
  inflating: cats_and_dogs/validation/dogs/dog.2061.jpg  
  inflating: __MACOSX/cats_and_dogs/validation/dogs/._dog.2061.jpg  
  inflating: cats_and_dogs/validation/dogs/dog.2075.jpg  
  inflating: __MACOSX/cats_and_dogs/validation/dogs/._dog.2075.jpg  
  inflating: cats_and_dogs/validation/dogs/dog.2049.jpg  
  inflating: __MACOSX/cats_and_dogs/validation/dogs/._dog.2049.jpg  
  inflating: cats_and_dogs/validation/dogs/dog.2115.jpg  
  inflating: __MACOSX/cats_and_dogs/validation/dogs/._dog.2115.jpg  
  inflating: cats_and_dogs/validation/dogs/dog.2101.jpg  
  inflating: __MACOSX/cats_and_dogs/validation/dogs/._dog.2101.jpg  
  inflating: cats_and_dogs/validation/dogs/dog.2129.jpg  
  inflating: __MACOSX/cats_and_dogs/validation/dogs/._dog.2129.jpg  
  inflating: cats_and_dogs/validation/dogs/dog.2471.jpg  
  inflating: __MACOSX/cats_and_dogs/validation/dogs/._dog.2471.jpg  
  inflating: cats_and_dogs/validation/dogs/dog.2317.jpg  
  inflating: __MACOSX/cats_and_dogs/validation/dogs/._dog.2317.jpg  
  inflating: cats_and_dogs/validation/dogs/dog.2303.jpg  
  inflating: __MACOSX/cats_and_dogs/validation/dogs/._dog.2303.jpg  
  inflating: cats_and_dogs/validation/dogs/dog.2465.jpg  
  inflating: __MACOSX/cats_and_dogs/validation/dogs/._dog.2465.jpg  
  inflating: cats_and_dogs/validation/dogs/dog.2459.jpg  
  inflating: __MACOSX/cats_and_dogs/validation/dogs/._dog.2459.jpg  
  inflating: cats_and_dogs/validation/dogs/dog.2458.jpg  
  inflating: __MACOSX/cats_and_dogs/validation/dogs/._dog.2458.jpg  
  inflating: cats_and_dogs/validation/dogs/dog.2302.jpg  
  inflating: __MACOSX/cats_and_dogs/validation/dogs/._dog.2302.jpg  
  inflating: cats_and_dogs/validation/dogs/dog.2464.jpg  
  inflating: __MACOSX/cats_and_dogs/validation/dogs/._dog.2464.jpg  
  inflating: cats_and_dogs/validation/dogs/dog.2470.jpg  
  inflating: __MACOSX/cats_and_dogs/validation/dogs/._dog.2470.jpg  
  inflating: cats_and_dogs/validation/dogs/dog.2316.jpg  
  inflating: __MACOSX/cats_and_dogs/validation/dogs/._dog.2316.jpg  
  inflating: cats_and_dogs/validation/dogs/dog.2128.jpg  
  inflating: __MACOSX/cats_and_dogs/validation/dogs/._dog.2128.jpg  
  inflating: cats_and_dogs/validation/dogs/dog.2100.jpg  
  inflating: __MACOSX/cats_and_dogs/validation/dogs/._dog.2100.jpg  
  inflating: cats_and_dogs/validation/dogs/dog.2114.jpg  
  inflating: __MACOSX/cats_and_dogs/validation/dogs/._dog.2114.jpg  
  inflating: cats_and_dogs/validation/dogs/dog.2048.jpg  
  inflating: __MACOSX/cats_and_dogs/validation/dogs/._dog.2048.jpg  
  inflating: cats_and_dogs/validation/dogs/dog.2074.jpg  
  inflating: __MACOSX/cats_and_dogs/validation/dogs/._dog.2074.jpg  
  inflating: cats_and_dogs/validation/dogs/dog.2060.jpg  
  inflating: __MACOSX/cats_and_dogs/validation/dogs/._dog.2060.jpg  
  inflating: cats_and_dogs/validation/dogs/dog.2289.jpg  
  inflating: __MACOSX/cats_and_dogs/validation/dogs/._dog.2289.jpg  
  inflating: cats_and_dogs/validation/dogs/dog.2276.jpg  
  inflating: __MACOSX/cats_and_dogs/validation/dogs/._dog.2276.jpg  
  inflating: cats_and_dogs/validation/dogs/dog.2262.jpg  
  inflating: __MACOSX/cats_and_dogs/validation/dogs/._dog.2262.jpg  
  inflating: cats_and_dogs/validation/dogs/dog.2239.jpg  
  inflating: __MACOSX/cats_and_dogs/validation/dogs/._dog.2239.jpg  
  inflating: cats_and_dogs/validation/dogs/dog.2205.jpg  
  inflating: __MACOSX/cats_and_dogs/validation/dogs/._dog.2205.jpg  
  inflating: cats_and_dogs/validation/dogs/dog.2211.jpg  
  inflating: __MACOSX/cats_and_dogs/validation/dogs/._dog.2211.jpg  
  inflating: cats_and_dogs/validation/dogs/dog.2007.jpg  
  inflating: __MACOSX/cats_and_dogs/validation/dogs/._dog.2007.jpg  
  inflating: cats_and_dogs/validation/dogs/dog.2013.jpg  
  inflating: __MACOSX/cats_and_dogs/validation/dogs/._dog.2013.jpg  
  inflating: cats_and_dogs/validation/dogs/dog.2173.jpg  
  inflating: __MACOSX/cats_and_dogs/validation/dogs/._dog.2173.jpg  
  inflating: cats_and_dogs/validation/dogs/dog.2167.jpg  
  inflating: __MACOSX/cats_and_dogs/validation/dogs/._dog.2167.jpg  
  inflating: cats_and_dogs/validation/dogs/dog.2198.jpg  
  inflating: __MACOSX/cats_and_dogs/validation/dogs/._dog.2198.jpg  
  inflating: cats_and_dogs/validation/dogs/dog.2359.jpg  
  inflating: __MACOSX/cats_and_dogs/validation/dogs/._dog.2359.jpg  
  inflating: cats_and_dogs/validation/dogs/dog.2417.jpg  
  inflating: __MACOSX/cats_and_dogs/validation/dogs/._dog.2417.jpg  
  inflating: cats_and_dogs/validation/dogs/dog.2371.jpg  
  inflating: __MACOSX/cats_and_dogs/validation/dogs/._dog.2371.jpg  
  inflating: cats_and_dogs/validation/dogs/dog.2365.jpg  
  inflating: __MACOSX/cats_and_dogs/validation/dogs/._dog.2365.jpg  
  inflating: cats_and_dogs/validation/dogs/dog.2403.jpg  
  inflating: __MACOSX/cats_and_dogs/validation/dogs/._dog.2403.jpg  
  inflating: cats_and_dogs/validation/dogs/dog.2364.jpg  
  inflating: __MACOSX/cats_and_dogs/validation/dogs/._dog.2364.jpg  
  inflating: cats_and_dogs/validation/dogs/dog.2402.jpg  
  inflating: __MACOSX/cats_and_dogs/validation/dogs/._dog.2402.jpg  
  inflating: cats_and_dogs/validation/dogs/dog.2416.jpg  
  inflating: __MACOSX/cats_and_dogs/validation/dogs/._dog.2416.jpg  
  inflating: cats_and_dogs/validation/dogs/dog.2370.jpg  
  inflating: __MACOSX/cats_and_dogs/validation/dogs/._dog.2370.jpg  
  inflating: cats_and_dogs/validation/dogs/dog.2358.jpg  
  inflating: __MACOSX/cats_and_dogs/validation/dogs/._dog.2358.jpg  
  inflating: cats_and_dogs/validation/dogs/dog.2199.jpg  
  inflating: __MACOSX/cats_and_dogs/validation/dogs/._dog.2199.jpg  
  inflating: cats_and_dogs/validation/dogs/dog.2166.jpg  
  inflating: __MACOSX/cats_and_dogs/validation/dogs/._dog.2166.jpg  
  inflating: cats_and_dogs/validation/dogs/dog.2172.jpg  
  inflating: __MACOSX/cats_and_dogs/validation/dogs/._dog.2172.jpg  
  inflating: cats_and_dogs/validation/dogs/dog.2012.jpg  
  inflating: __MACOSX/cats_and_dogs/validation/dogs/._dog.2012.jpg  
  inflating: cats_and_dogs/validation/dogs/dog.2006.jpg  
  inflating: __MACOSX/cats_and_dogs/validation/dogs/._dog.2006.jpg  
  inflating: cats_and_dogs/validation/dogs/dog.2210.jpg  
  inflating: __MACOSX/cats_and_dogs/validation/dogs/._dog.2210.jpg  
  inflating: cats_and_dogs/validation/dogs/dog.2204.jpg  
  inflating: __MACOSX/cats_and_dogs/validation/dogs/._dog.2204.jpg  
  inflating: cats_and_dogs/validation/dogs/dog.2238.jpg  
  inflating: __MACOSX/cats_and_dogs/validation/dogs/._dog.2238.jpg  
  inflating: cats_and_dogs/validation/dogs/dog.2212.jpg  
  inflating: __MACOSX/cats_and_dogs/validation/dogs/._dog.2212.jpg  
  inflating: cats_and_dogs/validation/dogs/dog.2206.jpg  
  inflating: __MACOSX/cats_and_dogs/validation/dogs/._dog.2206.jpg  
  inflating: cats_and_dogs/validation/dogs/dog.2038.jpg  
  inflating: __MACOSX/cats_and_dogs/validation/dogs/._dog.2038.jpg  
  inflating: cats_and_dogs/validation/dogs/dog.2010.jpg  
  inflating: __MACOSX/cats_and_dogs/validation/dogs/._dog.2010.jpg  
  inflating: cats_and_dogs/validation/dogs/dog.2004.jpg  
  inflating: __MACOSX/cats_and_dogs/validation/dogs/._dog.2004.jpg  
  inflating: cats_and_dogs/validation/dogs/dog.2158.jpg  
  inflating: __MACOSX/cats_and_dogs/validation/dogs/._dog.2158.jpg  
  inflating: cats_and_dogs/validation/dogs/dog.2164.jpg  
  inflating: __MACOSX/cats_and_dogs/validation/dogs/._dog.2164.jpg  
  inflating: cats_and_dogs/validation/dogs/dog.2170.jpg  
  inflating: __MACOSX/cats_and_dogs/validation/dogs/._dog.2170.jpg  
  inflating: cats_and_dogs/validation/dogs/dog.2428.jpg  
  inflating: __MACOSX/cats_and_dogs/validation/dogs/._dog.2428.jpg  
  inflating: cats_and_dogs/validation/dogs/dog.2400.jpg  
  inflating: __MACOSX/cats_and_dogs/validation/dogs/._dog.2400.jpg  
  inflating: cats_and_dogs/validation/dogs/dog.2366.jpg  
  inflating: __MACOSX/cats_and_dogs/validation/dogs/._dog.2366.jpg  
  inflating: cats_and_dogs/validation/dogs/dog.2372.jpg  
  inflating: __MACOSX/cats_and_dogs/validation/dogs/._dog.2372.jpg  
  inflating: cats_and_dogs/validation/dogs/dog.2414.jpg  
  inflating: __MACOSX/cats_and_dogs/validation/dogs/._dog.2414.jpg  
  inflating: cats_and_dogs/validation/dogs/dog.2399.jpg  
  inflating: __MACOSX/cats_and_dogs/validation/dogs/._dog.2399.jpg  
  inflating: cats_and_dogs/validation/dogs/dog.2398.jpg  
  inflating: __MACOSX/cats_and_dogs/validation/dogs/._dog.2398.jpg  
  inflating: cats_and_dogs/validation/dogs/dog.2373.jpg  
  inflating: __MACOSX/cats_and_dogs/validation/dogs/._dog.2373.jpg  
  inflating: cats_and_dogs/validation/dogs/dog.2415.jpg  
  inflating: __MACOSX/cats_and_dogs/validation/dogs/._dog.2415.jpg  
  inflating: cats_and_dogs/validation/dogs/dog.2401.jpg  
  inflating: __MACOSX/cats_and_dogs/validation/dogs/._dog.2401.jpg  
  inflating: cats_and_dogs/validation/dogs/dog.2367.jpg  
  inflating: __MACOSX/cats_and_dogs/validation/dogs/._dog.2367.jpg  
  inflating: cats_and_dogs/validation/dogs/dog.2429.jpg  
  inflating: __MACOSX/cats_and_dogs/validation/dogs/._dog.2429.jpg  
  inflating: cats_and_dogs/validation/dogs/dog.2171.jpg  
  inflating: __MACOSX/cats_and_dogs/validation/dogs/._dog.2171.jpg  
  inflating: cats_and_dogs/validation/dogs/dog.2165.jpg  
  inflating: __MACOSX/cats_and_dogs/validation/dogs/._dog.2165.jpg  
  inflating: cats_and_dogs/validation/dogs/dog.2159.jpg  
  inflating: __MACOSX/cats_and_dogs/validation/dogs/._dog.2159.jpg  
  inflating: cats_and_dogs/validation/dogs/dog.2005.jpg  
  inflating: __MACOSX/cats_and_dogs/validation/dogs/._dog.2005.jpg  
  inflating: cats_and_dogs/validation/dogs/dog.2011.jpg  
  inflating: __MACOSX/cats_and_dogs/validation/dogs/._dog.2011.jpg  
  inflating: cats_and_dogs/validation/dogs/dog.2039.jpg  
  inflating: __MACOSX/cats_and_dogs/validation/dogs/._dog.2039.jpg  
  inflating: cats_and_dogs/validation/dogs/dog.2207.jpg  
  inflating: __MACOSX/cats_and_dogs/validation/dogs/._dog.2207.jpg  
  inflating: cats_and_dogs/validation/dogs/dog.2213.jpg  
  inflating: __MACOSX/cats_and_dogs/validation/dogs/._dog.2213.jpg  
  inflating: cats_and_dogs/validation/dogs/dog.2217.jpg  
  inflating: __MACOSX/cats_and_dogs/validation/dogs/._dog.2217.jpg  
  inflating: cats_and_dogs/validation/dogs/dog.2203.jpg  
  inflating: __MACOSX/cats_and_dogs/validation/dogs/._dog.2203.jpg  
  inflating: cats_and_dogs/validation/dogs/dog.2015.jpg  
  inflating: __MACOSX/cats_and_dogs/validation/dogs/._dog.2015.jpg  
  inflating: cats_and_dogs/validation/dogs/dog.2001.jpg  
  inflating: __MACOSX/cats_and_dogs/validation/dogs/._dog.2001.jpg  
  inflating: cats_and_dogs/validation/dogs/dog.2029.jpg  
  inflating: __MACOSX/cats_and_dogs/validation/dogs/._dog.2029.jpg  
  inflating: cats_and_dogs/validation/dogs/dog.2161.jpg  
  inflating: __MACOSX/cats_and_dogs/validation/dogs/._dog.2161.jpg  
  inflating: cats_and_dogs/validation/dogs/dog.2175.jpg  
  inflating: __MACOSX/cats_and_dogs/validation/dogs/._dog.2175.jpg  
  inflating: cats_and_dogs/validation/dogs/dog.2149.jpg  
  inflating: __MACOSX/cats_and_dogs/validation/dogs/._dog.2149.jpg  
  inflating: cats_and_dogs/validation/dogs/dog.2363.jpg  
  inflating: __MACOSX/cats_and_dogs/validation/dogs/._dog.2363.jpg  
  inflating: cats_and_dogs/validation/dogs/dog.2405.jpg  
  inflating: __MACOSX/cats_and_dogs/validation/dogs/._dog.2405.jpg  
  inflating: cats_and_dogs/validation/dogs/dog.2411.jpg  
  inflating: __MACOSX/cats_and_dogs/validation/dogs/._dog.2411.jpg  
  inflating: cats_and_dogs/validation/dogs/dog.2377.jpg  
  inflating: __MACOSX/cats_and_dogs/validation/dogs/._dog.2377.jpg  
  inflating: cats_and_dogs/validation/dogs/dog.2439.jpg  
  inflating: __MACOSX/cats_and_dogs/validation/dogs/._dog.2439.jpg  
  inflating: cats_and_dogs/validation/dogs/dog.2388.jpg  
  inflating: __MACOSX/cats_and_dogs/validation/dogs/._dog.2388.jpg  
  inflating: cats_and_dogs/validation/dogs/dog.2389.jpg  
  inflating: __MACOSX/cats_and_dogs/validation/dogs/._dog.2389.jpg  
  inflating: cats_and_dogs/validation/dogs/dog.2438.jpg  
  inflating: __MACOSX/cats_and_dogs/validation/dogs/._dog.2438.jpg  
  inflating: cats_and_dogs/validation/dogs/dog.2410.jpg  
  inflating: __MACOSX/cats_and_dogs/validation/dogs/._dog.2410.jpg  
  inflating: cats_and_dogs/validation/dogs/dog.2376.jpg  
  inflating: __MACOSX/cats_and_dogs/validation/dogs/._dog.2376.jpg  
  inflating: cats_and_dogs/validation/dogs/dog.2362.jpg  
  inflating: __MACOSX/cats_and_dogs/validation/dogs/._dog.2362.jpg  
  inflating: cats_and_dogs/validation/dogs/dog.2404.jpg  
  inflating: __MACOSX/cats_and_dogs/validation/dogs/._dog.2404.jpg  
  inflating: cats_and_dogs/validation/dogs/dog.2148.jpg  
  inflating: __MACOSX/cats_and_dogs/validation/dogs/._dog.2148.jpg  
  inflating: cats_and_dogs/validation/dogs/dog.2174.jpg  
  inflating: __MACOSX/cats_and_dogs/validation/dogs/._dog.2174.jpg  
  inflating: cats_and_dogs/validation/dogs/dog.2160.jpg  
  inflating: __MACOSX/cats_and_dogs/validation/dogs/._dog.2160.jpg  
  inflating: cats_and_dogs/validation/dogs/dog.2028.jpg  
  inflating: __MACOSX/cats_and_dogs/validation/dogs/._dog.2028.jpg  
  inflating: cats_and_dogs/validation/dogs/dog.2000.jpg  
  inflating: __MACOSX/cats_and_dogs/validation/dogs/._dog.2000.jpg  
  inflating: cats_and_dogs/validation/dogs/dog.2014.jpg  
  inflating: __MACOSX/cats_and_dogs/validation/dogs/._dog.2014.jpg  
  inflating: cats_and_dogs/validation/dogs/dog.2202.jpg  
  inflating: __MACOSX/cats_and_dogs/validation/dogs/._dog.2202.jpg  
  inflating: cats_and_dogs/validation/dogs/dog.2216.jpg  
  inflating: __MACOSX/cats_and_dogs/validation/dogs/._dog.2216.jpg  
  inflating: cats_and_dogs/validation/dogs/dog.2200.jpg  
  inflating: __MACOSX/cats_and_dogs/validation/dogs/._dog.2200.jpg  
  inflating: cats_and_dogs/validation/dogs/dog.2214.jpg  
  inflating: __MACOSX/cats_and_dogs/validation/dogs/._dog.2214.jpg  
  inflating: cats_and_dogs/validation/dogs/dog.2228.jpg  
  inflating: __MACOSX/cats_and_dogs/validation/dogs/._dog.2228.jpg  
  inflating: cats_and_dogs/validation/dogs/dog.2002.jpg  
  inflating: __MACOSX/cats_and_dogs/validation/dogs/._dog.2002.jpg  
  inflating: cats_and_dogs/validation/dogs/dog.2016.jpg  
  inflating: __MACOSX/cats_and_dogs/validation/dogs/._dog.2016.jpg  
  inflating: cats_and_dogs/validation/dogs/dog.2176.jpg  
  inflating: __MACOSX/cats_and_dogs/validation/dogs/._dog.2176.jpg  
  inflating: cats_and_dogs/validation/dogs/dog.2162.jpg  
  inflating: __MACOSX/cats_and_dogs/validation/dogs/._dog.2162.jpg  
  inflating: cats_and_dogs/validation/dogs/dog.2189.jpg  
  inflating: __MACOSX/cats_and_dogs/validation/dogs/._dog.2189.jpg  
  inflating: cats_and_dogs/validation/dogs/dog.2374.jpg  
  inflating: __MACOSX/cats_and_dogs/validation/dogs/._dog.2374.jpg  
  inflating: cats_and_dogs/validation/dogs/dog.2412.jpg  
  inflating: __MACOSX/cats_and_dogs/validation/dogs/._dog.2412.jpg  
  inflating: cats_and_dogs/validation/dogs/dog.2406.jpg  
  inflating: __MACOSX/cats_and_dogs/validation/dogs/._dog.2406.jpg  
  inflating: cats_and_dogs/validation/dogs/dog.2360.jpg  
  inflating: __MACOSX/cats_and_dogs/validation/dogs/._dog.2360.jpg  
  inflating: cats_and_dogs/validation/dogs/dog.2348.jpg  
  inflating: __MACOSX/cats_and_dogs/validation/dogs/._dog.2348.jpg  
  inflating: cats_and_dogs/validation/dogs/dog.2349.jpg  
  inflating: __MACOSX/cats_and_dogs/validation/dogs/._dog.2349.jpg  
  inflating: cats_and_dogs/validation/dogs/dog.2407.jpg  
  inflating: __MACOSX/cats_and_dogs/validation/dogs/._dog.2407.jpg  
  inflating: cats_and_dogs/validation/dogs/dog.2361.jpg  
  inflating: __MACOSX/cats_and_dogs/validation/dogs/._dog.2361.jpg  
  inflating: cats_and_dogs/validation/dogs/dog.2375.jpg  
  inflating: __MACOSX/cats_and_dogs/validation/dogs/._dog.2375.jpg  
  inflating: cats_and_dogs/validation/dogs/dog.2413.jpg  
  inflating: __MACOSX/cats_and_dogs/validation/dogs/._dog.2413.jpg  
  inflating: cats_and_dogs/validation/dogs/dog.2188.jpg  
  inflating: __MACOSX/cats_and_dogs/validation/dogs/._dog.2188.jpg  
  inflating: cats_and_dogs/validation/dogs/dog.2163.jpg  
  inflating: __MACOSX/cats_and_dogs/validation/dogs/._dog.2163.jpg  
  inflating: cats_and_dogs/validation/dogs/dog.2177.jpg  
  inflating: __MACOSX/cats_and_dogs/validation/dogs/._dog.2177.jpg  
  inflating: cats_and_dogs/validation/dogs/dog.2017.jpg  
  inflating: __MACOSX/cats_and_dogs/validation/dogs/._dog.2017.jpg  
  inflating: cats_and_dogs/validation/dogs/dog.2003.jpg  
  inflating: __MACOSX/cats_and_dogs/validation/dogs/._dog.2003.jpg  
  inflating: cats_and_dogs/validation/dogs/dog.2229.jpg  
  inflating: __MACOSX/cats_and_dogs/validation/dogs/._dog.2229.jpg  
  inflating: cats_and_dogs/validation/dogs/dog.2215.jpg  
  inflating: __MACOSX/cats_and_dogs/validation/dogs/._dog.2215.jpg  
  inflating: cats_and_dogs/validation/dogs/dog.2201.jpg  
  inflating: __MACOSX/cats_and_dogs/validation/dogs/._dog.2201.jpg  
  inflating: cats_and_dogs/validation/dogs/dog.2218.jpg  
  inflating: __MACOSX/cats_and_dogs/validation/dogs/._dog.2218.jpg  
  inflating: cats_and_dogs/validation/dogs/dog.2224.jpg  
  inflating: __MACOSX/cats_and_dogs/validation/dogs/._dog.2224.jpg  
  inflating: cats_and_dogs/validation/dogs/dog.2230.jpg  
  inflating: __MACOSX/cats_and_dogs/validation/dogs/._dog.2230.jpg  
  inflating: cats_and_dogs/validation/dogs/dog.2026.jpg  
  inflating: __MACOSX/cats_and_dogs/validation/dogs/._dog.2026.jpg  
  inflating: cats_and_dogs/validation/dogs/dog.2032.jpg  
  inflating: __MACOSX/cats_and_dogs/validation/dogs/._dog.2032.jpg  
  inflating: cats_and_dogs/validation/dogs/dog.2152.jpg  
  inflating: __MACOSX/cats_and_dogs/validation/dogs/._dog.2152.jpg  
  inflating: cats_and_dogs/validation/dogs/dog.2146.jpg  
  inflating: __MACOSX/cats_and_dogs/validation/dogs/._dog.2146.jpg  
  inflating: cats_and_dogs/validation/dogs/dog.2191.jpg  
  inflating: __MACOSX/cats_and_dogs/validation/dogs/._dog.2191.jpg  
  inflating: cats_and_dogs/validation/dogs/dog.2185.jpg  
  inflating: __MACOSX/cats_and_dogs/validation/dogs/._dog.2185.jpg  
  inflating: cats_and_dogs/validation/dogs/dog.2378.jpg  
  inflating: __MACOSX/cats_and_dogs/validation/dogs/._dog.2378.jpg  
  inflating: cats_and_dogs/validation/dogs/dog.2436.jpg  
  inflating: __MACOSX/cats_and_dogs/validation/dogs/._dog.2436.jpg  
  inflating: cats_and_dogs/validation/dogs/dog.2350.jpg  
  inflating: __MACOSX/cats_and_dogs/validation/dogs/._dog.2350.jpg  
  inflating: cats_and_dogs/validation/dogs/dog.2344.jpg  
  inflating: __MACOSX/cats_and_dogs/validation/dogs/._dog.2344.jpg  
  inflating: cats_and_dogs/validation/dogs/dog.2422.jpg  
  inflating: __MACOSX/cats_and_dogs/validation/dogs/._dog.2422.jpg  
  inflating: cats_and_dogs/validation/dogs/dog.2393.jpg  
  inflating: __MACOSX/cats_and_dogs/validation/dogs/._dog.2393.jpg  
  inflating: cats_and_dogs/validation/dogs/dog.2387.jpg  
  inflating: __MACOSX/cats_and_dogs/validation/dogs/._dog.2387.jpg  
  inflating: cats_and_dogs/validation/dogs/dog.2386.jpg  
  inflating: __MACOSX/cats_and_dogs/validation/dogs/._dog.2386.jpg  
  inflating: cats_and_dogs/validation/dogs/dog.2392.jpg  
  inflating: __MACOSX/cats_and_dogs/validation/dogs/._dog.2392.jpg  
  inflating: cats_and_dogs/validation/dogs/dog.2345.jpg  
  inflating: __MACOSX/cats_and_dogs/validation/dogs/._dog.2345.jpg  
  inflating: cats_and_dogs/validation/dogs/dog.2423.jpg  
  inflating: __MACOSX/cats_and_dogs/validation/dogs/._dog.2423.jpg  
  inflating: cats_and_dogs/validation/dogs/dog.2437.jpg  
  inflating: __MACOSX/cats_and_dogs/validation/dogs/._dog.2437.jpg  
  inflating: cats_and_dogs/validation/dogs/dog.2351.jpg  
  inflating: __MACOSX/cats_and_dogs/validation/dogs/._dog.2351.jpg  
  inflating: cats_and_dogs/validation/dogs/dog.2379.jpg  
  inflating: __MACOSX/cats_and_dogs/validation/dogs/._dog.2379.jpg  
  inflating: cats_and_dogs/validation/dogs/dog.2184.jpg  
  inflating: __MACOSX/cats_and_dogs/validation/dogs/._dog.2184.jpg  
  inflating: cats_and_dogs/validation/dogs/dog.2190.jpg  
  inflating: __MACOSX/cats_and_dogs/validation/dogs/._dog.2190.jpg  
  inflating: cats_and_dogs/validation/dogs/dog.2147.jpg  
  inflating: __MACOSX/cats_and_dogs/validation/dogs/._dog.2147.jpg  
  inflating: cats_and_dogs/validation/dogs/dog.2153.jpg  
  inflating: __MACOSX/cats_and_dogs/validation/dogs/._dog.2153.jpg  
  inflating: cats_and_dogs/validation/dogs/dog.2033.jpg  
  inflating: __MACOSX/cats_and_dogs/validation/dogs/._dog.2033.jpg  
  inflating: cats_and_dogs/validation/dogs/dog.2027.jpg  
  inflating: __MACOSX/cats_and_dogs/validation/dogs/._dog.2027.jpg  
  inflating: cats_and_dogs/validation/dogs/dog.2231.jpg  
  inflating: __MACOSX/cats_and_dogs/validation/dogs/._dog.2231.jpg  
  inflating: cats_and_dogs/validation/dogs/dog.2225.jpg  
  inflating: __MACOSX/cats_and_dogs/validation/dogs/._dog.2225.jpg  
  inflating: cats_and_dogs/validation/dogs/dog.2219.jpg  
  inflating: __MACOSX/cats_and_dogs/validation/dogs/._dog.2219.jpg  
  inflating: cats_and_dogs/validation/dogs/dog.2233.jpg  
  inflating: __MACOSX/cats_and_dogs/validation/dogs/._dog.2233.jpg  
  inflating: cats_and_dogs/validation/dogs/dog.2227.jpg  
  inflating: __MACOSX/cats_and_dogs/validation/dogs/._dog.2227.jpg  
  inflating: cats_and_dogs/validation/dogs/dog.2019.jpg  
  inflating: __MACOSX/cats_and_dogs/validation/dogs/._dog.2019.jpg  
  inflating: cats_and_dogs/validation/dogs/dog.2031.jpg  
  inflating: __MACOSX/cats_and_dogs/validation/dogs/._dog.2031.jpg  
  inflating: cats_and_dogs/validation/dogs/dog.2025.jpg  
  inflating: __MACOSX/cats_and_dogs/validation/dogs/._dog.2025.jpg  
  inflating: cats_and_dogs/validation/dogs/dog.2179.jpg  
  inflating: __MACOSX/cats_and_dogs/validation/dogs/._dog.2179.jpg  
  inflating: cats_and_dogs/validation/dogs/dog.2145.jpg  
  inflating: __MACOSX/cats_and_dogs/validation/dogs/._dog.2145.jpg  
  inflating: cats_and_dogs/validation/dogs/dog.2151.jpg  
  inflating: __MACOSX/cats_and_dogs/validation/dogs/._dog.2151.jpg  
  inflating: cats_and_dogs/validation/dogs/dog.2186.jpg  
  inflating: __MACOSX/cats_and_dogs/validation/dogs/._dog.2186.jpg  
  inflating: cats_and_dogs/validation/dogs/dog.2192.jpg  
  inflating: __MACOSX/cats_and_dogs/validation/dogs/._dog.2192.jpg  
  inflating: cats_and_dogs/validation/dogs/dog.2409.jpg  
  inflating: __MACOSX/cats_and_dogs/validation/dogs/._dog.2409.jpg  
  inflating: cats_and_dogs/validation/dogs/dog.2421.jpg  
  inflating: __MACOSX/cats_and_dogs/validation/dogs/._dog.2421.jpg  
  inflating: cats_and_dogs/validation/dogs/dog.2347.jpg  
  inflating: __MACOSX/cats_and_dogs/validation/dogs/._dog.2347.jpg  
  inflating: cats_and_dogs/validation/dogs/dog.2353.jpg  
  inflating: __MACOSX/cats_and_dogs/validation/dogs/._dog.2353.jpg  
  inflating: cats_and_dogs/validation/dogs/dog.2435.jpg  
  inflating: __MACOSX/cats_and_dogs/validation/dogs/._dog.2435.jpg  
  inflating: cats_and_dogs/validation/dogs/dog.2384.jpg  
  inflating: __MACOSX/cats_and_dogs/validation/dogs/._dog.2384.jpg  
  inflating: cats_and_dogs/validation/dogs/dog.2390.jpg  
  inflating: __MACOSX/cats_and_dogs/validation/dogs/._dog.2390.jpg  
  inflating: cats_and_dogs/validation/dogs/dog.2391.jpg  
  inflating: __MACOSX/cats_and_dogs/validation/dogs/._dog.2391.jpg  
  inflating: cats_and_dogs/validation/dogs/dog.2385.jpg  
  inflating: __MACOSX/cats_and_dogs/validation/dogs/._dog.2385.jpg  
  inflating: cats_and_dogs/validation/dogs/dog.2352.jpg  
  inflating: __MACOSX/cats_and_dogs/validation/dogs/._dog.2352.jpg  
  inflating: cats_and_dogs/validation/dogs/dog.2434.jpg  
  inflating: __MACOSX/cats_and_dogs/validation/dogs/._dog.2434.jpg  
  inflating: cats_and_dogs/validation/dogs/dog.2420.jpg  
  inflating: __MACOSX/cats_and_dogs/validation/dogs/._dog.2420.jpg  
  inflating: cats_and_dogs/validation/dogs/dog.2346.jpg  
  inflating: __MACOSX/cats_and_dogs/validation/dogs/._dog.2346.jpg  
  inflating: cats_and_dogs/validation/dogs/dog.2408.jpg  
  inflating: __MACOSX/cats_and_dogs/validation/dogs/._dog.2408.jpg  
  inflating: cats_and_dogs/validation/dogs/dog.2193.jpg  
  inflating: __MACOSX/cats_and_dogs/validation/dogs/._dog.2193.jpg  
  inflating: cats_and_dogs/validation/dogs/dog.2187.jpg  
  inflating: __MACOSX/cats_and_dogs/validation/dogs/._dog.2187.jpg  
  inflating: cats_and_dogs/validation/dogs/dog.2150.jpg  
  inflating: __MACOSX/cats_and_dogs/validation/dogs/._dog.2150.jpg  
  inflating: cats_and_dogs/validation/dogs/dog.2144.jpg  
  inflating: __MACOSX/cats_and_dogs/validation/dogs/._dog.2144.jpg  
  inflating: cats_and_dogs/validation/dogs/dog.2178.jpg  
  inflating: __MACOSX/cats_and_dogs/validation/dogs/._dog.2178.jpg  
  inflating: cats_and_dogs/validation/dogs/dog.2024.jpg  
  inflating: __MACOSX/cats_and_dogs/validation/dogs/._dog.2024.jpg  
  inflating: cats_and_dogs/validation/dogs/dog.2030.jpg  
  inflating: __MACOSX/cats_and_dogs/validation/dogs/._dog.2030.jpg  
  inflating: cats_and_dogs/validation/dogs/dog.2018.jpg  
  inflating: __MACOSX/cats_and_dogs/validation/dogs/._dog.2018.jpg  
  inflating: cats_and_dogs/validation/dogs/dog.2226.jpg  
  inflating: __MACOSX/cats_and_dogs/validation/dogs/._dog.2226.jpg  
  inflating: cats_and_dogs/validation/dogs/dog.2232.jpg  
  inflating: __MACOSX/cats_and_dogs/validation/dogs/._dog.2232.jpg  
  inflating: cats_and_dogs/validation/dogs/dog.2236.jpg  
  inflating: __MACOSX/cats_and_dogs/validation/dogs/._dog.2236.jpg  
  inflating: cats_and_dogs/validation/dogs/dog.2222.jpg  
  inflating: __MACOSX/cats_and_dogs/validation/dogs/._dog.2222.jpg  
  inflating: cats_and_dogs/validation/dogs/dog.2034.jpg  
  inflating: __MACOSX/cats_and_dogs/validation/dogs/._dog.2034.jpg  
  inflating: cats_and_dogs/validation/dogs/dog.2020.jpg  
  inflating: __MACOSX/cats_and_dogs/validation/dogs/._dog.2020.jpg  
  inflating: cats_and_dogs/validation/dogs/dog.2008.jpg  
  inflating: __MACOSX/cats_and_dogs/validation/dogs/._dog.2008.jpg  
  inflating: cats_and_dogs/validation/dogs/dog.2140.jpg  
  inflating: __MACOSX/cats_and_dogs/validation/dogs/._dog.2140.jpg  
  inflating: cats_and_dogs/validation/dogs/dog.2154.jpg  
  inflating: __MACOSX/cats_and_dogs/validation/dogs/._dog.2154.jpg  
  inflating: cats_and_dogs/validation/dogs/dog.2168.jpg  
  inflating: __MACOSX/cats_and_dogs/validation/dogs/._dog.2168.jpg  
  inflating: cats_and_dogs/validation/dogs/dog.2183.jpg  
  inflating: __MACOSX/cats_and_dogs/validation/dogs/._dog.2183.jpg  
  inflating: cats_and_dogs/validation/dogs/dog.2197.jpg  
  inflating: __MACOSX/cats_and_dogs/validation/dogs/._dog.2197.jpg  
  inflating: cats_and_dogs/validation/dogs/dog.2342.jpg  
  inflating: __MACOSX/cats_and_dogs/validation/dogs/._dog.2342.jpg  
  inflating: cats_and_dogs/validation/dogs/dog.2424.jpg  
  inflating: __MACOSX/cats_and_dogs/validation/dogs/._dog.2424.jpg  
  inflating: cats_and_dogs/validation/dogs/dog.2430.jpg  
  inflating: __MACOSX/cats_and_dogs/validation/dogs/._dog.2430.jpg  
  inflating: cats_and_dogs/validation/dogs/dog.2356.jpg  
  inflating: __MACOSX/cats_and_dogs/validation/dogs/._dog.2356.jpg  
  inflating: cats_and_dogs/validation/dogs/dog.2418.jpg  
  inflating: __MACOSX/cats_and_dogs/validation/dogs/._dog.2418.jpg  
  inflating: cats_and_dogs/validation/dogs/dog.2381.jpg  
  inflating: __MACOSX/cats_and_dogs/validation/dogs/._dog.2381.jpg  
  inflating: cats_and_dogs/validation/dogs/dog.2395.jpg  
  inflating: __MACOSX/cats_and_dogs/validation/dogs/._dog.2395.jpg  
  inflating: cats_and_dogs/validation/dogs/dog.2394.jpg  
  inflating: __MACOSX/cats_and_dogs/validation/dogs/._dog.2394.jpg  
  inflating: cats_and_dogs/validation/dogs/dog.2380.jpg  
  inflating: __MACOSX/cats_and_dogs/validation/dogs/._dog.2380.jpg  
  inflating: cats_and_dogs/validation/dogs/dog.2419.jpg  
  inflating: __MACOSX/cats_and_dogs/validation/dogs/._dog.2419.jpg  
  inflating: cats_and_dogs/validation/dogs/dog.2431.jpg  
  inflating: __MACOSX/cats_and_dogs/validation/dogs/._dog.2431.jpg  
  inflating: cats_and_dogs/validation/dogs/dog.2357.jpg  
  inflating: __MACOSX/cats_and_dogs/validation/dogs/._dog.2357.jpg  
  inflating: cats_and_dogs/validation/dogs/dog.2343.jpg  
  inflating: __MACOSX/cats_and_dogs/validation/dogs/._dog.2343.jpg  
  inflating: cats_and_dogs/validation/dogs/dog.2425.jpg  
  inflating: __MACOSX/cats_and_dogs/validation/dogs/._dog.2425.jpg  
  inflating: cats_and_dogs/validation/dogs/dog.2196.jpg  
  inflating: __MACOSX/cats_and_dogs/validation/dogs/._dog.2196.jpg  
  inflating: cats_and_dogs/validation/dogs/dog.2182.jpg  
  inflating: __MACOSX/cats_and_dogs/validation/dogs/._dog.2182.jpg  
  inflating: cats_and_dogs/validation/dogs/dog.2169.jpg  
  inflating: __MACOSX/cats_and_dogs/validation/dogs/._dog.2169.jpg  
  inflating: cats_and_dogs/validation/dogs/dog.2155.jpg  
  inflating: __MACOSX/cats_and_dogs/validation/dogs/._dog.2155.jpg  
  inflating: cats_and_dogs/validation/dogs/dog.2141.jpg  
  inflating: __MACOSX/cats_and_dogs/validation/dogs/._dog.2141.jpg  
  inflating: cats_and_dogs/validation/dogs/dog.2009.jpg  
  inflating: __MACOSX/cats_and_dogs/validation/dogs/._dog.2009.jpg  
  inflating: cats_and_dogs/validation/dogs/dog.2021.jpg  
  inflating: __MACOSX/cats_and_dogs/validation/dogs/._dog.2021.jpg  
  inflating: cats_and_dogs/validation/dogs/dog.2035.jpg  
  inflating: __MACOSX/cats_and_dogs/validation/dogs/._dog.2035.jpg  
  inflating: cats_and_dogs/validation/dogs/dog.2223.jpg  
  inflating: __MACOSX/cats_and_dogs/validation/dogs/._dog.2223.jpg  
  inflating: cats_and_dogs/validation/dogs/dog.2237.jpg  
  inflating: __MACOSX/cats_and_dogs/validation/dogs/._dog.2237.jpg  
  inflating: cats_and_dogs/validation/dogs/dog.2221.jpg  
  inflating: __MACOSX/cats_and_dogs/validation/dogs/._dog.2221.jpg  
  inflating: cats_and_dogs/validation/dogs/dog.2235.jpg  
  inflating: __MACOSX/cats_and_dogs/validation/dogs/._dog.2235.jpg  
  inflating: cats_and_dogs/validation/dogs/dog.2209.jpg  
  inflating: __MACOSX/cats_and_dogs/validation/dogs/._dog.2209.jpg  
  inflating: cats_and_dogs/validation/dogs/dog.2023.jpg  
  inflating: __MACOSX/cats_and_dogs/validation/dogs/._dog.2023.jpg  
  inflating: cats_and_dogs/validation/dogs/dog.2037.jpg  
  inflating: __MACOSX/cats_and_dogs/validation/dogs/._dog.2037.jpg  
  inflating: cats_and_dogs/validation/dogs/dog.2157.jpg  
  inflating: __MACOSX/cats_and_dogs/validation/dogs/._dog.2157.jpg  
  inflating: cats_and_dogs/validation/dogs/dog.2143.jpg  
  inflating: __MACOSX/cats_and_dogs/validation/dogs/._dog.2143.jpg  
  inflating: cats_and_dogs/validation/dogs/dog.2194.jpg  
  inflating: __MACOSX/cats_and_dogs/validation/dogs/._dog.2194.jpg  
  inflating: cats_and_dogs/validation/dogs/dog.2180.jpg  
  inflating: __MACOSX/cats_and_dogs/validation/dogs/._dog.2180.jpg  
  inflating: cats_and_dogs/validation/dogs/dog.2355.jpg  
  inflating: __MACOSX/cats_and_dogs/validation/dogs/._dog.2355.jpg  
  inflating: cats_and_dogs/validation/dogs/dog.2433.jpg  
  inflating: __MACOSX/cats_and_dogs/validation/dogs/._dog.2433.jpg  
  inflating: cats_and_dogs/validation/dogs/dog.2427.jpg  
  inflating: __MACOSX/cats_and_dogs/validation/dogs/._dog.2427.jpg  
  inflating: cats_and_dogs/validation/dogs/dog.2341.jpg  
  inflating: __MACOSX/cats_and_dogs/validation/dogs/._dog.2341.jpg  
  inflating: cats_and_dogs/validation/dogs/dog.2369.jpg  
  inflating: __MACOSX/cats_and_dogs/validation/dogs/._dog.2369.jpg  
  inflating: cats_and_dogs/validation/dogs/dog.2396.jpg  
  inflating: __MACOSX/cats_and_dogs/validation/dogs/._dog.2396.jpg  
  inflating: cats_and_dogs/validation/dogs/dog.2382.jpg  
  inflating: __MACOSX/cats_and_dogs/validation/dogs/._dog.2382.jpg  
  inflating: cats_and_dogs/validation/dogs/dog.2383.jpg  
  inflating: __MACOSX/cats_and_dogs/validation/dogs/._dog.2383.jpg  
  inflating: cats_and_dogs/validation/dogs/dog.2397.jpg  
  inflating: __MACOSX/cats_and_dogs/validation/dogs/._dog.2397.jpg  
  inflating: cats_and_dogs/validation/dogs/dog.2368.jpg  
  inflating: __MACOSX/cats_and_dogs/validation/dogs/._dog.2368.jpg  
  inflating: cats_and_dogs/validation/dogs/dog.2426.jpg  
  inflating: __MACOSX/cats_and_dogs/validation/dogs/._dog.2426.jpg  
  inflating: cats_and_dogs/validation/dogs/dog.2340.jpg  
  inflating: __MACOSX/cats_and_dogs/validation/dogs/._dog.2340.jpg  
  inflating: cats_and_dogs/validation/dogs/dog.2354.jpg  
  inflating: __MACOSX/cats_and_dogs/validation/dogs/._dog.2354.jpg  
  inflating: cats_and_dogs/validation/dogs/dog.2432.jpg  
  inflating: __MACOSX/cats_and_dogs/validation/dogs/._dog.2432.jpg  
  inflating: cats_and_dogs/validation/dogs/dog.2181.jpg  
  inflating: __MACOSX/cats_and_dogs/validation/dogs/._dog.2181.jpg  
  inflating: cats_and_dogs/validation/dogs/dog.2195.jpg  
  inflating: __MACOSX/cats_and_dogs/validation/dogs/._dog.2195.jpg  
  inflating: cats_and_dogs/validation/dogs/dog.2142.jpg  
  inflating: __MACOSX/cats_and_dogs/validation/dogs/._dog.2142.jpg  
  inflating: cats_and_dogs/validation/dogs/dog.2156.jpg  
  inflating: __MACOSX/cats_and_dogs/validation/dogs/._dog.2156.jpg  
  inflating: cats_and_dogs/validation/dogs/dog.2036.jpg  
  inflating: __MACOSX/cats_and_dogs/validation/dogs/._dog.2036.jpg  
  inflating: cats_and_dogs/validation/dogs/dog.2022.jpg  
  inflating: __MACOSX/cats_and_dogs/validation/dogs/._dog.2022.jpg  
  inflating: cats_and_dogs/validation/dogs/dog.2208.jpg  
  inflating: __MACOSX/cats_and_dogs/validation/dogs/._dog.2208.jpg  
  inflating: cats_and_dogs/validation/dogs/dog.2234.jpg  
  inflating: __MACOSX/cats_and_dogs/validation/dogs/._dog.2234.jpg  
  inflating: cats_and_dogs/validation/dogs/dog.2220.jpg  
  inflating: __MACOSX/cats_and_dogs/validation/dogs/._dog.2220.jpg  
  inflating: cats_and_dogs/validation/dogs/dog.2247.jpg  
  inflating: __MACOSX/cats_and_dogs/validation/dogs/._dog.2247.jpg  
  inflating: cats_and_dogs/validation/dogs/dog.2253.jpg  
  inflating: __MACOSX/cats_and_dogs/validation/dogs/._dog.2253.jpg  
  inflating: cats_and_dogs/validation/dogs/dog.2284.jpg  
  inflating: __MACOSX/cats_and_dogs/validation/dogs/._dog.2284.jpg  
  inflating: cats_and_dogs/validation/dogs/dog.2290.jpg  
  inflating: __MACOSX/cats_and_dogs/validation/dogs/._dog.2290.jpg  
  inflating: cats_and_dogs/validation/dogs/dog.2079.jpg  
  inflating: __MACOSX/cats_and_dogs/validation/dogs/._dog.2079.jpg  
  inflating: cats_and_dogs/validation/dogs/dog.2045.jpg  
  inflating: __MACOSX/cats_and_dogs/validation/dogs/._dog.2045.jpg  
  inflating: cats_and_dogs/validation/dogs/dog.2051.jpg  
  inflating: __MACOSX/cats_and_dogs/validation/dogs/._dog.2051.jpg  
  inflating: cats_and_dogs/validation/dogs/dog.2086.jpg  
  inflating: __MACOSX/cats_and_dogs/validation/dogs/._dog.2086.jpg  
  inflating: cats_and_dogs/validation/dogs/dog.2092.jpg  
  inflating: __MACOSX/cats_and_dogs/validation/dogs/._dog.2092.jpg  
  inflating: cats_and_dogs/validation/dogs/dog.2119.jpg  
  inflating: __MACOSX/cats_and_dogs/validation/dogs/._dog.2119.jpg  
  inflating: cats_and_dogs/validation/dogs/dog.2131.jpg  
  inflating: __MACOSX/cats_and_dogs/validation/dogs/._dog.2131.jpg  
  inflating: cats_and_dogs/validation/dogs/dog.2125.jpg  
  inflating: __MACOSX/cats_and_dogs/validation/dogs/._dog.2125.jpg  
  inflating: cats_and_dogs/validation/dogs/dog.2469.jpg  
  inflating: __MACOSX/cats_and_dogs/validation/dogs/._dog.2469.jpg  
  inflating: cats_and_dogs/validation/dogs/dog.2333.jpg  
  inflating: __MACOSX/cats_and_dogs/validation/dogs/._dog.2333.jpg  
  inflating: cats_and_dogs/validation/dogs/dog.2455.jpg  
  inflating: __MACOSX/cats_and_dogs/validation/dogs/._dog.2455.jpg  
  inflating: cats_and_dogs/validation/dogs/dog.2441.jpg  
  inflating: __MACOSX/cats_and_dogs/validation/dogs/._dog.2441.jpg  
  inflating: cats_and_dogs/validation/dogs/dog.2327.jpg  
  inflating: __MACOSX/cats_and_dogs/validation/dogs/._dog.2327.jpg  
  inflating: cats_and_dogs/validation/dogs/dog.2496.jpg  
  inflating: __MACOSX/cats_and_dogs/validation/dogs/._dog.2496.jpg  
  inflating: cats_and_dogs/validation/dogs/dog.2482.jpg  
  inflating: __MACOSX/cats_and_dogs/validation/dogs/._dog.2482.jpg  
  inflating: cats_and_dogs/validation/dogs/dog.2483.jpg  
  inflating: __MACOSX/cats_and_dogs/validation/dogs/._dog.2483.jpg  
  inflating: cats_and_dogs/validation/dogs/dog.2497.jpg  
  inflating: __MACOSX/cats_and_dogs/validation/dogs/._dog.2497.jpg  
  inflating: cats_and_dogs/validation/dogs/dog.2440.jpg  
  inflating: __MACOSX/cats_and_dogs/validation/dogs/._dog.2440.jpg  
  inflating: cats_and_dogs/validation/dogs/dog.2326.jpg  
  inflating: __MACOSX/cats_and_dogs/validation/dogs/._dog.2326.jpg  
  inflating: cats_and_dogs/validation/dogs/dog.2332.jpg  
  inflating: __MACOSX/cats_and_dogs/validation/dogs/._dog.2332.jpg  
  inflating: cats_and_dogs/validation/dogs/dog.2454.jpg  
  inflating: __MACOSX/cats_and_dogs/validation/dogs/._dog.2454.jpg  
  inflating: cats_and_dogs/validation/dogs/dog.2468.jpg  
  inflating: __MACOSX/cats_and_dogs/validation/dogs/._dog.2468.jpg  
  inflating: cats_and_dogs/validation/dogs/dog.2124.jpg  
  inflating: __MACOSX/cats_and_dogs/validation/dogs/._dog.2124.jpg  
  inflating: cats_and_dogs/validation/dogs/dog.2130.jpg  
  inflating: __MACOSX/cats_and_dogs/validation/dogs/._dog.2130.jpg  
  inflating: cats_and_dogs/validation/dogs/dog.2118.jpg  
  inflating: __MACOSX/cats_and_dogs/validation/dogs/._dog.2118.jpg  
  inflating: cats_and_dogs/validation/dogs/dog.2093.jpg  
  inflating: __MACOSX/cats_and_dogs/validation/dogs/._dog.2093.jpg  
  inflating: cats_and_dogs/validation/dogs/dog.2087.jpg  
  inflating: __MACOSX/cats_and_dogs/validation/dogs/._dog.2087.jpg  
  inflating: cats_and_dogs/validation/dogs/dog.2050.jpg  
  inflating: __MACOSX/cats_and_dogs/validation/dogs/._dog.2050.jpg  
  inflating: cats_and_dogs/validation/dogs/dog.2044.jpg  
  inflating: __MACOSX/cats_and_dogs/validation/dogs/._dog.2044.jpg  
  inflating: cats_and_dogs/validation/dogs/dog.2078.jpg  
  inflating: __MACOSX/cats_and_dogs/validation/dogs/._dog.2078.jpg  
  inflating: cats_and_dogs/validation/dogs/dog.2291.jpg  
  inflating: __MACOSX/cats_and_dogs/validation/dogs/._dog.2291.jpg  
  inflating: cats_and_dogs/validation/dogs/dog.2285.jpg  
  inflating: __MACOSX/cats_and_dogs/validation/dogs/._dog.2285.jpg  
  inflating: cats_and_dogs/validation/dogs/dog.2252.jpg  
  inflating: __MACOSX/cats_and_dogs/validation/dogs/._dog.2252.jpg  
  inflating: cats_and_dogs/validation/dogs/dog.2246.jpg  
  inflating: __MACOSX/cats_and_dogs/validation/dogs/._dog.2246.jpg  
  inflating: cats_and_dogs/validation/dogs/dog.2278.jpg  
  inflating: __MACOSX/cats_and_dogs/validation/dogs/._dog.2278.jpg  
  inflating: cats_and_dogs/validation/dogs/dog.2250.jpg  
  inflating: __MACOSX/cats_and_dogs/validation/dogs/._dog.2250.jpg  
  inflating: cats_and_dogs/validation/dogs/dog.2244.jpg  
  inflating: __MACOSX/cats_and_dogs/validation/dogs/._dog.2244.jpg  
  inflating: cats_and_dogs/validation/dogs/dog.2293.jpg  
  inflating: __MACOSX/cats_and_dogs/validation/dogs/._dog.2293.jpg  
  inflating: cats_and_dogs/validation/dogs/dog.2287.jpg  
  inflating: __MACOSX/cats_and_dogs/validation/dogs/._dog.2287.jpg  
  inflating: cats_and_dogs/validation/dogs/dog.2052.jpg  
  inflating: __MACOSX/cats_and_dogs/validation/dogs/._dog.2052.jpg  
  inflating: cats_and_dogs/validation/dogs/dog.2046.jpg  
  inflating: __MACOSX/cats_and_dogs/validation/dogs/._dog.2046.jpg  
  inflating: cats_and_dogs/validation/dogs/dog.2091.jpg  
  inflating: __MACOSX/cats_and_dogs/validation/dogs/._dog.2091.jpg  
  inflating: cats_and_dogs/validation/dogs/dog.2085.jpg  
  inflating: __MACOSX/cats_and_dogs/validation/dogs/._dog.2085.jpg  
  inflating: cats_and_dogs/validation/dogs/dog.2126.jpg  
  inflating: __MACOSX/cats_and_dogs/validation/dogs/._dog.2126.jpg  
  inflating: cats_and_dogs/validation/dogs/dog.2132.jpg  
  inflating: __MACOSX/cats_and_dogs/validation/dogs/._dog.2132.jpg  
  inflating: cats_and_dogs/validation/dogs/dog.2318.jpg  
  inflating: __MACOSX/cats_and_dogs/validation/dogs/._dog.2318.jpg  
  inflating: cats_and_dogs/validation/dogs/dog.2324.jpg  
  inflating: __MACOSX/cats_and_dogs/validation/dogs/._dog.2324.jpg  
  inflating: cats_and_dogs/validation/dogs/dog.2442.jpg  
  inflating: __MACOSX/cats_and_dogs/validation/dogs/._dog.2442.jpg  
  inflating: cats_and_dogs/validation/dogs/dog.2456.jpg  
  inflating: __MACOSX/cats_and_dogs/validation/dogs/._dog.2456.jpg  
  inflating: cats_and_dogs/validation/dogs/dog.2330.jpg  
  inflating: __MACOSX/cats_and_dogs/validation/dogs/._dog.2330.jpg  
  inflating: cats_and_dogs/validation/dogs/dog.2481.jpg  
  inflating: __MACOSX/cats_and_dogs/validation/dogs/._dog.2481.jpg  
  inflating: cats_and_dogs/validation/dogs/dog.2495.jpg  
  inflating: __MACOSX/cats_and_dogs/validation/dogs/._dog.2495.jpg  
  inflating: cats_and_dogs/validation/dogs/dog.2494.jpg  
  inflating: __MACOSX/cats_and_dogs/validation/dogs/._dog.2494.jpg  
  inflating: cats_and_dogs/validation/dogs/dog.2480.jpg  
  inflating: __MACOSX/cats_and_dogs/validation/dogs/._dog.2480.jpg  
  inflating: cats_and_dogs/validation/dogs/dog.2457.jpg  
  inflating: __MACOSX/cats_and_dogs/validation/dogs/._dog.2457.jpg  
  inflating: cats_and_dogs/validation/dogs/dog.2331.jpg  
  inflating: __MACOSX/cats_and_dogs/validation/dogs/._dog.2331.jpg  
  inflating: cats_and_dogs/validation/dogs/dog.2325.jpg  
  inflating: __MACOSX/cats_and_dogs/validation/dogs/._dog.2325.jpg  
  inflating: cats_and_dogs/validation/dogs/dog.2443.jpg  
  inflating: __MACOSX/cats_and_dogs/validation/dogs/._dog.2443.jpg  
  inflating: cats_and_dogs/validation/dogs/dog.2319.jpg  
  inflating: __MACOSX/cats_and_dogs/validation/dogs/._dog.2319.jpg  
  inflating: cats_and_dogs/validation/dogs/dog.2133.jpg  
  inflating: __MACOSX/cats_and_dogs/validation/dogs/._dog.2133.jpg  
  inflating: cats_and_dogs/validation/dogs/dog.2127.jpg  
  inflating: __MACOSX/cats_and_dogs/validation/dogs/._dog.2127.jpg  
  inflating: cats_and_dogs/validation/dogs/dog.2084.jpg  
  inflating: __MACOSX/cats_and_dogs/validation/dogs/._dog.2084.jpg  
  inflating: cats_and_dogs/validation/dogs/dog.2090.jpg  
  inflating: __MACOSX/cats_and_dogs/validation/dogs/._dog.2090.jpg  
  inflating: cats_and_dogs/validation/dogs/dog.2047.jpg  
  inflating: __MACOSX/cats_and_dogs/validation/dogs/._dog.2047.jpg  
  inflating: cats_and_dogs/validation/dogs/dog.2053.jpg  
  inflating: __MACOSX/cats_and_dogs/validation/dogs/._dog.2053.jpg  
  inflating: cats_and_dogs/validation/dogs/dog.2286.jpg  
  inflating: __MACOSX/cats_and_dogs/validation/dogs/._dog.2286.jpg  
  inflating: cats_and_dogs/validation/dogs/dog.2292.jpg  
  inflating: __MACOSX/cats_and_dogs/validation/dogs/._dog.2292.jpg  
  inflating: cats_and_dogs/validation/dogs/dog.2245.jpg  
  inflating: __MACOSX/cats_and_dogs/validation/dogs/._dog.2245.jpg  
  inflating: cats_and_dogs/validation/dogs/dog.2251.jpg  
  inflating: __MACOSX/cats_and_dogs/validation/dogs/._dog.2251.jpg  
  inflating: cats_and_dogs/validation/dogs/dog.2279.jpg  
  inflating: __MACOSX/cats_and_dogs/validation/dogs/._dog.2279.jpg  
  inflating: cats_and_dogs/validation/dogs/dog.2255.jpg  
  inflating: __MACOSX/cats_and_dogs/validation/dogs/._dog.2255.jpg  
  inflating: cats_and_dogs/validation/dogs/dog.2241.jpg  
  inflating: __MACOSX/cats_and_dogs/validation/dogs/._dog.2241.jpg  
  inflating: cats_and_dogs/validation/dogs/dog.2269.jpg  
  inflating: __MACOSX/cats_and_dogs/validation/dogs/._dog.2269.jpg  
  inflating: cats_and_dogs/validation/dogs/dog.2296.jpg  
  inflating: __MACOSX/cats_and_dogs/validation/dogs/._dog.2296.jpg  
  inflating: cats_and_dogs/validation/dogs/dog.2282.jpg  
  inflating: __MACOSX/cats_and_dogs/validation/dogs/._dog.2282.jpg  
  inflating: cats_and_dogs/validation/dogs/dog.2057.jpg  
  inflating: __MACOSX/cats_and_dogs/validation/dogs/._dog.2057.jpg  
  inflating: cats_and_dogs/validation/dogs/dog.2043.jpg  
  inflating: __MACOSX/cats_and_dogs/validation/dogs/._dog.2043.jpg  
  inflating: cats_and_dogs/validation/dogs/dog.2094.jpg  
  inflating: __MACOSX/cats_and_dogs/validation/dogs/._dog.2094.jpg  
  inflating: cats_and_dogs/validation/dogs/dog.2080.jpg  
  inflating: __MACOSX/cats_and_dogs/validation/dogs/._dog.2080.jpg  
  inflating: cats_and_dogs/validation/dogs/dog.2123.jpg  
  inflating: __MACOSX/cats_and_dogs/validation/dogs/._dog.2123.jpg  
  inflating: cats_and_dogs/validation/dogs/dog.2137.jpg  
  inflating: __MACOSX/cats_and_dogs/validation/dogs/._dog.2137.jpg  
  inflating: cats_and_dogs/validation/dogs/dog.2447.jpg  
  inflating: __MACOSX/cats_and_dogs/validation/dogs/._dog.2447.jpg  
  inflating: cats_and_dogs/validation/dogs/dog.2321.jpg  
  inflating: __MACOSX/cats_and_dogs/validation/dogs/._dog.2321.jpg  
  inflating: cats_and_dogs/validation/dogs/dog.2335.jpg  
  inflating: __MACOSX/cats_and_dogs/validation/dogs/._dog.2335.jpg  
  inflating: cats_and_dogs/validation/dogs/dog.2453.jpg  
  inflating: __MACOSX/cats_and_dogs/validation/dogs/._dog.2453.jpg  
  inflating: cats_and_dogs/validation/dogs/dog.2309.jpg  
  inflating: __MACOSX/cats_and_dogs/validation/dogs/._dog.2309.jpg  
  inflating: cats_and_dogs/validation/dogs/dog.2484.jpg  
  inflating: __MACOSX/cats_and_dogs/validation/dogs/._dog.2484.jpg  
  inflating: cats_and_dogs/validation/dogs/dog.2490.jpg  
  inflating: __MACOSX/cats_and_dogs/validation/dogs/._dog.2490.jpg  
  inflating: cats_and_dogs/validation/dogs/dog.2491.jpg  
  inflating: __MACOSX/cats_and_dogs/validation/dogs/._dog.2491.jpg  
  inflating: cats_and_dogs/validation/dogs/dog.2485.jpg  
  inflating: __MACOSX/cats_and_dogs/validation/dogs/._dog.2485.jpg  
  inflating: cats_and_dogs/validation/dogs/dog.2308.jpg  
  inflating: __MACOSX/cats_and_dogs/validation/dogs/._dog.2308.jpg  
  inflating: cats_and_dogs/validation/dogs/dog.2334.jpg  
  inflating: __MACOSX/cats_and_dogs/validation/dogs/._dog.2334.jpg  
  inflating: cats_and_dogs/validation/dogs/dog.2452.jpg  
  inflating: __MACOSX/cats_and_dogs/validation/dogs/._dog.2452.jpg  
  inflating: cats_and_dogs/validation/dogs/dog.2446.jpg  
  inflating: __MACOSX/cats_and_dogs/validation/dogs/._dog.2446.jpg  
  inflating: cats_and_dogs/validation/dogs/dog.2320.jpg  
  inflating: __MACOSX/cats_and_dogs/validation/dogs/._dog.2320.jpg  
  inflating: cats_and_dogs/validation/dogs/dog.2136.jpg  
  inflating: __MACOSX/cats_and_dogs/validation/dogs/._dog.2136.jpg  
  inflating: cats_and_dogs/validation/dogs/dog.2122.jpg  
  inflating: __MACOSX/cats_and_dogs/validation/dogs/._dog.2122.jpg  
  inflating: cats_and_dogs/validation/dogs/dog.2081.jpg  
  inflating: __MACOSX/cats_and_dogs/validation/dogs/._dog.2081.jpg  
  inflating: cats_and_dogs/validation/dogs/dog.2095.jpg  
  inflating: __MACOSX/cats_and_dogs/validation/dogs/._dog.2095.jpg  
  inflating: cats_and_dogs/validation/dogs/dog.2042.jpg  
  inflating: __MACOSX/cats_and_dogs/validation/dogs/._dog.2042.jpg  
  inflating: cats_and_dogs/validation/dogs/dog.2056.jpg  
  inflating: __MACOSX/cats_and_dogs/validation/dogs/._dog.2056.jpg  
  inflating: cats_and_dogs/validation/dogs/dog.2283.jpg  
  inflating: __MACOSX/cats_and_dogs/validation/dogs/._dog.2283.jpg  
  inflating: cats_and_dogs/validation/dogs/dog.2297.jpg  
  inflating: __MACOSX/cats_and_dogs/validation/dogs/._dog.2297.jpg  
  inflating: cats_and_dogs/validation/dogs/dog.2268.jpg  
  inflating: __MACOSX/cats_and_dogs/validation/dogs/._dog.2268.jpg  
  inflating: cats_and_dogs/validation/dogs/dog.2240.jpg  
  inflating: __MACOSX/cats_and_dogs/validation/dogs/._dog.2240.jpg  
  inflating: cats_and_dogs/validation/dogs/dog.2254.jpg  
  inflating: __MACOSX/cats_and_dogs/validation/dogs/._dog.2254.jpg  
  inflating: cats_and_dogs/validation/dogs/dog.2242.jpg  
  inflating: __MACOSX/cats_and_dogs/validation/dogs/._dog.2242.jpg  
  inflating: cats_and_dogs/validation/dogs/dog.2256.jpg  
  inflating: __MACOSX/cats_and_dogs/validation/dogs/._dog.2256.jpg  
  inflating: cats_and_dogs/validation/dogs/dog.2281.jpg  
  inflating: __MACOSX/cats_and_dogs/validation/dogs/._dog.2281.jpg  
  inflating: cats_and_dogs/validation/dogs/dog.2295.jpg  
  inflating: __MACOSX/cats_and_dogs/validation/dogs/._dog.2295.jpg  
  inflating: cats_and_dogs/validation/dogs/dog.2040.jpg  
  inflating: __MACOSX/cats_and_dogs/validation/dogs/._dog.2040.jpg  
  inflating: cats_and_dogs/validation/dogs/dog.2054.jpg  
  inflating: __MACOSX/cats_and_dogs/validation/dogs/._dog.2054.jpg  
  inflating: cats_and_dogs/validation/dogs/dog.2068.jpg  
  inflating: __MACOSX/cats_and_dogs/validation/dogs/._dog.2068.jpg  
  inflating: cats_and_dogs/validation/dogs/dog.2083.jpg  
  inflating: __MACOSX/cats_and_dogs/validation/dogs/._dog.2083.jpg  
  inflating: cats_and_dogs/validation/dogs/dog.2097.jpg  
  inflating: __MACOSX/cats_and_dogs/validation/dogs/._dog.2097.jpg  
  inflating: cats_and_dogs/validation/dogs/dog.2134.jpg  
  inflating: __MACOSX/cats_and_dogs/validation/dogs/._dog.2134.jpg  
  inflating: cats_and_dogs/validation/dogs/dog.2120.jpg  
  inflating: __MACOSX/cats_and_dogs/validation/dogs/._dog.2120.jpg  
  inflating: cats_and_dogs/validation/dogs/dog.2108.jpg  
  inflating: __MACOSX/cats_and_dogs/validation/dogs/._dog.2108.jpg  
  inflating: cats_and_dogs/validation/dogs/dog.2450.jpg  
  inflating: __MACOSX/cats_and_dogs/validation/dogs/._dog.2450.jpg  
  inflating: cats_and_dogs/validation/dogs/dog.2336.jpg  
  inflating: __MACOSX/cats_and_dogs/validation/dogs/._dog.2336.jpg  
  inflating: cats_and_dogs/validation/dogs/dog.2322.jpg  
  inflating: __MACOSX/cats_and_dogs/validation/dogs/._dog.2322.jpg  
  inflating: cats_and_dogs/validation/dogs/dog.2444.jpg  
  inflating: __MACOSX/cats_and_dogs/validation/dogs/._dog.2444.jpg  
  inflating: cats_and_dogs/validation/dogs/dog.2478.jpg  
  inflating: __MACOSX/cats_and_dogs/validation/dogs/._dog.2478.jpg  
  inflating: cats_and_dogs/validation/dogs/dog.2493.jpg  
  inflating: __MACOSX/cats_and_dogs/validation/dogs/._dog.2493.jpg  
  inflating: cats_and_dogs/validation/dogs/dog.2487.jpg  
  inflating: __MACOSX/cats_and_dogs/validation/dogs/._dog.2487.jpg  
  inflating: cats_and_dogs/validation/dogs/dog.2486.jpg  
  inflating: __MACOSX/cats_and_dogs/validation/dogs/._dog.2486.jpg  
  inflating: cats_and_dogs/validation/dogs/dog.2492.jpg  
  inflating: __MACOSX/cats_and_dogs/validation/dogs/._dog.2492.jpg  
  inflating: cats_and_dogs/validation/dogs/dog.2479.jpg  
  inflating: __MACOSX/cats_and_dogs/validation/dogs/._dog.2479.jpg  
  inflating: cats_and_dogs/validation/dogs/dog.2323.jpg  
  inflating: __MACOSX/cats_and_dogs/validation/dogs/._dog.2323.jpg  
  inflating: cats_and_dogs/validation/dogs/dog.2445.jpg  
  inflating: __MACOSX/cats_and_dogs/validation/dogs/._dog.2445.jpg  
  inflating: cats_and_dogs/validation/dogs/dog.2451.jpg  
  inflating: __MACOSX/cats_and_dogs/validation/dogs/._dog.2451.jpg  
  inflating: cats_and_dogs/validation/dogs/dog.2337.jpg  
  inflating: __MACOSX/cats_and_dogs/validation/dogs/._dog.2337.jpg  
  inflating: cats_and_dogs/validation/dogs/dog.2109.jpg  
  inflating: __MACOSX/cats_and_dogs/validation/dogs/._dog.2109.jpg  
  inflating: cats_and_dogs/validation/dogs/dog.2121.jpg  
  inflating: __MACOSX/cats_and_dogs/validation/dogs/._dog.2121.jpg  
  inflating: cats_and_dogs/validation/dogs/dog.2135.jpg  
  inflating: __MACOSX/cats_and_dogs/validation/dogs/._dog.2135.jpg  
  inflating: cats_and_dogs/validation/dogs/dog.2096.jpg  
  inflating: __MACOSX/cats_and_dogs/validation/dogs/._dog.2096.jpg  
  inflating: cats_and_dogs/validation/dogs/dog.2082.jpg  
  inflating: __MACOSX/cats_and_dogs/validation/dogs/._dog.2082.jpg  
  inflating: cats_and_dogs/validation/dogs/dog.2069.jpg  
  inflating: __MACOSX/cats_and_dogs/validation/dogs/._dog.2069.jpg  
  inflating: cats_and_dogs/validation/dogs/dog.2055.jpg  
  inflating: __MACOSX/cats_and_dogs/validation/dogs/._dog.2055.jpg  
  inflating: cats_and_dogs/validation/dogs/dog.2041.jpg  
  inflating: __MACOSX/cats_and_dogs/validation/dogs/._dog.2041.jpg  
  inflating: cats_and_dogs/validation/dogs/dog.2294.jpg  
  inflating: __MACOSX/cats_and_dogs/validation/dogs/._dog.2294.jpg  
  inflating: cats_and_dogs/validation/dogs/dog.2280.jpg  
  inflating: __MACOSX/cats_and_dogs/validation/dogs/._dog.2280.jpg  
  inflating: cats_and_dogs/validation/dogs/dog.2257.jpg  
  inflating: __MACOSX/cats_and_dogs/validation/dogs/._dog.2257.jpg  
  inflating: cats_and_dogs/validation/dogs/dog.2243.jpg  
  inflating: __MACOSX/cats_and_dogs/validation/dogs/._dog.2243.jpg  
  inflating: __MACOSX/cats_and_dogs/validation/._dogs  
   creating: cats_and_dogs/validation/cats/
  inflating: cats_and_dogs/validation/cats/cat.2042.jpg  
   creating: __MACOSX/cats_and_dogs/validation/cats/
  inflating: __MACOSX/cats_and_dogs/validation/cats/._cat.2042.jpg  
  inflating: cats_and_dogs/validation/cats/cat.2056.jpg  
  inflating: __MACOSX/cats_and_dogs/validation/cats/._cat.2056.jpg  
  inflating: cats_and_dogs/validation/cats/cat.2081.jpg  
  inflating: __MACOSX/cats_and_dogs/validation/cats/._cat.2081.jpg  
  inflating: cats_and_dogs/validation/cats/cat.2095.jpg  
  inflating: __MACOSX/cats_and_dogs/validation/cats/._cat.2095.jpg  
  inflating: cats_and_dogs/validation/cats/cat.2268.jpg  
  inflating: __MACOSX/cats_and_dogs/validation/cats/._cat.2268.jpg  
  inflating: cats_and_dogs/validation/cats/cat.2240.jpg  
  inflating: __MACOSX/cats_and_dogs/validation/cats/._cat.2240.jpg  
  inflating: cats_and_dogs/validation/cats/cat.2254.jpg  
  inflating: __MACOSX/cats_and_dogs/validation/cats/._cat.2254.jpg  
  inflating: cats_and_dogs/validation/cats/cat.2283.jpg  
  inflating: __MACOSX/cats_and_dogs/validation/cats/._cat.2283.jpg  
  inflating: cats_and_dogs/validation/cats/cat.2297.jpg  
  inflating: __MACOSX/cats_and_dogs/validation/cats/._cat.2297.jpg  
  inflating: cats_and_dogs/validation/cats/cat.2308.jpg  
  inflating: __MACOSX/cats_and_dogs/validation/cats/._cat.2308.jpg  
  inflating: cats_and_dogs/validation/cats/cat.2334.jpg  
  inflating: __MACOSX/cats_and_dogs/validation/cats/._cat.2334.jpg  
  inflating: cats_and_dogs/validation/cats/cat.2452.jpg  
  inflating: __MACOSX/cats_and_dogs/validation/cats/._cat.2452.jpg  
  inflating: cats_and_dogs/validation/cats/cat.2446.jpg  
  inflating: __MACOSX/cats_and_dogs/validation/cats/._cat.2446.jpg  
  inflating: cats_and_dogs/validation/cats/cat.2320.jpg  
  inflating: __MACOSX/cats_and_dogs/validation/cats/._cat.2320.jpg  
  inflating: cats_and_dogs/validation/cats/cat.2491.jpg  
  inflating: __MACOSX/cats_and_dogs/validation/cats/._cat.2491.jpg  
  inflating: cats_and_dogs/validation/cats/cat.2485.jpg  
  inflating: __MACOSX/cats_and_dogs/validation/cats/._cat.2485.jpg  
  inflating: cats_and_dogs/validation/cats/cat.2136.jpg  
  inflating: __MACOSX/cats_and_dogs/validation/cats/._cat.2136.jpg  
  inflating: cats_and_dogs/validation/cats/cat.2122.jpg  
  inflating: __MACOSX/cats_and_dogs/validation/cats/._cat.2122.jpg  
  inflating: cats_and_dogs/validation/cats/cat.2123.jpg  
  inflating: __MACOSX/cats_and_dogs/validation/cats/._cat.2123.jpg  
  inflating: cats_and_dogs/validation/cats/cat.2137.jpg  
  inflating: __MACOSX/cats_and_dogs/validation/cats/._cat.2137.jpg  
  inflating: cats_and_dogs/validation/cats/cat.2484.jpg  
  inflating: __MACOSX/cats_and_dogs/validation/cats/._cat.2484.jpg  
  inflating: cats_and_dogs/validation/cats/cat.2490.jpg  
  inflating: __MACOSX/cats_and_dogs/validation/cats/._cat.2490.jpg  
  inflating: cats_and_dogs/validation/cats/cat.2447.jpg  
  inflating: __MACOSX/cats_and_dogs/validation/cats/._cat.2447.jpg  
  inflating: cats_and_dogs/validation/cats/cat.2321.jpg  
  inflating: __MACOSX/cats_and_dogs/validation/cats/._cat.2321.jpg  
  inflating: cats_and_dogs/validation/cats/cat.2335.jpg  
  inflating: __MACOSX/cats_and_dogs/validation/cats/._cat.2335.jpg  
  inflating: cats_and_dogs/validation/cats/cat.2453.jpg  
  inflating: __MACOSX/cats_and_dogs/validation/cats/._cat.2453.jpg  
  inflating: cats_and_dogs/validation/cats/cat.2309.jpg  
  inflating: __MACOSX/cats_and_dogs/validation/cats/._cat.2309.jpg  
  inflating: cats_and_dogs/validation/cats/cat.2296.jpg  
  inflating: __MACOSX/cats_and_dogs/validation/cats/._cat.2296.jpg  
  inflating: cats_and_dogs/validation/cats/cat.2282.jpg  
  inflating: __MACOSX/cats_and_dogs/validation/cats/._cat.2282.jpg  
  inflating: cats_and_dogs/validation/cats/cat.2255.jpg  
  inflating: __MACOSX/cats_and_dogs/validation/cats/._cat.2255.jpg  
  inflating: cats_and_dogs/validation/cats/cat.2241.jpg  
  inflating: __MACOSX/cats_and_dogs/validation/cats/._cat.2241.jpg  
  inflating: cats_and_dogs/validation/cats/cat.2269.jpg  
  inflating: __MACOSX/cats_and_dogs/validation/cats/._cat.2269.jpg  
  inflating: cats_and_dogs/validation/cats/cat.2094.jpg  
  inflating: __MACOSX/cats_and_dogs/validation/cats/._cat.2094.jpg  
  inflating: cats_and_dogs/validation/cats/cat.2080.jpg  
  inflating: __MACOSX/cats_and_dogs/validation/cats/._cat.2080.jpg  
  inflating: cats_and_dogs/validation/cats/cat.2057.jpg  
  inflating: __MACOSX/cats_and_dogs/validation/cats/._cat.2057.jpg  
  inflating: cats_and_dogs/validation/cats/cat.2043.jpg  
  inflating: __MACOSX/cats_and_dogs/validation/cats/._cat.2043.jpg  
  inflating: cats_and_dogs/validation/cats/cat.2069.jpg  
  inflating: __MACOSX/cats_and_dogs/validation/cats/._cat.2069.jpg  
  inflating: cats_and_dogs/validation/cats/cat.2055.jpg  
  inflating: __MACOSX/cats_and_dogs/validation/cats/._cat.2055.jpg  
  inflating: cats_and_dogs/validation/cats/cat.2041.jpg  
  inflating: __MACOSX/cats_and_dogs/validation/cats/._cat.2041.jpg  
  inflating: cats_and_dogs/validation/cats/cat.2096.jpg  
  inflating: __MACOSX/cats_and_dogs/validation/cats/._cat.2096.jpg  
  inflating: cats_and_dogs/validation/cats/cat.2082.jpg  
  inflating: __MACOSX/cats_and_dogs/validation/cats/._cat.2082.jpg  
  inflating: cats_and_dogs/validation/cats/cat.2257.jpg  
  inflating: __MACOSX/cats_and_dogs/validation/cats/._cat.2257.jpg  
  inflating: cats_and_dogs/validation/cats/cat.2243.jpg  
  inflating: __MACOSX/cats_and_dogs/validation/cats/._cat.2243.jpg  
  inflating: cats_and_dogs/validation/cats/cat.2294.jpg  
  inflating: __MACOSX/cats_and_dogs/validation/cats/._cat.2294.jpg  
  inflating: cats_and_dogs/validation/cats/cat.2280.jpg  
  inflating: __MACOSX/cats_and_dogs/validation/cats/._cat.2280.jpg  
  inflating: cats_and_dogs/validation/cats/cat.2479.jpg  
  inflating: __MACOSX/cats_and_dogs/validation/cats/._cat.2479.jpg  
  inflating: cats_and_dogs/validation/cats/cat.2323.jpg  
  inflating: __MACOSX/cats_and_dogs/validation/cats/._cat.2323.jpg  
  inflating: cats_and_dogs/validation/cats/cat.2445.jpg  
  inflating: __MACOSX/cats_and_dogs/validation/cats/._cat.2445.jpg  
  inflating: cats_and_dogs/validation/cats/cat.2451.jpg  
  inflating: __MACOSX/cats_and_dogs/validation/cats/._cat.2451.jpg  
  inflating: cats_and_dogs/validation/cats/cat.2337.jpg  
  inflating: __MACOSX/cats_and_dogs/validation/cats/._cat.2337.jpg  
  inflating: cats_and_dogs/validation/cats/cat.2486.jpg  
  inflating: __MACOSX/cats_and_dogs/validation/cats/._cat.2486.jpg  
  inflating: cats_and_dogs/validation/cats/cat.2492.jpg  
  inflating: __MACOSX/cats_and_dogs/validation/cats/._cat.2492.jpg  
  inflating: cats_and_dogs/validation/cats/cat.2109.jpg  
  inflating: __MACOSX/cats_and_dogs/validation/cats/._cat.2109.jpg  
  inflating: cats_and_dogs/validation/cats/cat.2121.jpg  
  inflating: __MACOSX/cats_and_dogs/validation/cats/._cat.2121.jpg  
  inflating: cats_and_dogs/validation/cats/cat.2135.jpg  
  inflating: __MACOSX/cats_and_dogs/validation/cats/._cat.2135.jpg  
  inflating: cats_and_dogs/validation/cats/cat.2134.jpg  
  inflating: __MACOSX/cats_and_dogs/validation/cats/._cat.2134.jpg  
  inflating: cats_and_dogs/validation/cats/cat.2120.jpg  
  inflating: __MACOSX/cats_and_dogs/validation/cats/._cat.2120.jpg  
  inflating: cats_and_dogs/validation/cats/cat.2108.jpg  
  inflating: __MACOSX/cats_and_dogs/validation/cats/._cat.2108.jpg  
  inflating: cats_and_dogs/validation/cats/cat.2493.jpg  
  inflating: __MACOSX/cats_and_dogs/validation/cats/._cat.2493.jpg  
  inflating: cats_and_dogs/validation/cats/cat.2487.jpg  
  inflating: __MACOSX/cats_and_dogs/validation/cats/._cat.2487.jpg  
  inflating: cats_and_dogs/validation/cats/cat.2450.jpg  
  inflating: __MACOSX/cats_and_dogs/validation/cats/._cat.2450.jpg  
  inflating: cats_and_dogs/validation/cats/cat.2336.jpg  
  inflating: __MACOSX/cats_and_dogs/validation/cats/._cat.2336.jpg  
  inflating: cats_and_dogs/validation/cats/cat.2322.jpg  
  inflating: __MACOSX/cats_and_dogs/validation/cats/._cat.2322.jpg  
  inflating: cats_and_dogs/validation/cats/cat.2444.jpg  
  inflating: __MACOSX/cats_and_dogs/validation/cats/._cat.2444.jpg  
  inflating: cats_and_dogs/validation/cats/cat.2478.jpg  
  inflating: __MACOSX/cats_and_dogs/validation/cats/._cat.2478.jpg  
  inflating: cats_and_dogs/validation/cats/cat.2281.jpg  
  inflating: __MACOSX/cats_and_dogs/validation/cats/._cat.2281.jpg  
  inflating: cats_and_dogs/validation/cats/cat.2295.jpg  
  inflating: __MACOSX/cats_and_dogs/validation/cats/._cat.2295.jpg  
  inflating: cats_and_dogs/validation/cats/cat.2242.jpg  
  inflating: __MACOSX/cats_and_dogs/validation/cats/._cat.2242.jpg  
  inflating: cats_and_dogs/validation/cats/cat.2256.jpg  
  inflating: __MACOSX/cats_and_dogs/validation/cats/._cat.2256.jpg  
  inflating: cats_and_dogs/validation/cats/cat.2083.jpg  
  inflating: __MACOSX/cats_and_dogs/validation/cats/._cat.2083.jpg  
  inflating: cats_and_dogs/validation/cats/cat.2097.jpg  
  inflating: __MACOSX/cats_and_dogs/validation/cats/._cat.2097.jpg  
  inflating: cats_and_dogs/validation/cats/cat.2040.jpg  
  inflating: __MACOSX/cats_and_dogs/validation/cats/._cat.2040.jpg  
  inflating: cats_and_dogs/validation/cats/cat.2054.jpg  
  inflating: __MACOSX/cats_and_dogs/validation/cats/._cat.2054.jpg  
  inflating: cats_and_dogs/validation/cats/cat.2068.jpg  
  inflating: __MACOSX/cats_and_dogs/validation/cats/._cat.2068.jpg  
  inflating: cats_and_dogs/validation/cats/cat.2050.jpg  
  inflating: __MACOSX/cats_and_dogs/validation/cats/._cat.2050.jpg  
  inflating: cats_and_dogs/validation/cats/cat.2044.jpg  
  inflating: __MACOSX/cats_and_dogs/validation/cats/._cat.2044.jpg  
  inflating: cats_and_dogs/validation/cats/cat.2078.jpg  
  inflating: __MACOSX/cats_and_dogs/validation/cats/._cat.2078.jpg  
  inflating: cats_and_dogs/validation/cats/cat.2093.jpg  
  inflating: __MACOSX/cats_and_dogs/validation/cats/._cat.2093.jpg  
  inflating: cats_and_dogs/validation/cats/cat.2087.jpg  
  inflating: __MACOSX/cats_and_dogs/validation/cats/._cat.2087.jpg  
  inflating: cats_and_dogs/validation/cats/cat.2252.jpg  
  inflating: __MACOSX/cats_and_dogs/validation/cats/._cat.2252.jpg  
  inflating: cats_and_dogs/validation/cats/cat.2246.jpg  
  inflating: __MACOSX/cats_and_dogs/validation/cats/._cat.2246.jpg  
  inflating: cats_and_dogs/validation/cats/cat.2291.jpg  
  inflating: __MACOSX/cats_and_dogs/validation/cats/._cat.2291.jpg  
  inflating: cats_and_dogs/validation/cats/cat.2285.jpg  
  inflating: __MACOSX/cats_and_dogs/validation/cats/._cat.2285.jpg  
  inflating: cats_and_dogs/validation/cats/cat.2440.jpg  
  inflating: __MACOSX/cats_and_dogs/validation/cats/._cat.2440.jpg  
  inflating: cats_and_dogs/validation/cats/cat.2326.jpg  
  inflating: __MACOSX/cats_and_dogs/validation/cats/._cat.2326.jpg  
  inflating: cats_and_dogs/validation/cats/cat.2332.jpg  
  inflating: __MACOSX/cats_and_dogs/validation/cats/._cat.2332.jpg  
  inflating: cats_and_dogs/validation/cats/cat.2454.jpg  
  inflating: __MACOSX/cats_and_dogs/validation/cats/._cat.2454.jpg  
  inflating: cats_and_dogs/validation/cats/cat.2468.jpg  
  inflating: __MACOSX/cats_and_dogs/validation/cats/._cat.2468.jpg  
  inflating: cats_and_dogs/validation/cats/cat.2483.jpg  
  inflating: __MACOSX/cats_and_dogs/validation/cats/._cat.2483.jpg  
  inflating: cats_and_dogs/validation/cats/cat.2497.jpg  
  inflating: __MACOSX/cats_and_dogs/validation/cats/._cat.2497.jpg  
  inflating: cats_and_dogs/validation/cats/cat.2124.jpg  
  inflating: __MACOSX/cats_and_dogs/validation/cats/._cat.2124.jpg  
  inflating: cats_and_dogs/validation/cats/cat.2130.jpg  
  inflating: __MACOSX/cats_and_dogs/validation/cats/._cat.2130.jpg  
  inflating: cats_and_dogs/validation/cats/cat.2118.jpg  
  inflating: __MACOSX/cats_and_dogs/validation/cats/._cat.2118.jpg  
  inflating: cats_and_dogs/validation/cats/cat.2119.jpg  
  inflating: __MACOSX/cats_and_dogs/validation/cats/._cat.2119.jpg  
  inflating: cats_and_dogs/validation/cats/cat.2131.jpg  
  inflating: __MACOSX/cats_and_dogs/validation/cats/._cat.2131.jpg  
  inflating: cats_and_dogs/validation/cats/cat.2125.jpg  
  inflating: __MACOSX/cats_and_dogs/validation/cats/._cat.2125.jpg  
  inflating: cats_and_dogs/validation/cats/cat.2496.jpg  
  inflating: __MACOSX/cats_and_dogs/validation/cats/._cat.2496.jpg  
  inflating: cats_and_dogs/validation/cats/cat.2482.jpg  
  inflating: __MACOSX/cats_and_dogs/validation/cats/._cat.2482.jpg  
  inflating: cats_and_dogs/validation/cats/cat.2469.jpg  
  inflating: __MACOSX/cats_and_dogs/validation/cats/._cat.2469.jpg  
  inflating: cats_and_dogs/validation/cats/cat.2333.jpg  
  inflating: __MACOSX/cats_and_dogs/validation/cats/._cat.2333.jpg  
  inflating: cats_and_dogs/validation/cats/cat.2455.jpg  
  inflating: __MACOSX/cats_and_dogs/validation/cats/._cat.2455.jpg  
  inflating: cats_and_dogs/validation/cats/cat.2441.jpg  
  inflating: __MACOSX/cats_and_dogs/validation/cats/._cat.2441.jpg  
  inflating: cats_and_dogs/validation/cats/cat.2327.jpg  
  inflating: __MACOSX/cats_and_dogs/validation/cats/._cat.2327.jpg  
  inflating: cats_and_dogs/validation/cats/cat.2284.jpg  
  inflating: __MACOSX/cats_and_dogs/validation/cats/._cat.2284.jpg  
  inflating: cats_and_dogs/validation/cats/cat.2290.jpg  
  inflating: __MACOSX/cats_and_dogs/validation/cats/._cat.2290.jpg  
  inflating: cats_and_dogs/validation/cats/cat.2247.jpg  
  inflating: __MACOSX/cats_and_dogs/validation/cats/._cat.2247.jpg  
  inflating: cats_and_dogs/validation/cats/cat.2253.jpg  
  inflating: __MACOSX/cats_and_dogs/validation/cats/._cat.2253.jpg  
  inflating: cats_and_dogs/validation/cats/cat.2086.jpg  
  inflating: __MACOSX/cats_and_dogs/validation/cats/._cat.2086.jpg  
  inflating: cats_and_dogs/validation/cats/cat.2092.jpg  
  inflating: __MACOSX/cats_and_dogs/validation/cats/._cat.2092.jpg  
  inflating: cats_and_dogs/validation/cats/cat.2079.jpg  
  inflating: __MACOSX/cats_and_dogs/validation/cats/._cat.2079.jpg  
  inflating: cats_and_dogs/validation/cats/cat.2045.jpg  
  inflating: __MACOSX/cats_and_dogs/validation/cats/._cat.2045.jpg  
  inflating: cats_and_dogs/validation/cats/cat.2051.jpg  
  inflating: __MACOSX/cats_and_dogs/validation/cats/._cat.2051.jpg  
  inflating: cats_and_dogs/validation/cats/cat.2047.jpg  
  inflating: __MACOSX/cats_and_dogs/validation/cats/._cat.2047.jpg  
  inflating: cats_and_dogs/validation/cats/cat.2053.jpg  
  inflating: __MACOSX/cats_and_dogs/validation/cats/._cat.2053.jpg  
  inflating: cats_and_dogs/validation/cats/cat.2084.jpg  
  inflating: __MACOSX/cats_and_dogs/validation/cats/._cat.2084.jpg  
  inflating: cats_and_dogs/validation/cats/cat.2090.jpg  
  inflating: __MACOSX/cats_and_dogs/validation/cats/._cat.2090.jpg  
  inflating: cats_and_dogs/validation/cats/cat.2245.jpg  
  inflating: __MACOSX/cats_and_dogs/validation/cats/._cat.2245.jpg  
  inflating: cats_and_dogs/validation/cats/cat.2251.jpg  
  inflating: __MACOSX/cats_and_dogs/validation/cats/._cat.2251.jpg  
  inflating: cats_and_dogs/validation/cats/cat.2279.jpg  
  inflating: __MACOSX/cats_and_dogs/validation/cats/._cat.2279.jpg  
  inflating: cats_and_dogs/validation/cats/cat.2286.jpg  
  inflating: __MACOSX/cats_and_dogs/validation/cats/._cat.2286.jpg  
  inflating: cats_and_dogs/validation/cats/cat.2292.jpg  
  inflating: __MACOSX/cats_and_dogs/validation/cats/._cat.2292.jpg  
  inflating: cats_and_dogs/validation/cats/cat.2457.jpg  
  inflating: __MACOSX/cats_and_dogs/validation/cats/._cat.2457.jpg  
  inflating: cats_and_dogs/validation/cats/cat.2331.jpg  
  inflating: __MACOSX/cats_and_dogs/validation/cats/._cat.2331.jpg  
  inflating: cats_and_dogs/validation/cats/cat.2325.jpg  
  inflating: __MACOSX/cats_and_dogs/validation/cats/._cat.2325.jpg  
  inflating: cats_and_dogs/validation/cats/cat.2443.jpg  
  inflating: __MACOSX/cats_and_dogs/validation/cats/._cat.2443.jpg  
  inflating: cats_and_dogs/validation/cats/cat.2319.jpg  
  inflating: __MACOSX/cats_and_dogs/validation/cats/._cat.2319.jpg  
  inflating: cats_and_dogs/validation/cats/cat.2494.jpg  
  inflating: __MACOSX/cats_and_dogs/validation/cats/._cat.2494.jpg  
  inflating: cats_and_dogs/validation/cats/cat.2480.jpg  
  inflating: __MACOSX/cats_and_dogs/validation/cats/._cat.2480.jpg  
  inflating: cats_and_dogs/validation/cats/cat.2133.jpg  
  inflating: __MACOSX/cats_and_dogs/validation/cats/._cat.2133.jpg  
  inflating: cats_and_dogs/validation/cats/cat.2127.jpg  
  inflating: __MACOSX/cats_and_dogs/validation/cats/._cat.2127.jpg  
  inflating: cats_and_dogs/validation/cats/cat.2126.jpg  
  inflating: __MACOSX/cats_and_dogs/validation/cats/._cat.2126.jpg  
  inflating: cats_and_dogs/validation/cats/cat.2132.jpg  
  inflating: __MACOSX/cats_and_dogs/validation/cats/._cat.2132.jpg  
  inflating: cats_and_dogs/validation/cats/cat.2481.jpg  
  inflating: __MACOSX/cats_and_dogs/validation/cats/._cat.2481.jpg  
  inflating: cats_and_dogs/validation/cats/cat.2495.jpg  
  inflating: __MACOSX/cats_and_dogs/validation/cats/._cat.2495.jpg  
  inflating: cats_and_dogs/validation/cats/cat.2318.jpg  
  inflating: __MACOSX/cats_and_dogs/validation/cats/._cat.2318.jpg  
  inflating: cats_and_dogs/validation/cats/cat.2324.jpg  
  inflating: __MACOSX/cats_and_dogs/validation/cats/._cat.2324.jpg  
  inflating: cats_and_dogs/validation/cats/cat.2442.jpg  
  inflating: __MACOSX/cats_and_dogs/validation/cats/._cat.2442.jpg  
  inflating: cats_and_dogs/validation/cats/cat.2456.jpg  
  inflating: __MACOSX/cats_and_dogs/validation/cats/._cat.2456.jpg  
  inflating: cats_and_dogs/validation/cats/cat.2330.jpg  
  inflating: __MACOSX/cats_and_dogs/validation/cats/._cat.2330.jpg  
  inflating: cats_and_dogs/validation/cats/cat.2293.jpg  
  inflating: __MACOSX/cats_and_dogs/validation/cats/._cat.2293.jpg  
  inflating: cats_and_dogs/validation/cats/cat.2287.jpg  
  inflating: __MACOSX/cats_and_dogs/validation/cats/._cat.2287.jpg  
  inflating: cats_and_dogs/validation/cats/cat.2278.jpg  
  inflating: __MACOSX/cats_and_dogs/validation/cats/._cat.2278.jpg  
  inflating: cats_and_dogs/validation/cats/cat.2250.jpg  
  inflating: __MACOSX/cats_and_dogs/validation/cats/._cat.2250.jpg  
  inflating: cats_and_dogs/validation/cats/cat.2244.jpg  
  inflating: __MACOSX/cats_and_dogs/validation/cats/._cat.2244.jpg  
  inflating: cats_and_dogs/validation/cats/cat.2091.jpg  
  inflating: __MACOSX/cats_and_dogs/validation/cats/._cat.2091.jpg  
  inflating: cats_and_dogs/validation/cats/cat.2085.jpg  
  inflating: __MACOSX/cats_and_dogs/validation/cats/._cat.2085.jpg  
  inflating: cats_and_dogs/validation/cats/cat.2052.jpg  
  inflating: __MACOSX/cats_and_dogs/validation/cats/._cat.2052.jpg  
  inflating: cats_and_dogs/validation/cats/cat.2046.jpg  
  inflating: __MACOSX/cats_and_dogs/validation/cats/._cat.2046.jpg  
  inflating: cats_and_dogs/validation/cats/cat.2009.jpg  
  inflating: __MACOSX/cats_and_dogs/validation/cats/._cat.2009.jpg  
  inflating: cats_and_dogs/validation/cats/cat.2021.jpg  
  inflating: __MACOSX/cats_and_dogs/validation/cats/._cat.2021.jpg  
  inflating: cats_and_dogs/validation/cats/cat.2035.jpg  
  inflating: __MACOSX/cats_and_dogs/validation/cats/._cat.2035.jpg  
  inflating: cats_and_dogs/validation/cats/cat.2223.jpg  
  inflating: __MACOSX/cats_and_dogs/validation/cats/._cat.2223.jpg  
  inflating: cats_and_dogs/validation/cats/cat.2237.jpg  
  inflating: __MACOSX/cats_and_dogs/validation/cats/._cat.2237.jpg  
  inflating: cats_and_dogs/validation/cats/cat.2419.jpg  
  inflating: __MACOSX/cats_and_dogs/validation/cats/._cat.2419.jpg  
  inflating: cats_and_dogs/validation/cats/cat.2431.jpg  
  inflating: __MACOSX/cats_and_dogs/validation/cats/._cat.2431.jpg  
  inflating: cats_and_dogs/validation/cats/cat.2357.jpg  
  inflating: __MACOSX/cats_and_dogs/validation/cats/._cat.2357.jpg  
  inflating: cats_and_dogs/validation/cats/cat.2343.jpg  
  inflating: __MACOSX/cats_and_dogs/validation/cats/._cat.2343.jpg  
  inflating: cats_and_dogs/validation/cats/cat.2425.jpg  
  inflating: __MACOSX/cats_and_dogs/validation/cats/._cat.2425.jpg  
  inflating: cats_and_dogs/validation/cats/cat.2394.jpg  
  inflating: __MACOSX/cats_and_dogs/validation/cats/._cat.2394.jpg  
  inflating: cats_and_dogs/validation/cats/cat.2380.jpg  
  inflating: __MACOSX/cats_and_dogs/validation/cats/._cat.2380.jpg  
  inflating: cats_and_dogs/validation/cats/cat.2169.jpg  
  inflating: __MACOSX/cats_and_dogs/validation/cats/._cat.2169.jpg  
  inflating: cats_and_dogs/validation/cats/cat.2155.jpg  
  inflating: __MACOSX/cats_and_dogs/validation/cats/._cat.2155.jpg  
  inflating: cats_and_dogs/validation/cats/cat.2141.jpg  
  inflating: __MACOSX/cats_and_dogs/validation/cats/._cat.2141.jpg  
  inflating: cats_and_dogs/validation/cats/cat.2196.jpg  
  inflating: __MACOSX/cats_and_dogs/validation/cats/._cat.2196.jpg  
  inflating: cats_and_dogs/validation/cats/cat.2182.jpg  
  inflating: __MACOSX/cats_and_dogs/validation/cats/._cat.2182.jpg  
  inflating: cats_and_dogs/validation/cats/cat.2183.jpg  
  inflating: __MACOSX/cats_and_dogs/validation/cats/._cat.2183.jpg  
  inflating: cats_and_dogs/validation/cats/cat.2197.jpg  
  inflating: __MACOSX/cats_and_dogs/validation/cats/._cat.2197.jpg  
  inflating: cats_and_dogs/validation/cats/cat.2140.jpg  
  inflating: __MACOSX/cats_and_dogs/validation/cats/._cat.2140.jpg  
  inflating: cats_and_dogs/validation/cats/cat.2154.jpg  
  inflating: __MACOSX/cats_and_dogs/validation/cats/._cat.2154.jpg  
  inflating: cats_and_dogs/validation/cats/cat.2168.jpg  
  inflating: __MACOSX/cats_and_dogs/validation/cats/._cat.2168.jpg  
  inflating: cats_and_dogs/validation/cats/cat.2381.jpg  
  inflating: __MACOSX/cats_and_dogs/validation/cats/._cat.2381.jpg  
  inflating: cats_and_dogs/validation/cats/cat.2395.jpg  
  inflating: __MACOSX/cats_and_dogs/validation/cats/._cat.2395.jpg  
  inflating: cats_and_dogs/validation/cats/cat.2342.jpg  
  inflating: __MACOSX/cats_and_dogs/validation/cats/._cat.2342.jpg  
  inflating: cats_and_dogs/validation/cats/cat.2424.jpg  
  inflating: __MACOSX/cats_and_dogs/validation/cats/._cat.2424.jpg  
  inflating: cats_and_dogs/validation/cats/cat.2430.jpg  
  inflating: __MACOSX/cats_and_dogs/validation/cats/._cat.2430.jpg  
  inflating: cats_and_dogs/validation/cats/cat.2356.jpg  
  inflating: __MACOSX/cats_and_dogs/validation/cats/._cat.2356.jpg  
  inflating: cats_and_dogs/validation/cats/cat.2418.jpg  
  inflating: __MACOSX/cats_and_dogs/validation/cats/._cat.2418.jpg  
  inflating: cats_and_dogs/validation/cats/cat.2236.jpg  
  inflating: __MACOSX/cats_and_dogs/validation/cats/._cat.2236.jpg  
  inflating: cats_and_dogs/validation/cats/cat.2222.jpg  
  inflating: __MACOSX/cats_and_dogs/validation/cats/._cat.2222.jpg  
  inflating: cats_and_dogs/validation/cats/cat.2034.jpg  
  inflating: __MACOSX/cats_and_dogs/validation/cats/._cat.2034.jpg  
  inflating: cats_and_dogs/validation/cats/cat.2020.jpg  
  inflating: __MACOSX/cats_and_dogs/validation/cats/._cat.2020.jpg  
  inflating: cats_and_dogs/validation/cats/cat.2008.jpg  
  inflating: __MACOSX/cats_and_dogs/validation/cats/._cat.2008.jpg  
  inflating: cats_and_dogs/validation/cats/cat.2036.jpg  
  inflating: __MACOSX/cats_and_dogs/validation/cats/._cat.2036.jpg  
  inflating: cats_and_dogs/validation/cats/cat.2022.jpg  
  inflating: __MACOSX/cats_and_dogs/validation/cats/._cat.2022.jpg  
  inflating: cats_and_dogs/validation/cats/cat.2208.jpg  
  inflating: __MACOSX/cats_and_dogs/validation/cats/._cat.2208.jpg  
  inflating: cats_and_dogs/validation/cats/cat.2234.jpg  
  inflating: __MACOSX/cats_and_dogs/validation/cats/._cat.2234.jpg  
  inflating: cats_and_dogs/validation/cats/cat.2220.jpg  
  inflating: __MACOSX/cats_and_dogs/validation/cats/._cat.2220.jpg  
  inflating: cats_and_dogs/validation/cats/cat.2368.jpg  
  inflating: __MACOSX/cats_and_dogs/validation/cats/._cat.2368.jpg  
  inflating: cats_and_dogs/validation/cats/cat.2426.jpg  
  inflating: __MACOSX/cats_and_dogs/validation/cats/._cat.2426.jpg  
  inflating: cats_and_dogs/validation/cats/cat.2340.jpg  
  inflating: __MACOSX/cats_and_dogs/validation/cats/._cat.2340.jpg  
  inflating: cats_and_dogs/validation/cats/cat.2354.jpg  
  inflating: __MACOSX/cats_and_dogs/validation/cats/._cat.2354.jpg  
  inflating: cats_and_dogs/validation/cats/cat.2432.jpg  
  inflating: __MACOSX/cats_and_dogs/validation/cats/._cat.2432.jpg  
  inflating: cats_and_dogs/validation/cats/cat.2383.jpg  
  inflating: __MACOSX/cats_and_dogs/validation/cats/._cat.2383.jpg  
  inflating: cats_and_dogs/validation/cats/cat.2397.jpg  
  inflating: __MACOSX/cats_and_dogs/validation/cats/._cat.2397.jpg  
  inflating: cats_and_dogs/validation/cats/cat.2142.jpg  
  inflating: __MACOSX/cats_and_dogs/validation/cats/._cat.2142.jpg  
  inflating: cats_and_dogs/validation/cats/cat.2156.jpg  
  inflating: __MACOSX/cats_and_dogs/validation/cats/._cat.2156.jpg  
  inflating: cats_and_dogs/validation/cats/cat.2181.jpg  
  inflating: __MACOSX/cats_and_dogs/validation/cats/._cat.2181.jpg  
  inflating: cats_and_dogs/validation/cats/cat.2195.jpg  
  inflating: __MACOSX/cats_and_dogs/validation/cats/._cat.2195.jpg  
  inflating: cats_and_dogs/validation/cats/cat.2194.jpg  
  inflating: __MACOSX/cats_and_dogs/validation/cats/._cat.2194.jpg  
  inflating: cats_and_dogs/validation/cats/cat.2180.jpg  
  inflating: __MACOSX/cats_and_dogs/validation/cats/._cat.2180.jpg  
  inflating: cats_and_dogs/validation/cats/cat.2157.jpg  
  inflating: __MACOSX/cats_and_dogs/validation/cats/._cat.2157.jpg  
  inflating: cats_and_dogs/validation/cats/cat.2143.jpg  
  inflating: __MACOSX/cats_and_dogs/validation/cats/._cat.2143.jpg  
  inflating: cats_and_dogs/validation/cats/cat.2396.jpg  
  inflating: __MACOSX/cats_and_dogs/validation/cats/._cat.2396.jpg  
  inflating: cats_and_dogs/validation/cats/cat.2382.jpg  
  inflating: __MACOSX/cats_and_dogs/validation/cats/._cat.2382.jpg  
  inflating: cats_and_dogs/validation/cats/cat.2355.jpg  
  inflating: __MACOSX/cats_and_dogs/validation/cats/._cat.2355.jpg  
  inflating: cats_and_dogs/validation/cats/cat.2433.jpg  
  inflating: __MACOSX/cats_and_dogs/validation/cats/._cat.2433.jpg  
  inflating: cats_and_dogs/validation/cats/cat.2427.jpg  
  inflating: __MACOSX/cats_and_dogs/validation/cats/._cat.2427.jpg  
  inflating: cats_and_dogs/validation/cats/cat.2341.jpg  
  inflating: __MACOSX/cats_and_dogs/validation/cats/._cat.2341.jpg  
  inflating: cats_and_dogs/validation/cats/cat.2369.jpg  
  inflating: __MACOSX/cats_and_dogs/validation/cats/._cat.2369.jpg  
  inflating: cats_and_dogs/validation/cats/cat.2221.jpg  
  inflating: __MACOSX/cats_and_dogs/validation/cats/._cat.2221.jpg  
  inflating: cats_and_dogs/validation/cats/cat.2235.jpg  
  inflating: __MACOSX/cats_and_dogs/validation/cats/._cat.2235.jpg  
  inflating: cats_and_dogs/validation/cats/cat.2209.jpg  
  inflating: __MACOSX/cats_and_dogs/validation/cats/._cat.2209.jpg  
  inflating: cats_and_dogs/validation/cats/cat.2023.jpg  
  inflating: __MACOSX/cats_and_dogs/validation/cats/._cat.2023.jpg  
  inflating: cats_and_dogs/validation/cats/cat.2037.jpg  
  inflating: __MACOSX/cats_and_dogs/validation/cats/._cat.2037.jpg  
  inflating: cats_and_dogs/validation/cats/cat.2033.jpg  
  inflating: __MACOSX/cats_and_dogs/validation/cats/._cat.2033.jpg  
  inflating: cats_and_dogs/validation/cats/cat.2027.jpg  
  inflating: __MACOSX/cats_and_dogs/validation/cats/._cat.2027.jpg  
  inflating: cats_and_dogs/validation/cats/cat.2231.jpg  
  inflating: __MACOSX/cats_and_dogs/validation/cats/._cat.2231.jpg  
  inflating: cats_and_dogs/validation/cats/cat.2225.jpg  
  inflating: __MACOSX/cats_and_dogs/validation/cats/._cat.2225.jpg  
  inflating: cats_and_dogs/validation/cats/cat.2219.jpg  
  inflating: __MACOSX/cats_and_dogs/validation/cats/._cat.2219.jpg  
  inflating: cats_and_dogs/validation/cats/cat.2345.jpg  
  inflating: __MACOSX/cats_and_dogs/validation/cats/._cat.2345.jpg  
  inflating: cats_and_dogs/validation/cats/cat.2423.jpg  
  inflating: __MACOSX/cats_and_dogs/validation/cats/._cat.2423.jpg  
  inflating: cats_and_dogs/validation/cats/cat.2437.jpg  
  inflating: __MACOSX/cats_and_dogs/validation/cats/._cat.2437.jpg  
  inflating: cats_and_dogs/validation/cats/cat.2351.jpg  
  inflating: __MACOSX/cats_and_dogs/validation/cats/._cat.2351.jpg  
  inflating: cats_and_dogs/validation/cats/cat.2379.jpg  
  inflating: __MACOSX/cats_and_dogs/validation/cats/._cat.2379.jpg  
  inflating: cats_and_dogs/validation/cats/cat.2386.jpg  
  inflating: __MACOSX/cats_and_dogs/validation/cats/._cat.2386.jpg  
  inflating: cats_and_dogs/validation/cats/cat.2392.jpg  
  inflating: __MACOSX/cats_and_dogs/validation/cats/._cat.2392.jpg  
  inflating: cats_and_dogs/validation/cats/cat.2147.jpg  
  inflating: __MACOSX/cats_and_dogs/validation/cats/._cat.2147.jpg  
  inflating: cats_and_dogs/validation/cats/cat.2153.jpg  
  inflating: __MACOSX/cats_and_dogs/validation/cats/._cat.2153.jpg  
  inflating: cats_and_dogs/validation/cats/cat.2184.jpg  
  inflating: __MACOSX/cats_and_dogs/validation/cats/._cat.2184.jpg  
  inflating: cats_and_dogs/validation/cats/cat.2190.jpg  
  inflating: __MACOSX/cats_and_dogs/validation/cats/._cat.2190.jpg  
  inflating: cats_and_dogs/validation/cats/cat.2191.jpg  
  inflating: __MACOSX/cats_and_dogs/validation/cats/._cat.2191.jpg  
  inflating: cats_and_dogs/validation/cats/cat.2185.jpg  
  inflating: __MACOSX/cats_and_dogs/validation/cats/._cat.2185.jpg  
  inflating: cats_and_dogs/validation/cats/cat.2152.jpg  
  inflating: __MACOSX/cats_and_dogs/validation/cats/._cat.2152.jpg  
  inflating: cats_and_dogs/validation/cats/cat.2146.jpg  
  inflating: __MACOSX/cats_and_dogs/validation/cats/._cat.2146.jpg  
  inflating: cats_and_dogs/validation/cats/cat.2393.jpg  
  inflating: __MACOSX/cats_and_dogs/validation/cats/._cat.2393.jpg  
  inflating: cats_and_dogs/validation/cats/cat.2387.jpg  
  inflating: __MACOSX/cats_and_dogs/validation/cats/._cat.2387.jpg  
  inflating: cats_and_dogs/validation/cats/cat.2378.jpg  
  inflating: __MACOSX/cats_and_dogs/validation/cats/._cat.2378.jpg  
  inflating: cats_and_dogs/validation/cats/cat.2436.jpg  
  inflating: __MACOSX/cats_and_dogs/validation/cats/._cat.2436.jpg  
  inflating: cats_and_dogs/validation/cats/cat.2350.jpg  
  inflating: __MACOSX/cats_and_dogs/validation/cats/._cat.2350.jpg  
  inflating: cats_and_dogs/validation/cats/cat.2344.jpg  
  inflating: __MACOSX/cats_and_dogs/validation/cats/._cat.2344.jpg  
  inflating: cats_and_dogs/validation/cats/cat.2422.jpg  
  inflating: __MACOSX/cats_and_dogs/validation/cats/._cat.2422.jpg  
  inflating: cats_and_dogs/validation/cats/cat.2218.jpg  
  inflating: __MACOSX/cats_and_dogs/validation/cats/._cat.2218.jpg  
  inflating: cats_and_dogs/validation/cats/cat.2224.jpg  
  inflating: __MACOSX/cats_and_dogs/validation/cats/._cat.2224.jpg  
  inflating: cats_and_dogs/validation/cats/cat.2230.jpg  
  inflating: __MACOSX/cats_and_dogs/validation/cats/._cat.2230.jpg  
  inflating: cats_and_dogs/validation/cats/cat.2026.jpg  
  inflating: __MACOSX/cats_and_dogs/validation/cats/._cat.2026.jpg  
  inflating: cats_and_dogs/validation/cats/cat.2032.jpg  
  inflating: __MACOSX/cats_and_dogs/validation/cats/._cat.2032.jpg  
  inflating: cats_and_dogs/validation/cats/cat.2024.jpg  
  inflating: __MACOSX/cats_and_dogs/validation/cats/._cat.2024.jpg  
  inflating: cats_and_dogs/validation/cats/cat.2030.jpg  
  inflating: __MACOSX/cats_and_dogs/validation/cats/._cat.2030.jpg  
  inflating: cats_and_dogs/validation/cats/cat.2018.jpg  
  inflating: __MACOSX/cats_and_dogs/validation/cats/._cat.2018.jpg  
  inflating: cats_and_dogs/validation/cats/cat.2226.jpg  
  inflating: __MACOSX/cats_and_dogs/validation/cats/._cat.2226.jpg  
  inflating: cats_and_dogs/validation/cats/cat.2232.jpg  
  inflating: __MACOSX/cats_and_dogs/validation/cats/._cat.2232.jpg  
  inflating: cats_and_dogs/validation/cats/cat.2352.jpg  
  inflating: __MACOSX/cats_and_dogs/validation/cats/._cat.2352.jpg  
  inflating: cats_and_dogs/validation/cats/cat.2434.jpg  
  inflating: __MACOSX/cats_and_dogs/validation/cats/._cat.2434.jpg  
  inflating: cats_and_dogs/validation/cats/cat.2420.jpg  
  inflating: __MACOSX/cats_and_dogs/validation/cats/._cat.2420.jpg  
  inflating: cats_and_dogs/validation/cats/cat.2346.jpg  
  inflating: __MACOSX/cats_and_dogs/validation/cats/._cat.2346.jpg  
  inflating: cats_and_dogs/validation/cats/cat.2408.jpg  
  inflating: __MACOSX/cats_and_dogs/validation/cats/._cat.2408.jpg  
  inflating: cats_and_dogs/validation/cats/cat.2391.jpg  
  inflating: __MACOSX/cats_and_dogs/validation/cats/._cat.2391.jpg  
  inflating: cats_and_dogs/validation/cats/cat.2385.jpg  
  inflating: __MACOSX/cats_and_dogs/validation/cats/._cat.2385.jpg  
  inflating: cats_and_dogs/validation/cats/cat.2150.jpg  
  inflating: __MACOSX/cats_and_dogs/validation/cats/._cat.2150.jpg  
  inflating: cats_and_dogs/validation/cats/cat.2144.jpg  
  inflating: __MACOSX/cats_and_dogs/validation/cats/._cat.2144.jpg  
  inflating: cats_and_dogs/validation/cats/cat.2178.jpg  
  inflating: __MACOSX/cats_and_dogs/validation/cats/._cat.2178.jpg  
  inflating: cats_and_dogs/validation/cats/cat.2193.jpg  
  inflating: __MACOSX/cats_and_dogs/validation/cats/._cat.2193.jpg  
  inflating: cats_and_dogs/validation/cats/cat.2187.jpg  
  inflating: __MACOSX/cats_and_dogs/validation/cats/._cat.2187.jpg  
  inflating: cats_and_dogs/validation/cats/cat.2186.jpg  
  inflating: __MACOSX/cats_and_dogs/validation/cats/._cat.2186.jpg  
  inflating: cats_and_dogs/validation/cats/cat.2192.jpg  
  inflating: __MACOSX/cats_and_dogs/validation/cats/._cat.2192.jpg  
  inflating: cats_and_dogs/validation/cats/cat.2179.jpg  
  inflating: __MACOSX/cats_and_dogs/validation/cats/._cat.2179.jpg  
  inflating: cats_and_dogs/validation/cats/cat.2145.jpg  
  inflating: __MACOSX/cats_and_dogs/validation/cats/._cat.2145.jpg  
  inflating: cats_and_dogs/validation/cats/cat.2151.jpg  
  inflating: __MACOSX/cats_and_dogs/validation/cats/._cat.2151.jpg  
  inflating: cats_and_dogs/validation/cats/cat.2384.jpg  
  inflating: __MACOSX/cats_and_dogs/validation/cats/._cat.2384.jpg  
  inflating: cats_and_dogs/validation/cats/cat.2390.jpg  
  inflating: __MACOSX/cats_and_dogs/validation/cats/._cat.2390.jpg  
  inflating: cats_and_dogs/validation/cats/cat.2409.jpg  
  inflating: __MACOSX/cats_and_dogs/validation/cats/._cat.2409.jpg  
  inflating: cats_and_dogs/validation/cats/cat.2421.jpg  
  inflating: __MACOSX/cats_and_dogs/validation/cats/._cat.2421.jpg  
  inflating: cats_and_dogs/validation/cats/cat.2347.jpg  
  inflating: __MACOSX/cats_and_dogs/validation/cats/._cat.2347.jpg  
  inflating: cats_and_dogs/validation/cats/cat.2353.jpg  
  inflating: __MACOSX/cats_and_dogs/validation/cats/._cat.2353.jpg  
  inflating: cats_and_dogs/validation/cats/cat.2435.jpg  
  inflating: __MACOSX/cats_and_dogs/validation/cats/._cat.2435.jpg  
  inflating: cats_and_dogs/validation/cats/cat.2233.jpg  
  inflating: __MACOSX/cats_and_dogs/validation/cats/._cat.2233.jpg  
  inflating: cats_and_dogs/validation/cats/cat.2227.jpg  
  inflating: __MACOSX/cats_and_dogs/validation/cats/._cat.2227.jpg  
  inflating: cats_and_dogs/validation/cats/cat.2019.jpg  
  inflating: __MACOSX/cats_and_dogs/validation/cats/._cat.2019.jpg  
  inflating: cats_and_dogs/validation/cats/cat.2031.jpg  
  inflating: __MACOSX/cats_and_dogs/validation/cats/._cat.2031.jpg  
  inflating: cats_and_dogs/validation/cats/cat.2025.jpg  
  inflating: __MACOSX/cats_and_dogs/validation/cats/._cat.2025.jpg  
  inflating: cats_and_dogs/validation/cats/cat.2028.jpg  
  inflating: __MACOSX/cats_and_dogs/validation/cats/._cat.2028.jpg  
  inflating: cats_and_dogs/validation/cats/cat.2000.jpg  
  inflating: __MACOSX/cats_and_dogs/validation/cats/._cat.2000.jpg  
  inflating: cats_and_dogs/validation/cats/cat.2014.jpg  
  inflating: __MACOSX/cats_and_dogs/validation/cats/._cat.2014.jpg  
  inflating: cats_and_dogs/validation/cats/cat.2202.jpg  
  inflating: __MACOSX/cats_and_dogs/validation/cats/._cat.2202.jpg  
  inflating: cats_and_dogs/validation/cats/cat.2216.jpg  
  inflating: __MACOSX/cats_and_dogs/validation/cats/._cat.2216.jpg  
  inflating: cats_and_dogs/validation/cats/cat.2438.jpg  
  inflating: __MACOSX/cats_and_dogs/validation/cats/._cat.2438.jpg  
  inflating: cats_and_dogs/validation/cats/cat.2410.jpg  
  inflating: __MACOSX/cats_and_dogs/validation/cats/._cat.2410.jpg  
  inflating: cats_and_dogs/validation/cats/cat.2376.jpg  
  inflating: __MACOSX/cats_and_dogs/validation/cats/._cat.2376.jpg  
  inflating: cats_and_dogs/validation/cats/cat.2362.jpg  
  inflating: __MACOSX/cats_and_dogs/validation/cats/._cat.2362.jpg  
  inflating: cats_and_dogs/validation/cats/cat.2404.jpg  
  inflating: __MACOSX/cats_and_dogs/validation/cats/._cat.2404.jpg  
  inflating: cats_and_dogs/validation/cats/cat.2389.jpg  
  inflating: __MACOSX/cats_and_dogs/validation/cats/._cat.2389.jpg  
  inflating: cats_and_dogs/validation/cats/cat.2148.jpg  
  inflating: __MACOSX/cats_and_dogs/validation/cats/._cat.2148.jpg  
  inflating: cats_and_dogs/validation/cats/cat.2174.jpg  
  inflating: __MACOSX/cats_and_dogs/validation/cats/._cat.2174.jpg  
  inflating: cats_and_dogs/validation/cats/cat.2160.jpg  
  inflating: __MACOSX/cats_and_dogs/validation/cats/._cat.2160.jpg  
  inflating: cats_and_dogs/validation/cats/cat.2161.jpg  
  inflating: __MACOSX/cats_and_dogs/validation/cats/._cat.2161.jpg  
  inflating: cats_and_dogs/validation/cats/cat.2175.jpg  
  inflating: __MACOSX/cats_and_dogs/validation/cats/._cat.2175.jpg  
  inflating: cats_and_dogs/validation/cats/cat.2149.jpg  
  inflating: __MACOSX/cats_and_dogs/validation/cats/._cat.2149.jpg  
  inflating: cats_and_dogs/validation/cats/cat.2388.jpg  
  inflating: __MACOSX/cats_and_dogs/validation/cats/._cat.2388.jpg  
  inflating: cats_and_dogs/validation/cats/cat.2363.jpg  
  inflating: __MACOSX/cats_and_dogs/validation/cats/._cat.2363.jpg  
  inflating: cats_and_dogs/validation/cats/cat.2405.jpg  
  inflating: __MACOSX/cats_and_dogs/validation/cats/._cat.2405.jpg  
  inflating: cats_and_dogs/validation/cats/cat.2411.jpg  
  inflating: __MACOSX/cats_and_dogs/validation/cats/._cat.2411.jpg  
  inflating: cats_and_dogs/validation/cats/cat.2377.jpg  
  inflating: __MACOSX/cats_and_dogs/validation/cats/._cat.2377.jpg  
  inflating: cats_and_dogs/validation/cats/cat.2439.jpg  
  inflating: __MACOSX/cats_and_dogs/validation/cats/._cat.2439.jpg  
  inflating: cats_and_dogs/validation/cats/cat.2217.jpg  
  inflating: __MACOSX/cats_and_dogs/validation/cats/._cat.2217.jpg  
  inflating: cats_and_dogs/validation/cats/cat.2203.jpg  
  inflating: __MACOSX/cats_and_dogs/validation/cats/._cat.2203.jpg  
  inflating: cats_and_dogs/validation/cats/cat.2015.jpg  
  inflating: __MACOSX/cats_and_dogs/validation/cats/._cat.2015.jpg  
  inflating: cats_and_dogs/validation/cats/cat.2001.jpg  
  inflating: __MACOSX/cats_and_dogs/validation/cats/._cat.2001.jpg  
  inflating: cats_and_dogs/validation/cats/cat.2029.jpg  
  inflating: __MACOSX/cats_and_dogs/validation/cats/._cat.2029.jpg  
  inflating: cats_and_dogs/validation/cats/cat.2017.jpg  
  inflating: __MACOSX/cats_and_dogs/validation/cats/._cat.2017.jpg  
  inflating: cats_and_dogs/validation/cats/cat.2003.jpg  
  inflating: __MACOSX/cats_and_dogs/validation/cats/._cat.2003.jpg  
  inflating: cats_and_dogs/validation/cats/cat.2229.jpg  
  inflating: __MACOSX/cats_and_dogs/validation/cats/._cat.2229.jpg  
  inflating: cats_and_dogs/validation/cats/cat.2215.jpg  
  inflating: __MACOSX/cats_and_dogs/validation/cats/._cat.2215.jpg  
  inflating: cats_and_dogs/validation/cats/cat.2201.jpg  
  inflating: __MACOSX/cats_and_dogs/validation/cats/._cat.2201.jpg  
  inflating: cats_and_dogs/validation/cats/cat.2349.jpg  
  inflating: __MACOSX/cats_and_dogs/validation/cats/._cat.2349.jpg  
  inflating: cats_and_dogs/validation/cats/cat.2407.jpg  
  inflating: __MACOSX/cats_and_dogs/validation/cats/._cat.2407.jpg  
  inflating: cats_and_dogs/validation/cats/cat.2361.jpg  
  inflating: __MACOSX/cats_and_dogs/validation/cats/._cat.2361.jpg  
  inflating: cats_and_dogs/validation/cats/cat.2375.jpg  
  inflating: __MACOSX/cats_and_dogs/validation/cats/._cat.2375.jpg  
  inflating: cats_and_dogs/validation/cats/cat.2413.jpg  
  inflating: __MACOSX/cats_and_dogs/validation/cats/._cat.2413.jpg  
  inflating: cats_and_dogs/validation/cats/cat.2163.jpg  
  inflating: __MACOSX/cats_and_dogs/validation/cats/._cat.2163.jpg  
  inflating: cats_and_dogs/validation/cats/cat.2177.jpg  
  inflating: __MACOSX/cats_and_dogs/validation/cats/._cat.2177.jpg  
  inflating: cats_and_dogs/validation/cats/cat.2188.jpg  
  inflating: __MACOSX/cats_and_dogs/validation/cats/._cat.2188.jpg  
  inflating: cats_and_dogs/validation/cats/cat.2189.jpg  
  inflating: __MACOSX/cats_and_dogs/validation/cats/._cat.2189.jpg  
  inflating: cats_and_dogs/validation/cats/cat.2176.jpg  
  inflating: __MACOSX/cats_and_dogs/validation/cats/._cat.2176.jpg  
  inflating: cats_and_dogs/validation/cats/cat.2162.jpg  
  inflating: __MACOSX/cats_and_dogs/validation/cats/._cat.2162.jpg  
  inflating: cats_and_dogs/validation/cats/cat.2374.jpg  
  inflating: __MACOSX/cats_and_dogs/validation/cats/._cat.2374.jpg  
  inflating: cats_and_dogs/validation/cats/cat.2412.jpg  
  inflating: __MACOSX/cats_and_dogs/validation/cats/._cat.2412.jpg  
  inflating: cats_and_dogs/validation/cats/cat.2406.jpg  
  inflating: __MACOSX/cats_and_dogs/validation/cats/._cat.2406.jpg  
  inflating: cats_and_dogs/validation/cats/cat.2360.jpg  
  inflating: __MACOSX/cats_and_dogs/validation/cats/._cat.2360.jpg  
  inflating: cats_and_dogs/validation/cats/cat.2348.jpg  
  inflating: __MACOSX/cats_and_dogs/validation/cats/._cat.2348.jpg  
  inflating: cats_and_dogs/validation/cats/cat.2200.jpg  
  inflating: __MACOSX/cats_and_dogs/validation/cats/._cat.2200.jpg  
  inflating: cats_and_dogs/validation/cats/cat.2214.jpg  
  inflating: __MACOSX/cats_and_dogs/validation/cats/._cat.2214.jpg  
  inflating: cats_and_dogs/validation/cats/cat.2228.jpg  
  inflating: __MACOSX/cats_and_dogs/validation/cats/._cat.2228.jpg  
  inflating: cats_and_dogs/validation/cats/cat.2002.jpg  
  inflating: __MACOSX/cats_and_dogs/validation/cats/._cat.2002.jpg  
  inflating: cats_and_dogs/validation/cats/cat.2016.jpg  
  inflating: __MACOSX/cats_and_dogs/validation/cats/._cat.2016.jpg  
  inflating: cats_and_dogs/validation/cats/cat.2012.jpg  
  inflating: __MACOSX/cats_and_dogs/validation/cats/._cat.2012.jpg  
  inflating: cats_and_dogs/validation/cats/cat.2006.jpg  
  inflating: __MACOSX/cats_and_dogs/validation/cats/._cat.2006.jpg  
  inflating: cats_and_dogs/validation/cats/cat.2210.jpg  
  inflating: __MACOSX/cats_and_dogs/validation/cats/._cat.2210.jpg  
  inflating: cats_and_dogs/validation/cats/cat.2204.jpg  
  inflating: __MACOSX/cats_and_dogs/validation/cats/._cat.2204.jpg  
  inflating: cats_and_dogs/validation/cats/cat.2238.jpg  
  inflating: __MACOSX/cats_and_dogs/validation/cats/._cat.2238.jpg  
  inflating: cats_and_dogs/validation/cats/cat.2364.jpg  
  inflating: __MACOSX/cats_and_dogs/validation/cats/._cat.2364.jpg  
  inflating: cats_and_dogs/validation/cats/cat.2402.jpg  
  inflating: __MACOSX/cats_and_dogs/validation/cats/._cat.2402.jpg  
  inflating: cats_and_dogs/validation/cats/cat.2416.jpg  
  inflating: __MACOSX/cats_and_dogs/validation/cats/._cat.2416.jpg  
  inflating: cats_and_dogs/validation/cats/cat.2370.jpg  
  inflating: __MACOSX/cats_and_dogs/validation/cats/._cat.2370.jpg  
  inflating: cats_and_dogs/validation/cats/cat.2358.jpg  
  inflating: __MACOSX/cats_and_dogs/validation/cats/._cat.2358.jpg  
  inflating: cats_and_dogs/validation/cats/cat.2166.jpg  
  inflating: __MACOSX/cats_and_dogs/validation/cats/._cat.2166.jpg  
  inflating: cats_and_dogs/validation/cats/cat.2172.jpg  
  inflating: __MACOSX/cats_and_dogs/validation/cats/._cat.2172.jpg  
  inflating: cats_and_dogs/validation/cats/cat.2199.jpg  
  inflating: __MACOSX/cats_and_dogs/validation/cats/._cat.2199.jpg  
  inflating: cats_and_dogs/validation/cats/cat.2198.jpg  
  inflating: __MACOSX/cats_and_dogs/validation/cats/._cat.2198.jpg  
  inflating: cats_and_dogs/validation/cats/cat.2173.jpg  
  inflating: __MACOSX/cats_and_dogs/validation/cats/._cat.2173.jpg  
  inflating: cats_and_dogs/validation/cats/cat.2167.jpg  
  inflating: __MACOSX/cats_and_dogs/validation/cats/._cat.2167.jpg  
  inflating: cats_and_dogs/validation/cats/cat.2359.jpg  
  inflating: __MACOSX/cats_and_dogs/validation/cats/._cat.2359.jpg  
  inflating: cats_and_dogs/validation/cats/cat.2417.jpg  
  inflating: __MACOSX/cats_and_dogs/validation/cats/._cat.2417.jpg  
  inflating: cats_and_dogs/validation/cats/cat.2371.jpg  
  inflating: __MACOSX/cats_and_dogs/validation/cats/._cat.2371.jpg  
  inflating: cats_and_dogs/validation/cats/cat.2365.jpg  
  inflating: __MACOSX/cats_and_dogs/validation/cats/._cat.2365.jpg  
  inflating: cats_and_dogs/validation/cats/cat.2403.jpg  
  inflating: __MACOSX/cats_and_dogs/validation/cats/._cat.2403.jpg  
  inflating: cats_and_dogs/validation/cats/cat.2239.jpg  
  inflating: __MACOSX/cats_and_dogs/validation/cats/._cat.2239.jpg  
  inflating: cats_and_dogs/validation/cats/cat.2205.jpg  
  inflating: __MACOSX/cats_and_dogs/validation/cats/._cat.2205.jpg  
  inflating: cats_and_dogs/validation/cats/cat.2211.jpg  
  inflating: __MACOSX/cats_and_dogs/validation/cats/._cat.2211.jpg  
  inflating: cats_and_dogs/validation/cats/cat.2007.jpg  
  inflating: __MACOSX/cats_and_dogs/validation/cats/._cat.2007.jpg  
  inflating: cats_and_dogs/validation/cats/cat.2013.jpg  
  inflating: __MACOSX/cats_and_dogs/validation/cats/._cat.2013.jpg  
  inflating: cats_and_dogs/validation/cats/cat.2005.jpg  
  inflating: __MACOSX/cats_and_dogs/validation/cats/._cat.2005.jpg  
  inflating: cats_and_dogs/validation/cats/cat.2011.jpg  
  inflating: __MACOSX/cats_and_dogs/validation/cats/._cat.2011.jpg  
  inflating: cats_and_dogs/validation/cats/cat.2039.jpg  
  inflating: __MACOSX/cats_and_dogs/validation/cats/._cat.2039.jpg  
  inflating: cats_and_dogs/validation/cats/cat.2207.jpg  
  inflating: __MACOSX/cats_and_dogs/validation/cats/._cat.2207.jpg  
  inflating: cats_and_dogs/validation/cats/cat.2213.jpg  
  inflating: __MACOSX/cats_and_dogs/validation/cats/._cat.2213.jpg  
  inflating: cats_and_dogs/validation/cats/cat.2373.jpg  
  inflating: __MACOSX/cats_and_dogs/validation/cats/._cat.2373.jpg  
  inflating: cats_and_dogs/validation/cats/cat.2415.jpg  
  inflating: __MACOSX/cats_and_dogs/validation/cats/._cat.2415.jpg  
  inflating: cats_and_dogs/validation/cats/cat.2401.jpg  
  inflating: __MACOSX/cats_and_dogs/validation/cats/._cat.2401.jpg  
  inflating: cats_and_dogs/validation/cats/cat.2367.jpg  
  inflating: __MACOSX/cats_and_dogs/validation/cats/._cat.2367.jpg  
  inflating: cats_and_dogs/validation/cats/cat.2429.jpg  
  inflating: __MACOSX/cats_and_dogs/validation/cats/._cat.2429.jpg  
  inflating: cats_and_dogs/validation/cats/cat.2398.jpg  
  inflating: __MACOSX/cats_and_dogs/validation/cats/._cat.2398.jpg  
  inflating: cats_and_dogs/validation/cats/cat.2171.jpg  
  inflating: __MACOSX/cats_and_dogs/validation/cats/._cat.2171.jpg  
  inflating: cats_and_dogs/validation/cats/cat.2165.jpg  
  inflating: __MACOSX/cats_and_dogs/validation/cats/._cat.2165.jpg  
  inflating: cats_and_dogs/validation/cats/cat.2159.jpg  
  inflating: __MACOSX/cats_and_dogs/validation/cats/._cat.2159.jpg  
  inflating: cats_and_dogs/validation/cats/cat.2158.jpg  
  inflating: __MACOSX/cats_and_dogs/validation/cats/._cat.2158.jpg  
  inflating: cats_and_dogs/validation/cats/cat.2164.jpg  
  inflating: __MACOSX/cats_and_dogs/validation/cats/._cat.2164.jpg  
  inflating: cats_and_dogs/validation/cats/cat.2170.jpg  
  inflating: __MACOSX/cats_and_dogs/validation/cats/._cat.2170.jpg  
  inflating: cats_and_dogs/validation/cats/cat.2399.jpg  
  inflating: __MACOSX/cats_and_dogs/validation/cats/._cat.2399.jpg  
  inflating: cats_and_dogs/validation/cats/cat.2428.jpg  
  inflating: __MACOSX/cats_and_dogs/validation/cats/._cat.2428.jpg  
  inflating: cats_and_dogs/validation/cats/cat.2400.jpg  
  inflating: __MACOSX/cats_and_dogs/validation/cats/._cat.2400.jpg  
  inflating: cats_and_dogs/validation/cats/cat.2366.jpg  
  inflating: __MACOSX/cats_and_dogs/validation/cats/._cat.2366.jpg  
  inflating: cats_and_dogs/validation/cats/cat.2372.jpg  
  inflating: __MACOSX/cats_and_dogs/validation/cats/._cat.2372.jpg  
  inflating: cats_and_dogs/validation/cats/cat.2414.jpg  
  inflating: __MACOSX/cats_and_dogs/validation/cats/._cat.2414.jpg  
  inflating: cats_and_dogs/validation/cats/cat.2212.jpg  
  inflating: __MACOSX/cats_and_dogs/validation/cats/._cat.2212.jpg  
  inflating: cats_and_dogs/validation/cats/cat.2206.jpg  
  inflating: __MACOSX/cats_and_dogs/validation/cats/._cat.2206.jpg  
  inflating: cats_and_dogs/validation/cats/cat.2038.jpg  
  inflating: __MACOSX/cats_and_dogs/validation/cats/._cat.2038.jpg  
  inflating: cats_and_dogs/validation/cats/cat.2010.jpg  
  inflating: __MACOSX/cats_and_dogs/validation/cats/._cat.2010.jpg  
  inflating: cats_and_dogs/validation/cats/cat.2004.jpg  
  inflating: __MACOSX/cats_and_dogs/validation/cats/._cat.2004.jpg  
  inflating: cats_and_dogs/validation/cats/cat.2063.jpg  
  inflating: __MACOSX/cats_and_dogs/validation/cats/._cat.2063.jpg  
  inflating: cats_and_dogs/validation/cats/cat.2077.jpg  
  inflating: __MACOSX/cats_and_dogs/validation/cats/._cat.2077.jpg  
  inflating: cats_and_dogs/validation/cats/cat.2088.jpg  
  inflating: __MACOSX/cats_and_dogs/validation/cats/._cat.2088.jpg  
  inflating: cats_and_dogs/validation/cats/cat.2249.jpg  
  inflating: __MACOSX/cats_and_dogs/validation/cats/._cat.2249.jpg  
  inflating: cats_and_dogs/validation/cats/cat.2261.jpg  
  inflating: __MACOSX/cats_and_dogs/validation/cats/._cat.2261.jpg  
  inflating: cats_and_dogs/validation/cats/cat.2275.jpg  
  inflating: __MACOSX/cats_and_dogs/validation/cats/._cat.2275.jpg  
  inflating: cats_and_dogs/validation/cats/cat.2329.jpg  
  inflating: __MACOSX/cats_and_dogs/validation/cats/._cat.2329.jpg  
  inflating: cats_and_dogs/validation/cats/cat.2315.jpg  
  inflating: __MACOSX/cats_and_dogs/validation/cats/._cat.2315.jpg  
  inflating: cats_and_dogs/validation/cats/cat.2473.jpg  
  inflating: __MACOSX/cats_and_dogs/validation/cats/._cat.2473.jpg  
  inflating: cats_and_dogs/validation/cats/cat.2467.jpg  
  inflating: __MACOSX/cats_and_dogs/validation/cats/._cat.2467.jpg  
  inflating: cats_and_dogs/validation/cats/cat.2301.jpg  
  inflating: __MACOSX/cats_and_dogs/validation/cats/._cat.2301.jpg  
  inflating: cats_and_dogs/validation/cats/cat.2498.jpg  
  inflating: __MACOSX/cats_and_dogs/validation/cats/._cat.2498.jpg  
  inflating: cats_and_dogs/validation/cats/cat.2117.jpg  
  inflating: __MACOSX/cats_and_dogs/validation/cats/._cat.2117.jpg  
  inflating: cats_and_dogs/validation/cats/cat.2103.jpg  
  inflating: __MACOSX/cats_and_dogs/validation/cats/._cat.2103.jpg  
  inflating: cats_and_dogs/validation/cats/cat.2102.jpg  
  inflating: __MACOSX/cats_and_dogs/validation/cats/._cat.2102.jpg  
  inflating: cats_and_dogs/validation/cats/cat.2116.jpg  
  inflating: __MACOSX/cats_and_dogs/validation/cats/._cat.2116.jpg  
  inflating: cats_and_dogs/validation/cats/cat.2499.jpg  
  inflating: __MACOSX/cats_and_dogs/validation/cats/._cat.2499.jpg  
  inflating: cats_and_dogs/validation/cats/cat.2466.jpg  
  inflating: __MACOSX/cats_and_dogs/validation/cats/._cat.2466.jpg  
  inflating: cats_and_dogs/validation/cats/cat.2300.jpg  
  inflating: __MACOSX/cats_and_dogs/validation/cats/._cat.2300.jpg  
  inflating: cats_and_dogs/validation/cats/cat.2314.jpg  
  inflating: __MACOSX/cats_and_dogs/validation/cats/._cat.2314.jpg  
  inflating: cats_and_dogs/validation/cats/cat.2472.jpg  
  inflating: __MACOSX/cats_and_dogs/validation/cats/._cat.2472.jpg  
  inflating: cats_and_dogs/validation/cats/cat.2328.jpg  
  inflating: __MACOSX/cats_and_dogs/validation/cats/._cat.2328.jpg  
  inflating: cats_and_dogs/validation/cats/cat.2274.jpg  
  inflating: __MACOSX/cats_and_dogs/validation/cats/._cat.2274.jpg  
  inflating: cats_and_dogs/validation/cats/cat.2260.jpg  
  inflating: __MACOSX/cats_and_dogs/validation/cats/._cat.2260.jpg  
  inflating: cats_and_dogs/validation/cats/cat.2248.jpg  
  inflating: __MACOSX/cats_and_dogs/validation/cats/._cat.2248.jpg  
  inflating: cats_and_dogs/validation/cats/cat.2089.jpg  
  inflating: __MACOSX/cats_and_dogs/validation/cats/._cat.2089.jpg  
  inflating: cats_and_dogs/validation/cats/cat.2076.jpg  
  inflating: __MACOSX/cats_and_dogs/validation/cats/._cat.2076.jpg  
  inflating: cats_and_dogs/validation/cats/cat.2062.jpg  
  inflating: __MACOSX/cats_and_dogs/validation/cats/._cat.2062.jpg  
  inflating: cats_and_dogs/validation/cats/cat.2048.jpg  
  inflating: __MACOSX/cats_and_dogs/validation/cats/._cat.2048.jpg  
  inflating: cats_and_dogs/validation/cats/cat.2074.jpg  
  inflating: __MACOSX/cats_and_dogs/validation/cats/._cat.2074.jpg  
  inflating: cats_and_dogs/validation/cats/cat.2060.jpg  
  inflating: __MACOSX/cats_and_dogs/validation/cats/._cat.2060.jpg  
  inflating: cats_and_dogs/validation/cats/cat.2276.jpg  
  inflating: __MACOSX/cats_and_dogs/validation/cats/._cat.2276.jpg  
  inflating: cats_and_dogs/validation/cats/cat.2262.jpg  
  inflating: __MACOSX/cats_and_dogs/validation/cats/._cat.2262.jpg  
  inflating: cats_and_dogs/validation/cats/cat.2289.jpg  
  inflating: __MACOSX/cats_and_dogs/validation/cats/._cat.2289.jpg  
  inflating: cats_and_dogs/validation/cats/cat.2458.jpg  
  inflating: __MACOSX/cats_and_dogs/validation/cats/._cat.2458.jpg  
  inflating: cats_and_dogs/validation/cats/cat.2302.jpg  
  inflating: __MACOSX/cats_and_dogs/validation/cats/._cat.2302.jpg  
  inflating: cats_and_dogs/validation/cats/cat.2464.jpg  
  inflating: __MACOSX/cats_and_dogs/validation/cats/._cat.2464.jpg  
  inflating: cats_and_dogs/validation/cats/cat.2470.jpg  
  inflating: __MACOSX/cats_and_dogs/validation/cats/._cat.2470.jpg  
  inflating: cats_and_dogs/validation/cats/cat.2316.jpg  
  inflating: __MACOSX/cats_and_dogs/validation/cats/._cat.2316.jpg  
  inflating: cats_and_dogs/validation/cats/cat.2128.jpg  
  inflating: __MACOSX/cats_and_dogs/validation/cats/._cat.2128.jpg  
  inflating: cats_and_dogs/validation/cats/cat.2100.jpg  
  inflating: __MACOSX/cats_and_dogs/validation/cats/._cat.2100.jpg  
  inflating: cats_and_dogs/validation/cats/cat.2114.jpg  
  inflating: __MACOSX/cats_and_dogs/validation/cats/._cat.2114.jpg  
  inflating: cats_and_dogs/validation/cats/cat.2115.jpg  
  inflating: __MACOSX/cats_and_dogs/validation/cats/._cat.2115.jpg  
  inflating: cats_and_dogs/validation/cats/cat.2101.jpg  
  inflating: __MACOSX/cats_and_dogs/validation/cats/._cat.2101.jpg  
  inflating: cats_and_dogs/validation/cats/cat.2129.jpg  
  inflating: __MACOSX/cats_and_dogs/validation/cats/._cat.2129.jpg  
  inflating: cats_and_dogs/validation/cats/cat.2471.jpg  
  inflating: __MACOSX/cats_and_dogs/validation/cats/._cat.2471.jpg  
  inflating: cats_and_dogs/validation/cats/cat.2317.jpg  
  inflating: __MACOSX/cats_and_dogs/validation/cats/._cat.2317.jpg  
  inflating: cats_and_dogs/validation/cats/cat.2303.jpg  
  inflating: __MACOSX/cats_and_dogs/validation/cats/._cat.2303.jpg  
  inflating: cats_and_dogs/validation/cats/cat.2465.jpg  
  inflating: __MACOSX/cats_and_dogs/validation/cats/._cat.2465.jpg  
  inflating: cats_and_dogs/validation/cats/cat.2459.jpg  
  inflating: __MACOSX/cats_and_dogs/validation/cats/._cat.2459.jpg  
  inflating: cats_and_dogs/validation/cats/cat.2288.jpg  
  inflating: __MACOSX/cats_and_dogs/validation/cats/._cat.2288.jpg  
  inflating: cats_and_dogs/validation/cats/cat.2263.jpg  
  inflating: __MACOSX/cats_and_dogs/validation/cats/._cat.2263.jpg  
  inflating: cats_and_dogs/validation/cats/cat.2277.jpg  
  inflating: __MACOSX/cats_and_dogs/validation/cats/._cat.2277.jpg  
  inflating: cats_and_dogs/validation/cats/cat.2061.jpg  
  inflating: __MACOSX/cats_and_dogs/validation/cats/._cat.2061.jpg  
  inflating: cats_and_dogs/validation/cats/cat.2075.jpg  
  inflating: __MACOSX/cats_and_dogs/validation/cats/._cat.2075.jpg  
  inflating: cats_and_dogs/validation/cats/cat.2049.jpg  
  inflating: __MACOSX/cats_and_dogs/validation/cats/._cat.2049.jpg  
  inflating: cats_and_dogs/validation/cats/cat.2071.jpg  
  inflating: __MACOSX/cats_and_dogs/validation/cats/._cat.2071.jpg  
  inflating: cats_and_dogs/validation/cats/cat.2065.jpg  
  inflating: __MACOSX/cats_and_dogs/validation/cats/._cat.2065.jpg  
  inflating: cats_and_dogs/validation/cats/cat.2059.jpg  
  inflating: __MACOSX/cats_and_dogs/validation/cats/._cat.2059.jpg  
  inflating: cats_and_dogs/validation/cats/cat.2273.jpg  
  inflating: __MACOSX/cats_and_dogs/validation/cats/._cat.2273.jpg  
  inflating: cats_and_dogs/validation/cats/cat.2267.jpg  
  inflating: __MACOSX/cats_and_dogs/validation/cats/._cat.2267.jpg  
  inflating: cats_and_dogs/validation/cats/cat.2298.jpg  
  inflating: __MACOSX/cats_and_dogs/validation/cats/._cat.2298.jpg  
  inflating: cats_and_dogs/validation/cats/cat.2461.jpg  
  inflating: __MACOSX/cats_and_dogs/validation/cats/._cat.2461.jpg  
  inflating: cats_and_dogs/validation/cats/cat.2307.jpg  
  inflating: __MACOSX/cats_and_dogs/validation/cats/._cat.2307.jpg  
  inflating: cats_and_dogs/validation/cats/cat.2313.jpg  
  inflating: __MACOSX/cats_and_dogs/validation/cats/._cat.2313.jpg  
  inflating: cats_and_dogs/validation/cats/cat.2475.jpg  
  inflating: __MACOSX/cats_and_dogs/validation/cats/._cat.2475.jpg  
  inflating: cats_and_dogs/validation/cats/cat.2449.jpg  
  inflating: __MACOSX/cats_and_dogs/validation/cats/._cat.2449.jpg  
  inflating: cats_and_dogs/validation/cats/cat.2105.jpg  
  inflating: __MACOSX/cats_and_dogs/validation/cats/._cat.2105.jpg  
  inflating: cats_and_dogs/validation/cats/cat.2111.jpg  
  inflating: __MACOSX/cats_and_dogs/validation/cats/._cat.2111.jpg  
  inflating: cats_and_dogs/validation/cats/cat.2139.jpg  
  inflating: __MACOSX/cats_and_dogs/validation/cats/._cat.2139.jpg  
  inflating: cats_and_dogs/validation/cats/cat.2138.jpg  
  inflating: __MACOSX/cats_and_dogs/validation/cats/._cat.2138.jpg  
  inflating: cats_and_dogs/validation/cats/cat.2110.jpg  
  inflating: __MACOSX/cats_and_dogs/validation/cats/._cat.2110.jpg  
  inflating: cats_and_dogs/validation/cats/cat.2104.jpg  
  inflating: __MACOSX/cats_and_dogs/validation/cats/._cat.2104.jpg  
  inflating: cats_and_dogs/validation/cats/cat.2448.jpg  
  inflating: __MACOSX/cats_and_dogs/validation/cats/._cat.2448.jpg  
  inflating: cats_and_dogs/validation/cats/cat.2312.jpg  
  inflating: __MACOSX/cats_and_dogs/validation/cats/._cat.2312.jpg  
  inflating: cats_and_dogs/validation/cats/cat.2474.jpg  
  inflating: __MACOSX/cats_and_dogs/validation/cats/._cat.2474.jpg  
  inflating: cats_and_dogs/validation/cats/cat.2460.jpg  
  inflating: __MACOSX/cats_and_dogs/validation/cats/._cat.2460.jpg  
  inflating: cats_and_dogs/validation/cats/cat.2306.jpg  
  inflating: __MACOSX/cats_and_dogs/validation/cats/._cat.2306.jpg  
  inflating: cats_and_dogs/validation/cats/cat.2299.jpg  
  inflating: __MACOSX/cats_and_dogs/validation/cats/._cat.2299.jpg  
  inflating: cats_and_dogs/validation/cats/cat.2266.jpg  
  inflating: __MACOSX/cats_and_dogs/validation/cats/._cat.2266.jpg  
  inflating: cats_and_dogs/validation/cats/cat.2272.jpg  
  inflating: __MACOSX/cats_and_dogs/validation/cats/._cat.2272.jpg  
  inflating: cats_and_dogs/validation/cats/cat.2058.jpg  
  inflating: __MACOSX/cats_and_dogs/validation/cats/._cat.2058.jpg  
  inflating: cats_and_dogs/validation/cats/cat.2064.jpg  
  inflating: __MACOSX/cats_and_dogs/validation/cats/._cat.2064.jpg  
  inflating: cats_and_dogs/validation/cats/cat.2070.jpg  
  inflating: __MACOSX/cats_and_dogs/validation/cats/._cat.2070.jpg  
  inflating: cats_and_dogs/validation/cats/cat.2066.jpg  
  inflating: __MACOSX/cats_and_dogs/validation/cats/._cat.2066.jpg  
  inflating: cats_and_dogs/validation/cats/cat.2072.jpg  
  inflating: __MACOSX/cats_and_dogs/validation/cats/._cat.2072.jpg  
  inflating: cats_and_dogs/validation/cats/cat.2099.jpg  
  inflating: __MACOSX/cats_and_dogs/validation/cats/._cat.2099.jpg  
  inflating: cats_and_dogs/validation/cats/cat.2264.jpg  
  inflating: __MACOSX/cats_and_dogs/validation/cats/._cat.2264.jpg  
  inflating: cats_and_dogs/validation/cats/cat.2270.jpg  
  inflating: __MACOSX/cats_and_dogs/validation/cats/._cat.2270.jpg  
  inflating: cats_and_dogs/validation/cats/cat.2258.jpg  
  inflating: __MACOSX/cats_and_dogs/validation/cats/._cat.2258.jpg  
  inflating: cats_and_dogs/validation/cats/cat.2476.jpg  
  inflating: __MACOSX/cats_and_dogs/validation/cats/._cat.2476.jpg  
  inflating: cats_and_dogs/validation/cats/cat.2310.jpg  
  inflating: __MACOSX/cats_and_dogs/validation/cats/._cat.2310.jpg  
  inflating: cats_and_dogs/validation/cats/cat.2304.jpg  
  inflating: __MACOSX/cats_and_dogs/validation/cats/._cat.2304.jpg  
  inflating: cats_and_dogs/validation/cats/cat.2462.jpg  
  inflating: __MACOSX/cats_and_dogs/validation/cats/._cat.2462.jpg  
  inflating: cats_and_dogs/validation/cats/cat.2338.jpg  
  inflating: __MACOSX/cats_and_dogs/validation/cats/._cat.2338.jpg  
  inflating: cats_and_dogs/validation/cats/cat.2489.jpg  
  inflating: __MACOSX/cats_and_dogs/validation/cats/._cat.2489.jpg  
  inflating: cats_and_dogs/validation/cats/cat.2112.jpg  
  inflating: __MACOSX/cats_and_dogs/validation/cats/._cat.2112.jpg  
  inflating: cats_and_dogs/validation/cats/cat.2106.jpg  
  inflating: __MACOSX/cats_and_dogs/validation/cats/._cat.2106.jpg  
  inflating: cats_and_dogs/validation/cats/cat.2107.jpg  
  inflating: __MACOSX/cats_and_dogs/validation/cats/._cat.2107.jpg  
  inflating: cats_and_dogs/validation/cats/cat.2113.jpg  
  inflating: __MACOSX/cats_and_dogs/validation/cats/._cat.2113.jpg  
  inflating: cats_and_dogs/validation/cats/cat.2488.jpg  
  inflating: __MACOSX/cats_and_dogs/validation/cats/._cat.2488.jpg  
  inflating: cats_and_dogs/validation/cats/cat.2339.jpg  
  inflating: __MACOSX/cats_and_dogs/validation/cats/._cat.2339.jpg  
  inflating: cats_and_dogs/validation/cats/cat.2305.jpg  
  inflating: __MACOSX/cats_and_dogs/validation/cats/._cat.2305.jpg  
  inflating: cats_and_dogs/validation/cats/cat.2463.jpg  
  inflating: __MACOSX/cats_and_dogs/validation/cats/._cat.2463.jpg  
  inflating: cats_and_dogs/validation/cats/cat.2477.jpg  
  inflating: __MACOSX/cats_and_dogs/validation/cats/._cat.2477.jpg  
  inflating: cats_and_dogs/validation/cats/cat.2311.jpg  
  inflating: __MACOSX/cats_and_dogs/validation/cats/._cat.2311.jpg  
  inflating: cats_and_dogs/validation/cats/cat.2259.jpg  
  inflating: __MACOSX/cats_and_dogs/validation/cats/._cat.2259.jpg  
  inflating: cats_and_dogs/validation/cats/cat.2271.jpg  
  inflating: __MACOSX/cats_and_dogs/validation/cats/._cat.2271.jpg  
  inflating: cats_and_dogs/validation/cats/cat.2265.jpg  
  inflating: __MACOSX/cats_and_dogs/validation/cats/._cat.2265.jpg  
  inflating: cats_and_dogs/validation/cats/cat.2098.jpg  
  inflating: __MACOSX/cats_and_dogs/validation/cats/._cat.2098.jpg  
  inflating: cats_and_dogs/validation/cats/cat.2073.jpg  
  inflating: __MACOSX/cats_and_dogs/validation/cats/._cat.2073.jpg  
  inflating: cats_and_dogs/validation/cats/cat.2067.jpg  
  inflating: __MACOSX/cats_and_dogs/validation/cats/._cat.2067.jpg  
  inflating: __MACOSX/cats_and_dogs/validation/._cats  
  inflating: cats_and_dogs/validation/.DS_Store  
  inflating: __MACOSX/cats_and_dogs/validation/._.DS_Store  
  inflating: __MACOSX/cats_and_dogs/._validation  
  inflating: __MACOSX/._cats_and_dogs  
Now it is your turn! Set each of the variables below correctly. (They should no longer equal None.)

Create image generators for each of the three image data sets (train, validation, test). Use ImageDataGenerator to read / decode the images and convert them into floating point tensors. Use the rescale argument (and no other arguments for now) to rescale the tensors from values between 0 and 255 to values between 0 and 1.

For the *_data_gen variables, use the flow_from_directory method. Pass in the batch size, directory, target size ((IMG_HEIGHT, IMG_WIDTH)), class mode, and anything else required. test_data_gen will be the trickiest one. For test_data_gen, make sure to pass in shuffle=False to the flow_from_directory method. This will make sure the final predictions stay is in the order that our test expects. For test_data_gen it will also be helpful to observe the directory structure.

After you run the code, the output should look like this:

Found 2000 images belonging to 2 classes.
Found 1000 images belonging to 2 classes.
Found 50 images belonging to 1 classes.

train_image_generator = ImageDataGenerator(rescale = 1./255)
validation_image_generator = ImageDataGenerator(rescale = 1./255)
test_image_generator = ImageDataGenerator(rescale = 1./255)

train_data_gen = train_image_generator.flow_from_directory(
        train_dir,
        batch_size=batch_size,
        target_size=(IMG_HEIGHT, IMG_WIDTH),
        class_mode='binary')

val_data_gen = validation_image_generator.flow_from_directory(
        validation_dir,
        batch_size=batch_size,
        target_size=(IMG_HEIGHT, IMG_WIDTH),
        class_mode='binary')

test_data_gen = test_image_generator.flow_from_directory(
        '/content/cats_and_dogs', 
        classes=['test'],
        batch_size=batch_size,
        target_size=(IMG_HEIGHT, IMG_WIDTH),
        class_mode='binary',
        shuffle=False)
     
Found 2000 images belonging to 2 classes.
Found 1000 images belonging to 2 classes.
Found 50 images belonging to 1 classes.
The plotImages function will be used a few times to plot images. It takes an array of images and a probabilities list, although the probabilities list is optional. This code is given to you. If you created the train_data_gen variable correctly, then running the cell below will plot five random training images.


def plotImages(images_arr, probabilities = False):
    fig, axes = plt.subplots(len(images_arr), 1, figsize=(5,len(images_arr) * 3))
    if probabilities is False:
      for img, ax in zip( images_arr, axes):
          ax.imshow(img)
          ax.axis('off')
    else:
      for img, probability, ax in zip( images_arr, probabilities, axes):
          ax.imshow(img)
          ax.axis('off')
          if probability > 0.5:
              ax.set_title("%.2f" % (probability*100) + "% dog")
          else:
              ax.set_title("%.2f" % ((1-probability)*100) + "% cat")
    plt.show()

sample_training_images, _ = next(train_data_gen)
plotImages(sample_training_images[:5])
     

Recreate the train_image_generator using ImageDataGenerator.

Since there are a small number of training examples there is a risk of overfitting. One way to fix this problem is by creating more training data from existing training examples by using random transformations.

Add 4-6 random transformations as arguments to ImageDataGenerator. Make sure to rescale the same as before.


train_image_generator = ImageDataGenerator(
    rescale = 1./255,
    rotation_range = 15,
    height_shift_range = 0.2,
    width_shift_range = 0.2,
    shear_range = 0.2,
    zoom_range = 0.2)
     
You don't have to do anything for the next cell. train_data_gen is created just like before but with the new train_image_generator. Then, a single image is plotted five different times using different variations.


train_data_gen = train_image_generator.flow_from_directory(
        train_dir,
        batch_size=batch_size,
        target_size=(IMG_HEIGHT, IMG_WIDTH),
        class_mode='binary')

augmented_images = [train_data_gen[0][0][0] for i in range(5)]

plotImages(augmented_images)
     
Found 2000 images belonging to 2 classes.

In the cell below, create a model for the neural network that outputs class probabilities. It should use the Keras Sequential model. It will probably involve a stack of Conv2D and MaxPooling2D layers and then a fully connected layer on top that is activated by a ReLU activation function.

Compile the model passing the arguments to set the optimizer and loss. Also pass in metrics=['accuracy'] to view training and validation accuracy for each training epoch.


model = Sequential()
model.add(Conv2D(32, kernel_size=(3, 3), activation='relu', input_shape=(IMG_HEIGHT,IMG_WIDTH,3)))
model.add(Conv2D(64, kernel_size=(3, 3), activation='relu'))
model.add(MaxPooling2D(pool_size=(2, 2)))
model.add(Dropout(0.25))
model.add(Flatten())
model.add(Dense(128, activation='relu'))
model.add(Dropout(0.5))
model.add(Dense(1, activation='sigmoid'))
model.compile(loss='binary_crossentropy', optimizer='adam', metrics=['accuracy'])

model.summary()
     
Model: "sequential"
_________________________________________________________________
Layer (type)                 Output Shape              Param #   
=================================================================
conv2d (Conv2D)              (None, 148, 148, 32)      896       
_________________________________________________________________
conv2d_1 (Conv2D)            (None, 146, 146, 64)      18496     
_________________________________________________________________
max_pooling2d (MaxPooling2D) (None, 73, 73, 64)        0         
_________________________________________________________________
dropout (Dropout)            (None, 73, 73, 64)        0         
_________________________________________________________________
flatten (Flatten)            (None, 341056)            0         
_________________________________________________________________
dense (Dense)                (None, 128)               43655296  
_________________________________________________________________
dropout_1 (Dropout)          (None, 128)               0         
_________________________________________________________________
dense_1 (Dense)              (None, 1)                 129       
=================================================================
Total params: 43,674,817
Trainable params: 43,674,817
Non-trainable params: 0
_________________________________________________________________
Use the fit method on your model to train the network. Make sure to pass in arguments for x, steps_per_epoch, epochs, validation_data, and validation_steps.


history = model.fit(
        x=train_data_gen,
        steps_per_epoch=10,
        epochs=epochs,
        validation_data=val_data_gen,
        validation_steps=total_val // batch_size)
     
Epoch 1/1000
10/10 [==============================] - 46s 1s/step - loss: 5.4975 - accuracy: 0.5156 - val_loss: 1.0060 - val_accuracy: 0.4989
Epoch 2/1000
10/10 [==============================] - 13s 1s/step - loss: 0.7397 - accuracy: 0.5078 - val_loss: 0.6918 - val_accuracy: 0.5491
Epoch 3/1000
10/10 [==============================] - 13s 1s/step - loss: 0.6918 - accuracy: 0.5114 - val_loss: 0.6886 - val_accuracy: 0.5179
Epoch 4/1000
10/10 [==============================] - 12s 1s/step - loss: 0.6893 - accuracy: 0.5234 - val_loss: 0.6874 - val_accuracy: 0.5134
Epoch 5/1000
10/10 [==============================] - 12s 1s/step - loss: 0.6879 - accuracy: 0.5503 - val_loss: 0.6899 - val_accuracy: 0.5435
Epoch 6/1000
10/10 [==============================] - 12s 1s/step - loss: 0.6869 - accuracy: 0.5471 - val_loss: 0.6876 - val_accuracy: 0.5525
Epoch 7/1000
10/10 [==============================] - 12s 1s/step - loss: 0.6869 - accuracy: 0.5584 - val_loss: 0.6825 - val_accuracy: 0.5357
Epoch 8/1000
10/10 [==============================] - 12s 1s/step - loss: 0.6835 - accuracy: 0.5666 - val_loss: 0.6807 - val_accuracy: 0.5580
Epoch 9/1000
10/10 [==============================] - 12s 1s/step - loss: 0.6827 - accuracy: 0.5617 - val_loss: 0.6652 - val_accuracy: 0.6116
Epoch 10/1000
10/10 [==============================] - 12s 1s/step - loss: 0.6715 - accuracy: 0.5969 - val_loss: 0.6651 - val_accuracy: 0.5882
Epoch 11/1000
10/10 [==============================] - 12s 1s/step - loss: 0.6558 - accuracy: 0.5844 - val_loss: 0.6366 - val_accuracy: 0.6127
Epoch 12/1000
10/10 [==============================] - 12s 1s/step - loss: 0.6538 - accuracy: 0.6070 - val_loss: 0.6383 - val_accuracy: 0.6384
Epoch 13/1000
10/10 [==============================] - 13s 1s/step - loss: 0.6487 - accuracy: 0.6250 - val_loss: 0.6832 - val_accuracy: 0.5759
Epoch 14/1000
10/10 [==============================] - 12s 1s/step - loss: 0.6543 - accuracy: 0.6266 - val_loss: 0.6315 - val_accuracy: 0.6272
Epoch 15/1000
10/10 [==============================] - 12s 1s/step - loss: 0.6397 - accuracy: 0.6144 - val_loss: 0.6271 - val_accuracy: 0.6496
Epoch 16/1000
10/10 [==============================] - 12s 1s/step - loss: 0.6302 - accuracy: 0.6430 - val_loss: 0.6290 - val_accuracy: 0.6205
Epoch 17/1000
10/10 [==============================] - 13s 1s/step - loss: 0.6320 - accuracy: 0.6380 - val_loss: 0.6194 - val_accuracy: 0.6540
Epoch 18/1000
10/10 [==============================] - 13s 1s/step - loss: 0.6296 - accuracy: 0.6414 - val_loss: 0.6118 - val_accuracy: 0.6473
Epoch 19/1000
10/10 [==============================] - 12s 1s/step - loss: 0.6293 - accuracy: 0.6510 - val_loss: 0.6412 - val_accuracy: 0.6261
Epoch 20/1000
10/10 [==============================] - 12s 1s/step - loss: 0.6357 - accuracy: 0.6404 - val_loss: 0.6197 - val_accuracy: 0.6484
Epoch 21/1000
10/10 [==============================] - 12s 1s/step - loss: 0.6370 - accuracy: 0.6274 - val_loss: 0.6061 - val_accuracy: 0.6373
Epoch 22/1000
10/10 [==============================] - 12s 1s/step - loss: 0.6165 - accuracy: 0.6299 - val_loss: 0.6082 - val_accuracy: 0.6786
Epoch 23/1000
10/10 [==============================] - 12s 1s/step - loss: 0.6063 - accuracy: 0.6672 - val_loss: 0.6063 - val_accuracy: 0.6596
Epoch 24/1000
10/10 [==============================] - 12s 1s/step - loss: 0.6019 - accuracy: 0.6615 - val_loss: 0.6128 - val_accuracy: 0.6652
Epoch 25/1000
10/10 [==============================] - 12s 1s/step - loss: 0.6289 - accuracy: 0.6430 - val_loss: 0.5955 - val_accuracy: 0.6763
Epoch 26/1000
10/10 [==============================] - 12s 1s/step - loss: 0.6168 - accuracy: 0.6550 - val_loss: 0.5993 - val_accuracy: 0.6853
Epoch 27/1000
10/10 [==============================] - 12s 1s/step - loss: 0.6231 - accuracy: 0.6526 - val_loss: 0.5916 - val_accuracy: 0.6730
Epoch 28/1000
10/10 [==============================] - 12s 1s/step - loss: 0.5972 - accuracy: 0.6844 - val_loss: 0.5826 - val_accuracy: 0.6920
Epoch 29/1000
10/10 [==============================] - 12s 1s/step - loss: 0.5820 - accuracy: 0.6875 - val_loss: 0.6161 - val_accuracy: 0.6730
Epoch 30/1000
10/10 [==============================] - 12s 1s/step - loss: 0.5845 - accuracy: 0.6843 - val_loss: 0.6145 - val_accuracy: 0.6674
Epoch 31/1000
10/10 [==============================] - 13s 1s/step - loss: 0.5988 - accuracy: 0.6812 - val_loss: 0.5899 - val_accuracy: 0.6908
Epoch 32/1000
10/10 [==============================] - 12s 1s/step - loss: 0.5975 - accuracy: 0.6948 - val_loss: 0.5573 - val_accuracy: 0.7109
Epoch 33/1000
10/10 [==============================] - 12s 1s/step - loss: 0.5779 - accuracy: 0.7070 - val_loss: 0.5812 - val_accuracy: 0.6942
Epoch 34/1000
10/10 [==============================] - 12s 1s/step - loss: 0.5853 - accuracy: 0.6992 - val_loss: 0.5818 - val_accuracy: 0.6964
Epoch 35/1000
10/10 [==============================] - 13s 1s/step - loss: 0.5814 - accuracy: 0.6875 - val_loss: 0.5638 - val_accuracy: 0.6998
Epoch 36/1000
10/10 [==============================] - 12s 1s/step - loss: 0.5892 - accuracy: 0.6834 - val_loss: 0.5495 - val_accuracy: 0.7143
Epoch 37/1000
10/10 [==============================] - 12s 1s/step - loss: 0.5811 - accuracy: 0.7047 - val_loss: 0.5661 - val_accuracy: 0.7098
Epoch 38/1000
10/10 [==============================] - 12s 1s/step - loss: 0.5781 - accuracy: 0.6907 - val_loss: 0.5574 - val_accuracy: 0.7243
Epoch 39/1000
10/10 [==============================] - 12s 1s/step - loss: 0.5672 - accuracy: 0.7143 - val_loss: 0.5737 - val_accuracy: 0.7087
Epoch 40/1000
10/10 [==============================] - 12s 1s/step - loss: 0.5550 - accuracy: 0.7224 - val_loss: 0.5692 - val_accuracy: 0.7109
Epoch 41/1000
10/10 [==============================] - 12s 1s/step - loss: 0.5854 - accuracy: 0.6859 - val_loss: 0.5597 - val_accuracy: 0.7232
Epoch 42/1000
10/10 [==============================] - 12s 1s/step - loss: 0.5612 - accuracy: 0.7200 - val_loss: 0.5647 - val_accuracy: 0.7054
Epoch 43/1000
10/10 [==============================] - 12s 1s/step - loss: 0.5736 - accuracy: 0.6859 - val_loss: 0.5571 - val_accuracy: 0.7299
Epoch 44/1000
10/10 [==============================] - 12s 1s/step - loss: 0.5621 - accuracy: 0.7078 - val_loss: 0.5614 - val_accuracy: 0.7176
Epoch 45/1000
10/10 [==============================] - 13s 1s/step - loss: 0.5482 - accuracy: 0.7297 - val_loss: 0.5941 - val_accuracy: 0.7098
Epoch 46/1000
10/10 [==============================] - 12s 1s/step - loss: 0.5592 - accuracy: 0.7070 - val_loss: 0.5606 - val_accuracy: 0.7355
Epoch 47/1000
10/10 [==============================] - 12s 1s/step - loss: 0.5560 - accuracy: 0.7359 - val_loss: 0.5538 - val_accuracy: 0.7366
Epoch 48/1000
10/10 [==============================] - 12s 1s/step - loss: 0.5406 - accuracy: 0.7248 - val_loss: 0.5328 - val_accuracy: 0.7388
Epoch 49/1000
10/10 [==============================] - 12s 1s/step - loss: 0.5311 - accuracy: 0.7216 - val_loss: 0.5287 - val_accuracy: 0.7377
Epoch 50/1000
10/10 [==============================] - 12s 1s/step - loss: 0.5382 - accuracy: 0.7305 - val_loss: 0.5321 - val_accuracy: 0.7444
Epoch 51/1000
10/10 [==============================] - 12s 1s/step - loss: 0.5134 - accuracy: 0.7573 - val_loss: 0.5333 - val_accuracy: 0.7344
Epoch 52/1000
10/10 [==============================] - 12s 1s/step - loss: 0.5570 - accuracy: 0.7200 - val_loss: 0.5407 - val_accuracy: 0.7489
Epoch 53/1000
10/10 [==============================] - 12s 1s/step - loss: 0.5365 - accuracy: 0.7127 - val_loss: 0.5709 - val_accuracy: 0.7299
Epoch 54/1000
10/10 [==============================] - 13s 1s/step - loss: 0.5248 - accuracy: 0.7227 - val_loss: 0.5261 - val_accuracy: 0.7400
Epoch 55/1000
10/10 [==============================] - 12s 1s/step - loss: 0.5345 - accuracy: 0.7281 - val_loss: 0.5574 - val_accuracy: 0.7400
Epoch 56/1000
10/10 [==============================] - 12s 1s/step - loss: 0.5463 - accuracy: 0.7143 - val_loss: 0.5596 - val_accuracy: 0.7400
Epoch 57/1000
10/10 [==============================] - 12s 1s/step - loss: 0.5421 - accuracy: 0.7242 - val_loss: 0.5320 - val_accuracy: 0.7433
Epoch 58/1000
10/10 [==============================] - 13s 1s/step - loss: 0.5202 - accuracy: 0.7398 - val_loss: 0.5206 - val_accuracy: 0.7545
Epoch 59/1000
10/10 [==============================] - 12s 1s/step - loss: 0.5399 - accuracy: 0.7200 - val_loss: 0.5570 - val_accuracy: 0.7545
Epoch 60/1000
10/10 [==============================] - 12s 1s/step - loss: 0.5175 - accuracy: 0.7443 - val_loss: 0.5335 - val_accuracy: 0.7433
Epoch 61/1000
10/10 [==============================] - 12s 1s/step - loss: 0.5100 - accuracy: 0.7484 - val_loss: 0.5484 - val_accuracy: 0.7433
Epoch 62/1000
10/10 [==============================] - 12s 1s/step - loss: 0.5401 - accuracy: 0.7305 - val_loss: 0.5313 - val_accuracy: 0.7400
Epoch 63/1000
10/10 [==============================] - 13s 1s/step - loss: 0.5039 - accuracy: 0.7500 - val_loss: 0.5585 - val_accuracy: 0.7411
Epoch 64/1000
10/10 [==============================] - 12s 1s/step - loss: 0.5227 - accuracy: 0.7281 - val_loss: 0.5184 - val_accuracy: 0.7299
Epoch 65/1000
10/10 [==============================] - 13s 1s/step - loss: 0.5186 - accuracy: 0.7273 - val_loss: 0.5562 - val_accuracy: 0.7377
Epoch 66/1000
10/10 [==============================] - 12s 1s/step - loss: 0.5048 - accuracy: 0.7565 - val_loss: 0.5318 - val_accuracy: 0.7321
Epoch 67/1000
10/10 [==============================] - 12s 1s/step - loss: 0.4815 - accuracy: 0.7687 - val_loss: 0.5407 - val_accuracy: 0.7366
Epoch 68/1000
10/10 [==============================] - 12s 1s/step - loss: 0.4853 - accuracy: 0.7539 - val_loss: 0.5585 - val_accuracy: 0.7511
Epoch 69/1000
10/10 [==============================] - 12s 1s/step - loss: 0.4953 - accuracy: 0.7516 - val_loss: 0.5417 - val_accuracy: 0.7366
Epoch 70/1000
10/10 [==============================] - 13s 1s/step - loss: 0.4974 - accuracy: 0.7633 - val_loss: 0.5321 - val_accuracy: 0.7533
Epoch 71/1000
10/10 [==============================] - 12s 1s/step - loss: 0.4940 - accuracy: 0.7641 - val_loss: 0.5417 - val_accuracy: 0.7109
Epoch 72/1000
10/10 [==============================] - 12s 1s/step - loss: 0.4950 - accuracy: 0.7589 - val_loss: 0.5135 - val_accuracy: 0.7634
Epoch 73/1000
10/10 [==============================] - 12s 1s/step - loss: 0.5079 - accuracy: 0.7469 - val_loss: 0.5206 - val_accuracy: 0.7411
Epoch 74/1000
10/10 [==============================] - 12s 1s/step - loss: 0.5002 - accuracy: 0.7549 - val_loss: 0.5059 - val_accuracy: 0.7433
Epoch 75/1000
10/10 [==============================] - 12s 1s/step - loss: 0.4751 - accuracy: 0.7735 - val_loss: 0.5187 - val_accuracy: 0.7522
Epoch 76/1000
10/10 [==============================] - 12s 1s/step - loss: 0.4951 - accuracy: 0.7662 - val_loss: 0.5425 - val_accuracy: 0.7310
Epoch 77/1000
10/10 [==============================] - 12s 1s/step - loss: 0.4788 - accuracy: 0.7617 - val_loss: 0.5327 - val_accuracy: 0.7489
Epoch 78/1000
10/10 [==============================] - 13s 1s/step - loss: 0.5086 - accuracy: 0.7508 - val_loss: 0.5352 - val_accuracy: 0.7433
Epoch 79/1000
10/10 [==============================] - 12s 1s/step - loss: 0.4969 - accuracy: 0.7484 - val_loss: 0.5316 - val_accuracy: 0.7600
Epoch 80/1000
10/10 [==============================] - 12s 1s/step - loss: 0.4793 - accuracy: 0.7670 - val_loss: 0.5619 - val_accuracy: 0.7321
Epoch 81/1000
10/10 [==============================] - 12s 1s/step - loss: 0.4944 - accuracy: 0.7459 - val_loss: 0.5233 - val_accuracy: 0.7578
Epoch 82/1000
10/10 [==============================] - 12s 1s/step - loss: 0.4857 - accuracy: 0.7581 - val_loss: 0.5174 - val_accuracy: 0.7600
Epoch 83/1000
10/10 [==============================] - 12s 1s/step - loss: 0.4952 - accuracy: 0.7633 - val_loss: 0.5336 - val_accuracy: 0.7444
Epoch 84/1000
10/10 [==============================] - 12s 1s/step - loss: 0.4928 - accuracy: 0.7492 - val_loss: 0.5408 - val_accuracy: 0.7500
Epoch 85/1000
10/10 [==============================] - 13s 1s/step - loss: 0.4604 - accuracy: 0.7680 - val_loss: 0.5417 - val_accuracy: 0.7366
Epoch 86/1000
10/10 [==============================] - 12s 1s/step - loss: 0.4843 - accuracy: 0.7638 - val_loss: 0.5273 - val_accuracy: 0.7578
Epoch 87/1000
10/10 [==============================] - 12s 1s/step - loss: 0.4677 - accuracy: 0.7711 - val_loss: 0.5291 - val_accuracy: 0.7578
Epoch 88/1000
10/10 [==============================] - 12s 1s/step - loss: 0.4569 - accuracy: 0.7841 - val_loss: 0.5127 - val_accuracy: 0.7656
Epoch 89/1000
10/10 [==============================] - 13s 1s/step - loss: 0.4685 - accuracy: 0.7857 - val_loss: 0.5279 - val_accuracy: 0.7612
Epoch 90/1000
10/10 [==============================] - 12s 1s/step - loss: 0.4614 - accuracy: 0.7614 - val_loss: 0.5553 - val_accuracy: 0.7455
Epoch 91/1000
10/10 [==============================] - 12s 1s/step - loss: 0.4553 - accuracy: 0.7995 - val_loss: 0.5267 - val_accuracy: 0.7667
Epoch 92/1000
10/10 [==============================] - 13s 1s/step - loss: 0.4528 - accuracy: 0.7825 - val_loss: 0.5600 - val_accuracy: 0.7556
Epoch 93/1000
10/10 [==============================] - 12s 1s/step - loss: 0.4854 - accuracy: 0.7646 - val_loss: 0.5046 - val_accuracy: 0.7634
Epoch 94/1000
10/10 [==============================] - 12s 1s/step - loss: 0.4575 - accuracy: 0.7825 - val_loss: 0.5323 - val_accuracy: 0.7411
Epoch 95/1000
10/10 [==============================] - 12s 1s/step - loss: 0.4721 - accuracy: 0.7744 - val_loss: 0.5134 - val_accuracy: 0.7746
Epoch 96/1000
10/10 [==============================] - 13s 1s/step - loss: 0.4495 - accuracy: 0.7875 - val_loss: 0.5405 - val_accuracy: 0.7600
Epoch 97/1000
10/10 [==============================] - 12s 1s/step - loss: 0.4533 - accuracy: 0.7744 - val_loss: 0.5275 - val_accuracy: 0.7746
Epoch 98/1000
10/10 [==============================] - 12s 1s/step - loss: 0.4550 - accuracy: 0.7867 - val_loss: 0.4974 - val_accuracy: 0.7734
Epoch 99/1000
10/10 [==============================] - 12s 1s/step - loss: 0.4570 - accuracy: 0.7820 - val_loss: 0.5233 - val_accuracy: 0.7645
Epoch 100/1000
10/10 [==============================] - 12s 1s/step - loss: 0.4660 - accuracy: 0.7727 - val_loss: 0.5147 - val_accuracy: 0.7545
Epoch 101/1000
10/10 [==============================] - 13s 1s/step - loss: 0.4626 - accuracy: 0.7797 - val_loss: 0.5324 - val_accuracy: 0.7533
Epoch 102/1000
10/10 [==============================] - 12s 1s/step - loss: 0.4443 - accuracy: 0.7800 - val_loss: 0.5152 - val_accuracy: 0.7734
Epoch 103/1000
10/10 [==============================] - 12s 1s/step - loss: 0.4664 - accuracy: 0.7735 - val_loss: 0.5196 - val_accuracy: 0.7656
Epoch 104/1000
10/10 [==============================] - 13s 1s/step - loss: 0.4610 - accuracy: 0.7768 - val_loss: 0.5133 - val_accuracy: 0.7891
Epoch 105/1000
10/10 [==============================] - 12s 1s/step - loss: 0.4519 - accuracy: 0.7768 - val_loss: 0.5128 - val_accuracy: 0.7600
Epoch 106/1000
10/10 [==============================] - 13s 1s/step - loss: 0.4504 - accuracy: 0.7955 - val_loss: 0.5506 - val_accuracy: 0.7634
Epoch 107/1000
10/10 [==============================] - 12s 1s/step - loss: 0.4503 - accuracy: 0.7825 - val_loss: 0.5420 - val_accuracy: 0.7656
Epoch 108/1000
10/10 [==============================] - 12s 1s/step - loss: 0.4570 - accuracy: 0.7914 - val_loss: 0.5407 - val_accuracy: 0.7221
Epoch 109/1000
10/10 [==============================] - 13s 1s/step - loss: 0.4450 - accuracy: 0.7914 - val_loss: 0.5368 - val_accuracy: 0.7511
Epoch 110/1000
10/10 [==============================] - 12s 1s/step - loss: 0.4389 - accuracy: 0.7995 - val_loss: 0.5271 - val_accuracy: 0.7411
Epoch 111/1000
10/10 [==============================] - 12s 1s/step - loss: 0.4248 - accuracy: 0.7971 - val_loss: 0.5384 - val_accuracy: 0.7422
Epoch 112/1000
10/10 [==============================] - 12s 1s/step - loss: 0.4595 - accuracy: 0.7735 - val_loss: 0.5186 - val_accuracy: 0.7578
Epoch 113/1000
10/10 [==============================] - 12s 1s/step - loss: 0.4533 - accuracy: 0.7735 - val_loss: 0.5370 - val_accuracy: 0.7645
Epoch 114/1000
10/10 [==============================] - 12s 1s/step - loss: 0.4530 - accuracy: 0.7833 - val_loss: 0.5361 - val_accuracy: 0.7545
Epoch 115/1000
10/10 [==============================] - 12s 1s/step - loss: 0.4392 - accuracy: 0.7963 - val_loss: 0.5363 - val_accuracy: 0.7612
Epoch 116/1000
10/10 [==============================] - 12s 1s/step - loss: 0.4196 - accuracy: 0.7984 - val_loss: 0.5475 - val_accuracy: 0.7667
Epoch 117/1000
10/10 [==============================] - 13s 1s/step - loss: 0.4438 - accuracy: 0.7914 - val_loss: 0.5694 - val_accuracy: 0.7467
Epoch 118/1000
10/10 [==============================] - 12s 1s/step - loss: 0.4358 - accuracy: 0.7945 - val_loss: 0.5318 - val_accuracy: 0.7679
Epoch 119/1000
10/10 [==============================] - 12s 1s/step - loss: 0.4516 - accuracy: 0.7797 - val_loss: 0.5674 - val_accuracy: 0.7422
Epoch 120/1000
10/10 [==============================] - 12s 1s/step - loss: 0.4295 - accuracy: 0.7945 - val_loss: 0.5135 - val_accuracy: 0.7679
Epoch 121/1000
10/10 [==============================] - 13s 1s/step - loss: 0.4397 - accuracy: 0.8023 - val_loss: 0.5876 - val_accuracy: 0.7165
Epoch 122/1000
10/10 [==============================] - 12s 1s/step - loss: 0.4419 - accuracy: 0.7890 - val_loss: 0.5663 - val_accuracy: 0.7690
Epoch 123/1000
10/10 [==============================] - 13s 1s/step - loss: 0.4426 - accuracy: 0.7969 - val_loss: 0.5454 - val_accuracy: 0.7467
Epoch 124/1000
10/10 [==============================] - 12s 1s/step - loss: 0.4315 - accuracy: 0.7971 - val_loss: 0.5523 - val_accuracy: 0.7455
Epoch 125/1000
10/10 [==============================] - 12s 1s/step - loss: 0.4514 - accuracy: 0.7849 - val_loss: 0.5553 - val_accuracy: 0.7444
Epoch 126/1000
10/10 [==============================] - 12s 1s/step - loss: 0.4163 - accuracy: 0.8068 - val_loss: 0.5638 - val_accuracy: 0.7612
Epoch 127/1000
10/10 [==============================] - 12s 1s/step - loss: 0.4301 - accuracy: 0.8008 - val_loss: 0.5456 - val_accuracy: 0.7712
Epoch 128/1000
10/10 [==============================] - 13s 1s/step - loss: 0.4227 - accuracy: 0.8000 - val_loss: 0.5662 - val_accuracy: 0.7511
Epoch 129/1000
10/10 [==============================] - 12s 1s/step - loss: 0.4548 - accuracy: 0.7836 - val_loss: 0.5193 - val_accuracy: 0.7578
Epoch 130/1000
10/10 [==============================] - 12s 1s/step - loss: 0.4307 - accuracy: 0.7987 - val_loss: 0.5595 - val_accuracy: 0.7600
Epoch 131/1000
10/10 [==============================] - 12s 1s/step - loss: 0.4385 - accuracy: 0.7906 - val_loss: 0.5318 - val_accuracy: 0.7455
Epoch 132/1000
10/10 [==============================] - 13s 1s/step - loss: 0.4258 - accuracy: 0.7977 - val_loss: 0.5325 - val_accuracy: 0.7366
Epoch 133/1000
10/10 [==============================] - 12s 1s/step - loss: 0.4382 - accuracy: 0.7883 - val_loss: 0.5390 - val_accuracy: 0.7321
Epoch 134/1000
10/10 [==============================] - 12s 1s/step - loss: 0.4206 - accuracy: 0.8076 - val_loss: 0.5419 - val_accuracy: 0.7645
Epoch 135/1000
10/10 [==============================] - 12s 1s/step - loss: 0.4188 - accuracy: 0.8055 - val_loss: 0.5674 - val_accuracy: 0.7500
Epoch 136/1000
10/10 [==============================] - 12s 1s/step - loss: 0.4168 - accuracy: 0.8036 - val_loss: 0.5488 - val_accuracy: 0.7433
Epoch 137/1000
10/10 [==============================] - 12s 1s/step - loss: 0.4273 - accuracy: 0.8125 - val_loss: 0.5248 - val_accuracy: 0.7712
Epoch 138/1000
10/10 [==============================] - 12s 1s/step - loss: 0.4298 - accuracy: 0.8076 - val_loss: 0.5125 - val_accuracy: 0.7522
Epoch 139/1000
10/10 [==============================] - 12s 1s/step - loss: 0.4245 - accuracy: 0.8052 - val_loss: 0.5399 - val_accuracy: 0.7556
Epoch 140/1000
10/10 [==============================] - 12s 1s/step - loss: 0.4144 - accuracy: 0.8068 - val_loss: 0.5554 - val_accuracy: 0.7701
Epoch 141/1000
10/10 [==============================] - 12s 1s/step - loss: 0.4057 - accuracy: 0.8182 - val_loss: 0.5451 - val_accuracy: 0.7690
Epoch 142/1000
10/10 [==============================] - 12s 1s/step - loss: 0.4495 - accuracy: 0.7776 - val_loss: 0.5419 - val_accuracy: 0.7556
Epoch 143/1000
10/10 [==============================] - 12s 1s/step - loss: 0.4188 - accuracy: 0.8156 - val_loss: 0.5142 - val_accuracy: 0.7489
Epoch 144/1000
10/10 [==============================] - 12s 1s/step - loss: 0.3861 - accuracy: 0.8255 - val_loss: 0.5736 - val_accuracy: 0.7679
Epoch 145/1000
10/10 [==============================] - 12s 1s/step - loss: 0.3867 - accuracy: 0.8094 - val_loss: 0.5353 - val_accuracy: 0.7578
Epoch 146/1000
10/10 [==============================] - 13s 1s/step - loss: 0.3999 - accuracy: 0.8156 - val_loss: 0.5281 - val_accuracy: 0.7679
Epoch 147/1000
10/10 [==============================] - 12s 1s/step - loss: 0.4080 - accuracy: 0.8084 - val_loss: 0.5475 - val_accuracy: 0.7522
Epoch 148/1000
10/10 [==============================] - 12s 1s/step - loss: 0.4006 - accuracy: 0.8078 - val_loss: 0.6028 - val_accuracy: 0.7667
Epoch 149/1000
10/10 [==============================] - 12s 1s/step - loss: 0.4195 - accuracy: 0.8011 - val_loss: 0.5686 - val_accuracy: 0.7500
Epoch 150/1000
10/10 [==============================] - 12s 1s/step - loss: 0.3963 - accuracy: 0.8141 - val_loss: 0.5340 - val_accuracy: 0.7679
Epoch 151/1000
10/10 [==============================] - 12s 1s/step - loss: 0.4155 - accuracy: 0.8101 - val_loss: 0.5681 - val_accuracy: 0.7578
Epoch 152/1000
10/10 [==============================] - 12s 1s/step - loss: 0.4285 - accuracy: 0.8044 - val_loss: 0.5453 - val_accuracy: 0.7478
Epoch 153/1000
10/10 [==============================] - 12s 1s/step - loss: 0.4196 - accuracy: 0.8101 - val_loss: 0.5034 - val_accuracy: 0.7734
Epoch 154/1000
10/10 [==============================] - 12s 1s/step - loss: 0.4114 - accuracy: 0.8141 - val_loss: 0.5754 - val_accuracy: 0.7634
Epoch 155/1000
10/10 [==============================] - 12s 1s/step - loss: 0.4169 - accuracy: 0.8149 - val_loss: 0.5161 - val_accuracy: 0.7768
Epoch 156/1000
10/10 [==============================] - 12s 1s/step - loss: 0.4004 - accuracy: 0.8148 - val_loss: 0.5550 - val_accuracy: 0.7623
Epoch 157/1000
10/10 [==============================] - 12s 1s/step - loss: 0.3983 - accuracy: 0.8206 - val_loss: 0.5564 - val_accuracy: 0.7500
Epoch 158/1000
10/10 [==============================] - 12s 1s/step - loss: 0.3964 - accuracy: 0.8263 - val_loss: 0.5465 - val_accuracy: 0.7533
Epoch 159/1000
10/10 [==============================] - 12s 1s/step - loss: 0.3861 - accuracy: 0.8198 - val_loss: 0.5346 - val_accuracy: 0.7679
Epoch 160/1000
10/10 [==============================] - 12s 1s/step - loss: 0.3886 - accuracy: 0.8211 - val_loss: 0.5599 - val_accuracy: 0.7779
Epoch 161/1000
10/10 [==============================] - 12s 1s/step - loss: 0.4032 - accuracy: 0.8070 - val_loss: 0.5591 - val_accuracy: 0.7612
Epoch 162/1000
10/10 [==============================] - 13s 1s/step - loss: 0.4166 - accuracy: 0.8133 - val_loss: 0.5338 - val_accuracy: 0.7746
Epoch 163/1000
10/10 [==============================] - 12s 1s/step - loss: 0.4111 - accuracy: 0.8052 - val_loss: 0.5278 - val_accuracy: 0.7667
Epoch 164/1000
10/10 [==============================] - 13s 1s/step - loss: 0.3980 - accuracy: 0.8156 - val_loss: 0.5441 - val_accuracy: 0.7757
Epoch 165/1000
10/10 [==============================] - 12s 1s/step - loss: 0.4195 - accuracy: 0.7955 - val_loss: 0.5515 - val_accuracy: 0.7567
Epoch 166/1000
10/10 [==============================] - 12s 1s/step - loss: 0.3966 - accuracy: 0.8141 - val_loss: 0.5251 - val_accuracy: 0.7712
Epoch 167/1000
10/10 [==============================] - 12s 1s/step - loss: 0.4059 - accuracy: 0.8141 - val_loss: 0.5123 - val_accuracy: 0.7667
Epoch 168/1000
10/10 [==============================] - 12s 1s/step - loss: 0.3888 - accuracy: 0.8367 - val_loss: 0.5407 - val_accuracy: 0.7612
Epoch 169/1000
10/10 [==============================] - 12s 1s/step - loss: 0.3745 - accuracy: 0.8101 - val_loss: 0.6058 - val_accuracy: 0.7478
Epoch 170/1000
10/10 [==============================] - 12s 1s/step - loss: 0.3919 - accuracy: 0.8039 - val_loss: 0.5402 - val_accuracy: 0.7645
Epoch 171/1000
10/10 [==============================] - 12s 1s/step - loss: 0.4025 - accuracy: 0.8222 - val_loss: 0.5617 - val_accuracy: 0.7556
Epoch 172/1000
10/10 [==============================] - 12s 1s/step - loss: 0.4017 - accuracy: 0.8166 - val_loss: 0.5711 - val_accuracy: 0.7656
Epoch 173/1000
10/10 [==============================] - 13s 1s/step - loss: 0.3898 - accuracy: 0.8172 - val_loss: 0.5455 - val_accuracy: 0.7746
Epoch 174/1000
10/10 [==============================] - 12s 1s/step - loss: 0.3608 - accuracy: 0.8295 - val_loss: 0.5868 - val_accuracy: 0.7667
Epoch 175/1000
10/10 [==============================] - 12s 1s/step - loss: 0.3873 - accuracy: 0.8385 - val_loss: 0.6247 - val_accuracy: 0.7489
Epoch 176/1000
10/10 [==============================] - 12s 1s/step - loss: 0.4047 - accuracy: 0.8068 - val_loss: 0.5765 - val_accuracy: 0.7522
Epoch 177/1000
10/10 [==============================] - 12s 1s/step - loss: 0.4269 - accuracy: 0.7955 - val_loss: 0.5643 - val_accuracy: 0.7556
Epoch 178/1000
10/10 [==============================] - 12s 1s/step - loss: 0.3942 - accuracy: 0.8157 - val_loss: 0.5804 - val_accuracy: 0.7422
Epoch 179/1000
10/10 [==============================] - 12s 1s/step - loss: 0.3708 - accuracy: 0.8414 - val_loss: 0.5864 - val_accuracy: 0.7444
Epoch 180/1000
10/10 [==============================] - 12s 1s/step - loss: 0.3844 - accuracy: 0.8211 - val_loss: 0.6121 - val_accuracy: 0.7511
Epoch 181/1000
10/10 [==============================] - 12s 1s/step - loss: 0.3835 - accuracy: 0.8328 - val_loss: 0.6078 - val_accuracy: 0.7433
Epoch 182/1000
10/10 [==============================] - 12s 1s/step - loss: 0.3861 - accuracy: 0.8239 - val_loss: 0.5642 - val_accuracy: 0.7556
Epoch 183/1000
10/10 [==============================] - 12s 1s/step - loss: 0.3856 - accuracy: 0.8304 - val_loss: 0.5933 - val_accuracy: 0.7589
Epoch 184/1000
10/10 [==============================] - 12s 1s/step - loss: 0.3781 - accuracy: 0.8279 - val_loss: 0.5822 - val_accuracy: 0.7478
Epoch 185/1000
10/10 [==============================] - 12s 1s/step - loss: 0.3795 - accuracy: 0.8239 - val_loss: 0.5795 - val_accuracy: 0.7489
Epoch 186/1000
10/10 [==============================] - 12s 1s/step - loss: 0.3762 - accuracy: 0.8239 - val_loss: 0.5337 - val_accuracy: 0.7578
Epoch 187/1000
10/10 [==============================] - 12s 1s/step - loss: 0.3712 - accuracy: 0.8466 - val_loss: 0.5932 - val_accuracy: 0.7667
Epoch 188/1000
10/10 [==============================] - 13s 1s/step - loss: 0.3522 - accuracy: 0.8391 - val_loss: 0.5780 - val_accuracy: 0.7500
Epoch 189/1000
10/10 [==============================] - 12s 1s/step - loss: 0.3785 - accuracy: 0.8352 - val_loss: 0.5904 - val_accuracy: 0.7734
Epoch 190/1000
10/10 [==============================] - 12s 1s/step - loss: 0.3634 - accuracy: 0.8425 - val_loss: 0.5654 - val_accuracy: 0.7712
Epoch 191/1000
10/10 [==============================] - 13s 1s/step - loss: 0.3749 - accuracy: 0.8234 - val_loss: 0.6456 - val_accuracy: 0.7589
Epoch 192/1000
10/10 [==============================] - 13s 1s/step - loss: 0.3771 - accuracy: 0.8320 - val_loss: 0.5525 - val_accuracy: 0.7790
Epoch 193/1000
10/10 [==============================] - 12s 1s/step - loss: 0.3990 - accuracy: 0.8287 - val_loss: 0.6104 - val_accuracy: 0.7623
Epoch 194/1000
10/10 [==============================] - 12s 1s/step - loss: 0.3949 - accuracy: 0.8023 - val_loss: 0.5609 - val_accuracy: 0.7757
Epoch 195/1000
10/10 [==============================] - 12s 1s/step - loss: 0.3639 - accuracy: 0.8383 - val_loss: 0.5680 - val_accuracy: 0.7679
Epoch 196/1000
10/10 [==============================] - 12s 1s/step - loss: 0.3658 - accuracy: 0.8398 - val_loss: 0.6143 - val_accuracy: 0.7500
Epoch 197/1000
10/10 [==============================] - 12s 1s/step - loss: 0.3511 - accuracy: 0.8312 - val_loss: 0.6011 - val_accuracy: 0.7612
Epoch 198/1000
10/10 [==============================] - 12s 1s/step - loss: 0.3396 - accuracy: 0.8523 - val_loss: 0.5607 - val_accuracy: 0.7612
Epoch 199/1000
10/10 [==============================] - 12s 1s/step - loss: 0.3708 - accuracy: 0.8247 - val_loss: 0.6056 - val_accuracy: 0.7656
Epoch 200/1000
10/10 [==============================] - 13s 1s/step - loss: 0.3919 - accuracy: 0.8297 - val_loss: 0.5808 - val_accuracy: 0.7768
Epoch 201/1000
10/10 [==============================] - 12s 1s/step - loss: 0.3505 - accuracy: 0.8461 - val_loss: 0.5758 - val_accuracy: 0.7623
Epoch 202/1000
10/10 [==============================] - 12s 1s/step - loss: 0.3657 - accuracy: 0.8242 - val_loss: 0.5925 - val_accuracy: 0.7656
Epoch 203/1000
10/10 [==============================] - 13s 1s/step - loss: 0.3554 - accuracy: 0.8344 - val_loss: 0.5861 - val_accuracy: 0.7656
Epoch 204/1000
10/10 [==============================] - 12s 1s/step - loss: 0.3480 - accuracy: 0.8482 - val_loss: 0.5858 - val_accuracy: 0.7768
Epoch 205/1000
10/10 [==============================] - 12s 1s/step - loss: 0.3717 - accuracy: 0.8279 - val_loss: 0.5440 - val_accuracy: 0.7701
Epoch 206/1000
10/10 [==============================] - 12s 1s/step - loss: 0.3663 - accuracy: 0.8377 - val_loss: 0.5865 - val_accuracy: 0.7623
Epoch 207/1000
10/10 [==============================] - 12s 1s/step - loss: 0.3476 - accuracy: 0.8391 - val_loss: 0.6526 - val_accuracy: 0.7545
Epoch 208/1000
10/10 [==============================] - 12s 1s/step - loss: 0.3725 - accuracy: 0.8369 - val_loss: 0.6093 - val_accuracy: 0.7667
Epoch 209/1000
10/10 [==============================] - 13s 1s/step - loss: 0.3618 - accuracy: 0.8352 - val_loss: 0.5728 - val_accuracy: 0.7679
Epoch 210/1000
10/10 [==============================] - 12s 1s/step - loss: 0.3727 - accuracy: 0.8336 - val_loss: 0.5776 - val_accuracy: 0.7690
Epoch 211/1000
10/10 [==============================] - 12s 1s/step - loss: 0.3472 - accuracy: 0.8450 - val_loss: 0.6336 - val_accuracy: 0.7600
Epoch 212/1000
10/10 [==============================] - 12s 1s/step - loss: 0.3537 - accuracy: 0.8360 - val_loss: 0.6061 - val_accuracy: 0.7679
Epoch 213/1000
10/10 [==============================] - 13s 1s/step - loss: 0.3778 - accuracy: 0.8219 - val_loss: 0.5856 - val_accuracy: 0.7645
Epoch 214/1000
10/10 [==============================] - 12s 1s/step - loss: 0.3366 - accuracy: 0.8612 - val_loss: 0.5902 - val_accuracy: 0.7734
Epoch 215/1000
10/10 [==============================] - 12s 1s/step - loss: 0.3397 - accuracy: 0.8458 - val_loss: 0.5784 - val_accuracy: 0.7712
Epoch 216/1000
10/10 [==============================] - 12s 1s/step - loss: 0.3824 - accuracy: 0.8304 - val_loss: 0.5658 - val_accuracy: 0.7734
Epoch 217/1000
10/10 [==============================] - 13s 1s/step - loss: 0.3772 - accuracy: 0.8287 - val_loss: 0.5786 - val_accuracy: 0.7612
Epoch 218/1000
10/10 [==============================] - 12s 1s/step - loss: 0.3553 - accuracy: 0.8417 - val_loss: 0.5525 - val_accuracy: 0.7734
Epoch 219/1000
10/10 [==============================] - 12s 1s/step - loss: 0.3428 - accuracy: 0.8547 - val_loss: 0.5842 - val_accuracy: 0.7645
Epoch 220/1000
10/10 [==============================] - 12s 1s/step - loss: 0.3725 - accuracy: 0.8279 - val_loss: 0.6317 - val_accuracy: 0.7578
Epoch 221/1000
10/10 [==============================] - 12s 1s/step - loss: 0.3500 - accuracy: 0.8295 - val_loss: 0.5858 - val_accuracy: 0.7589
Epoch 222/1000
10/10 [==============================] - 13s 1s/step - loss: 0.3585 - accuracy: 0.8458 - val_loss: 0.5871 - val_accuracy: 0.7533
Epoch 223/1000
10/10 [==============================] - 12s 1s/step - loss: 0.3668 - accuracy: 0.8247 - val_loss: 0.5938 - val_accuracy: 0.7411
Epoch 224/1000
10/10 [==============================] - 12s 1s/step - loss: 0.3621 - accuracy: 0.8417 - val_loss: 0.6116 - val_accuracy: 0.7489
Epoch 225/1000
10/10 [==============================] - 12s 1s/step - loss: 0.3614 - accuracy: 0.8287 - val_loss: 0.5891 - val_accuracy: 0.7489
Epoch 226/1000
10/10 [==============================] - 13s 1s/step - loss: 0.3433 - accuracy: 0.8377 - val_loss: 0.5920 - val_accuracy: 0.7690
Epoch 227/1000
10/10 [==============================] - 12s 1s/step - loss: 0.3460 - accuracy: 0.8369 - val_loss: 0.6304 - val_accuracy: 0.7556
Epoch 228/1000
10/10 [==============================] - 12s 1s/step - loss: 0.3427 - accuracy: 0.8328 - val_loss: 0.6219 - val_accuracy: 0.7757
Epoch 229/1000
10/10 [==============================] - 13s 1s/step - loss: 0.3349 - accuracy: 0.8523 - val_loss: 0.6327 - val_accuracy: 0.7801
Epoch 230/1000
10/10 [==============================] - 13s 1s/step - loss: 0.3395 - accuracy: 0.8516 - val_loss: 0.6543 - val_accuracy: 0.7567
Epoch 231/1000
10/10 [==============================] - 12s 1s/step - loss: 0.3316 - accuracy: 0.8516 - val_loss: 0.6087 - val_accuracy: 0.7723
Epoch 232/1000
10/10 [==============================] - 12s 1s/step - loss: 0.3584 - accuracy: 0.8320 - val_loss: 0.6398 - val_accuracy: 0.7556
Epoch 233/1000
10/10 [==============================] - 12s 1s/step - loss: 0.3414 - accuracy: 0.8498 - val_loss: 0.5608 - val_accuracy: 0.7690
Epoch 234/1000
10/10 [==============================] - 12s 1s/step - loss: 0.3543 - accuracy: 0.8336 - val_loss: 0.6013 - val_accuracy: 0.7612
Epoch 235/1000
10/10 [==============================] - 12s 1s/step - loss: 0.3513 - accuracy: 0.8409 - val_loss: 0.6078 - val_accuracy: 0.7768
Epoch 236/1000
10/10 [==============================] - 12s 1s/step - loss: 0.3255 - accuracy: 0.8523 - val_loss: 0.5734 - val_accuracy: 0.7734
Epoch 237/1000
10/10 [==============================] - 12s 1s/step - loss: 0.3293 - accuracy: 0.8617 - val_loss: 0.6219 - val_accuracy: 0.7400
Epoch 238/1000
10/10 [==============================] - 12s 1s/step - loss: 0.3402 - accuracy: 0.8469 - val_loss: 0.6042 - val_accuracy: 0.7623
Epoch 239/1000
10/10 [==============================] - 12s 1s/step - loss: 0.3850 - accuracy: 0.8255 - val_loss: 0.6165 - val_accuracy: 0.7701
Epoch 240/1000
10/10 [==============================] - 12s 1s/step - loss: 0.3443 - accuracy: 0.8430 - val_loss: 0.5952 - val_accuracy: 0.7746
Epoch 241/1000
10/10 [==============================] - 12s 1s/step - loss: 0.3293 - accuracy: 0.8555 - val_loss: 0.6622 - val_accuracy: 0.7511
Epoch 242/1000
10/10 [==============================] - 12s 1s/step - loss: 0.3373 - accuracy: 0.8531 - val_loss: 0.6103 - val_accuracy: 0.7645
Epoch 243/1000
10/10 [==============================] - 12s 1s/step - loss: 0.3533 - accuracy: 0.8506 - val_loss: 0.6480 - val_accuracy: 0.7545
Epoch 244/1000
10/10 [==============================] - 12s 1s/step - loss: 0.3509 - accuracy: 0.8369 - val_loss: 0.5691 - val_accuracy: 0.7589
Epoch 245/1000
10/10 [==============================] - 13s 1s/step - loss: 0.3438 - accuracy: 0.8375 - val_loss: 0.6045 - val_accuracy: 0.7690
Epoch 246/1000
10/10 [==============================] - 13s 1s/step - loss: 0.3788 - accuracy: 0.8203 - val_loss: 0.5793 - val_accuracy: 0.7723
Epoch 247/1000
10/10 [==============================] - 12s 1s/step - loss: 0.3743 - accuracy: 0.8320 - val_loss: 0.6093 - val_accuracy: 0.7478
Epoch 248/1000
10/10 [==============================] - 12s 1s/step - loss: 0.3472 - accuracy: 0.8547 - val_loss: 0.5958 - val_accuracy: 0.7578
Epoch 249/1000
10/10 [==============================] - 12s 1s/step - loss: 0.3255 - accuracy: 0.8602 - val_loss: 0.5936 - val_accuracy: 0.7656
Epoch 250/1000
10/10 [==============================] - 12s 1s/step - loss: 0.3493 - accuracy: 0.8562 - val_loss: 0.6608 - val_accuracy: 0.7400
Epoch 251/1000
10/10 [==============================] - 12s 1s/step - loss: 0.3385 - accuracy: 0.8393 - val_loss: 0.5998 - val_accuracy: 0.7746
Epoch 252/1000
10/10 [==============================] - 13s 1s/step - loss: 0.3590 - accuracy: 0.8516 - val_loss: 0.5916 - val_accuracy: 0.7556
Epoch 253/1000
10/10 [==============================] - 12s 1s/step - loss: 0.3510 - accuracy: 0.8401 - val_loss: 0.5612 - val_accuracy: 0.7679
Epoch 254/1000
10/10 [==============================] - 12s 1s/step - loss: 0.3416 - accuracy: 0.8377 - val_loss: 0.6204 - val_accuracy: 0.7690
Epoch 255/1000
10/10 [==============================] - 12s 1s/step - loss: 0.3338 - accuracy: 0.8474 - val_loss: 0.5708 - val_accuracy: 0.7701
Epoch 256/1000
10/10 [==============================] - 12s 1s/step - loss: 0.3270 - accuracy: 0.8596 - val_loss: 0.6253 - val_accuracy: 0.7746
Epoch 257/1000
10/10 [==============================] - 12s 1s/step - loss: 0.3394 - accuracy: 0.8438 - val_loss: 0.6624 - val_accuracy: 0.7645
Epoch 258/1000
10/10 [==============================] - 12s 1s/step - loss: 0.3374 - accuracy: 0.8461 - val_loss: 0.6290 - val_accuracy: 0.7645
Epoch 259/1000
10/10 [==============================] - 12s 1s/step - loss: 0.3410 - accuracy: 0.8482 - val_loss: 0.6033 - val_accuracy: 0.7589
Epoch 260/1000
10/10 [==============================] - 12s 1s/step - loss: 0.3249 - accuracy: 0.8401 - val_loss: 0.6118 - val_accuracy: 0.7545
Epoch 261/1000
10/10 [==============================] - 12s 1s/step - loss: 0.3588 - accuracy: 0.8250 - val_loss: 0.6678 - val_accuracy: 0.7690
Epoch 262/1000
10/10 [==============================] - 12s 1s/step - loss: 0.3309 - accuracy: 0.8594 - val_loss: 0.6091 - val_accuracy: 0.7578
Epoch 263/1000
10/10 [==============================] - 13s 1s/step - loss: 0.3666 - accuracy: 0.8422 - val_loss: 0.6610 - val_accuracy: 0.7645
Epoch 264/1000
10/10 [==============================] - 12s 1s/step - loss: 0.3282 - accuracy: 0.8586 - val_loss: 0.6026 - val_accuracy: 0.7779
Epoch 265/1000
10/10 [==============================] - 13s 1s/step - loss: 0.3374 - accuracy: 0.8570 - val_loss: 0.6521 - val_accuracy: 0.7667
Epoch 266/1000
10/10 [==============================] - 12s 1s/step - loss: 0.3376 - accuracy: 0.8563 - val_loss: 0.6019 - val_accuracy: 0.7679
Epoch 267/1000
10/10 [==============================] - 12s 1s/step - loss: 0.3534 - accuracy: 0.8430 - val_loss: 0.6175 - val_accuracy: 0.7723
Epoch 268/1000
10/10 [==============================] - 12s 1s/step - loss: 0.3603 - accuracy: 0.8414 - val_loss: 0.5808 - val_accuracy: 0.7556
Epoch 269/1000
10/10 [==============================] - 12s 1s/step - loss: 0.3471 - accuracy: 0.8474 - val_loss: 0.6249 - val_accuracy: 0.7600
Epoch 270/1000
10/10 [==============================] - 12s 1s/step - loss: 0.3191 - accuracy: 0.8604 - val_loss: 0.6261 - val_accuracy: 0.7779
Epoch 271/1000
10/10 [==============================] - 12s 1s/step - loss: 0.3214 - accuracy: 0.8617 - val_loss: 0.6298 - val_accuracy: 0.7578
Epoch 272/1000
10/10 [==============================] - 12s 1s/step - loss: 0.3101 - accuracy: 0.8578 - val_loss: 0.6067 - val_accuracy: 0.7623
Epoch 273/1000
10/10 [==============================] - 12s 1s/step - loss: 0.3422 - accuracy: 0.8401 - val_loss: 0.6354 - val_accuracy: 0.7600
Epoch 274/1000
10/10 [==============================] - 12s 1s/step - loss: 0.3284 - accuracy: 0.8636 - val_loss: 0.6480 - val_accuracy: 0.7388
Epoch 275/1000
10/10 [==============================] - 12s 1s/step - loss: 0.3177 - accuracy: 0.8636 - val_loss: 0.5624 - val_accuracy: 0.7679
Epoch 276/1000
10/10 [==============================] - 12s 1s/step - loss: 0.2974 - accuracy: 0.8742 - val_loss: 0.6122 - val_accuracy: 0.7723
Epoch 277/1000
10/10 [==============================] - 13s 1s/step - loss: 0.2869 - accuracy: 0.8797 - val_loss: 0.6537 - val_accuracy: 0.7701
Epoch 278/1000
10/10 [==============================] - 12s 1s/step - loss: 0.3173 - accuracy: 0.8594 - val_loss: 0.6001 - val_accuracy: 0.7679
Epoch 279/1000
10/10 [==============================] - 12s 1s/step - loss: 0.3136 - accuracy: 0.8636 - val_loss: 0.5961 - val_accuracy: 0.7645
Epoch 280/1000
10/10 [==============================] - 12s 1s/step - loss: 0.3586 - accuracy: 0.8422 - val_loss: 0.5593 - val_accuracy: 0.7623
Epoch 281/1000
10/10 [==============================] - 13s 1s/step - loss: 0.3305 - accuracy: 0.8498 - val_loss: 0.5928 - val_accuracy: 0.7734
Epoch 282/1000
10/10 [==============================] - 12s 1s/step - loss: 0.3361 - accuracy: 0.8506 - val_loss: 0.6352 - val_accuracy: 0.7511
Epoch 283/1000
10/10 [==============================] - 12s 1s/step - loss: 0.3148 - accuracy: 0.8617 - val_loss: 0.6039 - val_accuracy: 0.7612
Epoch 284/1000
10/10 [==============================] - 12s 1s/step - loss: 0.2890 - accuracy: 0.8726 - val_loss: 0.6265 - val_accuracy: 0.7567
Epoch 285/1000
10/10 [==============================] - 13s 1s/step - loss: 0.3130 - accuracy: 0.8636 - val_loss: 0.6026 - val_accuracy: 0.7824
Epoch 286/1000
10/10 [==============================] - 12s 1s/step - loss: 0.3176 - accuracy: 0.8596 - val_loss: 0.6448 - val_accuracy: 0.7623
Epoch 287/1000
10/10 [==============================] - 12s 1s/step - loss: 0.3288 - accuracy: 0.8620 - val_loss: 0.7086 - val_accuracy: 0.7377
Epoch 288/1000
10/10 [==============================] - 13s 1s/step - loss: 0.3409 - accuracy: 0.8445 - val_loss: 0.6121 - val_accuracy: 0.7690
Epoch 289/1000
10/10 [==============================] - 12s 1s/step - loss: 0.3172 - accuracy: 0.8547 - val_loss: 0.5945 - val_accuracy: 0.7712
Epoch 290/1000
10/10 [==============================] - 12s 1s/step - loss: 0.3219 - accuracy: 0.8594 - val_loss: 0.6419 - val_accuracy: 0.7645
Epoch 291/1000
10/10 [==============================] - 12s 1s/step - loss: 0.3111 - accuracy: 0.8797 - val_loss: 0.6154 - val_accuracy: 0.7734
Epoch 292/1000
10/10 [==============================] - 12s 1s/step - loss: 0.3103 - accuracy: 0.8604 - val_loss: 0.6041 - val_accuracy: 0.7679
Epoch 293/1000
10/10 [==============================] - 12s 1s/step - loss: 0.2983 - accuracy: 0.8661 - val_loss: 0.6675 - val_accuracy: 0.7623
Epoch 294/1000
10/10 [==============================] - 12s 1s/step - loss: 0.3006 - accuracy: 0.8653 - val_loss: 0.6620 - val_accuracy: 0.7533
Epoch 295/1000
10/10 [==============================] - 12s 1s/step - loss: 0.3181 - accuracy: 0.8580 - val_loss: 0.6386 - val_accuracy: 0.7679
Epoch 296/1000
10/10 [==============================] - 13s 1s/step - loss: 0.3039 - accuracy: 0.8563 - val_loss: 0.6490 - val_accuracy: 0.7634
Epoch 297/1000
10/10 [==============================] - 12s 1s/step - loss: 0.3158 - accuracy: 0.8644 - val_loss: 0.6462 - val_accuracy: 0.7712
Epoch 298/1000
10/10 [==============================] - 12s 1s/step - loss: 0.3118 - accuracy: 0.8604 - val_loss: 0.6924 - val_accuracy: 0.7567
Epoch 299/1000
10/10 [==============================] - 12s 1s/step - loss: 0.3019 - accuracy: 0.8680 - val_loss: 0.7241 - val_accuracy: 0.7467
Epoch 300/1000
10/10 [==============================] - 13s 1s/step - loss: 0.3231 - accuracy: 0.8672 - val_loss: 0.6525 - val_accuracy: 0.7712
Epoch 301/1000
10/10 [==============================] - 13s 1s/step - loss: 0.3104 - accuracy: 0.8563 - val_loss: 0.6450 - val_accuracy: 0.7600
Epoch 302/1000
10/10 [==============================] - 12s 1s/step - loss: 0.3114 - accuracy: 0.8711 - val_loss: 0.6929 - val_accuracy: 0.7667
Epoch 303/1000
10/10 [==============================] - 12s 1s/step - loss: 0.2880 - accuracy: 0.8774 - val_loss: 0.6703 - val_accuracy: 0.7812
Epoch 304/1000
10/10 [==============================] - 12s 1s/step - loss: 0.3118 - accuracy: 0.8726 - val_loss: 0.6699 - val_accuracy: 0.7634
Epoch 305/1000
10/10 [==============================] - 13s 1s/step - loss: 0.2941 - accuracy: 0.8742 - val_loss: 0.5955 - val_accuracy: 0.7879
Epoch 306/1000
10/10 [==============================] - 12s 1s/step - loss: 0.2874 - accuracy: 0.8773 - val_loss: 0.6259 - val_accuracy: 0.7712
Epoch 307/1000
10/10 [==============================] - 13s 1s/step - loss: 0.3208 - accuracy: 0.8687 - val_loss: 0.6540 - val_accuracy: 0.7645
Epoch 308/1000
10/10 [==============================] - 12s 1s/step - loss: 0.3199 - accuracy: 0.8633 - val_loss: 0.6856 - val_accuracy: 0.7478
Epoch 309/1000
10/10 [==============================] - 12s 1s/step - loss: 0.3178 - accuracy: 0.8588 - val_loss: 0.6197 - val_accuracy: 0.7701
Epoch 310/1000
10/10 [==============================] - 13s 1s/step - loss: 0.3125 - accuracy: 0.8648 - val_loss: 0.7520 - val_accuracy: 0.7645
Epoch 311/1000
10/10 [==============================] - 12s 1s/step - loss: 0.3180 - accuracy: 0.8571 - val_loss: 0.7068 - val_accuracy: 0.7656
Epoch 312/1000
10/10 [==============================] - 12s 1s/step - loss: 0.2912 - accuracy: 0.8653 - val_loss: 0.6674 - val_accuracy: 0.7723
Epoch 313/1000
10/10 [==============================] - 12s 1s/step - loss: 0.2887 - accuracy: 0.8856 - val_loss: 0.6178 - val_accuracy: 0.7879
Epoch 314/1000
10/10 [==============================] - 12s 1s/step - loss: 0.2967 - accuracy: 0.8774 - val_loss: 0.6078 - val_accuracy: 0.7768
Epoch 315/1000
10/10 [==============================] - 12s 1s/step - loss: 0.3057 - accuracy: 0.8742 - val_loss: 0.6565 - val_accuracy: 0.7634
Epoch 316/1000
10/10 [==============================] - 12s 1s/step - loss: 0.3151 - accuracy: 0.8661 - val_loss: 0.6681 - val_accuracy: 0.7768
Epoch 317/1000
10/10 [==============================] - 12s 1s/step - loss: 0.2920 - accuracy: 0.8844 - val_loss: 0.7089 - val_accuracy: 0.7556
Epoch 318/1000
10/10 [==============================] - 12s 1s/step - loss: 0.2677 - accuracy: 0.8815 - val_loss: 0.6820 - val_accuracy: 0.7801
Epoch 319/1000
10/10 [==============================] - 12s 1s/step - loss: 0.3159 - accuracy: 0.8718 - val_loss: 0.6968 - val_accuracy: 0.7478
Epoch 320/1000
10/10 [==============================] - 12s 1s/step - loss: 0.3009 - accuracy: 0.8628 - val_loss: 0.6773 - val_accuracy: 0.7812
Epoch 321/1000
10/10 [==============================] - 12s 1s/step - loss: 0.2804 - accuracy: 0.8823 - val_loss: 0.7191 - val_accuracy: 0.7623
Epoch 322/1000
10/10 [==============================] - 12s 1s/step - loss: 0.3038 - accuracy: 0.8701 - val_loss: 0.6902 - val_accuracy: 0.7723
Epoch 323/1000
10/10 [==============================] - 12s 1s/step - loss: 0.2927 - accuracy: 0.8718 - val_loss: 0.6477 - val_accuracy: 0.7701
Epoch 324/1000
10/10 [==============================] - 12s 1s/step - loss: 0.3270 - accuracy: 0.8523 - val_loss: 0.6445 - val_accuracy: 0.7779
Epoch 325/1000
10/10 [==============================] - 12s 1s/step - loss: 0.3061 - accuracy: 0.8774 - val_loss: 0.6698 - val_accuracy: 0.7589
Epoch 326/1000
10/10 [==============================] - 12s 1s/step - loss: 0.3194 - accuracy: 0.8625 - val_loss: 0.6948 - val_accuracy: 0.7623
Epoch 327/1000
10/10 [==============================] - 12s 1s/step - loss: 0.3161 - accuracy: 0.8563 - val_loss: 0.6519 - val_accuracy: 0.7667
Epoch 328/1000
10/10 [==============================] - 12s 1s/step - loss: 0.3281 - accuracy: 0.8474 - val_loss: 0.6706 - val_accuracy: 0.7824
Epoch 329/1000
10/10 [==============================] - 12s 1s/step - loss: 0.3105 - accuracy: 0.8653 - val_loss: 0.6378 - val_accuracy: 0.7734
Epoch 330/1000
10/10 [==============================] - 13s 1s/step - loss: 0.3197 - accuracy: 0.8617 - val_loss: 0.6790 - val_accuracy: 0.7545
Epoch 331/1000
10/10 [==============================] - 12s 1s/step - loss: 0.3231 - accuracy: 0.8641 - val_loss: 0.6319 - val_accuracy: 0.7812
Epoch 332/1000
10/10 [==============================] - 12s 1s/step - loss: 0.3097 - accuracy: 0.8648 - val_loss: 0.6561 - val_accuracy: 0.7723
Epoch 333/1000
10/10 [==============================] - 12s 1s/step - loss: 0.3024 - accuracy: 0.8839 - val_loss: 0.7110 - val_accuracy: 0.7734
Epoch 334/1000
10/10 [==============================] - 12s 1s/step - loss: 0.2896 - accuracy: 0.8718 - val_loss: 0.6616 - val_accuracy: 0.7656
Epoch 335/1000
10/10 [==============================] - 12s 1s/step - loss: 0.3003 - accuracy: 0.8687 - val_loss: 0.6874 - val_accuracy: 0.7768
Epoch 336/1000
10/10 [==============================] - 12s 1s/step - loss: 0.2957 - accuracy: 0.8750 - val_loss: 0.6335 - val_accuracy: 0.7846
Epoch 337/1000
10/10 [==============================] - 13s 1s/step - loss: 0.3118 - accuracy: 0.8701 - val_loss: 0.6064 - val_accuracy: 0.7801
Epoch 338/1000
10/10 [==============================] - 12s 1s/step - loss: 0.2793 - accuracy: 0.8847 - val_loss: 0.6844 - val_accuracy: 0.7824
Epoch 339/1000
10/10 [==============================] - 12s 1s/step - loss: 0.3059 - accuracy: 0.8636 - val_loss: 0.6751 - val_accuracy: 0.7790
Epoch 340/1000
10/10 [==============================] - 12s 1s/step - loss: 0.2775 - accuracy: 0.8813 - val_loss: 0.6511 - val_accuracy: 0.7723
Epoch 341/1000
10/10 [==============================] - 13s 1s/step - loss: 0.2786 - accuracy: 0.8774 - val_loss: 0.6293 - val_accuracy: 0.7902
Epoch 342/1000
10/10 [==============================] - 12s 1s/step - loss: 0.2582 - accuracy: 0.8961 - val_loss: 0.7164 - val_accuracy: 0.7667
Epoch 343/1000
10/10 [==============================] - 12s 1s/step - loss: 0.3088 - accuracy: 0.8782 - val_loss: 0.7407 - val_accuracy: 0.7634
Epoch 344/1000
10/10 [==============================] - 12s 1s/step - loss: 0.3055 - accuracy: 0.8644 - val_loss: 0.7179 - val_accuracy: 0.7734
Epoch 345/1000
10/10 [==============================] - 13s 1s/step - loss: 0.2900 - accuracy: 0.8766 - val_loss: 0.6658 - val_accuracy: 0.7589
Epoch 346/1000
10/10 [==============================] - 12s 1s/step - loss: 0.2741 - accuracy: 0.8807 - val_loss: 0.7248 - val_accuracy: 0.7623
Epoch 347/1000
10/10 [==============================] - 12s 1s/step - loss: 0.2772 - accuracy: 0.8839 - val_loss: 0.7750 - val_accuracy: 0.7478
Epoch 348/1000
10/10 [==============================] - 13s 1s/step - loss: 0.3073 - accuracy: 0.8644 - val_loss: 0.6903 - val_accuracy: 0.7824
Epoch 349/1000
10/10 [==============================] - 12s 1s/step - loss: 0.3168 - accuracy: 0.8498 - val_loss: 0.6763 - val_accuracy: 0.7790
Epoch 350/1000
10/10 [==============================] - 12s 1s/step - loss: 0.2994 - accuracy: 0.8677 - val_loss: 0.6695 - val_accuracy: 0.7712
Epoch 351/1000
10/10 [==============================] - 12s 1s/step - loss: 0.2883 - accuracy: 0.8628 - val_loss: 0.7070 - val_accuracy: 0.7790
Epoch 352/1000
10/10 [==============================] - 12s 1s/step - loss: 0.2784 - accuracy: 0.8718 - val_loss: 0.6809 - val_accuracy: 0.7779
Epoch 353/1000
10/10 [==============================] - 12s 1s/step - loss: 0.2533 - accuracy: 0.8985 - val_loss: 0.6193 - val_accuracy: 0.7734
Epoch 354/1000
10/10 [==============================] - 12s 1s/step - loss: 0.2905 - accuracy: 0.8766 - val_loss: 0.6573 - val_accuracy: 0.7667
Epoch 355/1000
10/10 [==============================] - 12s 1s/step - loss: 0.2695 - accuracy: 0.8815 - val_loss: 0.6915 - val_accuracy: 0.7712
Epoch 356/1000
10/10 [==============================] - 13s 1s/step - loss: 0.2927 - accuracy: 0.8766 - val_loss: 0.6650 - val_accuracy: 0.7757
Epoch 357/1000
10/10 [==============================] - 12s 1s/step - loss: 0.2615 - accuracy: 0.8929 - val_loss: 0.6358 - val_accuracy: 0.7857
Epoch 358/1000
10/10 [==============================] - 12s 1s/step - loss: 0.3053 - accuracy: 0.8701 - val_loss: 0.6891 - val_accuracy: 0.7824
Epoch 359/1000
10/10 [==============================] - 12s 1s/step - loss: 0.2671 - accuracy: 0.8831 - val_loss: 0.6362 - val_accuracy: 0.7824
Epoch 360/1000
10/10 [==============================] - 13s 1s/step - loss: 0.2881 - accuracy: 0.8859 - val_loss: 0.6956 - val_accuracy: 0.7679
Epoch 361/1000
10/10 [==============================] - 12s 1s/step - loss: 0.2917 - accuracy: 0.8791 - val_loss: 0.6696 - val_accuracy: 0.7779
Epoch 362/1000
10/10 [==============================] - 12s 1s/step - loss: 0.2590 - accuracy: 0.8937 - val_loss: 0.6938 - val_accuracy: 0.7690
Epoch 363/1000
10/10 [==============================] - 13s 1s/step - loss: 0.2760 - accuracy: 0.8906 - val_loss: 0.7198 - val_accuracy: 0.7768
Epoch 364/1000
10/10 [==============================] - 13s 1s/step - loss: 0.2734 - accuracy: 0.8773 - val_loss: 0.7152 - val_accuracy: 0.7779
Epoch 365/1000
10/10 [==============================] - 12s 1s/step - loss: 0.2766 - accuracy: 0.8791 - val_loss: 0.6291 - val_accuracy: 0.7790
Epoch 366/1000
10/10 [==============================] - 13s 1s/step - loss: 0.2634 - accuracy: 0.8961 - val_loss: 0.6930 - val_accuracy: 0.7835
Epoch 367/1000
10/10 [==============================] - 12s 1s/step - loss: 0.2537 - accuracy: 0.8839 - val_loss: 0.8258 - val_accuracy: 0.7723
Epoch 368/1000
10/10 [==============================] - 12s 1s/step - loss: 0.2827 - accuracy: 0.8807 - val_loss: 0.6654 - val_accuracy: 0.7790
Epoch 369/1000
10/10 [==============================] - 12s 1s/step - loss: 0.3051 - accuracy: 0.8750 - val_loss: 0.7278 - val_accuracy: 0.7824
Epoch 370/1000
10/10 [==============================] - 13s 1s/step - loss: 0.2897 - accuracy: 0.8847 - val_loss: 0.6315 - val_accuracy: 0.7824
Epoch 371/1000
10/10 [==============================] - 12s 1s/step - loss: 0.2679 - accuracy: 0.8945 - val_loss: 0.6856 - val_accuracy: 0.7734
Epoch 372/1000
10/10 [==============================] - 12s 1s/step - loss: 0.2749 - accuracy: 0.8799 - val_loss: 0.7962 - val_accuracy: 0.7734
Epoch 373/1000
10/10 [==============================] - 12s 1s/step - loss: 0.2843 - accuracy: 0.8799 - val_loss: 0.7355 - val_accuracy: 0.7812
Epoch 374/1000
10/10 [==============================] - 13s 1s/step - loss: 0.2386 - accuracy: 0.9008 - val_loss: 0.8121 - val_accuracy: 0.7779
Epoch 375/1000
10/10 [==============================] - 12s 1s/step - loss: 0.2914 - accuracy: 0.8711 - val_loss: 0.7071 - val_accuracy: 0.7824
Epoch 376/1000
10/10 [==============================] - 12s 1s/step - loss: 0.2872 - accuracy: 0.8791 - val_loss: 0.7082 - val_accuracy: 0.7812
Epoch 377/1000
10/10 [==============================] - 13s 1s/step - loss: 0.2929 - accuracy: 0.8711 - val_loss: 0.7100 - val_accuracy: 0.7768
Epoch 378/1000
10/10 [==============================] - 12s 1s/step - loss: 0.2872 - accuracy: 0.8766 - val_loss: 0.6791 - val_accuracy: 0.7801
Epoch 379/1000
10/10 [==============================] - 12s 1s/step - loss: 0.2594 - accuracy: 0.8945 - val_loss: 0.7045 - val_accuracy: 0.7857
Epoch 380/1000
10/10 [==============================] - 12s 1s/step - loss: 0.2674 - accuracy: 0.8823 - val_loss: 0.7294 - val_accuracy: 0.7902
Epoch 381/1000
10/10 [==============================] - 12s 1s/step - loss: 0.2532 - accuracy: 0.8864 - val_loss: 0.7831 - val_accuracy: 0.7824
Epoch 382/1000
10/10 [==============================] - 14s 1s/step - loss: 0.2861 - accuracy: 0.8839 - val_loss: 0.8881 - val_accuracy: 0.7656
Epoch 383/1000
10/10 [==============================] - 12s 1s/step - loss: 0.2917 - accuracy: 0.8891 - val_loss: 0.6764 - val_accuracy: 0.7846
Epoch 384/1000
10/10 [==============================] - 12s 1s/step - loss: 0.2593 - accuracy: 0.8856 - val_loss: 0.7422 - val_accuracy: 0.7746
Epoch 385/1000
10/10 [==============================] - 12s 1s/step - loss: 0.2586 - accuracy: 0.8891 - val_loss: 0.7667 - val_accuracy: 0.7790
Epoch 386/1000
10/10 [==============================] - 12s 1s/step - loss: 0.2521 - accuracy: 0.8914 - val_loss: 0.6436 - val_accuracy: 0.7779
Epoch 387/1000
10/10 [==============================] - 13s 1s/step - loss: 0.2916 - accuracy: 0.8734 - val_loss: 0.7472 - val_accuracy: 0.7567
Epoch 388/1000
10/10 [==============================] - 13s 1s/step - loss: 0.2742 - accuracy: 0.8969 - val_loss: 0.7068 - val_accuracy: 0.7913
Epoch 389/1000
10/10 [==============================] - 12s 1s/step - loss: 0.2660 - accuracy: 0.8880 - val_loss: 0.7748 - val_accuracy: 0.7746
Epoch 390/1000
10/10 [==============================] - 12s 1s/step - loss: 0.2740 - accuracy: 0.8856 - val_loss: 0.6120 - val_accuracy: 0.7790
Epoch 391/1000
10/10 [==============================] - 12s 1s/step - loss: 0.2676 - accuracy: 0.8839 - val_loss: 0.7094 - val_accuracy: 0.7679
Epoch 392/1000
10/10 [==============================] - 13s 1s/step - loss: 0.2701 - accuracy: 0.8891 - val_loss: 0.7009 - val_accuracy: 0.7790
Epoch 393/1000
10/10 [==============================] - 12s 1s/step - loss: 0.2655 - accuracy: 0.8904 - val_loss: 0.7712 - val_accuracy: 0.7868
Epoch 394/1000
10/10 [==============================] - 12s 1s/step - loss: 0.2578 - accuracy: 0.8891 - val_loss: 0.7097 - val_accuracy: 0.7723
Epoch 395/1000
10/10 [==============================] - 12s 1s/step - loss: 0.2758 - accuracy: 0.8815 - val_loss: 0.7272 - val_accuracy: 0.7500
Epoch 396/1000
10/10 [==============================] - 13s 1s/step - loss: 0.2601 - accuracy: 0.8852 - val_loss: 0.6925 - val_accuracy: 0.7768
Epoch 397/1000
10/10 [==============================] - 13s 1s/step - loss: 0.2876 - accuracy: 0.8805 - val_loss: 0.7197 - val_accuracy: 0.7779
Epoch 398/1000
10/10 [==============================] - 12s 1s/step - loss: 0.2869 - accuracy: 0.8891 - val_loss: 0.6451 - val_accuracy: 0.7891
Epoch 399/1000
10/10 [==============================] - 12s 1s/step - loss: 0.2868 - accuracy: 0.8766 - val_loss: 0.7023 - val_accuracy: 0.7857
Epoch 400/1000
10/10 [==============================] - 12s 1s/step - loss: 0.2813 - accuracy: 0.8859 - val_loss: 0.7222 - val_accuracy: 0.7723
Epoch 401/1000
10/10 [==============================] - 13s 1s/step - loss: 0.2650 - accuracy: 0.8875 - val_loss: 0.7214 - val_accuracy: 0.7746
Epoch 402/1000
10/10 [==============================] - 13s 1s/step - loss: 0.2858 - accuracy: 0.8758 - val_loss: 0.7476 - val_accuracy: 0.7790
Epoch 403/1000
10/10 [==============================] - 12s 1s/step - loss: 0.2787 - accuracy: 0.8766 - val_loss: 0.6997 - val_accuracy: 0.7533
Epoch 404/1000
10/10 [==============================] - 12s 1s/step - loss: 0.2714 - accuracy: 0.8898 - val_loss: 0.8124 - val_accuracy: 0.7757
Epoch 405/1000
10/10 [==============================] - 12s 1s/step - loss: 0.2865 - accuracy: 0.8782 - val_loss: 0.7087 - val_accuracy: 0.7712
Epoch 406/1000
10/10 [==============================] - 12s 1s/step - loss: 0.2586 - accuracy: 0.8823 - val_loss: 0.7378 - val_accuracy: 0.7746
Epoch 407/1000
10/10 [==============================] - 13s 1s/step - loss: 0.2342 - accuracy: 0.9039 - val_loss: 0.7652 - val_accuracy: 0.7712
Epoch 408/1000
10/10 [==============================] - 12s 1s/step - loss: 0.2646 - accuracy: 0.8880 - val_loss: 0.7126 - val_accuracy: 0.7690
Epoch 409/1000
10/10 [==============================] - 13s 1s/step - loss: 0.2695 - accuracy: 0.8912 - val_loss: 0.7403 - val_accuracy: 0.7746
Epoch 410/1000
10/10 [==============================] - 12s 1s/step - loss: 0.2616 - accuracy: 0.8953 - val_loss: 0.7307 - val_accuracy: 0.7812
Epoch 411/1000
10/10 [==============================] - 12s 1s/step - loss: 0.2422 - accuracy: 0.9000 - val_loss: 0.7683 - val_accuracy: 0.7768
Epoch 412/1000
10/10 [==============================] - 13s 1s/step - loss: 0.2578 - accuracy: 0.9002 - val_loss: 0.7210 - val_accuracy: 0.7656
Epoch 413/1000
10/10 [==============================] - 12s 1s/step - loss: 0.2769 - accuracy: 0.8823 - val_loss: 0.7831 - val_accuracy: 0.7701
Epoch 414/1000
10/10 [==============================] - 12s 1s/step - loss: 0.2562 - accuracy: 0.8852 - val_loss: 0.7498 - val_accuracy: 0.7857
Epoch 415/1000
10/10 [==============================] - 12s 1s/step - loss: 0.2566 - accuracy: 0.8953 - val_loss: 0.7161 - val_accuracy: 0.7835
Epoch 416/1000
10/10 [==============================] - 12s 1s/step - loss: 0.2421 - accuracy: 0.9010 - val_loss: 0.7767 - val_accuracy: 0.7801
Epoch 417/1000
10/10 [==============================] - 12s 1s/step - loss: 0.2610 - accuracy: 0.8773 - val_loss: 0.8269 - val_accuracy: 0.7723
Epoch 418/1000
10/10 [==============================] - 12s 1s/step - loss: 0.2721 - accuracy: 0.8823 - val_loss: 0.7913 - val_accuracy: 0.7801
Epoch 419/1000
10/10 [==============================] - 12s 1s/step - loss: 0.2800 - accuracy: 0.8774 - val_loss: 0.7478 - val_accuracy: 0.7746
Epoch 420/1000
10/10 [==============================] - 13s 1s/step - loss: 0.2403 - accuracy: 0.9070 - val_loss: 0.7029 - val_accuracy: 0.7801
Epoch 421/1000
10/10 [==============================] - 12s 1s/step - loss: 0.2682 - accuracy: 0.8815 - val_loss: 0.7194 - val_accuracy: 0.7835
Epoch 422/1000
10/10 [==============================] - 12s 1s/step - loss: 0.2851 - accuracy: 0.8839 - val_loss: 0.7161 - val_accuracy: 0.7723
Epoch 423/1000
10/10 [==============================] - 12s 1s/step - loss: 0.2404 - accuracy: 0.9002 - val_loss: 0.7188 - val_accuracy: 0.7812
Epoch 424/1000
10/10 [==============================] - 12s 1s/step - loss: 0.2408 - accuracy: 0.8985 - val_loss: 0.8551 - val_accuracy: 0.7779
Epoch 425/1000
10/10 [==============================] - 12s 1s/step - loss: 0.2421 - accuracy: 0.8994 - val_loss: 0.8125 - val_accuracy: 0.7846
Epoch 426/1000
10/10 [==============================] - 12s 1s/step - loss: 0.2849 - accuracy: 0.8937 - val_loss: 0.6883 - val_accuracy: 0.7801
Epoch 427/1000
10/10 [==============================] - 12s 1s/step - loss: 0.2685 - accuracy: 0.9002 - val_loss: 0.6924 - val_accuracy: 0.7667
Epoch 428/1000
10/10 [==============================] - 12s 1s/step - loss: 0.2403 - accuracy: 0.9047 - val_loss: 0.8265 - val_accuracy: 0.7712
Epoch 429/1000
10/10 [==============================] - 13s 1s/step - loss: 0.2586 - accuracy: 0.8875 - val_loss: 0.7792 - val_accuracy: 0.7701
Epoch 430/1000
10/10 [==============================] - 12s 1s/step - loss: 0.2826 - accuracy: 0.8912 - val_loss: 0.8036 - val_accuracy: 0.7857
Epoch 431/1000
10/10 [==============================] - 12s 1s/step - loss: 0.2438 - accuracy: 0.8994 - val_loss: 0.7336 - val_accuracy: 0.7768
Epoch 432/1000
10/10 [==============================] - 12s 1s/step - loss: 0.2369 - accuracy: 0.9067 - val_loss: 0.7630 - val_accuracy: 0.7812
Epoch 433/1000
10/10 [==============================] - 12s 1s/step - loss: 0.2616 - accuracy: 0.8859 - val_loss: 0.7834 - val_accuracy: 0.7868
Epoch 434/1000
10/10 [==============================] - 13s 1s/step - loss: 0.2264 - accuracy: 0.9099 - val_loss: 0.6564 - val_accuracy: 0.7790
Epoch 435/1000
10/10 [==============================] - 12s 1s/step - loss: 0.2032 - accuracy: 0.9164 - val_loss: 0.7697 - val_accuracy: 0.7868
Epoch 436/1000
10/10 [==============================] - 12s 1s/step - loss: 0.2374 - accuracy: 0.8984 - val_loss: 0.8271 - val_accuracy: 0.7768
Epoch 437/1000
10/10 [==============================] - 12s 1s/step - loss: 0.2390 - accuracy: 0.8920 - val_loss: 0.7005 - val_accuracy: 0.7656
Epoch 438/1000
10/10 [==============================] - 13s 1s/step - loss: 0.2641 - accuracy: 0.8969 - val_loss: 0.9095 - val_accuracy: 0.7701
Epoch 439/1000
10/10 [==============================] - 12s 1s/step - loss: 0.2627 - accuracy: 0.8883 - val_loss: 0.7493 - val_accuracy: 0.7746
Epoch 440/1000
10/10 [==============================] - 12s 1s/step - loss: 0.2602 - accuracy: 0.8872 - val_loss: 0.7674 - val_accuracy: 0.7824
Epoch 441/1000
10/10 [==============================] - 12s 1s/step - loss: 0.2415 - accuracy: 0.8992 - val_loss: 0.7703 - val_accuracy: 0.7701
Epoch 442/1000
10/10 [==============================] - 13s 1s/step - loss: 0.2250 - accuracy: 0.9050 - val_loss: 0.7909 - val_accuracy: 0.7667
Epoch 443/1000
10/10 [==============================] - 12s 1s/step - loss: 0.2387 - accuracy: 0.9016 - val_loss: 0.7058 - val_accuracy: 0.7645
Epoch 444/1000
10/10 [==============================] - 12s 1s/step - loss: 0.2246 - accuracy: 0.9050 - val_loss: 0.7624 - val_accuracy: 0.7757
Epoch 445/1000
10/10 [==============================] - 12s 1s/step - loss: 0.2330 - accuracy: 0.8945 - val_loss: 0.8443 - val_accuracy: 0.7723
Epoch 446/1000
10/10 [==============================] - 13s 1s/step - loss: 0.2431 - accuracy: 0.8961 - val_loss: 0.7705 - val_accuracy: 0.7935
Epoch 447/1000
10/10 [==============================] - 12s 1s/step - loss: 0.2357 - accuracy: 0.8994 - val_loss: 0.7891 - val_accuracy: 0.7667
Epoch 448/1000
10/10 [==============================] - 13s 1s/step - loss: 0.2695 - accuracy: 0.8844 - val_loss: 0.8386 - val_accuracy: 0.7801
Epoch 449/1000
10/10 [==============================] - 12s 1s/step - loss: 0.2451 - accuracy: 0.8929 - val_loss: 0.7641 - val_accuracy: 0.7868
Epoch 450/1000
10/10 [==============================] - 12s 1s/step - loss: 0.2371 - accuracy: 0.8969 - val_loss: 0.6476 - val_accuracy: 0.7879
Epoch 451/1000
10/10 [==============================] - 13s 1s/step - loss: 0.2679 - accuracy: 0.9002 - val_loss: 0.7705 - val_accuracy: 0.7835
Epoch 452/1000
10/10 [==============================] - 13s 1s/step - loss: 0.2256 - accuracy: 0.9109 - val_loss: 0.8104 - val_accuracy: 0.7868
Epoch 453/1000
10/10 [==============================] - 12s 1s/step - loss: 0.2409 - accuracy: 0.9050 - val_loss: 0.7301 - val_accuracy: 0.7879
Epoch 454/1000
10/10 [==============================] - 12s 1s/step - loss: 0.2439 - accuracy: 0.9000 - val_loss: 0.8346 - val_accuracy: 0.7679
Epoch 455/1000
10/10 [==============================] - 13s 1s/step - loss: 0.2615 - accuracy: 0.8929 - val_loss: 0.7387 - val_accuracy: 0.7768
Epoch 456/1000
10/10 [==============================] - 13s 1s/step - loss: 0.2659 - accuracy: 0.8992 - val_loss: 0.7245 - val_accuracy: 0.7879
Epoch 457/1000
10/10 [==============================] - 12s 1s/step - loss: 0.2744 - accuracy: 0.8701 - val_loss: 0.6852 - val_accuracy: 0.7734
Epoch 458/1000
10/10 [==============================] - 12s 1s/step - loss: 0.2524 - accuracy: 0.8872 - val_loss: 0.7496 - val_accuracy: 0.7902
Epoch 459/1000
10/10 [==============================] - 12s 1s/step - loss: 0.2484 - accuracy: 0.8904 - val_loss: 0.7350 - val_accuracy: 0.7991
Epoch 460/1000
10/10 [==============================] - 13s 1s/step - loss: 0.2669 - accuracy: 0.8883 - val_loss: 0.7521 - val_accuracy: 0.7902
Epoch 461/1000
10/10 [==============================] - 13s 1s/step - loss: 0.2302 - accuracy: 0.9023 - val_loss: 0.7055 - val_accuracy: 0.7980
Epoch 462/1000
10/10 [==============================] - 12s 1s/step - loss: 0.2457 - accuracy: 0.8920 - val_loss: 0.7009 - val_accuracy: 0.7935
Epoch 463/1000
10/10 [==============================] - 13s 1s/step - loss: 0.2396 - accuracy: 0.9018 - val_loss: 0.7572 - val_accuracy: 0.7746
Epoch 464/1000
10/10 [==============================] - 12s 1s/step - loss: 0.2734 - accuracy: 0.8888 - val_loss: 0.7354 - val_accuracy: 0.7768
Epoch 465/1000
10/10 [==============================] - 12s 1s/step - loss: 0.2111 - accuracy: 0.9141 - val_loss: 0.7862 - val_accuracy: 0.7779
Epoch 466/1000
10/10 [==============================] - 12s 1s/step - loss: 0.2215 - accuracy: 0.9156 - val_loss: 0.8319 - val_accuracy: 0.7612
Epoch 467/1000
10/10 [==============================] - 13s 1s/step - loss: 0.2527 - accuracy: 0.8977 - val_loss: 0.6766 - val_accuracy: 0.7835
Epoch 468/1000
10/10 [==============================] - 13s 1s/step - loss: 0.2426 - accuracy: 0.9050 - val_loss: 0.7503 - val_accuracy: 0.7746
Epoch 469/1000
10/10 [==============================] - 13s 1s/step - loss: 0.2445 - accuracy: 0.8977 - val_loss: 0.7209 - val_accuracy: 0.7779
Epoch 470/1000
10/10 [==============================] - 12s 1s/step - loss: 0.2082 - accuracy: 0.9196 - val_loss: 0.8495 - val_accuracy: 0.7790
Epoch 471/1000
10/10 [==============================] - 12s 1s/step - loss: 0.2301 - accuracy: 0.8977 - val_loss: 0.7961 - val_accuracy: 0.7734
Epoch 472/1000
10/10 [==============================] - 12s 1s/step - loss: 0.2449 - accuracy: 0.8969 - val_loss: 0.8127 - val_accuracy: 0.7824
Epoch 473/1000
10/10 [==============================] - 12s 1s/step - loss: 0.2266 - accuracy: 0.9075 - val_loss: 0.7831 - val_accuracy: 0.7779
Epoch 474/1000
10/10 [==============================] - 12s 1s/step - loss: 0.2269 - accuracy: 0.9067 - val_loss: 0.7406 - val_accuracy: 0.7879
Epoch 475/1000
10/10 [==============================] - 12s 1s/step - loss: 0.2282 - accuracy: 0.9010 - val_loss: 0.7499 - val_accuracy: 0.7902
Epoch 476/1000
10/10 [==============================] - 13s 1s/step - loss: 0.2570 - accuracy: 0.8789 - val_loss: 0.7115 - val_accuracy: 0.7824
Epoch 477/1000
10/10 [==============================] - 12s 1s/step - loss: 0.2205 - accuracy: 0.9058 - val_loss: 0.7742 - val_accuracy: 0.7824
Epoch 478/1000
10/10 [==============================] - 12s 1s/step - loss: 0.2354 - accuracy: 0.9133 - val_loss: 0.7581 - val_accuracy: 0.7946
Epoch 479/1000
10/10 [==============================] - 13s 1s/step - loss: 0.2299 - accuracy: 0.9026 - val_loss: 0.7831 - val_accuracy: 0.7824
Epoch 480/1000
10/10 [==============================] - 13s 1s/step - loss: 0.2441 - accuracy: 0.8994 - val_loss: 0.7639 - val_accuracy: 0.7723
Epoch 481/1000
10/10 [==============================] - 12s 1s/step - loss: 0.2452 - accuracy: 0.8945 - val_loss: 0.7098 - val_accuracy: 0.7801
Epoch 482/1000
10/10 [==============================] - 12s 1s/step - loss: 0.2492 - accuracy: 0.9002 - val_loss: 0.6861 - val_accuracy: 0.8002
Epoch 483/1000
10/10 [==============================] - 13s 1s/step - loss: 0.2362 - accuracy: 0.9026 - val_loss: 0.7367 - val_accuracy: 0.7600
Epoch 484/1000
10/10 [==============================] - 13s 1s/step - loss: 0.2681 - accuracy: 0.8820 - val_loss: 0.7664 - val_accuracy: 0.7790
Epoch 485/1000
10/10 [==============================] - 13s 1s/step - loss: 0.2300 - accuracy: 0.9058 - val_loss: 0.6906 - val_accuracy: 0.7757
Epoch 486/1000
10/10 [==============================] - 13s 1s/step - loss: 0.2757 - accuracy: 0.8856 - val_loss: 0.6794 - val_accuracy: 0.7824
Epoch 487/1000
10/10 [==============================] - 12s 1s/step - loss: 0.2473 - accuracy: 0.9010 - val_loss: 0.7012 - val_accuracy: 0.7701
Epoch 488/1000
10/10 [==============================] - 12s 1s/step - loss: 0.2373 - accuracy: 0.8977 - val_loss: 0.7630 - val_accuracy: 0.7857
Epoch 489/1000
10/10 [==============================] - 13s 1s/step - loss: 0.2222 - accuracy: 0.9034 - val_loss: 0.7886 - val_accuracy: 0.7812
Epoch 490/1000
10/10 [==============================] - 13s 1s/step - loss: 0.2277 - accuracy: 0.9083 - val_loss: 0.8632 - val_accuracy: 0.7679
Epoch 491/1000
10/10 [==============================] - 12s 1s/step - loss: 0.2220 - accuracy: 0.8994 - val_loss: 0.8425 - val_accuracy: 0.7589
Epoch 492/1000
10/10 [==============================] - 12s 1s/step - loss: 0.2340 - accuracy: 0.8977 - val_loss: 0.7698 - val_accuracy: 0.7790
Epoch 493/1000
10/10 [==============================] - 13s 1s/step - loss: 0.2070 - accuracy: 0.9102 - val_loss: 0.8238 - val_accuracy: 0.7779
Epoch 494/1000
10/10 [==============================] - 12s 1s/step - loss: 0.2252 - accuracy: 0.9058 - val_loss: 0.8237 - val_accuracy: 0.7879
Epoch 495/1000
10/10 [==============================] - 12s 1s/step - loss: 0.2223 - accuracy: 0.9091 - val_loss: 0.7302 - val_accuracy: 0.7980
Epoch 496/1000
10/10 [==============================] - 12s 1s/step - loss: 0.2507 - accuracy: 0.9010 - val_loss: 0.7527 - val_accuracy: 0.7801
Epoch 497/1000
10/10 [==============================] - 13s 1s/step - loss: 0.2293 - accuracy: 0.8984 - val_loss: 0.6880 - val_accuracy: 0.7946
Epoch 498/1000
10/10 [==============================] - 12s 1s/step - loss: 0.2595 - accuracy: 0.8880 - val_loss: 0.7674 - val_accuracy: 0.7768
Epoch 499/1000
10/10 [==============================] - 12s 1s/step - loss: 0.2416 - accuracy: 0.9016 - val_loss: 0.8119 - val_accuracy: 0.7835
Epoch 500/1000
10/10 [==============================] - 12s 1s/step - loss: 0.2101 - accuracy: 0.9107 - val_loss: 0.7546 - val_accuracy: 0.7846
Epoch 501/1000
10/10 [==============================] - 13s 1s/step - loss: 0.2175 - accuracy: 0.9164 - val_loss: 0.7395 - val_accuracy: 0.7946
Epoch 502/1000
10/10 [==============================] - 13s 1s/step - loss: 0.2332 - accuracy: 0.9117 - val_loss: 0.7787 - val_accuracy: 0.7757
Epoch 503/1000
10/10 [==============================] - 12s 1s/step - loss: 0.2655 - accuracy: 0.8922 - val_loss: 0.8155 - val_accuracy: 0.7980
Epoch 504/1000
10/10 [==============================] - 12s 1s/step - loss: 0.2355 - accuracy: 0.9075 - val_loss: 0.8187 - val_accuracy: 0.7902
Epoch 505/1000
10/10 [==============================] - 13s 1s/step - loss: 0.2317 - accuracy: 0.9050 - val_loss: 0.7430 - val_accuracy: 0.7589
Epoch 506/1000
10/10 [==============================] - 12s 1s/step - loss: 0.2333 - accuracy: 0.9026 - val_loss: 0.7700 - val_accuracy: 0.7868
Epoch 507/1000
10/10 [==============================] - 13s 1s/step - loss: 0.2304 - accuracy: 0.9062 - val_loss: 0.7409 - val_accuracy: 0.7846
Epoch 508/1000
10/10 [==============================] - 12s 1s/step - loss: 0.2020 - accuracy: 0.9188 - val_loss: 0.8398 - val_accuracy: 0.7946
Epoch 509/1000
10/10 [==============================] - 12s 1s/step - loss: 0.2378 - accuracy: 0.9107 - val_loss: 0.7003 - val_accuracy: 0.7857
Epoch 510/1000
10/10 [==============================] - 12s 1s/step - loss: 0.2507 - accuracy: 0.9008 - val_loss: 0.7795 - val_accuracy: 0.7846
Epoch 511/1000
10/10 [==============================] - 13s 1s/step - loss: 0.2179 - accuracy: 0.9102 - val_loss: 0.8148 - val_accuracy: 0.7679
Epoch 512/1000
10/10 [==============================] - 12s 1s/step - loss: 0.2209 - accuracy: 0.9050 - val_loss: 0.8838 - val_accuracy: 0.7768
Epoch 513/1000
10/10 [==============================] - 12s 1s/step - loss: 0.1938 - accuracy: 0.9083 - val_loss: 0.8033 - val_accuracy: 0.7723
Epoch 514/1000
10/10 [==============================] - 13s 1s/step - loss: 0.2093 - accuracy: 0.9099 - val_loss: 0.7935 - val_accuracy: 0.7868
Epoch 515/1000
10/10 [==============================] - 13s 1s/step - loss: 0.2483 - accuracy: 0.9016 - val_loss: 0.6923 - val_accuracy: 0.7812
Epoch 516/1000
10/10 [==============================] - 12s 1s/step - loss: 0.2308 - accuracy: 0.9094 - val_loss: 0.7284 - val_accuracy: 0.7857
Epoch 517/1000
10/10 [==============================] - 12s 1s/step - loss: 0.2388 - accuracy: 0.8994 - val_loss: 0.8267 - val_accuracy: 0.7779
Epoch 518/1000
10/10 [==============================] - 13s 1s/step - loss: 0.2199 - accuracy: 0.9099 - val_loss: 0.7037 - val_accuracy: 0.7946
Epoch 519/1000
10/10 [==============================] - 12s 1s/step - loss: 0.2401 - accuracy: 0.9018 - val_loss: 0.7601 - val_accuracy: 0.7835
Epoch 520/1000
10/10 [==============================] - 12s 1s/step - loss: 0.2122 - accuracy: 0.9148 - val_loss: 0.7935 - val_accuracy: 0.7835
Epoch 521/1000
10/10 [==============================] - 12s 1s/step - loss: 0.2152 - accuracy: 0.9141 - val_loss: 0.7130 - val_accuracy: 0.7969
Epoch 522/1000
10/10 [==============================] - 13s 1s/step - loss: 0.2019 - accuracy: 0.9180 - val_loss: 0.8039 - val_accuracy: 0.7768
Epoch 523/1000
10/10 [==============================] - 13s 1s/step - loss: 0.2416 - accuracy: 0.9023 - val_loss: 0.7645 - val_accuracy: 0.7891
Epoch 524/1000
10/10 [==============================] - 12s 1s/step - loss: 0.2301 - accuracy: 0.9156 - val_loss: 0.8800 - val_accuracy: 0.7757
Epoch 525/1000
10/10 [==============================] - 12s 1s/step - loss: 0.2573 - accuracy: 0.8977 - val_loss: 0.7118 - val_accuracy: 0.7824
Epoch 526/1000
10/10 [==============================] - 12s 1s/step - loss: 0.2511 - accuracy: 0.8969 - val_loss: 0.7390 - val_accuracy: 0.7879
Epoch 527/1000
10/10 [==============================] - 12s 1s/step - loss: 0.2325 - accuracy: 0.9050 - val_loss: 0.7767 - val_accuracy: 0.7891
Epoch 528/1000
10/10 [==============================] - 13s 1s/step - loss: 0.2442 - accuracy: 0.8994 - val_loss: 0.7988 - val_accuracy: 0.7846
Epoch 529/1000
10/10 [==============================] - 12s 1s/step - loss: 0.2093 - accuracy: 0.9067 - val_loss: 0.8326 - val_accuracy: 0.7690
Epoch 530/1000
10/10 [==============================] - 12s 1s/step - loss: 0.2166 - accuracy: 0.9125 - val_loss: 0.7287 - val_accuracy: 0.7980
Epoch 531/1000
10/10 [==============================] - 13s 1s/step - loss: 0.2159 - accuracy: 0.9055 - val_loss: 0.7615 - val_accuracy: 0.7891
Epoch 532/1000
10/10 [==============================] - 13s 1s/step - loss: 0.2329 - accuracy: 0.9000 - val_loss: 0.7638 - val_accuracy: 0.7913
Epoch 533/1000
10/10 [==============================] - 12s 1s/step - loss: 0.2070 - accuracy: 0.9131 - val_loss: 0.7272 - val_accuracy: 0.7913
Epoch 534/1000
10/10 [==============================] - 12s 1s/step - loss: 0.2033 - accuracy: 0.9196 - val_loss: 0.7809 - val_accuracy: 0.7846
Epoch 535/1000
10/10 [==============================] - 12s 1s/step - loss: 0.2392 - accuracy: 0.8929 - val_loss: 0.7018 - val_accuracy: 0.7946
Epoch 536/1000
10/10 [==============================] - 13s 1s/step - loss: 0.2289 - accuracy: 0.9075 - val_loss: 0.7694 - val_accuracy: 0.7779
Epoch 537/1000
10/10 [==============================] - 12s 1s/step - loss: 0.2381 - accuracy: 0.9010 - val_loss: 0.7431 - val_accuracy: 0.7801
Epoch 538/1000
10/10 [==============================] - 12s 1s/step - loss: 0.2397 - accuracy: 0.8969 - val_loss: 0.7120 - val_accuracy: 0.8036
Epoch 539/1000
10/10 [==============================] - 12s 1s/step - loss: 0.2174 - accuracy: 0.9026 - val_loss: 0.8041 - val_accuracy: 0.7846
Epoch 540/1000
10/10 [==============================] - 13s 1s/step - loss: 0.2174 - accuracy: 0.8953 - val_loss: 0.8965 - val_accuracy: 0.7846
Epoch 541/1000
10/10 [==============================] - 13s 1s/step - loss: 0.2163 - accuracy: 0.9141 - val_loss: 0.7831 - val_accuracy: 0.7790
Epoch 542/1000
10/10 [==============================] - 12s 1s/step - loss: 0.2105 - accuracy: 0.9117 - val_loss: 0.8950 - val_accuracy: 0.7835
Epoch 543/1000
10/10 [==============================] - 12s 1s/step - loss: 0.2333 - accuracy: 0.9062 - val_loss: 0.7688 - val_accuracy: 0.7746
Epoch 544/1000
10/10 [==============================] - 12s 1s/step - loss: 0.2180 - accuracy: 0.9195 - val_loss: 0.8291 - val_accuracy: 0.7868
Epoch 545/1000
10/10 [==============================] - 13s 1s/step - loss: 0.2311 - accuracy: 0.9023 - val_loss: 0.8186 - val_accuracy: 0.7768
Epoch 546/1000
10/10 [==============================] - 13s 1s/step - loss: 0.2202 - accuracy: 0.9078 - val_loss: 0.8721 - val_accuracy: 0.7812
Epoch 547/1000
10/10 [==============================] - 13s 1s/step - loss: 0.2016 - accuracy: 0.9086 - val_loss: 0.8835 - val_accuracy: 0.7801
Epoch 548/1000
10/10 [==============================] - 13s 1s/step - loss: 0.2238 - accuracy: 0.9039 - val_loss: 0.8266 - val_accuracy: 0.7746
Epoch 549/1000
10/10 [==============================] - 12s 1s/step - loss: 0.2297 - accuracy: 0.9039 - val_loss: 0.8032 - val_accuracy: 0.7679
Epoch 550/1000
10/10 [==============================] - 12s 1s/step - loss: 0.2044 - accuracy: 0.9213 - val_loss: 0.9264 - val_accuracy: 0.7902
Epoch 551/1000
10/10 [==============================] - 13s 1s/step - loss: 0.2381 - accuracy: 0.9023 - val_loss: 0.7294 - val_accuracy: 0.8025
Epoch 552/1000
10/10 [==============================] - 13s 1s/step - loss: 0.2124 - accuracy: 0.9125 - val_loss: 0.7265 - val_accuracy: 0.8013
Epoch 553/1000
10/10 [==============================] - 12s 1s/step - loss: 0.2019 - accuracy: 0.9172 - val_loss: 0.8860 - val_accuracy: 0.7835
Epoch 554/1000
10/10 [==============================] - 12s 1s/step - loss: 0.2246 - accuracy: 0.9050 - val_loss: 0.8307 - val_accuracy: 0.7801
Epoch 555/1000
10/10 [==============================] - 13s 1s/step - loss: 0.2297 - accuracy: 0.9042 - val_loss: 0.9325 - val_accuracy: 0.7824
Epoch 556/1000
10/10 [==============================] - 12s 1s/step - loss: 0.2442 - accuracy: 0.9002 - val_loss: 0.8317 - val_accuracy: 0.7779
Epoch 557/1000
10/10 [==============================] - 12s 1s/step - loss: 0.2050 - accuracy: 0.9180 - val_loss: 0.8012 - val_accuracy: 0.7935
Epoch 558/1000
10/10 [==============================] - 13s 1s/step - loss: 0.2230 - accuracy: 0.9099 - val_loss: 0.8724 - val_accuracy: 0.7746
Epoch 559/1000
10/10 [==============================] - 12s 1s/step - loss: 0.2475 - accuracy: 0.9026 - val_loss: 0.7484 - val_accuracy: 0.7958
Epoch 560/1000
10/10 [==============================] - 12s 1s/step - loss: 0.2253 - accuracy: 0.9125 - val_loss: 0.7819 - val_accuracy: 0.7768
Epoch 561/1000
10/10 [==============================] - 12s 1s/step - loss: 0.2121 - accuracy: 0.9102 - val_loss: 0.8420 - val_accuracy: 0.7935
Epoch 562/1000
10/10 [==============================] - 13s 1s/step - loss: 0.2245 - accuracy: 0.9117 - val_loss: 0.8729 - val_accuracy: 0.7712
Epoch 563/1000
10/10 [==============================] - 12s 1s/step - loss: 0.2147 - accuracy: 0.9148 - val_loss: 0.8781 - val_accuracy: 0.7779
Epoch 564/1000
10/10 [==============================] - 13s 1s/step - loss: 0.1851 - accuracy: 0.9196 - val_loss: 0.9621 - val_accuracy: 0.7812
Epoch 565/1000
10/10 [==============================] - 13s 1s/step - loss: 0.2292 - accuracy: 0.9023 - val_loss: 0.8659 - val_accuracy: 0.7768
Epoch 566/1000
10/10 [==============================] - 12s 1s/step - loss: 0.2243 - accuracy: 0.9039 - val_loss: 0.7963 - val_accuracy: 0.7812
Epoch 567/1000
10/10 [==============================] - 12s 1s/step - loss: 0.2346 - accuracy: 0.9091 - val_loss: 0.7802 - val_accuracy: 0.7779
Epoch 568/1000
10/10 [==============================] - 13s 1s/step - loss: 0.2158 - accuracy: 0.9117 - val_loss: 0.7465 - val_accuracy: 0.7801
Epoch 569/1000
10/10 [==============================] - 12s 1s/step - loss: 0.2080 - accuracy: 0.9148 - val_loss: 0.8012 - val_accuracy: 0.7935
Epoch 570/1000
10/10 [==============================] - 12s 1s/step - loss: 0.2274 - accuracy: 0.9083 - val_loss: 0.8839 - val_accuracy: 0.7701
Epoch 571/1000
10/10 [==============================] - 13s 1s/step - loss: 0.2298 - accuracy: 0.9050 - val_loss: 0.7985 - val_accuracy: 0.7723
Epoch 572/1000
10/10 [==============================] - 13s 1s/step - loss: 0.1969 - accuracy: 0.9205 - val_loss: 0.9143 - val_accuracy: 0.7868
Epoch 573/1000
10/10 [==============================] - 12s 1s/step - loss: 0.2190 - accuracy: 0.9062 - val_loss: 0.7925 - val_accuracy: 0.8002
Epoch 574/1000
10/10 [==============================] - 12s 1s/step - loss: 0.2230 - accuracy: 0.9115 - val_loss: 0.7615 - val_accuracy: 0.7913
Epoch 575/1000
10/10 [==============================] - 12s 1s/step - loss: 0.2100 - accuracy: 0.9075 - val_loss: 0.8160 - val_accuracy: 0.7779
Epoch 576/1000
10/10 [==============================] - 13s 1s/step - loss: 0.2049 - accuracy: 0.9102 - val_loss: 0.9676 - val_accuracy: 0.7835
Epoch 577/1000
10/10 [==============================] - 12s 1s/step - loss: 0.2218 - accuracy: 0.9075 - val_loss: 0.7911 - val_accuracy: 0.7801
Epoch 578/1000
10/10 [==============================] - 12s 1s/step - loss: 0.2167 - accuracy: 0.9123 - val_loss: 0.7778 - val_accuracy: 0.7701
Epoch 579/1000
10/10 [==============================] - 13s 1s/step - loss: 0.2000 - accuracy: 0.9140 - val_loss: 0.8938 - val_accuracy: 0.7768
Epoch 580/1000
10/10 [==============================] - 12s 1s/step - loss: 0.2080 - accuracy: 0.9115 - val_loss: 0.7829 - val_accuracy: 0.7846
Epoch 581/1000
10/10 [==============================] - 13s 1s/step - loss: 0.2331 - accuracy: 0.9023 - val_loss: 0.7549 - val_accuracy: 0.7879
Epoch 582/1000
10/10 [==============================] - 12s 1s/step - loss: 0.2152 - accuracy: 0.9141 - val_loss: 0.7925 - val_accuracy: 0.7723
Epoch 583/1000
10/10 [==============================] - 12s 1s/step - loss: 0.1918 - accuracy: 0.9180 - val_loss: 0.8661 - val_accuracy: 0.7857
Epoch 584/1000
10/10 [==============================] - 12s 1s/step - loss: 0.1742 - accuracy: 0.9312 - val_loss: 0.7663 - val_accuracy: 0.8013
Epoch 585/1000
10/10 [==============================] - 13s 1s/step - loss: 0.2116 - accuracy: 0.9229 - val_loss: 0.8461 - val_accuracy: 0.7969
Epoch 586/1000
10/10 [==============================] - 12s 1s/step - loss: 0.2049 - accuracy: 0.9123 - val_loss: 0.7523 - val_accuracy: 0.7980
Epoch 587/1000
10/10 [==============================] - 12s 1s/step - loss: 0.2172 - accuracy: 0.9229 - val_loss: 0.8637 - val_accuracy: 0.7924
Epoch 588/1000
10/10 [==============================] - 12s 1s/step - loss: 0.2201 - accuracy: 0.9164 - val_loss: 0.7265 - val_accuracy: 0.7902
Epoch 589/1000
10/10 [==============================] - 13s 1s/step - loss: 0.2133 - accuracy: 0.9075 - val_loss: 0.7825 - val_accuracy: 0.7746
Epoch 590/1000
10/10 [==============================] - 13s 1s/step - loss: 0.1937 - accuracy: 0.9164 - val_loss: 0.8061 - val_accuracy: 0.7846
Epoch 591/1000
10/10 [==============================] - 12s 1s/step - loss: 0.2204 - accuracy: 0.9050 - val_loss: 0.8073 - val_accuracy: 0.7824
Epoch 592/1000
10/10 [==============================] - 12s 1s/step - loss: 0.2111 - accuracy: 0.9164 - val_loss: 0.9015 - val_accuracy: 0.7623
Epoch 593/1000
10/10 [==============================] - 12s 1s/step - loss: 0.2418 - accuracy: 0.8953 - val_loss: 0.7555 - val_accuracy: 0.7924
Epoch 594/1000
10/10 [==============================] - 13s 1s/step - loss: 0.2145 - accuracy: 0.9180 - val_loss: 0.8070 - val_accuracy: 0.7857
Epoch 595/1000
10/10 [==============================] - 13s 1s/step - loss: 0.2002 - accuracy: 0.9203 - val_loss: 0.9020 - val_accuracy: 0.7812
Epoch 596/1000
10/10 [==============================] - 12s 1s/step - loss: 0.1889 - accuracy: 0.9281 - val_loss: 0.8974 - val_accuracy: 0.7857
Epoch 597/1000
10/10 [==============================] - 12s 1s/step - loss: 0.1933 - accuracy: 0.9213 - val_loss: 1.0276 - val_accuracy: 0.7746
Epoch 598/1000
10/10 [==============================] - 12s 1s/step - loss: 0.2172 - accuracy: 0.9094 - val_loss: 0.7768 - val_accuracy: 0.7824
Epoch 599/1000
10/10 [==============================] - 13s 1s/step - loss: 0.2017 - accuracy: 0.9203 - val_loss: 0.8132 - val_accuracy: 0.7857
Epoch 600/1000
10/10 [==============================] - 12s 1s/step - loss: 0.1878 - accuracy: 0.9258 - val_loss: 0.8312 - val_accuracy: 0.7835
Epoch 601/1000
10/10 [==============================] - 12s 1s/step - loss: 0.2139 - accuracy: 0.9091 - val_loss: 0.7941 - val_accuracy: 0.7835
Epoch 602/1000
10/10 [==============================] - 13s 1s/step - loss: 0.1736 - accuracy: 0.9294 - val_loss: 0.8889 - val_accuracy: 0.7824
Epoch 603/1000
10/10 [==============================] - 12s 1s/step - loss: 0.2136 - accuracy: 0.9172 - val_loss: 0.7856 - val_accuracy: 0.7835
Epoch 604/1000
10/10 [==============================] - 13s 1s/step - loss: 0.2230 - accuracy: 0.9023 - val_loss: 0.8654 - val_accuracy: 0.7746
Epoch 605/1000
10/10 [==============================] - 12s 1s/step - loss: 0.2359 - accuracy: 0.9140 - val_loss: 0.8441 - val_accuracy: 0.7969
Epoch 606/1000
10/10 [==============================] - 12s 1s/step - loss: 0.1949 - accuracy: 0.9273 - val_loss: 0.9055 - val_accuracy: 0.8025
Epoch 607/1000
10/10 [==============================] - 13s 1s/step - loss: 0.2379 - accuracy: 0.8977 - val_loss: 0.7689 - val_accuracy: 0.7667
Epoch 608/1000
10/10 [==============================] - 12s 1s/step - loss: 0.2441 - accuracy: 0.8994 - val_loss: 0.7526 - val_accuracy: 0.7746
Epoch 609/1000
10/10 [==============================] - 12s 1s/step - loss: 0.2129 - accuracy: 0.9148 - val_loss: 0.7708 - val_accuracy: 0.7924
Epoch 610/1000
10/10 [==============================] - 12s 1s/step - loss: 0.1889 - accuracy: 0.9211 - val_loss: 0.7799 - val_accuracy: 0.8002
Epoch 611/1000
10/10 [==============================] - 13s 1s/step - loss: 0.2030 - accuracy: 0.9196 - val_loss: 0.8522 - val_accuracy: 0.7958
Epoch 612/1000
10/10 [==============================] - 12s 1s/step - loss: 0.2104 - accuracy: 0.9180 - val_loss: 0.8879 - val_accuracy: 0.7980
Epoch 613/1000
10/10 [==============================] - 12s 1s/step - loss: 0.2146 - accuracy: 0.9039 - val_loss: 0.9293 - val_accuracy: 0.7969
Epoch 614/1000
10/10 [==============================] - 13s 1s/step - loss: 0.2144 - accuracy: 0.9196 - val_loss: 0.8168 - val_accuracy: 0.8025
Epoch 615/1000
10/10 [==============================] - 13s 1s/step - loss: 0.2242 - accuracy: 0.9148 - val_loss: 0.8896 - val_accuracy: 0.7991
Epoch 616/1000
10/10 [==============================] - 12s 1s/step - loss: 0.2242 - accuracy: 0.9047 - val_loss: 0.9076 - val_accuracy: 0.7667
Epoch 617/1000
10/10 [==============================] - 12s 1s/step - loss: 0.1958 - accuracy: 0.9250 - val_loss: 1.0550 - val_accuracy: 0.7723
Epoch 618/1000
10/10 [==============================] - 12s 1s/step - loss: 0.2609 - accuracy: 0.8839 - val_loss: 0.7994 - val_accuracy: 0.7868
Epoch 619/1000
10/10 [==============================] - 13s 1s/step - loss: 0.2105 - accuracy: 0.9187 - val_loss: 0.8143 - val_accuracy: 0.7846
Epoch 620/1000
10/10 [==============================] - 13s 1s/step - loss: 0.1941 - accuracy: 0.9258 - val_loss: 0.9288 - val_accuracy: 0.7958
Epoch 621/1000
10/10 [==============================] - 13s 1s/step - loss: 0.2090 - accuracy: 0.9078 - val_loss: 0.9768 - val_accuracy: 0.7891
Epoch 622/1000
10/10 [==============================] - 12s 1s/step - loss: 0.1949 - accuracy: 0.9213 - val_loss: 0.9157 - val_accuracy: 0.7913
Epoch 623/1000
10/10 [==============================] - 12s 1s/step - loss: 0.1953 - accuracy: 0.9227 - val_loss: 1.0216 - val_accuracy: 0.7958
Epoch 624/1000
10/10 [==============================] - 12s 1s/step - loss: 0.2041 - accuracy: 0.9172 - val_loss: 0.8386 - val_accuracy: 0.7824
Epoch 625/1000
10/10 [==============================] - 13s 1s/step - loss: 0.2207 - accuracy: 0.9058 - val_loss: 0.8116 - val_accuracy: 0.7824
Epoch 626/1000
10/10 [==============================] - 12s 1s/step - loss: 0.1895 - accuracy: 0.9297 - val_loss: 0.8773 - val_accuracy: 0.7768
Epoch 627/1000
10/10 [==============================] - 12s 1s/step - loss: 0.2136 - accuracy: 0.9188 - val_loss: 1.0343 - val_accuracy: 0.7723
Epoch 628/1000
10/10 [==============================] - 12s 1s/step - loss: 0.2176 - accuracy: 0.9042 - val_loss: 0.7632 - val_accuracy: 0.7913
Epoch 629/1000
10/10 [==============================] - 13s 1s/step - loss: 0.2037 - accuracy: 0.9180 - val_loss: 0.8693 - val_accuracy: 0.7879
Epoch 630/1000
10/10 [==============================] - 12s 1s/step - loss: 0.1861 - accuracy: 0.9205 - val_loss: 0.9240 - val_accuracy: 0.7835
Epoch 631/1000
10/10 [==============================] - 12s 1s/step - loss: 0.1861 - accuracy: 0.9261 - val_loss: 0.9509 - val_accuracy: 0.7902
Epoch 632/1000
10/10 [==============================] - 12s 1s/step - loss: 0.1834 - accuracy: 0.9302 - val_loss: 0.9846 - val_accuracy: 0.7902
Epoch 633/1000
10/10 [==============================] - 13s 1s/step - loss: 0.1855 - accuracy: 0.9242 - val_loss: 0.8655 - val_accuracy: 0.7902
Epoch 634/1000
10/10 [==============================] - 12s 1s/step - loss: 0.2022 - accuracy: 0.9187 - val_loss: 0.9505 - val_accuracy: 0.7824
Epoch 635/1000
10/10 [==============================] - 12s 1s/step - loss: 0.2181 - accuracy: 0.9107 - val_loss: 0.8424 - val_accuracy: 0.7946
Epoch 636/1000
10/10 [==============================] - 12s 1s/step - loss: 0.1933 - accuracy: 0.9221 - val_loss: 1.0215 - val_accuracy: 0.7857
Epoch 637/1000
10/10 [==============================] - 13s 1s/step - loss: 0.1925 - accuracy: 0.9221 - val_loss: 0.8967 - val_accuracy: 0.7913
Epoch 638/1000
10/10 [==============================] - 12s 1s/step - loss: 0.2295 - accuracy: 0.9140 - val_loss: 0.9061 - val_accuracy: 0.7902
Epoch 639/1000
10/10 [==============================] - 12s 1s/step - loss: 0.1980 - accuracy: 0.9219 - val_loss: 0.8281 - val_accuracy: 0.7846
Epoch 640/1000
10/10 [==============================] - 12s 1s/step - loss: 0.1836 - accuracy: 0.9310 - val_loss: 0.8219 - val_accuracy: 0.7835
Epoch 641/1000
10/10 [==============================] - 13s 1s/step - loss: 0.2066 - accuracy: 0.9281 - val_loss: 1.1272 - val_accuracy: 0.7667
Epoch 642/1000
10/10 [==============================] - 13s 1s/step - loss: 0.2095 - accuracy: 0.9211 - val_loss: 0.8259 - val_accuracy: 0.7801
Epoch 643/1000
10/10 [==============================] - 13s 1s/step - loss: 0.2142 - accuracy: 0.9131 - val_loss: 0.8598 - val_accuracy: 0.7868
Epoch 644/1000
10/10 [==============================] - 13s 1s/step - loss: 0.2016 - accuracy: 0.9237 - val_loss: 0.8462 - val_accuracy: 0.7690
Epoch 645/1000
10/10 [==============================] - 12s 1s/step - loss: 0.2012 - accuracy: 0.9237 - val_loss: 0.7816 - val_accuracy: 0.7824
Epoch 646/1000
10/10 [==============================] - 12s 1s/step - loss: 0.2113 - accuracy: 0.9094 - val_loss: 0.8910 - val_accuracy: 0.7879
Epoch 647/1000
10/10 [==============================] - 13s 1s/step - loss: 0.2061 - accuracy: 0.9148 - val_loss: 0.8233 - val_accuracy: 0.7891
Epoch 648/1000
10/10 [==============================] - 13s 1s/step - loss: 0.2226 - accuracy: 0.9067 - val_loss: 0.7794 - val_accuracy: 0.7969
Epoch 649/1000
10/10 [==============================] - 12s 1s/step - loss: 0.1897 - accuracy: 0.9245 - val_loss: 0.8954 - val_accuracy: 0.7935
Epoch 650/1000
10/10 [==============================] - 12s 1s/step - loss: 0.1953 - accuracy: 0.9297 - val_loss: 0.8873 - val_accuracy: 0.7913
Epoch 651/1000
10/10 [==============================] - 12s 1s/step - loss: 0.1823 - accuracy: 0.9219 - val_loss: 0.8569 - val_accuracy: 0.7846
Epoch 652/1000
10/10 [==============================] - 13s 1s/step - loss: 0.2025 - accuracy: 0.9286 - val_loss: 0.8441 - val_accuracy: 0.7969
Epoch 653/1000
10/10 [==============================] - 12s 1s/step - loss: 0.1976 - accuracy: 0.9242 - val_loss: 0.8420 - val_accuracy: 0.7679
Epoch 654/1000
10/10 [==============================] - 12s 1s/step - loss: 0.1834 - accuracy: 0.9367 - val_loss: 0.7880 - val_accuracy: 0.7812
Epoch 655/1000
10/10 [==============================] - 12s 1s/step - loss: 0.1707 - accuracy: 0.9320 - val_loss: 0.9346 - val_accuracy: 0.7801
Epoch 656/1000
10/10 [==============================] - 13s 1s/step - loss: 0.1978 - accuracy: 0.9172 - val_loss: 0.8502 - val_accuracy: 0.7835
Epoch 657/1000
10/10 [==============================] - 12s 1s/step - loss: 0.1662 - accuracy: 0.9326 - val_loss: 0.8620 - val_accuracy: 0.7757
Epoch 658/1000
10/10 [==============================] - 12s 1s/step - loss: 0.1904 - accuracy: 0.9253 - val_loss: 0.9737 - val_accuracy: 0.7779
Epoch 659/1000
10/10 [==============================] - 13s 1s/step - loss: 0.2248 - accuracy: 0.9055 - val_loss: 0.9655 - val_accuracy: 0.7969
Epoch 660/1000
10/10 [==============================] - 13s 1s/step - loss: 0.2393 - accuracy: 0.9039 - val_loss: 0.9189 - val_accuracy: 0.7723
Epoch 661/1000
10/10 [==============================] - 13s 1s/step - loss: 0.2050 - accuracy: 0.9245 - val_loss: 0.8550 - val_accuracy: 0.7779
Epoch 662/1000
10/10 [==============================] - 13s 1s/step - loss: 0.2019 - accuracy: 0.9164 - val_loss: 0.7656 - val_accuracy: 0.7835
Epoch 663/1000
10/10 [==============================] - 13s 1s/step - loss: 0.2061 - accuracy: 0.9164 - val_loss: 0.8554 - val_accuracy: 0.7924
Epoch 664/1000
10/10 [==============================] - 12s 1s/step - loss: 0.2068 - accuracy: 0.9117 - val_loss: 0.8819 - val_accuracy: 0.7980
Epoch 665/1000
10/10 [==============================] - 12s 1s/step - loss: 0.1799 - accuracy: 0.9289 - val_loss: 0.8481 - val_accuracy: 0.8036
Epoch 666/1000
10/10 [==============================] - 12s 1s/step - loss: 0.1869 - accuracy: 0.9221 - val_loss: 0.9030 - val_accuracy: 0.7902
Epoch 667/1000
10/10 [==============================] - 13s 1s/step - loss: 0.1919 - accuracy: 0.9237 - val_loss: 0.8387 - val_accuracy: 0.7935
Epoch 668/1000
10/10 [==============================] - 13s 1s/step - loss: 0.2225 - accuracy: 0.9213 - val_loss: 0.9310 - val_accuracy: 0.7868
Epoch 669/1000
10/10 [==============================] - 12s 1s/step - loss: 0.1966 - accuracy: 0.9237 - val_loss: 0.8914 - val_accuracy: 0.7801
Epoch 670/1000
10/10 [==============================] - 13s 1s/step - loss: 0.1882 - accuracy: 0.9375 - val_loss: 0.7834 - val_accuracy: 0.8025
Epoch 671/1000
10/10 [==============================] - 13s 1s/step - loss: 0.1641 - accuracy: 0.9399 - val_loss: 0.9220 - val_accuracy: 0.7969
Epoch 672/1000
10/10 [==============================] - 13s 1s/step - loss: 0.1754 - accuracy: 0.9310 - val_loss: 1.0857 - val_accuracy: 0.7868
Epoch 673/1000
10/10 [==============================] - 12s 1s/step - loss: 0.2296 - accuracy: 0.9091 - val_loss: 0.9478 - val_accuracy: 0.7623
Epoch 674/1000
10/10 [==============================] - 12s 1s/step - loss: 0.2067 - accuracy: 0.9180 - val_loss: 0.8767 - val_accuracy: 0.7801
Epoch 675/1000
10/10 [==============================] - 12s 1s/step - loss: 0.1941 - accuracy: 0.9180 - val_loss: 0.8536 - val_accuracy: 0.7868
Epoch 676/1000
10/10 [==============================] - 13s 1s/step - loss: 0.1843 - accuracy: 0.9195 - val_loss: 0.9435 - val_accuracy: 0.7969
Epoch 677/1000
10/10 [==============================] - 12s 1s/step - loss: 0.1834 - accuracy: 0.9213 - val_loss: 0.8952 - val_accuracy: 0.7779
Epoch 678/1000
10/10 [==============================] - 12s 1s/step - loss: 0.2027 - accuracy: 0.9237 - val_loss: 0.9407 - val_accuracy: 0.7779
Epoch 679/1000
10/10 [==============================] - 13s 1s/step - loss: 0.2025 - accuracy: 0.9227 - val_loss: 0.9873 - val_accuracy: 0.7801
Epoch 680/1000
10/10 [==============================] - 13s 1s/step - loss: 0.1737 - accuracy: 0.9310 - val_loss: 0.8068 - val_accuracy: 0.7835
Epoch 681/1000
10/10 [==============================] - 13s 1s/step - loss: 0.1952 - accuracy: 0.9211 - val_loss: 0.8079 - val_accuracy: 0.7980
Epoch 682/1000
10/10 [==============================] - 12s 1s/step - loss: 0.1692 - accuracy: 0.9242 - val_loss: 0.9508 - val_accuracy: 0.7868
Epoch 683/1000
10/10 [==============================] - 12s 1s/step - loss: 0.1792 - accuracy: 0.9302 - val_loss: 0.9562 - val_accuracy: 0.7690
Epoch 684/1000
10/10 [==============================] - 13s 1s/step - loss: 0.1837 - accuracy: 0.9229 - val_loss: 0.9110 - val_accuracy: 0.7924
Epoch 685/1000
10/10 [==============================] - 13s 1s/step - loss: 0.1733 - accuracy: 0.9266 - val_loss: 0.9469 - val_accuracy: 0.7991
Epoch 686/1000
10/10 [==============================] - 13s 1s/step - loss: 0.1622 - accuracy: 0.9367 - val_loss: 1.0250 - val_accuracy: 0.7846
Epoch 687/1000
10/10 [==============================] - 12s 1s/step - loss: 0.2009 - accuracy: 0.9205 - val_loss: 0.9129 - val_accuracy: 0.7868
Epoch 688/1000
10/10 [==============================] - 12s 1s/step - loss: 0.2178 - accuracy: 0.9058 - val_loss: 0.8578 - val_accuracy: 0.7790
Epoch 689/1000
10/10 [==============================] - 12s 1s/step - loss: 0.1747 - accuracy: 0.9326 - val_loss: 0.9355 - val_accuracy: 0.7902
Epoch 690/1000
10/10 [==============================] - 13s 1s/step - loss: 0.2052 - accuracy: 0.9094 - val_loss: 0.9699 - val_accuracy: 0.8002
Epoch 691/1000
10/10 [==============================] - 12s 1s/step - loss: 0.1948 - accuracy: 0.9221 - val_loss: 0.8768 - val_accuracy: 0.7946
Epoch 692/1000
10/10 [==============================] - 12s 1s/step - loss: 0.1632 - accuracy: 0.9312 - val_loss: 0.9029 - val_accuracy: 0.7824
Epoch 693/1000
10/10 [==============================] - 12s 1s/step - loss: 0.1823 - accuracy: 0.9242 - val_loss: 0.7875 - val_accuracy: 0.7701
Epoch 694/1000
10/10 [==============================] - 13s 1s/step - loss: 0.1988 - accuracy: 0.9203 - val_loss: 0.9302 - val_accuracy: 0.7801
Epoch 695/1000
10/10 [==============================] - 12s 1s/step - loss: 0.1800 - accuracy: 0.9326 - val_loss: 0.9157 - val_accuracy: 0.7879
Epoch 696/1000
10/10 [==============================] - 12s 1s/step - loss: 0.2019 - accuracy: 0.9289 - val_loss: 0.9031 - val_accuracy: 0.7790
Epoch 697/1000
10/10 [==============================] - 13s 1s/step - loss: 0.2134 - accuracy: 0.9229 - val_loss: 0.8926 - val_accuracy: 0.7712
Epoch 698/1000
10/10 [==============================] - 12s 1s/step - loss: 0.1638 - accuracy: 0.9336 - val_loss: 0.9092 - val_accuracy: 0.7779
Epoch 699/1000
10/10 [==============================] - 12s 1s/step - loss: 0.1770 - accuracy: 0.9302 - val_loss: 0.9986 - val_accuracy: 0.7946
Epoch 700/1000
10/10 [==============================] - 12s 1s/step - loss: 0.1894 - accuracy: 0.9261 - val_loss: 0.9106 - val_accuracy: 0.7857
Epoch 701/1000
10/10 [==============================] - 13s 1s/step - loss: 0.1962 - accuracy: 0.9172 - val_loss: 0.9202 - val_accuracy: 0.7868
Epoch 702/1000
10/10 [==============================] - 13s 1s/step - loss: 0.1898 - accuracy: 0.9196 - val_loss: 1.0116 - val_accuracy: 0.7846
Epoch 703/1000
10/10 [==============================] - 12s 1s/step - loss: 0.1724 - accuracy: 0.9407 - val_loss: 0.9567 - val_accuracy: 0.7891
Epoch 704/1000
10/10 [==============================] - 12s 1s/step - loss: 0.1810 - accuracy: 0.9278 - val_loss: 0.9682 - val_accuracy: 0.7779
Epoch 705/1000
10/10 [==============================] - 12s 1s/step - loss: 0.1646 - accuracy: 0.9383 - val_loss: 0.8963 - val_accuracy: 0.7768
Epoch 706/1000
10/10 [==============================] - 13s 1s/step - loss: 0.1760 - accuracy: 0.9266 - val_loss: 0.9062 - val_accuracy: 0.7924
Epoch 707/1000
10/10 [==============================] - 12s 1s/step - loss: 0.1829 - accuracy: 0.9245 - val_loss: 0.8711 - val_accuracy: 0.7958
Epoch 708/1000
10/10 [==============================] - 12s 1s/step - loss: 0.2410 - accuracy: 0.9115 - val_loss: 0.8577 - val_accuracy: 0.7790
Epoch 709/1000
10/10 [==============================] - 12s 1s/step - loss: 0.1916 - accuracy: 0.9253 - val_loss: 0.8912 - val_accuracy: 0.7723
Epoch 710/1000
10/10 [==============================] - 13s 1s/step - loss: 0.2137 - accuracy: 0.9156 - val_loss: 0.8480 - val_accuracy: 0.7924
Epoch 711/1000
10/10 [==============================] - 12s 1s/step - loss: 0.1996 - accuracy: 0.9253 - val_loss: 0.9210 - val_accuracy: 0.7757
Epoch 712/1000
10/10 [==============================] - 12s 1s/step - loss: 0.2125 - accuracy: 0.9131 - val_loss: 0.9179 - val_accuracy: 0.7712
Epoch 713/1000
10/10 [==============================] - 12s 1s/step - loss: 0.1965 - accuracy: 0.9234 - val_loss: 0.9438 - val_accuracy: 0.7701
Epoch 714/1000
10/10 [==============================] - 12s 1s/step - loss: 0.1756 - accuracy: 0.9302 - val_loss: 0.9616 - val_accuracy: 0.7824
Epoch 715/1000
10/10 [==============================] - 13s 1s/step - loss: 0.2338 - accuracy: 0.9140 - val_loss: 0.9380 - val_accuracy: 0.7835
Epoch 716/1000
10/10 [==============================] - 12s 1s/step - loss: 0.1739 - accuracy: 0.9367 - val_loss: 0.8932 - val_accuracy: 0.7846
Epoch 717/1000
10/10 [==============================] - 12s 1s/step - loss: 0.1854 - accuracy: 0.9305 - val_loss: 0.9985 - val_accuracy: 0.7757
Epoch 718/1000
10/10 [==============================] - 12s 1s/step - loss: 0.1780 - accuracy: 0.9219 - val_loss: 1.0097 - val_accuracy: 0.7701
Epoch 719/1000
10/10 [==============================] - 13s 1s/step - loss: 0.2052 - accuracy: 0.9221 - val_loss: 1.0591 - val_accuracy: 0.7768
Epoch 720/1000
10/10 [==============================] - 13s 1s/step - loss: 0.1772 - accuracy: 0.9273 - val_loss: 0.8835 - val_accuracy: 0.7935
Epoch 721/1000
10/10 [==============================] - 12s 1s/step - loss: 0.1669 - accuracy: 0.9326 - val_loss: 0.8925 - val_accuracy: 0.7600
Epoch 722/1000
10/10 [==============================] - 12s 1s/step - loss: 0.1933 - accuracy: 0.9164 - val_loss: 1.0465 - val_accuracy: 0.7623
Epoch 723/1000
10/10 [==============================] - 12s 1s/step - loss: 0.1964 - accuracy: 0.9294 - val_loss: 0.9565 - val_accuracy: 0.7801
Epoch 724/1000
10/10 [==============================] - 13s 1s/step - loss: 0.1725 - accuracy: 0.9318 - val_loss: 0.9372 - val_accuracy: 0.7824
Epoch 725/1000
10/10 [==============================] - 13s 1s/step - loss: 0.1741 - accuracy: 0.9367 - val_loss: 0.8690 - val_accuracy: 0.7645
Epoch 726/1000
10/10 [==============================] - 13s 1s/step - loss: 0.1745 - accuracy: 0.9344 - val_loss: 0.9964 - val_accuracy: 0.7812
Epoch 727/1000
10/10 [==============================] - 12s 1s/step - loss: 0.1724 - accuracy: 0.9237 - val_loss: 1.0146 - val_accuracy: 0.7790
Epoch 728/1000
10/10 [==============================] - 12s 1s/step - loss: 0.1704 - accuracy: 0.9359 - val_loss: 0.9005 - val_accuracy: 0.7812
Epoch 729/1000
10/10 [==============================] - 12s 1s/step - loss: 0.1500 - accuracy: 0.9359 - val_loss: 1.0767 - val_accuracy: 0.7690
Epoch 730/1000
10/10 [==============================] - 13s 1s/step - loss: 0.1966 - accuracy: 0.9258 - val_loss: 0.9700 - val_accuracy: 0.7868
Epoch 731/1000
10/10 [==============================] - 12s 1s/step - loss: 0.2018 - accuracy: 0.9187 - val_loss: 0.9118 - val_accuracy: 0.7868
Epoch 732/1000
10/10 [==============================] - 12s 1s/step - loss: 0.1766 - accuracy: 0.9297 - val_loss: 0.9760 - val_accuracy: 0.7913
Epoch 733/1000
10/10 [==============================] - 12s 1s/step - loss: 0.2189 - accuracy: 0.9140 - val_loss: 0.9384 - val_accuracy: 0.7879
Epoch 734/1000
10/10 [==============================] - 13s 1s/step - loss: 0.2143 - accuracy: 0.9148 - val_loss: 0.9506 - val_accuracy: 0.7757
Epoch 735/1000
10/10 [==============================] - 12s 1s/step - loss: 0.1798 - accuracy: 0.9297 - val_loss: 0.9741 - val_accuracy: 0.7801
Epoch 736/1000
10/10 [==============================] - 12s 1s/step - loss: 0.1829 - accuracy: 0.9310 - val_loss: 0.9432 - val_accuracy: 0.7846
Epoch 737/1000
10/10 [==============================] - 13s 1s/step - loss: 0.1918 - accuracy: 0.9273 - val_loss: 0.9569 - val_accuracy: 0.7801
Epoch 738/1000
10/10 [==============================] - 13s 1s/step - loss: 0.1883 - accuracy: 0.9294 - val_loss: 0.9676 - val_accuracy: 0.7891
Epoch 739/1000
10/10 [==============================] - 12s 1s/step - loss: 0.1774 - accuracy: 0.9334 - val_loss: 0.9696 - val_accuracy: 0.7902
Epoch 740/1000
10/10 [==============================] - 12s 1s/step - loss: 0.2000 - accuracy: 0.9164 - val_loss: 0.8970 - val_accuracy: 0.7969
Epoch 741/1000
10/10 [==============================] - 12s 1s/step - loss: 0.1715 - accuracy: 0.9286 - val_loss: 1.0159 - val_accuracy: 0.7980
Epoch 742/1000
10/10 [==============================] - 13s 1s/step - loss: 0.1984 - accuracy: 0.9164 - val_loss: 0.7549 - val_accuracy: 0.7857
Epoch 743/1000
10/10 [==============================] - 13s 1s/step - loss: 0.1875 - accuracy: 0.9302 - val_loss: 0.9217 - val_accuracy: 0.7891
Epoch 744/1000
10/10 [==============================] - 12s 1s/step - loss: 0.1510 - accuracy: 0.9416 - val_loss: 1.0531 - val_accuracy: 0.7913
Epoch 745/1000
10/10 [==============================] - 13s 1s/step - loss: 0.1884 - accuracy: 0.9261 - val_loss: 0.9554 - val_accuracy: 0.7779
Epoch 746/1000
10/10 [==============================] - 12s 1s/step - loss: 0.1832 - accuracy: 0.9227 - val_loss: 0.9585 - val_accuracy: 0.7790
Epoch 747/1000
10/10 [==============================] - 12s 1s/step - loss: 0.1983 - accuracy: 0.9261 - val_loss: 0.9250 - val_accuracy: 0.7701
Epoch 748/1000
10/10 [==============================] - 13s 1s/step - loss: 0.1935 - accuracy: 0.9180 - val_loss: 0.8287 - val_accuracy: 0.7857
Epoch 749/1000
10/10 [==============================] - 12s 1s/step - loss: 0.1929 - accuracy: 0.9278 - val_loss: 0.9141 - val_accuracy: 0.7857
Epoch 750/1000
10/10 [==============================] - 12s 1s/step - loss: 0.1749 - accuracy: 0.9269 - val_loss: 0.8593 - val_accuracy: 0.7946
Epoch 751/1000
10/10 [==============================] - 12s 1s/step - loss: 0.1758 - accuracy: 0.9326 - val_loss: 0.8354 - val_accuracy: 0.7924
Epoch 752/1000
10/10 [==============================] - 13s 1s/step - loss: 0.2105 - accuracy: 0.9156 - val_loss: 0.9985 - val_accuracy: 0.7824
Epoch 753/1000
10/10 [==============================] - 13s 1s/step - loss: 0.2052 - accuracy: 0.9164 - val_loss: 0.9293 - val_accuracy: 0.7679
Epoch 754/1000
10/10 [==============================] - 12s 1s/step - loss: 0.1800 - accuracy: 0.9344 - val_loss: 0.9742 - val_accuracy: 0.7935
Epoch 755/1000
10/10 [==============================] - 12s 1s/step - loss: 0.1801 - accuracy: 0.9297 - val_loss: 0.9935 - val_accuracy: 0.7902
Epoch 756/1000
10/10 [==============================] - 12s 1s/step - loss: 0.1545 - accuracy: 0.9375 - val_loss: 1.0162 - val_accuracy: 0.7913
Epoch 757/1000
10/10 [==============================] - 13s 1s/step - loss: 0.1601 - accuracy: 0.9318 - val_loss: 1.0553 - val_accuracy: 0.7857
Epoch 758/1000
10/10 [==============================] - 12s 1s/step - loss: 0.1688 - accuracy: 0.9269 - val_loss: 0.8964 - val_accuracy: 0.7991
Epoch 759/1000
10/10 [==============================] - 12s 1s/step - loss: 0.1754 - accuracy: 0.9367 - val_loss: 0.9828 - val_accuracy: 0.7801
Epoch 760/1000
10/10 [==============================] - 13s 1s/step - loss: 0.1904 - accuracy: 0.9281 - val_loss: 0.9640 - val_accuracy: 0.7824
Epoch 761/1000
10/10 [==============================] - 13s 1s/step - loss: 0.1866 - accuracy: 0.9305 - val_loss: 0.9875 - val_accuracy: 0.7790
Epoch 762/1000
10/10 [==============================] - 12s 1s/step - loss: 0.1599 - accuracy: 0.9351 - val_loss: 0.9982 - val_accuracy: 0.7779
Epoch 763/1000
10/10 [==============================] - 12s 1s/step - loss: 0.1665 - accuracy: 0.9336 - val_loss: 0.9813 - val_accuracy: 0.7835
Epoch 764/1000
10/10 [==============================] - 12s 1s/step - loss: 0.1703 - accuracy: 0.9367 - val_loss: 0.8196 - val_accuracy: 0.7790
Epoch 765/1000
10/10 [==============================] - 13s 1s/step - loss: 0.1820 - accuracy: 0.9352 - val_loss: 0.8162 - val_accuracy: 0.7835
Epoch 766/1000
10/10 [==============================] - 13s 1s/step - loss: 0.1709 - accuracy: 0.9343 - val_loss: 1.0748 - val_accuracy: 0.7779
Epoch 767/1000
10/10 [==============================] - 13s 1s/step - loss: 0.1796 - accuracy: 0.9375 - val_loss: 1.0491 - val_accuracy: 0.7801
Epoch 768/1000
10/10 [==============================] - 12s 1s/step - loss: 0.1987 - accuracy: 0.9266 - val_loss: 0.8537 - val_accuracy: 0.7779
Epoch 769/1000
10/10 [==============================] - 12s 1s/step - loss: 0.2181 - accuracy: 0.9131 - val_loss: 0.8927 - val_accuracy: 0.7824
Epoch 770/1000
10/10 [==============================] - 12s 1s/step - loss: 0.1723 - accuracy: 0.9302 - val_loss: 1.0171 - val_accuracy: 0.7868
Epoch 771/1000
10/10 [==============================] - 13s 1s/step - loss: 0.1693 - accuracy: 0.9273 - val_loss: 0.9956 - val_accuracy: 0.7779
Epoch 772/1000
10/10 [==============================] - 12s 1s/step - loss: 0.1797 - accuracy: 0.9302 - val_loss: 0.9997 - val_accuracy: 0.7768
Epoch 773/1000
10/10 [==============================] - 12s 1s/step - loss: 0.1952 - accuracy: 0.9253 - val_loss: 0.8822 - val_accuracy: 0.7790
Epoch 774/1000
10/10 [==============================] - 12s 1s/step - loss: 0.1826 - accuracy: 0.9227 - val_loss: 0.9001 - val_accuracy: 0.7868
Epoch 775/1000
10/10 [==============================] - 13s 1s/step - loss: 0.1625 - accuracy: 0.9334 - val_loss: 0.9102 - val_accuracy: 0.7891
Epoch 776/1000
10/10 [==============================] - 12s 1s/step - loss: 0.1654 - accuracy: 0.9286 - val_loss: 1.0468 - val_accuracy: 0.7846
Epoch 777/1000
10/10 [==============================] - 12s 1s/step - loss: 0.1947 - accuracy: 0.9234 - val_loss: 0.9760 - val_accuracy: 0.7679
Epoch 778/1000
10/10 [==============================] - 12s 1s/step - loss: 0.1915 - accuracy: 0.9294 - val_loss: 0.9102 - val_accuracy: 0.7824
Epoch 779/1000
10/10 [==============================] - 13s 1s/step - loss: 0.1636 - accuracy: 0.9359 - val_loss: 0.9478 - val_accuracy: 0.7812
Epoch 780/1000
10/10 [==============================] - 13s 1s/step - loss: 0.1479 - accuracy: 0.9432 - val_loss: 1.0106 - val_accuracy: 0.7824
Epoch 781/1000
10/10 [==============================] - 13s 1s/step - loss: 0.1442 - accuracy: 0.9359 - val_loss: 0.9546 - val_accuracy: 0.7824
Epoch 782/1000
10/10 [==============================] - 12s 1s/step - loss: 0.2005 - accuracy: 0.9164 - val_loss: 0.9088 - val_accuracy: 0.7824
Epoch 783/1000
10/10 [==============================] - 13s 1s/step - loss: 0.1738 - accuracy: 0.9344 - val_loss: 1.0292 - val_accuracy: 0.7779
Epoch 784/1000
10/10 [==============================] - 13s 1s/step - loss: 0.1682 - accuracy: 0.9351 - val_loss: 0.9898 - val_accuracy: 0.7891
Epoch 785/1000
10/10 [==============================] - 12s 1s/step - loss: 0.1739 - accuracy: 0.9286 - val_loss: 1.0284 - val_accuracy: 0.7835
Epoch 786/1000
10/10 [==============================] - 13s 1s/step - loss: 0.1803 - accuracy: 0.9289 - val_loss: 0.9806 - val_accuracy: 0.7768
Epoch 787/1000
10/10 [==============================] - 12s 1s/step - loss: 0.1980 - accuracy: 0.9205 - val_loss: 0.8529 - val_accuracy: 0.8047
Epoch 788/1000
10/10 [==============================] - 12s 1s/step - loss: 0.1855 - accuracy: 0.9294 - val_loss: 0.8366 - val_accuracy: 0.7824
Epoch 789/1000
10/10 [==============================] - 13s 1s/step - loss: 0.1732 - accuracy: 0.9234 - val_loss: 0.7951 - val_accuracy: 0.7857
Epoch 790/1000
10/10 [==============================] - 13s 1s/step - loss: 0.1806 - accuracy: 0.9172 - val_loss: 0.8848 - val_accuracy: 0.8103
Epoch 791/1000
10/10 [==============================] - 12s 1s/step - loss: 0.1726 - accuracy: 0.9359 - val_loss: 0.9407 - val_accuracy: 0.7846
Epoch 792/1000
10/10 [==============================] - 12s 1s/step - loss: 0.1807 - accuracy: 0.9258 - val_loss: 1.0087 - val_accuracy: 0.7991
Epoch 793/1000
10/10 [==============================] - 13s 1s/step - loss: 0.1774 - accuracy: 0.9343 - val_loss: 0.9686 - val_accuracy: 0.8013
Epoch 794/1000
10/10 [==============================] - 12s 1s/step - loss: 0.1864 - accuracy: 0.9188 - val_loss: 0.9886 - val_accuracy: 0.7891
Epoch 795/1000
10/10 [==============================] - 12s 1s/step - loss: 0.1708 - accuracy: 0.9302 - val_loss: 0.9944 - val_accuracy: 0.7991
Epoch 796/1000
10/10 [==============================] - 12s 1s/step - loss: 0.1847 - accuracy: 0.9289 - val_loss: 0.9095 - val_accuracy: 0.7935
Epoch 797/1000
10/10 [==============================] - 13s 1s/step - loss: 0.1914 - accuracy: 0.9242 - val_loss: 1.0781 - val_accuracy: 0.7846
Epoch 798/1000
10/10 [==============================] - 13s 1s/step - loss: 0.1653 - accuracy: 0.9334 - val_loss: 0.9197 - val_accuracy: 0.8002
Epoch 799/1000
10/10 [==============================] - 12s 1s/step - loss: 0.1578 - accuracy: 0.9326 - val_loss: 0.9318 - val_accuracy: 0.7991
Epoch 800/1000
10/10 [==============================] - 13s 1s/step - loss: 0.1897 - accuracy: 0.9273 - val_loss: 0.9098 - val_accuracy: 0.8025
Epoch 801/1000
10/10 [==============================] - 13s 1s/step - loss: 0.1722 - accuracy: 0.9302 - val_loss: 0.9576 - val_accuracy: 0.7891
Epoch 802/1000
10/10 [==============================] - 13s 1s/step - loss: 0.1611 - accuracy: 0.9286 - val_loss: 0.9059 - val_accuracy: 0.7835
Epoch 803/1000
10/10 [==============================] - 13s 1s/step - loss: 0.1502 - accuracy: 0.9344 - val_loss: 1.0152 - val_accuracy: 0.7935
Epoch 804/1000
10/10 [==============================] - 12s 1s/step - loss: 0.1677 - accuracy: 0.9302 - val_loss: 1.0342 - val_accuracy: 0.7891
Epoch 805/1000
10/10 [==============================] - 12s 1s/step - loss: 0.1633 - accuracy: 0.9302 - val_loss: 0.8720 - val_accuracy: 0.7734
Epoch 806/1000
10/10 [==============================] - 13s 1s/step - loss: 0.1811 - accuracy: 0.9367 - val_loss: 0.7985 - val_accuracy: 0.8002
Epoch 807/1000
10/10 [==============================] - 12s 1s/step - loss: 0.1674 - accuracy: 0.9383 - val_loss: 0.9938 - val_accuracy: 0.7913
Epoch 808/1000
10/10 [==============================] - 12s 1s/step - loss: 0.1785 - accuracy: 0.9294 - val_loss: 0.8216 - val_accuracy: 0.8013
Epoch 809/1000
10/10 [==============================] - 12s 1s/step - loss: 0.1957 - accuracy: 0.9278 - val_loss: 0.8758 - val_accuracy: 0.7801
Epoch 810/1000
10/10 [==============================] - 13s 1s/step - loss: 0.1625 - accuracy: 0.9344 - val_loss: 1.0266 - val_accuracy: 0.7868
Epoch 811/1000
10/10 [==============================] - 12s 1s/step - loss: 0.1832 - accuracy: 0.9383 - val_loss: 1.0601 - val_accuracy: 0.7812
Epoch 812/1000
10/10 [==============================] - 12s 1s/step - loss: 0.1800 - accuracy: 0.9305 - val_loss: 1.0179 - val_accuracy: 0.7734
Epoch 813/1000
10/10 [==============================] - 13s 1s/step - loss: 0.1680 - accuracy: 0.9286 - val_loss: 1.0135 - val_accuracy: 0.7812
Epoch 814/1000
10/10 [==============================] - 13s 1s/step - loss: 0.1994 - accuracy: 0.9164 - val_loss: 1.0754 - val_accuracy: 0.7924
Epoch 815/1000
10/10 [==============================] - 12s 1s/step - loss: 0.1568 - accuracy: 0.9375 - val_loss: 1.0282 - val_accuracy: 0.7924
Epoch 816/1000
10/10 [==============================] - 12s 1s/step - loss: 0.1751 - accuracy: 0.9302 - val_loss: 1.0086 - val_accuracy: 0.7790
Epoch 817/1000
10/10 [==============================] - 13s 1s/step - loss: 0.1750 - accuracy: 0.9261 - val_loss: 0.9547 - val_accuracy: 0.7891
Epoch 818/1000
10/10 [==============================] - 13s 1s/step - loss: 0.1795 - accuracy: 0.9326 - val_loss: 0.9609 - val_accuracy: 0.7924
Epoch 819/1000
10/10 [==============================] - 12s 1s/step - loss: 0.1460 - accuracy: 0.9383 - val_loss: 0.9946 - val_accuracy: 0.7879
Epoch 820/1000
10/10 [==============================] - 12s 1s/step - loss: 0.1835 - accuracy: 0.9312 - val_loss: 0.9773 - val_accuracy: 0.7991
Epoch 821/1000
10/10 [==============================] - 12s 1s/step - loss: 0.1814 - accuracy: 0.9269 - val_loss: 0.8977 - val_accuracy: 0.7790
Epoch 822/1000
10/10 [==============================] - 13s 1s/step - loss: 0.1738 - accuracy: 0.9351 - val_loss: 0.8699 - val_accuracy: 0.7935
Epoch 823/1000
10/10 [==============================] - 13s 1s/step - loss: 0.1660 - accuracy: 0.9445 - val_loss: 0.9807 - val_accuracy: 0.7980
Epoch 824/1000
10/10 [==============================] - 13s 1s/step - loss: 0.1490 - accuracy: 0.9481 - val_loss: 0.8511 - val_accuracy: 0.7879
Epoch 825/1000
10/10 [==============================] - 12s 1s/step - loss: 0.1734 - accuracy: 0.9278 - val_loss: 0.9984 - val_accuracy: 0.7935
Epoch 826/1000
10/10 [==============================] - 12s 1s/step - loss: 0.1748 - accuracy: 0.9253 - val_loss: 1.0049 - val_accuracy: 0.7846
Epoch 827/1000
10/10 [==============================] - 13s 1s/step - loss: 0.1955 - accuracy: 0.9242 - val_loss: 0.9488 - val_accuracy: 0.7667
Epoch 828/1000
10/10 [==============================] - 13s 1s/step - loss: 0.2093 - accuracy: 0.9258 - val_loss: 0.7746 - val_accuracy: 0.7779
Epoch 829/1000
10/10 [==============================] - 13s 1s/step - loss: 0.2072 - accuracy: 0.9273 - val_loss: 0.9703 - val_accuracy: 0.7824
Epoch 830/1000
10/10 [==============================] - 12s 1s/step - loss: 0.1952 - accuracy: 0.9273 - val_loss: 0.9416 - val_accuracy: 0.7757
Epoch 831/1000
10/10 [==============================] - 13s 1s/step - loss: 0.1873 - accuracy: 0.9273 - val_loss: 0.9883 - val_accuracy: 0.7656
Epoch 832/1000
10/10 [==============================] - 13s 1s/step - loss: 0.1731 - accuracy: 0.9359 - val_loss: 0.9728 - val_accuracy: 0.7879
Epoch 833/1000
10/10 [==============================] - 12s 1s/step - loss: 0.1928 - accuracy: 0.9205 - val_loss: 0.9886 - val_accuracy: 0.7824
Epoch 834/1000
10/10 [==============================] - 12s 1s/step - loss: 0.1763 - accuracy: 0.9297 - val_loss: 0.8492 - val_accuracy: 0.7701
Epoch 835/1000
10/10 [==============================] - 12s 1s/step - loss: 0.1537 - accuracy: 0.9416 - val_loss: 0.8670 - val_accuracy: 0.7868
Epoch 836/1000
10/10 [==============================] - 13s 1s/step - loss: 0.1932 - accuracy: 0.9258 - val_loss: 0.8431 - val_accuracy: 0.8025
Epoch 837/1000
10/10 [==============================] - 13s 1s/step - loss: 0.1797 - accuracy: 0.9297 - val_loss: 0.8381 - val_accuracy: 0.7835
Epoch 838/1000
10/10 [==============================] - 12s 1s/step - loss: 0.1502 - accuracy: 0.9406 - val_loss: 0.9881 - val_accuracy: 0.7746
Epoch 839/1000
10/10 [==============================] - 13s 1s/step - loss: 0.1637 - accuracy: 0.9312 - val_loss: 0.8802 - val_accuracy: 0.7857
Epoch 840/1000
10/10 [==============================] - 12s 1s/step - loss: 0.1555 - accuracy: 0.9375 - val_loss: 1.0602 - val_accuracy: 0.7824
Epoch 841/1000
10/10 [==============================] - 13s 1s/step - loss: 0.1941 - accuracy: 0.9261 - val_loss: 0.9799 - val_accuracy: 0.7879
Epoch 842/1000
10/10 [==============================] - 13s 1s/step - loss: 0.1477 - accuracy: 0.9461 - val_loss: 0.9759 - val_accuracy: 0.7779
Epoch 843/1000
10/10 [==============================] - 13s 1s/step - loss: 0.1553 - accuracy: 0.9367 - val_loss: 1.0336 - val_accuracy: 0.7857
Epoch 844/1000
10/10 [==============================] - 13s 1s/step - loss: 0.1734 - accuracy: 0.9312 - val_loss: 1.0210 - val_accuracy: 0.7779
Epoch 845/1000
10/10 [==============================] - 12s 1s/step - loss: 0.1712 - accuracy: 0.9281 - val_loss: 0.8925 - val_accuracy: 0.7824
Epoch 846/1000
10/10 [==============================] - 12s 1s/step - loss: 0.1660 - accuracy: 0.9351 - val_loss: 1.1001 - val_accuracy: 0.7857
Epoch 847/1000
10/10 [==============================] - 13s 1s/step - loss: 0.1934 - accuracy: 0.9237 - val_loss: 0.9474 - val_accuracy: 0.7857
Epoch 848/1000
10/10 [==============================] - 13s 1s/step - loss: 0.1784 - accuracy: 0.9227 - val_loss: 0.9292 - val_accuracy: 0.7812
Epoch 849/1000
10/10 [==============================] - 12s 1s/step - loss: 0.1699 - accuracy: 0.9334 - val_loss: 1.0369 - val_accuracy: 0.7913
Epoch 850/1000
10/10 [==============================] - 12s 1s/step - loss: 0.1854 - accuracy: 0.9242 - val_loss: 0.9673 - val_accuracy: 0.7779
Epoch 851/1000
10/10 [==============================] - 13s 1s/step - loss: 0.1603 - accuracy: 0.9367 - val_loss: 0.9208 - val_accuracy: 0.7757
Epoch 852/1000
10/10 [==============================] - 12s 1s/step - loss: 0.1460 - accuracy: 0.9430 - val_loss: 0.9139 - val_accuracy: 0.7746
Epoch 853/1000
10/10 [==============================] - 12s 1s/step - loss: 0.1557 - accuracy: 0.9343 - val_loss: 1.0117 - val_accuracy: 0.7857
Epoch 854/1000
10/10 [==============================] - 12s 1s/step - loss: 0.1762 - accuracy: 0.9221 - val_loss: 0.9466 - val_accuracy: 0.7969
Epoch 855/1000
10/10 [==============================] - 12s 1s/step - loss: 0.1617 - accuracy: 0.9383 - val_loss: 0.9222 - val_accuracy: 0.7824
Epoch 856/1000
10/10 [==============================] - 13s 1s/step - loss: 0.1463 - accuracy: 0.9440 - val_loss: 0.9933 - val_accuracy: 0.7868
Epoch 857/1000
10/10 [==============================] - 12s 1s/step - loss: 0.1573 - accuracy: 0.9334 - val_loss: 0.9842 - val_accuracy: 0.7879
Epoch 858/1000
10/10 [==============================] - 12s 1s/step - loss: 0.1732 - accuracy: 0.9266 - val_loss: 0.9290 - val_accuracy: 0.7902
Epoch 859/1000
10/10 [==============================] - 12s 1s/step - loss: 0.1897 - accuracy: 0.9229 - val_loss: 0.9739 - val_accuracy: 0.7812
Epoch 860/1000
10/10 [==============================] - 13s 1s/step - loss: 0.1351 - accuracy: 0.9484 - val_loss: 0.9740 - val_accuracy: 0.7779
Epoch 861/1000
10/10 [==============================] - 13s 1s/step - loss: 0.1722 - accuracy: 0.9320 - val_loss: 0.8378 - val_accuracy: 0.7891
Epoch 862/1000
10/10 [==============================] - 12s 1s/step - loss: 0.1695 - accuracy: 0.9334 - val_loss: 0.8568 - val_accuracy: 0.7980
Epoch 863/1000
10/10 [==============================] - 12s 1s/step - loss: 0.2011 - accuracy: 0.9286 - val_loss: 1.0116 - val_accuracy: 0.7790
Epoch 864/1000
10/10 [==============================] - 13s 1s/step - loss: 0.1684 - accuracy: 0.9383 - val_loss: 0.8958 - val_accuracy: 0.7969
Epoch 865/1000
10/10 [==============================] - 13s 1s/step - loss: 0.1676 - accuracy: 0.9336 - val_loss: 0.8771 - val_accuracy: 0.7790
Epoch 866/1000
10/10 [==============================] - 13s 1s/step - loss: 0.1487 - accuracy: 0.9424 - val_loss: 0.9834 - val_accuracy: 0.7812
Epoch 867/1000
10/10 [==============================] - 12s 1s/step - loss: 0.1773 - accuracy: 0.9305 - val_loss: 0.8964 - val_accuracy: 0.7723
Epoch 868/1000
10/10 [==============================] - 12s 1s/step - loss: 0.2103 - accuracy: 0.9131 - val_loss: 0.9169 - val_accuracy: 0.7656
Epoch 869/1000
10/10 [==============================] - 12s 1s/step - loss: 0.1695 - accuracy: 0.9258 - val_loss: 0.9992 - val_accuracy: 0.7801
Epoch 870/1000
10/10 [==============================] - 13s 1s/step - loss: 0.1643 - accuracy: 0.9343 - val_loss: 1.1591 - val_accuracy: 0.7757
Epoch 871/1000
10/10 [==============================] - 12s 1s/step - loss: 0.1713 - accuracy: 0.9261 - val_loss: 0.8893 - val_accuracy: 0.7768
Epoch 872/1000
10/10 [==============================] - 12s 1s/step - loss: 0.1720 - accuracy: 0.9367 - val_loss: 0.9471 - val_accuracy: 0.7812
Epoch 873/1000
10/10 [==============================] - 12s 1s/step - loss: 0.1582 - accuracy: 0.9326 - val_loss: 0.9963 - val_accuracy: 0.7835
Epoch 874/1000
10/10 [==============================] - 13s 1s/step - loss: 0.1879 - accuracy: 0.9278 - val_loss: 0.9478 - val_accuracy: 0.7734
Epoch 875/1000
10/10 [==============================] - 13s 1s/step - loss: 0.1747 - accuracy: 0.9375 - val_loss: 1.1011 - val_accuracy: 0.7734
Epoch 876/1000
10/10 [==============================] - 12s 1s/step - loss: 0.1682 - accuracy: 0.9336 - val_loss: 1.0206 - val_accuracy: 0.7868
Epoch 877/1000
10/10 [==============================] - 12s 1s/step - loss: 0.1631 - accuracy: 0.9367 - val_loss: 0.8918 - val_accuracy: 0.7746
Epoch 878/1000
10/10 [==============================] - 13s 1s/step - loss: 0.2039 - accuracy: 0.9278 - val_loss: 0.8688 - val_accuracy: 0.7768
Epoch 879/1000
10/10 [==============================] - 13s 1s/step - loss: 0.1579 - accuracy: 0.9448 - val_loss: 0.9137 - val_accuracy: 0.7835
Epoch 880/1000
10/10 [==============================] - 12s 1s/step - loss: 0.1636 - accuracy: 0.9326 - val_loss: 0.8550 - val_accuracy: 0.7935
Epoch 881/1000
10/10 [==============================] - 12s 1s/step - loss: 0.1773 - accuracy: 0.9278 - val_loss: 0.9243 - val_accuracy: 0.7902
Epoch 882/1000
10/10 [==============================] - 12s 1s/step - loss: 0.1552 - accuracy: 0.9399 - val_loss: 0.9035 - val_accuracy: 0.7879
Epoch 883/1000
10/10 [==============================] - 13s 1s/step - loss: 0.1802 - accuracy: 0.9302 - val_loss: 0.9867 - val_accuracy: 0.7768
Epoch 884/1000
10/10 [==============================] - 12s 1s/step - loss: 0.1639 - accuracy: 0.9445 - val_loss: 0.9801 - val_accuracy: 0.7768
Epoch 885/1000
10/10 [==============================] - 13s 1s/step - loss: 0.1427 - accuracy: 0.9406 - val_loss: 0.8704 - val_accuracy: 0.7857
Epoch 886/1000
10/10 [==============================] - 13s 1s/step - loss: 0.1759 - accuracy: 0.9398 - val_loss: 0.9064 - val_accuracy: 0.7801
Epoch 887/1000
10/10 [==============================] - 12s 1s/step - loss: 0.1489 - accuracy: 0.9367 - val_loss: 1.0197 - val_accuracy: 0.7824
Epoch 888/1000
10/10 [==============================] - 12s 1s/step - loss: 0.1694 - accuracy: 0.9383 - val_loss: 1.0865 - val_accuracy: 0.7846
Epoch 889/1000
10/10 [==============================] - 12s 1s/step - loss: 0.1671 - accuracy: 0.9278 - val_loss: 0.9348 - val_accuracy: 0.7924
Epoch 890/1000
10/10 [==============================] - 13s 1s/step - loss: 0.1677 - accuracy: 0.9359 - val_loss: 0.9291 - val_accuracy: 0.7868
Epoch 891/1000
10/10 [==============================] - 12s 1s/step - loss: 0.1473 - accuracy: 0.9448 - val_loss: 0.8399 - val_accuracy: 0.7913
Epoch 892/1000
10/10 [==============================] - 12s 1s/step - loss: 0.1528 - accuracy: 0.9440 - val_loss: 0.9052 - val_accuracy: 0.7835
Epoch 893/1000
10/10 [==============================] - 13s 1s/step - loss: 0.1851 - accuracy: 0.9320 - val_loss: 0.9507 - val_accuracy: 0.7857
Epoch 894/1000
10/10 [==============================] - 13s 1s/step - loss: 0.1489 - accuracy: 0.9432 - val_loss: 0.9340 - val_accuracy: 0.7790
Epoch 895/1000
10/10 [==============================] - 13s 1s/step - loss: 0.1661 - accuracy: 0.9343 - val_loss: 0.9171 - val_accuracy: 0.7835
Epoch 896/1000
10/10 [==============================] - 12s 1s/step - loss: 0.1526 - accuracy: 0.9438 - val_loss: 0.8916 - val_accuracy: 0.7879
Epoch 897/1000
10/10 [==============================] - 12s 1s/step - loss: 0.1424 - accuracy: 0.9448 - val_loss: 0.9333 - val_accuracy: 0.7891
Epoch 898/1000
10/10 [==============================] - 13s 1s/step - loss: 0.1644 - accuracy: 0.9359 - val_loss: 0.9635 - val_accuracy: 0.7835
Epoch 899/1000
10/10 [==============================] - 13s 1s/step - loss: 0.1720 - accuracy: 0.9318 - val_loss: 0.9735 - val_accuracy: 0.7868
Epoch 900/1000
10/10 [==============================] - 12s 1s/step - loss: 0.1802 - accuracy: 0.9289 - val_loss: 0.9329 - val_accuracy: 0.7868
Epoch 901/1000
10/10 [==============================] - 12s 1s/step - loss: 0.1816 - accuracy: 0.9269 - val_loss: 0.8953 - val_accuracy: 0.7812
Epoch 902/1000
10/10 [==============================] - 13s 1s/step - loss: 0.1592 - accuracy: 0.9351 - val_loss: 0.9128 - val_accuracy: 0.7857
Epoch 903/1000
10/10 [==============================] - 13s 1s/step - loss: 0.1590 - accuracy: 0.9375 - val_loss: 0.9805 - val_accuracy: 0.7958
Epoch 904/1000
10/10 [==============================] - 12s 1s/step - loss: 0.1552 - accuracy: 0.9430 - val_loss: 1.0089 - val_accuracy: 0.7835
Epoch 905/1000
10/10 [==============================] - 12s 1s/step - loss: 0.1790 - accuracy: 0.9273 - val_loss: 0.8632 - val_accuracy: 0.7846
Epoch 906/1000
10/10 [==============================] - 13s 1s/step - loss: 0.1919 - accuracy: 0.9211 - val_loss: 0.9534 - val_accuracy: 0.7868
Epoch 907/1000
10/10 [==============================] - 13s 1s/step - loss: 0.1660 - accuracy: 0.9448 - val_loss: 1.0843 - val_accuracy: 0.7857
Epoch 908/1000
10/10 [==============================] - 13s 1s/step - loss: 0.1528 - accuracy: 0.9456 - val_loss: 0.9129 - val_accuracy: 0.8080
Epoch 909/1000
10/10 [==============================] - 13s 1s/step - loss: 0.1627 - accuracy: 0.9286 - val_loss: 0.9244 - val_accuracy: 0.7801
Epoch 910/1000
10/10 [==============================] - 12s 1s/step - loss: 0.1686 - accuracy: 0.9445 - val_loss: 0.9248 - val_accuracy: 0.7824
Epoch 911/1000
10/10 [==============================] - 12s 1s/step - loss: 0.1652 - accuracy: 0.9302 - val_loss: 0.9813 - val_accuracy: 0.7768
Epoch 912/1000
10/10 [==============================] - 12s 1s/step - loss: 0.1433 - accuracy: 0.9481 - val_loss: 1.0425 - val_accuracy: 0.7835
Epoch 913/1000
10/10 [==============================] - 13s 1s/step - loss: 0.1794 - accuracy: 0.9294 - val_loss: 1.0543 - val_accuracy: 0.7879
Epoch 914/1000
10/10 [==============================] - 13s 1s/step - loss: 0.1496 - accuracy: 0.9438 - val_loss: 1.1424 - val_accuracy: 0.7891
Epoch 915/1000
10/10 [==============================] - 12s 1s/step - loss: 0.1825 - accuracy: 0.9351 - val_loss: 0.9808 - val_accuracy: 0.7824
Epoch 916/1000
10/10 [==============================] - 12s 1s/step - loss: 0.1572 - accuracy: 0.9375 - val_loss: 0.9125 - val_accuracy: 0.7712
Epoch 917/1000
10/10 [==============================] - 13s 1s/step - loss: 0.1722 - accuracy: 0.9344 - val_loss: 0.9717 - val_accuracy: 0.8080
Epoch 918/1000
10/10 [==============================] - 12s 1s/step - loss: 0.1511 - accuracy: 0.9352 - val_loss: 0.9857 - val_accuracy: 0.7902
Epoch 919/1000
10/10 [==============================] - 12s 1s/step - loss: 0.1430 - accuracy: 0.9422 - val_loss: 1.1294 - val_accuracy: 0.7946
Epoch 920/1000
10/10 [==============================] - 13s 1s/step - loss: 0.1802 - accuracy: 0.9245 - val_loss: 0.8441 - val_accuracy: 0.7891
Epoch 921/1000
10/10 [==============================] - 13s 1s/step - loss: 0.1677 - accuracy: 0.9343 - val_loss: 0.8823 - val_accuracy: 0.7913
Epoch 922/1000
10/10 [==============================] - 12s 1s/step - loss: 0.1775 - accuracy: 0.9320 - val_loss: 1.1385 - val_accuracy: 0.7757
Epoch 923/1000
10/10 [==============================] - 12s 1s/step - loss: 0.1584 - accuracy: 0.9398 - val_loss: 0.9113 - val_accuracy: 0.8047
Epoch 924/1000
10/10 [==============================] - 12s 1s/step - loss: 0.1351 - accuracy: 0.9489 - val_loss: 0.9708 - val_accuracy: 0.7924
Epoch 925/1000
10/10 [==============================] - 13s 1s/step - loss: 0.1634 - accuracy: 0.9383 - val_loss: 1.1117 - val_accuracy: 0.7779
Epoch 926/1000
10/10 [==============================] - 12s 1s/step - loss: 0.1526 - accuracy: 0.9505 - val_loss: 0.8871 - val_accuracy: 0.7935
Epoch 927/1000
10/10 [==============================] - 13s 1s/step - loss: 0.1529 - accuracy: 0.9399 - val_loss: 1.1101 - val_accuracy: 0.7779
Epoch 928/1000
10/10 [==============================] - 13s 1s/step - loss: 0.1677 - accuracy: 0.9367 - val_loss: 0.9310 - val_accuracy: 0.7857
Epoch 929/1000
10/10 [==============================] - 12s 1s/step - loss: 0.1633 - accuracy: 0.9391 - val_loss: 0.9889 - val_accuracy: 0.7857
Epoch 930/1000
10/10 [==============================] - 13s 1s/step - loss: 0.1586 - accuracy: 0.9414 - val_loss: 1.0865 - val_accuracy: 0.7846
Epoch 931/1000
10/10 [==============================] - 13s 1s/step - loss: 0.1591 - accuracy: 0.9359 - val_loss: 1.0093 - val_accuracy: 0.7812
Epoch 932/1000
10/10 [==============================] - 13s 1s/step - loss: 0.1679 - accuracy: 0.9229 - val_loss: 1.0285 - val_accuracy: 0.7824
Epoch 933/1000
10/10 [==============================] - 12s 1s/step - loss: 0.1423 - accuracy: 0.9448 - val_loss: 1.0425 - val_accuracy: 0.7935
Epoch 934/1000
10/10 [==============================] - 12s 1s/step - loss: 0.1592 - accuracy: 0.9391 - val_loss: 1.0119 - val_accuracy: 0.7935
Epoch 935/1000
10/10 [==============================] - 12s 1s/step - loss: 0.1720 - accuracy: 0.9294 - val_loss: 0.9981 - val_accuracy: 0.7723
Epoch 936/1000
10/10 [==============================] - 13s 1s/step - loss: 0.1486 - accuracy: 0.9383 - val_loss: 0.9488 - val_accuracy: 0.7835
Epoch 937/1000
10/10 [==============================] - 12s 1s/step - loss: 0.1733 - accuracy: 0.9367 - val_loss: 0.9872 - val_accuracy: 0.7790
Epoch 938/1000
10/10 [==============================] - 12s 1s/step - loss: 0.1518 - accuracy: 0.9343 - val_loss: 0.9929 - val_accuracy: 0.7801
Epoch 939/1000
10/10 [==============================] - 13s 1s/step - loss: 0.1669 - accuracy: 0.9398 - val_loss: 1.0013 - val_accuracy: 0.7690
Epoch 940/1000
10/10 [==============================] - 13s 1s/step - loss: 0.1649 - accuracy: 0.9326 - val_loss: 0.8946 - val_accuracy: 0.7746
Epoch 941/1000
10/10 [==============================] - 12s 1s/step - loss: 0.1451 - accuracy: 0.9367 - val_loss: 1.0134 - val_accuracy: 0.7746
Epoch 942/1000
10/10 [==============================] - 12s 1s/step - loss: 0.1533 - accuracy: 0.9448 - val_loss: 0.9485 - val_accuracy: 0.7768
Epoch 943/1000
10/10 [==============================] - 12s 1s/step - loss: 0.1695 - accuracy: 0.9359 - val_loss: 0.8718 - val_accuracy: 0.7768
Epoch 944/1000
10/10 [==============================] - 13s 1s/step - loss: 0.1526 - accuracy: 0.9424 - val_loss: 0.9965 - val_accuracy: 0.7723
Epoch 945/1000
10/10 [==============================] - 12s 1s/step - loss: 0.1482 - accuracy: 0.9440 - val_loss: 1.1119 - val_accuracy: 0.7835
Epoch 946/1000
10/10 [==============================] - 12s 1s/step - loss: 0.1566 - accuracy: 0.9375 - val_loss: 0.9535 - val_accuracy: 0.7835
Epoch 947/1000
10/10 [==============================] - 13s 1s/step - loss: 0.1609 - accuracy: 0.9343 - val_loss: 0.9603 - val_accuracy: 0.7857
Epoch 948/1000
10/10 [==============================] - 13s 1s/step - loss: 0.1280 - accuracy: 0.9489 - val_loss: 1.0983 - val_accuracy: 0.7779
Epoch 949/1000
10/10 [==============================] - 13s 1s/step - loss: 0.1762 - accuracy: 0.9336 - val_loss: 0.9939 - val_accuracy: 0.7868
Epoch 950/1000
10/10 [==============================] - 13s 1s/step - loss: 0.1500 - accuracy: 0.9359 - val_loss: 0.9450 - val_accuracy: 0.7946
Epoch 951/1000
10/10 [==============================] - 13s 1s/step - loss: 0.1891 - accuracy: 0.9286 - val_loss: 0.9943 - val_accuracy: 0.7868
Epoch 952/1000
10/10 [==============================] - 12s 1s/step - loss: 0.2016 - accuracy: 0.9237 - val_loss: 1.0867 - val_accuracy: 0.7824
Epoch 953/1000
10/10 [==============================] - 13s 1s/step - loss: 0.2021 - accuracy: 0.9281 - val_loss: 0.8059 - val_accuracy: 0.7902
Epoch 954/1000
10/10 [==============================] - 13s 1s/step - loss: 0.2048 - accuracy: 0.9227 - val_loss: 0.7687 - val_accuracy: 0.7891
Epoch 955/1000
10/10 [==============================] - 12s 1s/step - loss: 0.1766 - accuracy: 0.9343 - val_loss: 0.9938 - val_accuracy: 0.7824
Epoch 956/1000
10/10 [==============================] - 12s 1s/step - loss: 0.1794 - accuracy: 0.9245 - val_loss: 0.8379 - val_accuracy: 0.7734
Epoch 957/1000
10/10 [==============================] - 13s 1s/step - loss: 0.1403 - accuracy: 0.9416 - val_loss: 0.8554 - val_accuracy: 0.8025
Epoch 958/1000
10/10 [==============================] - 12s 1s/step - loss: 0.1711 - accuracy: 0.9375 - val_loss: 0.9215 - val_accuracy: 0.7902
Epoch 959/1000
10/10 [==============================] - 12s 1s/step - loss: 0.1426 - accuracy: 0.9489 - val_loss: 1.0024 - val_accuracy: 0.7902
Epoch 960/1000
10/10 [==============================] - 13s 1s/step - loss: 0.1656 - accuracy: 0.9297 - val_loss: 0.9265 - val_accuracy: 0.7768
Epoch 961/1000
10/10 [==============================] - 13s 1s/step - loss: 0.1609 - accuracy: 0.9359 - val_loss: 1.0123 - val_accuracy: 0.7801
Epoch 962/1000
10/10 [==============================] - 13s 1s/step - loss: 0.1383 - accuracy: 0.9508 - val_loss: 1.0032 - val_accuracy: 0.7924
Epoch 963/1000
10/10 [==============================] - 12s 1s/step - loss: 0.1457 - accuracy: 0.9489 - val_loss: 1.0639 - val_accuracy: 0.7757
Epoch 964/1000
10/10 [==============================] - 13s 1s/step - loss: 0.1430 - accuracy: 0.9484 - val_loss: 1.0114 - val_accuracy: 0.7857
Epoch 965/1000
10/10 [==============================] - 13s 1s/step - loss: 0.1475 - accuracy: 0.9432 - val_loss: 1.0164 - val_accuracy: 0.7812
Epoch 966/1000
10/10 [==============================] - 13s 1s/step - loss: 0.1578 - accuracy: 0.9461 - val_loss: 0.9353 - val_accuracy: 0.7857
Epoch 967/1000
10/10 [==============================] - 12s 1s/step - loss: 0.1660 - accuracy: 0.9375 - val_loss: 1.0078 - val_accuracy: 0.7935
Epoch 968/1000
10/10 [==============================] - 12s 1s/step - loss: 0.1633 - accuracy: 0.9391 - val_loss: 1.0125 - val_accuracy: 0.7779
Epoch 969/1000
10/10 [==============================] - 13s 1s/step - loss: 0.1611 - accuracy: 0.9445 - val_loss: 1.1148 - val_accuracy: 0.7913
Epoch 970/1000
10/10 [==============================] - 13s 1s/step - loss: 0.1344 - accuracy: 0.9391 - val_loss: 1.0173 - val_accuracy: 0.7913
Epoch 971/1000
10/10 [==============================] - 12s 1s/step - loss: 0.1672 - accuracy: 0.9391 - val_loss: 1.0049 - val_accuracy: 0.7891
Epoch 972/1000
10/10 [==============================] - 12s 1s/step - loss: 0.1701 - accuracy: 0.9253 - val_loss: 1.0069 - val_accuracy: 0.7779
Epoch 973/1000
10/10 [==============================] - 12s 1s/step - loss: 0.1592 - accuracy: 0.9391 - val_loss: 0.9008 - val_accuracy: 0.7902
Epoch 974/1000
10/10 [==============================] - 13s 1s/step - loss: 0.1488 - accuracy: 0.9453 - val_loss: 1.1704 - val_accuracy: 0.7835
Epoch 975/1000
10/10 [==============================] - 12s 1s/step - loss: 0.1530 - accuracy: 0.9391 - val_loss: 0.9715 - val_accuracy: 0.7812
Epoch 976/1000
10/10 [==============================] - 12s 1s/step - loss: 0.1475 - accuracy: 0.9416 - val_loss: 0.9418 - val_accuracy: 0.7958
Epoch 977/1000
10/10 [==============================] - 13s 1s/step - loss: 0.1414 - accuracy: 0.9391 - val_loss: 1.1499 - val_accuracy: 0.7746
Epoch 978/1000
10/10 [==============================] - 13s 1s/step - loss: 0.1450 - accuracy: 0.9367 - val_loss: 1.0199 - val_accuracy: 0.7857
Epoch 979/1000
10/10 [==============================] - 12s 1s/step - loss: 0.1700 - accuracy: 0.9352 - val_loss: 0.9493 - val_accuracy: 0.7846
Epoch 980/1000
10/10 [==============================] - 12s 1s/step - loss: 0.1441 - accuracy: 0.9391 - val_loss: 1.0292 - val_accuracy: 0.7902
Epoch 981/1000
10/10 [==============================] - 13s 1s/step - loss: 0.1674 - accuracy: 0.9278 - val_loss: 1.0415 - val_accuracy: 0.7779
Epoch 982/1000
10/10 [==============================] - 12s 1s/step - loss: 0.1589 - accuracy: 0.9261 - val_loss: 1.0851 - val_accuracy: 0.7801
Epoch 983/1000
10/10 [==============================] - 12s 1s/step - loss: 0.1536 - accuracy: 0.9391 - val_loss: 1.0617 - val_accuracy: 0.7868
Epoch 984/1000
10/10 [==============================] - 13s 1s/step - loss: 0.1536 - accuracy: 0.9391 - val_loss: 0.9483 - val_accuracy: 0.7690
Epoch 985/1000
10/10 [==============================] - 13s 1s/step - loss: 0.1687 - accuracy: 0.9278 - val_loss: 0.8854 - val_accuracy: 0.7946
Epoch 986/1000
10/10 [==============================] - 12s 1s/step - loss: 0.1689 - accuracy: 0.9334 - val_loss: 0.9579 - val_accuracy: 0.7924
Epoch 987/1000
10/10 [==============================] - 13s 1s/step - loss: 0.1538 - accuracy: 0.9416 - val_loss: 0.9611 - val_accuracy: 0.7924
Epoch 988/1000
10/10 [==============================] - 13s 1s/step - loss: 0.1533 - accuracy: 0.9440 - val_loss: 0.9812 - val_accuracy: 0.7846
Epoch 989/1000
10/10 [==============================] - 12s 1s/step - loss: 0.1549 - accuracy: 0.9448 - val_loss: 0.9554 - val_accuracy: 0.7902
Epoch 990/1000
10/10 [==============================] - 12s 1s/step - loss: 0.1522 - accuracy: 0.9448 - val_loss: 0.9515 - val_accuracy: 0.7879
Epoch 991/1000
10/10 [==============================] - 13s 1s/step - loss: 0.1640 - accuracy: 0.9344 - val_loss: 0.8920 - val_accuracy: 0.7879
Epoch 992/1000
10/10 [==============================] - 12s 1s/step - loss: 0.1654 - accuracy: 0.9367 - val_loss: 1.0086 - val_accuracy: 0.7790
Epoch 993/1000
10/10 [==============================] - 12s 1s/step - loss: 0.1458 - accuracy: 0.9399 - val_loss: 0.9389 - val_accuracy: 0.7935
Epoch 994/1000
10/10 [==============================] - 12s 1s/step - loss: 0.1623 - accuracy: 0.9352 - val_loss: 1.0326 - val_accuracy: 0.7734
Epoch 995/1000
10/10 [==============================] - 13s 1s/step - loss: 0.1480 - accuracy: 0.9359 - val_loss: 0.9727 - val_accuracy: 0.7757
Epoch 996/1000
10/10 [==============================] - 13s 1s/step - loss: 0.1970 - accuracy: 0.9253 - val_loss: 1.0053 - val_accuracy: 0.7913
Epoch 997/1000
10/10 [==============================] - 12s 1s/step - loss: 0.1862 - accuracy: 0.9351 - val_loss: 0.9818 - val_accuracy: 0.7857
Epoch 998/1000
10/10 [==============================] - 13s 1s/step - loss: 0.1449 - accuracy: 0.9422 - val_loss: 1.0861 - val_accuracy: 0.7746
Epoch 999/1000
10/10 [==============================] - 13s 1s/step - loss: 0.1265 - accuracy: 0.9464 - val_loss: 1.1659 - val_accuracy: 0.7801
Epoch 1000/1000
10/10 [==============================] - 12s 1s/step - loss: 0.1262 - accuracy: 0.9448 - val_loss: 1.2540 - val_accuracy: 0.7902
Run the next cell to visualize the accuracy and loss of the model.


acc = history.history['accuracy']
val_acc = history.history['val_accuracy']

loss = history.history['loss']
val_loss = history.history['val_loss']

epochs_range = range(epochs)

plt.figure(figsize=(8, 8))
plt.subplot(1, 2, 1)
plt.plot(epochs_range, acc, label='Training Accuracy')
plt.plot(epochs_range, val_acc, label='Validation Accuracy')
plt.legend(loc='lower right')
plt.title('Training and Validation Accuracy')

plt.subplot(1, 2, 2)
plt.plot(epochs_range, loss, label='Training Loss')
plt.plot(epochs_range, val_loss, label='Validation Loss')
plt.legend(loc='upper right')
plt.title('Training and Validation Loss')
plt.show()
     

Now it is time to use your model to predict whether a brand new image is a cat or a dog.

In this final cell, get the probability that each test image (from test_data_gen) is a dog or a cat. probabilities should be a list of integers.

Call the plotImages function and pass in the test images and the probabilities corresponding to each test image.

After your run the cell, you should see all 50 test images with a label showing the percentage sure that the image is a cat or a dog. The accuracy will correspond to the accuracy shown in the graph above (after running the previous cell). More training images could lead to a higher accuracy.


probabilities = model.predict(test_data_gen)
plotImages(sample_training_images[:50], probabilities)
     

Run this final cell to see if you passed the challenge or if you need to keep trying.


answers =  [1, 0, 0, 1, 0, 0, 0, 0, 1, 1, 0,
            1, 0, 1, 0, 1, 1, 0, 1, 1, 0, 0,
            1, 1, 1, 1, 1, 0, 0, 0, 0, 0, 1,
            1, 0, 1, 1, 1, 1, 0, 1, 0, 1, 1, 
            0, 0, 0, 0, 0, 0]

correct = 0

for probability, answer in zip(probabilities, answers):
  if round(probability) == answer:
    correct +=1

percentage_identified = (correct / len(answers))

passed_challenge = percentage_identified > 0.63

print(f"Your model correctly identified {round(percentage_identified, 2)}% of the images of cats and dogs.")

if passed_challenge:
  print("You passed the challenge!")
else:
  print("You haven't passed yet. Your model should identify at least 63% of the images. Keep trying. You will get it!")
     
Your model correctly identified 0.82% of the images of cats and dogs.
You passed the challenge!
